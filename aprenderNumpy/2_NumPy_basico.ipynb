{
  "nbformat": 4,
  "nbformat_minor": 0,
  "metadata": {
    "colab": {
      "name": "2_NumPy_basico.ipynb",
      "provenance": [],
      "collapsed_sections": [],
      "toc_visible": true
    },
    "kernelspec": {
      "name": "python3",
      "display_name": "Python 3"
    },
    "language_info": {
      "name": "python"
    }
  },
  "cells": [
    {
      "cell_type": "markdown",
      "metadata": {
        "id": "Gp72LxxpiUc4"
      },
      "source": [
        "# Numpy básico (parte dos)"
      ]
    },
    {
      "cell_type": "markdown",
      "metadata": {
        "id": "b4UoLhSbiZ0P"
      },
      "source": [
        "# Funciones Universales"
      ]
    },
    {
      "cell_type": "markdown",
      "metadata": {
        "id": "t0BIumR9iyTo"
      },
      "source": [
        "Una función universal, o *ufunc*, es una función que realiza operaciones de elementos sobre datos en *ndarrays*.\n",
        "\n",
        "Puedes pensar en ellas como envoltorios rápidos vectorizados para funciones simples que toman uno o más valores escalares y producen uno o más resultados escalares.\n",
        "\n",
        "Muchas *ufuncs* son simples transformaciones de elementos, como `sqrt` o `exp`."
      ]
    },
    {
      "cell_type": "code",
      "metadata": {
        "id": "K4-1uV_FiJrd"
      },
      "source": [
        "import numpy as np"
      ],
      "execution_count": 1,
      "outputs": []
    },
    {
      "cell_type": "code",
      "metadata": {
        "colab": {
          "base_uri": "https://localhost:8080/"
        },
        "id": "-xolY6-Dmanm",
        "outputId": "537e1843-f870-4ef0-a35e-d801185e0167"
      },
      "source": [
        "arr = np.arange(10)\n",
        "arr"
      ],
      "execution_count": null,
      "outputs": [
        {
          "output_type": "execute_result",
          "data": {
            "text/plain": [
              "array([0, 1, 2, 3, 4, 5, 6, 7, 8, 9])"
            ]
          },
          "metadata": {
            "tags": []
          },
          "execution_count": 5
        }
      ]
    },
    {
      "cell_type": "code",
      "metadata": {
        "colab": {
          "base_uri": "https://localhost:8080/"
        },
        "id": "2M6DFmMSmj6k",
        "outputId": "5f72a1e1-150c-4e7f-bb25-e40b2280aa70"
      },
      "source": [
        "np.sqrt(arr)"
      ],
      "execution_count": null,
      "outputs": [
        {
          "output_type": "execute_result",
          "data": {
            "text/plain": [
              "array([0.        , 1.        , 1.41421356, 1.73205081, 2.        ,\n",
              "       2.23606798, 2.44948974, 2.64575131, 2.82842712, 3.        ])"
            ]
          },
          "metadata": {
            "tags": []
          },
          "execution_count": 3
        }
      ]
    },
    {
      "cell_type": "code",
      "metadata": {
        "colab": {
          "base_uri": "https://localhost:8080/"
        },
        "id": "P4BAWzPbmnwa",
        "outputId": "12b52c44-679a-4191-a60d-a4078c1f7dcd"
      },
      "source": [
        "np.exp(arr)"
      ],
      "execution_count": null,
      "outputs": [
        {
          "output_type": "execute_result",
          "data": {
            "text/plain": [
              "array([1.00000000e+00, 2.71828183e+00, 7.38905610e+00, 2.00855369e+01,\n",
              "       5.45981500e+01, 1.48413159e+02, 4.03428793e+02, 1.09663316e+03,\n",
              "       2.98095799e+03, 8.10308393e+03])"
            ]
          },
          "metadata": {
            "tags": []
          },
          "execution_count": 6
        }
      ]
    },
    {
      "cell_type": "markdown",
      "metadata": {
        "id": "GgnR_26nnBFv"
      },
      "source": [
        "Éstas funciones se denominan *unary ufuncs*. Otras, como `add` o `maximum`, toman dos arrays (*binary ufuncs*) y retornan un simple array como resultado."
      ]
    },
    {
      "cell_type": "code",
      "metadata": {
        "id": "bk7khC48ms7s"
      },
      "source": [
        "x = np.random.randn(8)\n",
        "y = np.random.randn(8)"
      ],
      "execution_count": null,
      "outputs": []
    },
    {
      "cell_type": "code",
      "metadata": {
        "colab": {
          "base_uri": "https://localhost:8080/"
        },
        "id": "d2zj9CWsnnXM",
        "outputId": "62ac64d4-1d79-4fe0-d196-8cb269e7c933"
      },
      "source": [
        "x"
      ],
      "execution_count": null,
      "outputs": [
        {
          "output_type": "execute_result",
          "data": {
            "text/plain": [
              "array([ 1.07293835, -0.14687008,  0.03521737, -0.46105801, -1.01731109,\n",
              "        0.90636522,  0.14868769, -0.32338772])"
            ]
          },
          "metadata": {
            "tags": []
          },
          "execution_count": 8
        }
      ]
    },
    {
      "cell_type": "code",
      "metadata": {
        "colab": {
          "base_uri": "https://localhost:8080/"
        },
        "id": "RMOzHQaCnpcB",
        "outputId": "bd3ffc0e-865f-4bdb-c58b-86d4708be5ab"
      },
      "source": [
        "y"
      ],
      "execution_count": null,
      "outputs": [
        {
          "output_type": "execute_result",
          "data": {
            "text/plain": [
              "array([ 0.37625872,  0.04743619, -0.32332512,  1.0546189 , -1.53153281,\n",
              "       -0.59327258,  0.59669455,  0.24815587])"
            ]
          },
          "metadata": {
            "tags": []
          },
          "execution_count": 9
        }
      ]
    },
    {
      "cell_type": "code",
      "metadata": {
        "colab": {
          "base_uri": "https://localhost:8080/"
        },
        "id": "-rBF4j7onqUe",
        "outputId": "784e013f-041b-4028-b5a7-000204e21b41"
      },
      "source": [
        "np.maximum(x, y) # Aquí nos devolverá el elemento máximo de cada posición de 'x' y de 'y'."
      ],
      "execution_count": null,
      "outputs": [
        {
          "output_type": "execute_result",
          "data": {
            "text/plain": [
              "array([ 1.07293835,  0.04743619,  0.03521737,  1.0546189 , -1.01731109,\n",
              "        0.90636522,  0.59669455,  0.24815587])"
            ]
          },
          "metadata": {
            "tags": []
          },
          "execution_count": 11
        }
      ]
    },
    {
      "cell_type": "markdown",
      "metadata": {
        "id": "5TolF9mIoBSO"
      },
      "source": [
        "Aunque no es común, una *ufunc* puede devolver múltiples arrays. `modf` es un ejemplo, es una versión vectorizada del método `divmod` de Python; nos devolverá las partes fraccionales e integrales de un array de tipo `float`."
      ]
    },
    {
      "cell_type": "code",
      "metadata": {
        "id": "pB2MCUsOnsEk"
      },
      "source": [
        "arr = np.random.randn(7) * 5"
      ],
      "execution_count": null,
      "outputs": []
    },
    {
      "cell_type": "code",
      "metadata": {
        "colab": {
          "base_uri": "https://localhost:8080/"
        },
        "id": "P92D6QVKozCu",
        "outputId": "857d07d7-5601-4aa6-d882-23cf1b45487e"
      },
      "source": [
        "arr"
      ],
      "execution_count": null,
      "outputs": [
        {
          "output_type": "execute_result",
          "data": {
            "text/plain": [
              "array([-5.21947855,  3.13270002, 12.16265174, -0.34522183, -1.93578702,\n",
              "       -3.97123026,  2.40546148])"
            ]
          },
          "metadata": {
            "tags": []
          },
          "execution_count": 13
        }
      ]
    },
    {
      "cell_type": "code",
      "metadata": {
        "colab": {
          "base_uri": "https://localhost:8080/"
        },
        "id": "FULXhQ1Vozvd",
        "outputId": "d12d31d1-c293-4dea-a880-703e57dfcc52"
      },
      "source": [
        "remainder, whole_part = np.modf(arr)\n",
        "np.modf(arr)"
      ],
      "execution_count": null,
      "outputs": [
        {
          "output_type": "execute_result",
          "data": {
            "text/plain": [
              "(array([-0.21947855,  0.13270002,  0.16265174, -0.34522183, -0.93578702,\n",
              "        -0.97123026,  0.40546148]), array([-5.,  3., 12., -0., -1., -3.,  2.]))"
            ]
          },
          "metadata": {
            "tags": []
          },
          "execution_count": 17
        }
      ]
    },
    {
      "cell_type": "code",
      "metadata": {
        "colab": {
          "base_uri": "https://localhost:8080/"
        },
        "id": "Cc_mKxENo9qB",
        "outputId": "437ab9b9-42f0-4864-cfdc-de1f8c33fe6a"
      },
      "source": [
        "remainder"
      ],
      "execution_count": null,
      "outputs": [
        {
          "output_type": "execute_result",
          "data": {
            "text/plain": [
              "array([-0.21947855,  0.13270002,  0.16265174, -0.34522183, -0.93578702,\n",
              "       -0.97123026,  0.40546148])"
            ]
          },
          "metadata": {
            "tags": []
          },
          "execution_count": 15
        }
      ]
    },
    {
      "cell_type": "code",
      "metadata": {
        "colab": {
          "base_uri": "https://localhost:8080/"
        },
        "id": "Ijzi6QRvo_RO",
        "outputId": "fb1b02c1-cc65-46da-e55e-270019f95903"
      },
      "source": [
        "whole_part"
      ],
      "execution_count": null,
      "outputs": [
        {
          "output_type": "execute_result",
          "data": {
            "text/plain": [
              "array([-5.,  3., 12., -0., -1., -3.,  2.])"
            ]
          },
          "metadata": {
            "tags": []
          },
          "execution_count": 16
        }
      ]
    },
    {
      "cell_type": "markdown",
      "metadata": {
        "id": "h4gxtnXqpNnE"
      },
      "source": [
        "Las *ufuncs* aceptan un argumento opcional que les permite operar *in situ* sobre arrays."
      ]
    },
    {
      "cell_type": "code",
      "metadata": {
        "colab": {
          "base_uri": "https://localhost:8080/"
        },
        "id": "3Lpmj_u5pBAX",
        "outputId": "f5918418-91ab-4b1d-c086-1badcafc2b48"
      },
      "source": [
        "arr"
      ],
      "execution_count": null,
      "outputs": [
        {
          "output_type": "execute_result",
          "data": {
            "text/plain": [
              "array([-5.21947855,  3.13270002, 12.16265174, -0.34522183, -1.93578702,\n",
              "       -3.97123026,  2.40546148])"
            ]
          },
          "metadata": {
            "tags": []
          },
          "execution_count": 18
        }
      ]
    },
    {
      "cell_type": "code",
      "metadata": {
        "colab": {
          "base_uri": "https://localhost:8080/"
        },
        "id": "K5a1wdfqpaRI",
        "outputId": "486203e7-f801-4f0f-8000-18252874b7af"
      },
      "source": [
        "np.sqrt(arr)"
      ],
      "execution_count": null,
      "outputs": [
        {
          "output_type": "stream",
          "text": [
            "/usr/local/lib/python3.7/dist-packages/ipykernel_launcher.py:1: RuntimeWarning: invalid value encountered in sqrt\n",
            "  \"\"\"Entry point for launching an IPython kernel.\n"
          ],
          "name": "stderr"
        },
        {
          "output_type": "execute_result",
          "data": {
            "text/plain": [
              "array([       nan, 1.76994351, 3.48749935,        nan,        nan,\n",
              "              nan, 1.55095502])"
            ]
          },
          "metadata": {
            "tags": []
          },
          "execution_count": 19
        }
      ]
    },
    {
      "cell_type": "code",
      "metadata": {
        "colab": {
          "base_uri": "https://localhost:8080/"
        },
        "id": "6Cz9yNQqpdDK",
        "outputId": "fd4a91e7-da88-4c49-a10a-7a685c4c41cd"
      },
      "source": [
        "np.sqrt(arr, arr)"
      ],
      "execution_count": null,
      "outputs": [
        {
          "output_type": "stream",
          "text": [
            "/usr/local/lib/python3.7/dist-packages/ipykernel_launcher.py:1: RuntimeWarning: invalid value encountered in sqrt\n",
            "  \"\"\"Entry point for launching an IPython kernel.\n"
          ],
          "name": "stderr"
        },
        {
          "output_type": "execute_result",
          "data": {
            "text/plain": [
              "array([       nan, 1.76994351, 3.48749935,        nan,        nan,\n",
              "              nan, 1.55095502])"
            ]
          },
          "metadata": {
            "tags": []
          },
          "execution_count": 20
        }
      ]
    },
    {
      "cell_type": "code",
      "metadata": {
        "colab": {
          "base_uri": "https://localhost:8080/"
        },
        "id": "pu6Jv7GJpoKn",
        "outputId": "8f7c57fa-98c0-41cf-9fac-401572ff5295"
      },
      "source": [
        "arr"
      ],
      "execution_count": null,
      "outputs": [
        {
          "output_type": "execute_result",
          "data": {
            "text/plain": [
              "array([       nan, 1.76994351, 3.48749935,        nan,        nan,\n",
              "              nan, 1.55095502])"
            ]
          },
          "metadata": {
            "tags": []
          },
          "execution_count": 21
        }
      ]
    },
    {
      "cell_type": "markdown",
      "metadata": {
        "id": "ZCVY29vvp3o-"
      },
      "source": [
        "## Unary ufuncs"
      ]
    },
    {
      "cell_type": "markdown",
      "metadata": {
        "id": "EJVBDhe9p_3e"
      },
      "source": [
        "| FUNCIÓN | DESCRIPCIÓN |\n",
        "|:--------|:------------|\n",
        "|`abs`, `fabs`|Calcula el valor absoluto de un elemento para valores enteros, flotantes o complejos.|\n",
        "|`sqrt`|Calcula la raíz cuadrada de cada elemento (equivalente a `arr ** 0.5`).|\n",
        "|`square`|Calcula el cuadrado de cada elemento (equivalente a `arr ** 2`).|\n",
        "|`exp`|Calcula el exponente $e^x$ de cada elemento.|\n",
        "|`log`, `log10`, `log2`, `log1p`|Calcula el logaritmo natural (base $e$), base 10, base 2 y $log(1+x)$, respectivamente.|\n",
        "|`sign`|Calcula el signo de cada elemento: 1 (positivo), 0 (cero), -1 (negativo).|\n",
        "|`ceil`|Calcula el redondeo al alza.|\n",
        "|`floor`|Calcula el redondeo a la baja.|\n",
        "|`rint`|Redondea el elemento al entero más cercano, preservando el *dtype*.|\n",
        "|`modf`|Retorna en arrays separados las partes fraccionales e integrales de un array.|\n",
        "|`isnan`|Retorna un array booleano indicando qué valor es NaN (Not a number).|\n",
        "|`isfinite`, `isinf`|Retorna un array booleano indicando qué valor es finito e infinito (respectivamente).|\n",
        "|`cos`, `cosh`|Funciones trigonométricas regulares e hiperbólicas, respectivamente (coseno).|\n",
        "|`sin`, `sinh`|Funciones trigonométricas regulares e hiperbólicas, respectivamente (seno).|\n",
        "|`tan`, `tanh`|Funciones trigonométricas regulares e hiperbólicas, respectivamente (tangente).|\n",
        "|`arccos`, `arccosh`|Funciones trigonométricas inversas (arcocoseno).|\n",
        "|`arcsin`, `arcsinh`|Funciones trigonométricas inversas (arcoseno).|\n",
        "|`arctan`, `arctanh`|Funciones trigonométricas inversas (arcotangente).|\n",
        "|`logical_not`|Calcula el valor de verdad de $not$ $x$ por cada elemento (equivalente a `~arr`)."
      ]
    },
    {
      "cell_type": "markdown",
      "metadata": {
        "id": "N8OhYY3eb0RI"
      },
      "source": [
        "## Binary ufuncs"
      ]
    },
    {
      "cell_type": "markdown",
      "metadata": {
        "id": "xGmbdTf1gapb"
      },
      "source": [
        "| FUNCIÓN | DESCRIPCIÓN |\n",
        "|:--------|:------------|\n",
        "|`add`|Añade los elementos correspondientes en arrays.|\n",
        "|`subtract`|Resta los elementos correspondientes en arrays.|\n",
        "|`multiply`|Multiplica elementos en arrays.|\n",
        "|`divide`, `floor_divide`|Divide o divide truncando el resto, respectivamente.|\n",
        "|`power`|Eleva los elementos de un array a los elementos indicados en otro array.|\n",
        "|`maximum`, `fmax`|Busca los máximos de los elementos. `fmax`ignora los NaN.|\n",
        "|`minimum`, `fmin`|Busca los mínimos de los elementos. `fmin` ignora los NaN.|\n",
        "|`mod`|Calcula el módulo (resto de la división).|\n",
        "|`copysign`|Copia el signo de los valores del segundo argumento en el primer argumento.|\n",
        "|`greater`, `greater_equal`|Realiza comparaciones de los elementos. Equivalente a `>` y `>=`.|\n",
        "|`less`, `less_equal`|Realiza comparaciones de los elementos. Equivalente a `<` y `<=`.|\n",
        "|`equal`, `not_equal`|Realiza comparaciones de los elementos. Equivalente a `==` y `!=`.|\n",
        "|`logical_and`|Calcula los valores de verdad de las operaciones lógicas. Equivalente a `&`.|\n",
        "|`logical_or`|Calcula los valores de verdad de las operaciones lógicas. Equivalente a `\\|`.|\n",
        "|`logical_xor`|Calcula los valores de verdad de las operaciones lógicas. Equivalente a `^`.|"
      ]
    },
    {
      "cell_type": "markdown",
      "metadata": {
        "id": "gXVFn7qikxT8"
      },
      "source": [
        "# Programación orientada a arrays con arrays"
      ]
    },
    {
      "cell_type": "markdown",
      "metadata": {
        "id": "P5izwZMvk-JK"
      },
      "source": [
        "El uso de arrays NumPy te permite expresar muchos tipos de operaciones de procesamiento de datos como expresiones de arrays concisas que, de otro modo, podrían requerir bucles.\n",
        "\n",
        "La práctica de reemplazar bucles por expresiones de arrays se denomina comúnmente ***vectorización***.\n",
        "\n",
        "En general, las operaciones de vectorización con arrays serán , a menudo, una o dos (o más) veces más rápidas que su equivalente en Python puro.\n",
        "\n",
        "Un ejemplo simple sería que quisieras calcular la función $\\sqrt{x^2 + y^2}$ a través de una cuadrícula regular de valores. La función `numpy.meshgrid` toma dos arrays de una dimensión y produce dos arrays de dos dimensiones correspondientes a todos los pares $(x, y)$ en los dos arrays: "
      ]
    },
    {
      "cell_type": "code",
      "metadata": {
        "id": "zFzarjMZpT45"
      },
      "source": [
        "puntos = np.arange(-5, 5, 0.01) #1000 puntos igualmente espaciados\n",
        "xs, ys = np.meshgrid(puntos, puntos)"
      ],
      "execution_count": 5,
      "outputs": []
    },
    {
      "cell_type": "code",
      "metadata": {
        "colab": {
          "base_uri": "https://localhost:8080/"
        },
        "id": "KaY5L94Hpv-d",
        "outputId": "898029a1-ca77-4731-b22b-071f9422f75f"
      },
      "source": [
        "ys"
      ],
      "execution_count": 9,
      "outputs": [
        {
          "output_type": "execute_result",
          "data": {
            "text/plain": [
              "array([[-5.  , -5.  , -5.  , ..., -5.  , -5.  , -5.  ],\n",
              "       [-4.99, -4.99, -4.99, ..., -4.99, -4.99, -4.99],\n",
              "       [-4.98, -4.98, -4.98, ..., -4.98, -4.98, -4.98],\n",
              "       ...,\n",
              "       [ 4.97,  4.97,  4.97, ...,  4.97,  4.97,  4.97],\n",
              "       [ 4.98,  4.98,  4.98, ...,  4.98,  4.98,  4.98],\n",
              "       [ 4.99,  4.99,  4.99, ...,  4.99,  4.99,  4.99]])"
            ]
          },
          "metadata": {
            "tags": []
          },
          "execution_count": 9
        }
      ]
    },
    {
      "cell_type": "markdown",
      "metadata": {
        "id": "czCBTys_qWGZ"
      },
      "source": [
        "Ahora, evaluar la función es cuestión de escribir la misma expresión que escribirías con dos puntos:"
      ]
    },
    {
      "cell_type": "code",
      "metadata": {
        "colab": {
          "base_uri": "https://localhost:8080/"
        },
        "id": "On_HMr8zp-XH",
        "outputId": "3b585d9f-b679-4734-fe73-60b77de07400"
      },
      "source": [
        "z = np.sqrt(xs**2 + ys ** 2)\n",
        "z"
      ],
      "execution_count": 10,
      "outputs": [
        {
          "output_type": "execute_result",
          "data": {
            "text/plain": [
              "array([[7.07106781, 7.06400028, 7.05693985, ..., 7.04988652, 7.05693985,\n",
              "        7.06400028],\n",
              "       [7.06400028, 7.05692568, 7.04985815, ..., 7.04279774, 7.04985815,\n",
              "        7.05692568],\n",
              "       [7.05693985, 7.04985815, 7.04278354, ..., 7.03571603, 7.04278354,\n",
              "        7.04985815],\n",
              "       ...,\n",
              "       [7.04988652, 7.04279774, 7.03571603, ..., 7.0286414 , 7.03571603,\n",
              "        7.04279774],\n",
              "       [7.05693985, 7.04985815, 7.04278354, ..., 7.03571603, 7.04278354,\n",
              "        7.04985815],\n",
              "       [7.06400028, 7.05692568, 7.04985815, ..., 7.04279774, 7.04985815,\n",
              "        7.05692568]])"
            ]
          },
          "metadata": {
            "tags": []
          },
          "execution_count": 10
        }
      ]
    },
    {
      "cell_type": "markdown",
      "metadata": {
        "id": "84cjitqQq7sh"
      },
      "source": [
        "Para que puedas visualizarlo en una gráfica, vamos a usar matplotlib pero se verá más adelante."
      ]
    },
    {
      "cell_type": "code",
      "metadata": {
        "colab": {
          "base_uri": "https://localhost:8080/",
          "height": 305
        },
        "id": "5FXl-FOErHYI",
        "outputId": "d0829845-5440-4742-8e6b-d857fbae1c85"
      },
      "source": [
        "import matplotlib.pyplot as plt\n",
        "plt.imshow(z, cmap=plt.cm.gray); plt.colorbar()\n",
        "plt.title(\"Imagen de $\\sqrt{x^2 + y^2}$ para una cuadrícula de valores\")"
      ],
      "execution_count": 15,
      "outputs": [
        {
          "output_type": "execute_result",
          "data": {
            "text/plain": [
              "Text(0.5, 1.0, 'Imagen de $\\\\sqrt{x^2 + y^2}$ para una cuadrícula de valores')"
            ]
          },
          "metadata": {
            "tags": []
          },
          "execution_count": 15
        },
        {
          "output_type": "display_data",
          "data": {
            "image/png": "[encoded data removed]",
            "text/plain": [
              "<Figure size 432x288 with 2 Axes>"
            ]
          },
          "metadata": {
            "tags": [],
            "needs_background": "light"
          }
        }
      ]
    },
    {
      "cell_type": "markdown",
      "metadata": {
        "id": "DrRY2lX6sX2p"
      },
      "source": [
        "## Lógica condicional con operaciones con arrays"
      ]
    },
    {
      "cell_type": "markdown",
      "metadata": {
        "id": "40-9lGSJsfXg"
      },
      "source": [
        "La función `numpy.where` es la versión vectorizada de la expresión `x if (condición) else y`.\n",
        "\n",
        "Supón que tenemos un array booleano y dos arrays de valores:"
      ]
    },
    {
      "cell_type": "code",
      "metadata": {
        "id": "YN1-ZdqftLIN"
      },
      "source": [
        "xarr = np.array([1.1, 1.2, 1.3, 1.4, 1.5])\n",
        "yarr = np.array([2.1, 2.2, 2.3, 2.4, 2.5])\n",
        "cond = np.array([True, False, True, True, False])"
      ],
      "execution_count": 17,
      "outputs": []
    },
    {
      "cell_type": "markdown",
      "metadata": {
        "id": "n8Fg4uK7txyN"
      },
      "source": [
        "Ahora imagina que queremos coger un valor de `xarr` siempre que el valor correspondiente en `cond` sea `True` y, en caso contrario, coja un valor de `yarr`.\n",
        "\n",
        "Una *list comprehension* haría esto así:"
      ]
    },
    {
      "cell_type": "code",
      "metadata": {
        "colab": {
          "base_uri": "https://localhost:8080/"
        },
        "id": "Pqxfq61vtg92",
        "outputId": "eb3dbb57-1c56-4877-dbb7-332558d759b9"
      },
      "source": [
        "result = [(x if c else y) for x, y, c in zip(xarr, yarr, cond)]\n",
        "result"
      ],
      "execution_count": 18,
      "outputs": [
        {
          "output_type": "execute_result",
          "data": {
            "text/plain": [
              "[1.1, 2.2, 1.3, 1.4, 2.5]"
            ]
          },
          "metadata": {
            "tags": []
          },
          "execution_count": 18
        }
      ]
    },
    {
      "cell_type": "markdown",
      "metadata": {
        "id": "W2fUUCGjurNn"
      },
      "source": [
        "Esto conlleva varios problemas. Primero que de esta forma no sería algo rápido en arrays muy grandes. Segundo, no funcionaría en arrays multidimensionales.\n",
        "\n",
        "Con `np.where` puedes hacer lo mismo de forma muy concisa:"
      ]
    },
    {
      "cell_type": "code",
      "metadata": {
        "colab": {
          "base_uri": "https://localhost:8080/"
        },
        "id": "FVXKGtoCulx8",
        "outputId": "092cdf08-9b2c-4a94-e40c-67edf4841da0"
      },
      "source": [
        "result = np.where(cond, xarr, yarr)\n",
        "result"
      ],
      "execution_count": 19,
      "outputs": [
        {
          "output_type": "execute_result",
          "data": {
            "text/plain": [
              "array([1.1, 2.2, 1.3, 1.4, 2.5])"
            ]
          },
          "metadata": {
            "tags": []
          },
          "execution_count": 19
        }
      ]
    },
    {
      "cell_type": "markdown",
      "metadata": {
        "id": "4b1JBMALvPDn"
      },
      "source": [
        "El segundo y tercer argumento de `np.where` no tienen porqué ser arrays, ambos (o uno solo) podrían ser escalares. El uso típico de esta función en ciencia de datos es para producir un nuevo array de valores basados en otro array.\n",
        "\n",
        "Por ejemplo: Supón que tienes un array de datos aleatorios y quieres reemplazar todos los valores positivos por $2$ y todos los valores negativos por $-2$. Hacer esto es muy fácil con `np.where`:"
      ]
    },
    {
      "cell_type": "code",
      "metadata": {
        "colab": {
          "base_uri": "https://localhost:8080/"
        },
        "id": "8G3SYzu0vKm2",
        "outputId": "d6eb8b38-f336-47c6-850b-da1f30a89157"
      },
      "source": [
        "arr = np.random.randn(4, 4)\n",
        "arr"
      ],
      "execution_count": 20,
      "outputs": [
        {
          "output_type": "execute_result",
          "data": {
            "text/plain": [
              "array([[-1.17063131,  0.26451448,  0.32059892, -0.25502572],\n",
              "       [ 0.9115239 ,  1.10652731, -0.23256191,  0.59212818],\n",
              "       [-1.01947808, -0.30905066,  0.8985028 ,  0.82795224],\n",
              "       [ 0.95946817,  0.49500228, -0.96138091,  0.43701257]])"
            ]
          },
          "metadata": {
            "tags": []
          },
          "execution_count": 20
        }
      ]
    },
    {
      "cell_type": "code",
      "metadata": {
        "colab": {
          "base_uri": "https://localhost:8080/"
        },
        "id": "oDsKCJ1VwSFP",
        "outputId": "c9601e6b-510c-4b02-b9d3-a7aaa6e487c0"
      },
      "source": [
        "arr > 0"
      ],
      "execution_count": 21,
      "outputs": [
        {
          "output_type": "execute_result",
          "data": {
            "text/plain": [
              "array([[False,  True,  True, False],\n",
              "       [ True,  True, False,  True],\n",
              "       [False, False,  True,  True],\n",
              "       [ True,  True, False,  True]])"
            ]
          },
          "metadata": {
            "tags": []
          },
          "execution_count": 21
        }
      ]
    },
    {
      "cell_type": "code",
      "metadata": {
        "colab": {
          "base_uri": "https://localhost:8080/"
        },
        "id": "EHPkHqNLwX7T",
        "outputId": "dfbd24d2-b43e-44dc-fa87-7a0945b2e0bd"
      },
      "source": [
        "np.where(arr > 0, 2, -2)"
      ],
      "execution_count": 22,
      "outputs": [
        {
          "output_type": "execute_result",
          "data": {
            "text/plain": [
              "array([[-2,  2,  2, -2],\n",
              "       [ 2,  2, -2,  2],\n",
              "       [-2, -2,  2,  2],\n",
              "       [ 2,  2, -2,  2]])"
            ]
          },
          "metadata": {
            "tags": []
          },
          "execution_count": 22
        }
      ]
    },
    {
      "cell_type": "markdown",
      "metadata": {
        "id": "47Ox79iqwnbp"
      },
      "source": [
        "También puedes combinar escalares y arrays cuando usas `np.where`. Por ejemplo, yo quiero reemplazar todos los valores positivos que hay en `arr` por la constante $2$:"
      ]
    },
    {
      "cell_type": "code",
      "metadata": {
        "colab": {
          "base_uri": "https://localhost:8080/"
        },
        "id": "NlaMMiDawhzr",
        "outputId": "3ce0c69f-8bb0-437e-b623-733df7b92767"
      },
      "source": [
        "np.where(arr > 0, 2, arr) # Solo establece los valores positivos en 2."
      ],
      "execution_count": 23,
      "outputs": [
        {
          "output_type": "execute_result",
          "data": {
            "text/plain": [
              "array([[-1.17063131,  2.        ,  2.        , -0.25502572],\n",
              "       [ 2.        ,  2.        , -0.23256191,  2.        ],\n",
              "       [-1.01947808, -0.30905066,  2.        ,  2.        ],\n",
              "       [ 2.        ,  2.        , -0.96138091,  2.        ]])"
            ]
          },
          "metadata": {
            "tags": []
          },
          "execution_count": 23
        }
      ]
    },
    {
      "cell_type": "markdown",
      "metadata": {
        "id": "oen_B5z0xNS3"
      },
      "source": [
        "**ATENCIÓN**\n",
        "\n",
        "Los arrays que le pasemos a `np.where` pueden ser mayores o iguales a los arrays o escalares."
      ]
    },
    {
      "cell_type": "markdown",
      "metadata": {
        "id": "lSFzb4a7x__Q"
      },
      "source": [
        "## Métodos matemáticos y estadísticos"
      ]
    },
    {
      "cell_type": "markdown",
      "metadata": {
        "id": "XrqKK9XzyE64"
      },
      "source": [
        "Un conjunto de funciones matemáticas que calculan estadísticas sobre un array entero o sobre los datos alrededor de un eje son accesibles como métodos de la clase array.\n",
        "\n",
        "Puedes usar agregaciones (a menudo llamadas *reducciones*) como `sum`, `mean` y `std` (desviación estándar) ya sea llamando al método de instancia del array o usando funciones de NumPy de alto nivel."
      ]
    },
    {
      "cell_type": "code",
      "metadata": {
        "colab": {
          "base_uri": "https://localhost:8080/"
        },
        "id": "4VhiI46-3ubI",
        "outputId": "7d047f48-46a0-4e31-d119-18780b782200"
      },
      "source": [
        "# Vamos a generar un array de datos aleatorios y a calcular algunas estadísticas de agregación\n",
        "arr = np.random.randn(5, 4) \n",
        "arr"
      ],
      "execution_count": 25,
      "outputs": [
        {
          "output_type": "execute_result",
          "data": {
            "text/plain": [
              "array([[ 0.43879299, -0.28956561,  0.28901438, -1.38411773],\n",
              "       [-1.98288348,  0.27167263,  0.68997478, -0.17544693],\n",
              "       [ 1.18670189, -0.25287943,  0.70019491,  1.46242108],\n",
              "       [-0.06021553,  1.50544784, -0.10466946, -0.01546158],\n",
              "       [-2.15087596,  2.22709397, -0.49903245,  0.58958458]])"
            ]
          },
          "metadata": {
            "tags": []
          },
          "execution_count": 25
        }
      ]
    },
    {
      "cell_type": "code",
      "metadata": {
        "colab": {
          "base_uri": "https://localhost:8080/"
        },
        "id": "2XfL7Cco4A8e",
        "outputId": "52b3d43e-39a2-4328-fb4e-cb9257e8381e"
      },
      "source": [
        "arr.mean() #Calculamos la media"
      ],
      "execution_count": 26,
      "outputs": [
        {
          "output_type": "execute_result",
          "data": {
            "text/plain": [
              "0.12228754441365423"
            ]
          },
          "metadata": {
            "tags": []
          },
          "execution_count": 26
        }
      ]
    },
    {
      "cell_type": "code",
      "metadata": {
        "colab": {
          "base_uri": "https://localhost:8080/"
        },
        "id": "ZjSsqDN44G4J",
        "outputId": "4453ad12-c14b-4f13-af2b-4aa1c083f012"
      },
      "source": [
        "np.mean(arr) # Otra forma de hacerlo"
      ],
      "execution_count": 28,
      "outputs": [
        {
          "output_type": "execute_result",
          "data": {
            "text/plain": [
              "0.12228754441365423"
            ]
          },
          "metadata": {
            "tags": []
          },
          "execution_count": 28
        }
      ]
    },
    {
      "cell_type": "code",
      "metadata": {
        "colab": {
          "base_uri": "https://localhost:8080/"
        },
        "id": "Uqyc455w4KXi",
        "outputId": "cd46f650-f599-4bce-f050-eefaf172a0df"
      },
      "source": [
        "arr.sum()"
      ],
      "execution_count": 29,
      "outputs": [
        {
          "output_type": "execute_result",
          "data": {
            "text/plain": [
              "2.4457508882730847"
            ]
          },
          "metadata": {
            "tags": []
          },
          "execution_count": 29
        }
      ]
    },
    {
      "cell_type": "markdown",
      "metadata": {
        "id": "_zMZD6-S4TOm"
      },
      "source": [
        "Funciones como `mean` y `sum` toman el argumento opcional *axis* para calcular las estadísticas a lo largo de un eje, resultando en un array con una dimensión menos."
      ]
    },
    {
      "cell_type": "code",
      "metadata": {
        "colab": {
          "base_uri": "https://localhost:8080/"
        },
        "id": "58rESeuz4RTr",
        "outputId": "dfd0e125-f67e-4b51-8816-e7d63e2e59df"
      },
      "source": [
        "arr.mean(axis=1) # Cálculo a través de las columnas"
      ],
      "execution_count": 30,
      "outputs": [
        {
          "output_type": "execute_result",
          "data": {
            "text/plain": [
              "array([-0.23646899, -0.29917075,  0.77410961,  0.33127532,  0.04169254])"
            ]
          },
          "metadata": {
            "tags": []
          },
          "execution_count": 30
        }
      ]
    },
    {
      "cell_type": "code",
      "metadata": {
        "colab": {
          "base_uri": "https://localhost:8080/"
        },
        "id": "L177H_Bj4pQu",
        "outputId": "c7daecf6-f14e-45a9-b364-3906609b9f90"
      },
      "source": [
        "arr.sum(axis=0) # Cálculo a través de las filas"
      ],
      "execution_count": 31,
      "outputs": [
        {
          "output_type": "execute_result",
          "data": {
            "text/plain": [
              "array([-2.56848009,  3.4617694 ,  1.07548216,  0.47697942])"
            ]
          },
          "metadata": {
            "tags": []
          },
          "execution_count": 31
        }
      ]
    },
    {
      "cell_type": "markdown",
      "metadata": {
        "id": "LVSUCIKD5Cmv"
      },
      "source": [
        "Otros métodos como `cumsum` y `cumprod` no se agregan, producen un array de los resultados intermedios."
      ]
    },
    {
      "cell_type": "code",
      "metadata": {
        "colab": {
          "base_uri": "https://localhost:8080/"
        },
        "id": "UvFmpRY-4uX4",
        "outputId": "eb3634b8-5851-462b-e73c-0e36679e09d5"
      },
      "source": [
        "arr = np.array([0, 1, 2, 3, 4, 5, 6, 7])\n",
        "arr"
      ],
      "execution_count": 33,
      "outputs": [
        {
          "output_type": "execute_result",
          "data": {
            "text/plain": [
              "array([0, 1, 2, 3, 4, 5, 6, 7])"
            ]
          },
          "metadata": {
            "tags": []
          },
          "execution_count": 33
        }
      ]
    },
    {
      "cell_type": "code",
      "metadata": {
        "colab": {
          "base_uri": "https://localhost:8080/"
        },
        "id": "zW9tMS_w5cWO",
        "outputId": "5ba9b896-ac39-49bb-e2f3-0a4e30b3ea52"
      },
      "source": [
        "arr.cumsum() # Suma acumulativa de los elementos empezando en 0."
      ],
      "execution_count": 34,
      "outputs": [
        {
          "output_type": "execute_result",
          "data": {
            "text/plain": [
              "array([ 0,  1,  3,  6, 10, 15, 21, 28])"
            ]
          },
          "metadata": {
            "tags": []
          },
          "execution_count": 34
        }
      ]
    },
    {
      "cell_type": "markdown",
      "metadata": {
        "id": "XyEWsnzO6PBP"
      },
      "source": [
        "En arrays multidimensionales, las funciones de acumulación (como `cumsum`) devuelven un array del mismo tamaño, pero con los agregados parciales calculados a través del eje indicado de acuerdo con cada porción de menor dimensión."
      ]
    },
    {
      "cell_type": "code",
      "metadata": {
        "colab": {
          "base_uri": "https://localhost:8080/"
        },
        "id": "ue428KzS5hEN",
        "outputId": "067d5a16-1bd4-4937-9393-bb4303645d72"
      },
      "source": [
        "arr = np.array([[0, 1, 2], [3, 4, 5], [6, 7, 8]])\n",
        "arr"
      ],
      "execution_count": 35,
      "outputs": [
        {
          "output_type": "execute_result",
          "data": {
            "text/plain": [
              "array([[0, 1, 2],\n",
              "       [3, 4, 5],\n",
              "       [6, 7, 8]])"
            ]
          },
          "metadata": {
            "tags": []
          },
          "execution_count": 35
        }
      ]
    },
    {
      "cell_type": "code",
      "metadata": {
        "colab": {
          "base_uri": "https://localhost:8080/"
        },
        "id": "B0E6y1Pw6z5m",
        "outputId": "b4a7d363-c4de-48b5-f561-bc3bb258c834"
      },
      "source": [
        "arr.cumsum(axis=0)"
      ],
      "execution_count": 37,
      "outputs": [
        {
          "output_type": "execute_result",
          "data": {
            "text/plain": [
              "array([[ 0,  1,  2],\n",
              "       [ 3,  5,  7],\n",
              "       [ 9, 12, 15]])"
            ]
          },
          "metadata": {
            "tags": []
          },
          "execution_count": 37
        }
      ]
    },
    {
      "cell_type": "code",
      "metadata": {
        "colab": {
          "base_uri": "https://localhost:8080/"
        },
        "id": "IE7OoPOR64vc",
        "outputId": "b4a47f56-b945-4e7d-867a-edae6e24da77"
      },
      "source": [
        "arr.cumprod(axis=1)"
      ],
      "execution_count": 38,
      "outputs": [
        {
          "output_type": "execute_result",
          "data": {
            "text/plain": [
              "array([[  0,   0,   0],\n",
              "       [  3,  12,  60],\n",
              "       [  6,  42, 336]])"
            ]
          },
          "metadata": {
            "tags": []
          },
          "execution_count": 38
        }
      ]
    },
    {
      "cell_type": "code",
      "metadata": {
        "id": "0H-3c4if7Co5"
      },
      "source": [
        ""
      ],
      "execution_count": null,
      "outputs": []
    },
    {
      "cell_type": "markdown",
      "metadata": {
        "id": "wBVkVa5t7Kv9"
      },
      "source": [
        "Esta tabla muestra los métodos estadísticos básicos de arrays:\n",
        "\n",
        "---\n",
        "\n",
        "| MÉTODO | DESCRIPCIÓN |\n",
        "|:-------|:------------|\n",
        "|`sum`|Suma todos los elementos del array o a través de un eje. Arrays de longitud cero tienen suma cero.|\n",
        "|`mean`|Media aritmética. Arrays de longitud cero tienen media NaN.|\n",
        "|`std`, `var`|Desviación estándar y varianza, respectivamente, con grados y ajustes libres opcionales (por defecto denominador n).|\n",
        "|`min`, `max`|Mínimo y máximo.|\n",
        "|`argmin`, `argmax`|Índices de los elementos mínimos y máximos.|\n",
        "|`cumsum`|Suma acumulativa de elementos empezando por 0.|\n",
        "|`cumprod`|Producto acumulativo de elementos empezando por 1.|\n",
        "\n",
        "---"
      ]
    },
    {
      "cell_type": "markdown",
      "metadata": {
        "id": "6J2aZs57_VV9"
      },
      "source": [
        "## Métodos para arrays booleanos"
      ]
    },
    {
      "cell_type": "markdown",
      "metadata": {
        "id": "OKciMpHH_ko8"
      },
      "source": [
        "Los valores booleanos se 'fuerzan' a $1$ para `True` y a $0$ para `False` en los métodos anteriores. Por tanto, `sum` es usada a menudo como una media de valores `True` en un array booleano."
      ]
    },
    {
      "cell_type": "code",
      "metadata": {
        "colab": {
          "base_uri": "https://localhost:8080/"
        },
        "id": "56HzeTjlBG-9",
        "outputId": "e0e0c319-0af3-4c1c-b26f-faa7c8172433"
      },
      "source": [
        "arr = np.random.randn(100)\n",
        "(arr > 0).sum() # Número de valores positivos"
      ],
      "execution_count": 39,
      "outputs": [
        {
          "output_type": "execute_result",
          "data": {
            "text/plain": [
              "46"
            ]
          },
          "metadata": {
            "tags": []
          },
          "execution_count": 39
        }
      ]
    },
    {
      "cell_type": "markdown",
      "metadata": {
        "id": "8Cg9wvfrBZhT"
      },
      "source": [
        "Existen dos métodos adicionales, `any` y `all`, muy útiles en los arrays booleanos.\n",
        "\n",
        "`any` prueba si uno o más valores en un array son `True`, mientras que `all` comprueba si todos los valores son `True`."
      ]
    },
    {
      "cell_type": "code",
      "metadata": {
        "colab": {
          "base_uri": "https://localhost:8080/"
        },
        "id": "Hbog9dTEBTjR",
        "outputId": "fc809b75-1cf9-4fe4-9225-0382d957e620"
      },
      "source": [
        "bools = np.array([False, False, True, False])\n",
        "bools.any()"
      ],
      "execution_count": 40,
      "outputs": [
        {
          "output_type": "execute_result",
          "data": {
            "text/plain": [
              "True"
            ]
          },
          "metadata": {
            "tags": []
          },
          "execution_count": 40
        }
      ]
    },
    {
      "cell_type": "code",
      "metadata": {
        "colab": {
          "base_uri": "https://localhost:8080/"
        },
        "id": "hCYvaMD9CHOF",
        "outputId": "966c983b-57dd-464e-b9bd-0c12c2f1ca56"
      },
      "source": [
        "bools.all()"
      ],
      "execution_count": 41,
      "outputs": [
        {
          "output_type": "execute_result",
          "data": {
            "text/plain": [
              "False"
            ]
          },
          "metadata": {
            "tags": []
          },
          "execution_count": 41
        }
      ]
    },
    {
      "cell_type": "markdown",
      "metadata": {
        "id": "YSUB4YAaCT8k"
      },
      "source": [
        "## Clasificación (sort)"
      ]
    },
    {
      "cell_type": "markdown",
      "metadata": {
        "id": "o782FWiKCb2z"
      },
      "source": [
        "Al igual que los tipo *lista* de Python, los arrays de NumPy pueden ser ordenados con el método `sort`."
      ]
    },
    {
      "cell_type": "code",
      "metadata": {
        "colab": {
          "base_uri": "https://localhost:8080/"
        },
        "id": "6UX38PizCs_k",
        "outputId": "225cd255-ee85-4f3b-8f8f-b019e825f3a4"
      },
      "source": [
        "arr = np.random.randn(6)\n",
        "arr"
      ],
      "execution_count": 42,
      "outputs": [
        {
          "output_type": "execute_result",
          "data": {
            "text/plain": [
              "array([-0.25999744,  1.14391852, -1.7091473 ,  0.52207318, -2.13351821,\n",
              "       -0.42795542])"
            ]
          },
          "metadata": {
            "tags": []
          },
          "execution_count": 42
        }
      ]
    },
    {
      "cell_type": "code",
      "metadata": {
        "id": "qAPafJQcCxDE"
      },
      "source": [
        "arr.sort()"
      ],
      "execution_count": 43,
      "outputs": []
    },
    {
      "cell_type": "code",
      "metadata": {
        "colab": {
          "base_uri": "https://localhost:8080/"
        },
        "id": "ZOM1e9JPCzMY",
        "outputId": "8ce3fd3b-e0d9-4506-89fc-76c49bf1b10b"
      },
      "source": [
        "arr"
      ],
      "execution_count": 44,
      "outputs": [
        {
          "output_type": "execute_result",
          "data": {
            "text/plain": [
              "array([-2.13351821, -1.7091473 , -0.42795542, -0.25999744,  0.52207318,\n",
              "        1.14391852])"
            ]
          },
          "metadata": {
            "tags": []
          },
          "execution_count": 44
        }
      ]
    },
    {
      "cell_type": "markdown",
      "metadata": {
        "id": "4O6EQjO2C5oM"
      },
      "source": [
        "Puedes ordenar cada sección unidimensional de valores en un array multidimensional a través de un eje pasando el número de eje al `sort`."
      ]
    },
    {
      "cell_type": "code",
      "metadata": {
        "colab": {
          "base_uri": "https://localhost:8080/"
        },
        "id": "3dSucUWdC1qi",
        "outputId": "7b81efbe-159d-4eee-d506-e50ed16c4598"
      },
      "source": [
        "arr = np.random.randn(5, 3)\n",
        "arr"
      ],
      "execution_count": 45,
      "outputs": [
        {
          "output_type": "execute_result",
          "data": {
            "text/plain": [
              "array([[-1.35078958, -0.74025589,  0.7169436 ],\n",
              "       [-2.02263701, -0.57958928, -1.19938268],\n",
              "       [ 0.41386271, -0.67243767, -1.19797487],\n",
              "       [-1.91618382, -0.54834112,  1.19995199],\n",
              "       [-0.49737705, -0.43323494, -1.3225364 ]])"
            ]
          },
          "metadata": {
            "tags": []
          },
          "execution_count": 45
        }
      ]
    },
    {
      "cell_type": "code",
      "metadata": {
        "colab": {
          "base_uri": "https://localhost:8080/"
        },
        "id": "nBAuO5epDPAP",
        "outputId": "6bbbe0ec-084a-4ff7-e91a-06296e640d04"
      },
      "source": [
        "arr.sort(1)\n",
        "arr"
      ],
      "execution_count": 46,
      "outputs": [
        {
          "output_type": "execute_result",
          "data": {
            "text/plain": [
              "array([[-1.35078958, -0.74025589,  0.7169436 ],\n",
              "       [-2.02263701, -1.19938268, -0.57958928],\n",
              "       [-1.19797487, -0.67243767,  0.41386271],\n",
              "       [-1.91618382, -0.54834112,  1.19995199],\n",
              "       [-1.3225364 , -0.49737705, -0.43323494]])"
            ]
          },
          "metadata": {
            "tags": []
          },
          "execution_count": 46
        }
      ]
    },
    {
      "cell_type": "markdown",
      "metadata": {
        "id": "iUkC4ywbDcDb"
      },
      "source": [
        "El método de alto nivel `np.sort()` retorna una copia ordenada de un array en lugar de modificarlo *in-situ*.\n",
        "\n",
        "Una forma rápida y 'sucia' de calcular los cuantiles de un array es ordenarlos y seleccionar el valor con un rango particular."
      ]
    },
    {
      "cell_type": "code",
      "metadata": {
        "colab": {
          "base_uri": "https://localhost:8080/"
        },
        "id": "I8L3l0eWDTUm",
        "outputId": "10ce5696-7bfe-4712-df6d-4d0cec90f37e"
      },
      "source": [
        "large_arr = np.random.randn(1000)\n",
        "large_arr.sort()\n",
        "large_arr[int(0.05 * len(large_arr))] # Cuantil del 5%."
      ],
      "execution_count": 47,
      "outputs": [
        {
          "output_type": "execute_result",
          "data": {
            "text/plain": [
              "-1.657541683586659"
            ]
          },
          "metadata": {
            "tags": []
          },
          "execution_count": 47
        }
      ]
    }
  ]
}