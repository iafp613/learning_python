{
  "nbformat": 4,
  "nbformat_minor": 0,
  "metadata": {
    "colab": {
      "name": "1_NumPy_basico.ipynb",
      "provenance": [],
      "collapsed_sections": [],
      "toc_visible": true
    },
    "kernelspec": {
      "name": "python3",
      "display_name": "Python 3"
    },
    "language_info": {
      "name": "python"
    }
  },
  "cells": [
    {
      "cell_type": "markdown",
      "metadata": {
        "id": "7kVQO4VLHVsf"
      },
      "source": [
        "# NumPy - Introducción."
      ]
    },
    {
      "cell_type": "markdown",
      "metadata": {
        "id": "Mj9274-pIqzO"
      },
      "source": [
        "NumPy es una de las librerías más importantes para el cálculo numérico en Python. La mayoría de las librerías computacionales que proporcionan funcionalidad científica usan los objetos `array` (matriz) de NumPy.\n",
        "\n",
        "Algunas cosas que puedes encontrar en NumPy:\n",
        "- *ndarray*, un eficiente `array` multidimensional que proporciona rápidas operaciones aritméticas orientadas a las matrices.\n",
        "- Funciones matemáticas para operaciones rápidas sobre matrices de datos sin tener que escribir bucles.\n",
        "- Herramientas para leer/escribir matrices de datos.\n",
        "- Álgebra lineal, generación aleatoria de números y transoformaciones de Fourier.\n",
        "- ¡Y muchas cosas más!\n",
        "\n",
        "Pero, ¿por qué NumPy y no usar iterables (como listas)?\n",
        "\n",
        "Veamos:"
      ]
    },
    {
      "cell_type": "code",
      "metadata": {
        "id": "rHwqqLdmL-mm"
      },
      "source": [
        "import numpy as np\n",
        "\n",
        "# Creamos una matriz con el primer millón de números enteros\n",
        "matriz = np.arange(1000000)\n",
        "\n",
        "# Creamos una lista con el primer millón de números enteros\n",
        "lista = list(range(1000000))"
      ],
      "execution_count": null,
      "outputs": []
    },
    {
      "cell_type": "code",
      "metadata": {
        "colab": {
          "base_uri": "https://localhost:8080/"
        },
        "id": "s3RpvaHdMIhi",
        "outputId": "e782ae5b-502b-42c8-e217-a97ef1d57c9e"
      },
      "source": [
        "# Vamos a multiplicar la matriz por 2 diez veces y vamos a registrar lo que tarda en hacer las operaciones\n",
        "# Para ello usamos %time\n",
        "\n",
        "%time for _ in range(10): matriz2 = matriz * 2"
      ],
      "execution_count": null,
      "outputs": [
        {
          "output_type": "stream",
          "text": [
            "CPU times: user 12 ms, sys: 8.03 ms, total: 20 ms\n",
            "Wall time: 19.7 ms\n"
          ],
          "name": "stdout"
        }
      ]
    },
    {
      "cell_type": "code",
      "metadata": {
        "colab": {
          "base_uri": "https://localhost:8080/"
        },
        "id": "OpuXrYUrNNR1",
        "outputId": "79fed774-c21c-40d2-f925-c4d2928a001e"
      },
      "source": [
        "# Ahora vamos a multiplicar la lista por 2 diez veces y vamos a registrar lo que tarda en hacer las operaciones\n",
        "\n",
        "%time for _ in range(10): lista2 = [x * 2 for x in lista]"
      ],
      "execution_count": null,
      "outputs": [
        {
          "output_type": "stream",
          "text": [
            "CPU times: user 753 ms, sys: 174 ms, total: 927 ms\n",
            "Wall time: 933 ms\n"
          ],
          "name": "stdout"
        }
      ]
    },
    {
      "cell_type": "markdown",
      "metadata": {
        "id": "aAqGSGukN-DR"
      },
      "source": [
        "Como ves, la diferencia de tiempos es importante. Los algoritmos basados en NumPy son generalmente entre 10 y 100 (o más) veces más rápidos que sus equivalentes en Python puro.\n",
        "\n",
        "Es por eso, por lo que en este bloque iremos viendo Numpy desde lo más básico a lo más avanzado."
      ]
    },
    {
      "cell_type": "markdown",
      "metadata": {
        "id": "BVwep2bWOfkg"
      },
      "source": [
        "# NumPy - ndarray"
      ]
    },
    {
      "cell_type": "markdown",
      "metadata": {
        "id": "XOi_4EWOOndn"
      },
      "source": [
        "Una de las características clave de Numpy son los objetos de *arreglo (matriz) N-dimensional*, o ***ndarray***, las cuales son contenedores grandes y rápidos de conjuntos de datos en Python.\n",
        "\n",
        "Para que te hagas una idea de cómo funcionan estos objetos, analiza el siguiente código:"
      ]
    },
    {
      "cell_type": "code",
      "metadata": {
        "colab": {
          "base_uri": "https://localhost:8080/"
        },
        "id": "P9hLGuQWOmVX",
        "outputId": "a61ade8d-30b6-4ed1-852e-8f30181f1594"
      },
      "source": [
        "import numpy as np\n",
        "\n",
        "# Generamos algunos datos aleatorios\n",
        "data = np.random.randn(2, 3)\n",
        "data"
      ],
      "execution_count": null,
      "outputs": [
        {
          "output_type": "execute_result",
          "data": {
            "text/plain": [
              "array([[ 0.91854843, -1.24171052, -1.59029263],\n",
              "       [ 0.42186692,  0.63516186,  0.59471742]])"
            ]
          },
          "metadata": {
            "tags": []
          },
          "execution_count": 15
        }
      ]
    },
    {
      "cell_type": "code",
      "metadata": {
        "colab": {
          "base_uri": "https://localhost:8080/"
        },
        "id": "3yE8HRk6Se1G",
        "outputId": "ef8bf53f-28eb-4b5b-de03-709594f69404"
      },
      "source": [
        "# Ahora realizamos algunas operaciones matemáticas con ellos:\n",
        "# Multiplicamos cada elemento por 10\n",
        "data * 10"
      ],
      "execution_count": null,
      "outputs": [
        {
          "output_type": "execute_result",
          "data": {
            "text/plain": [
              "array([[  9.18548425, -12.41710516, -15.90292631],\n",
              "       [  4.21866918,   6.35161862,   5.94717418]])"
            ]
          },
          "metadata": {
            "tags": []
          },
          "execution_count": 20
        }
      ]
    },
    {
      "cell_type": "code",
      "metadata": {
        "colab": {
          "base_uri": "https://localhost:8080/"
        },
        "id": "riq-k4MDSr70",
        "outputId": "33042bd9-8a88-4a7c-fa86-0a481a522d40"
      },
      "source": [
        "# Sumamos cada elemento consigo mismo\n",
        "data + data"
      ],
      "execution_count": null,
      "outputs": [
        {
          "output_type": "execute_result",
          "data": {
            "text/plain": [
              "array([[ 1.83709685, -2.48342103, -3.18058526],\n",
              "       [ 0.84373384,  1.27032372,  1.18943484]])"
            ]
          },
          "metadata": {
            "tags": []
          },
          "execution_count": 21
        }
      ]
    },
    {
      "cell_type": "markdown",
      "metadata": {
        "id": "YIG038HKTV6o"
      },
      "source": [
        "Un `ndarray` es un contenedor genérico multidimensional de datos homogéneos, es decir, todos los elementos deben de ser del mismo tipo.\n",
        "\n",
        "Cada arreglo tiene una *forma* -`shape`-, una tupla indicando el tamaño de cada dimensión, y un *tipo* -`dtype`-, un objeto que describe el tipo de los datos del `array`."
      ]
    },
    {
      "cell_type": "code",
      "metadata": {
        "colab": {
          "base_uri": "https://localhost:8080/"
        },
        "id": "rm2uvVuMTOHy",
        "outputId": "d6df8249-7321-41d8-c7c9-ffa150156769"
      },
      "source": [
        "# Forma\n",
        "data.shape"
      ],
      "execution_count": null,
      "outputs": [
        {
          "output_type": "execute_result",
          "data": {
            "text/plain": [
              "(2, 3)"
            ]
          },
          "metadata": {
            "tags": []
          },
          "execution_count": 22
        }
      ]
    },
    {
      "cell_type": "code",
      "metadata": {
        "colab": {
          "base_uri": "https://localhost:8080/"
        },
        "id": "BsosjMtuUYKG",
        "outputId": "18cfef7e-55c1-45ba-b73c-149d1e78893f"
      },
      "source": [
        "# Tipo\n",
        "data.dtype"
      ],
      "execution_count": null,
      "outputs": [
        {
          "output_type": "execute_result",
          "data": {
            "text/plain": [
              "dtype('float64')"
            ]
          },
          "metadata": {
            "tags": []
          },
          "execution_count": 23
        }
      ]
    },
    {
      "cell_type": "markdown",
      "metadata": {
        "id": "HLU7c8FWUhWw"
      },
      "source": [
        "## Creando ndarrays"
      ]
    },
    {
      "cell_type": "markdown",
      "metadata": {
        "id": "E3PNTuGNZZAA"
      },
      "source": [
        "### `array()`\n",
        "\n",
        "La forma más fácil de crear un arreglo es usando la función array(). Ésta acepta cualquuier secuencia de objetos (incliyendo otros arreglos) y genera un nuevo contenedor de matrices de NumPy con los datos pasados.\n",
        "\n",
        "Por ejemplo:"
      ]
    },
    {
      "cell_type": "code",
      "metadata": {
        "colab": {
          "base_uri": "https://localhost:8080/"
        },
        "id": "h2tUUNPlUdc9",
        "outputId": "bd76236b-9404-4926-a02f-4ee45bbfeb9c"
      },
      "source": [
        "data1 = [6, 7.5, 8, 0, 1]\n",
        "\n",
        "arr1 = np.array(data1)\n",
        "\n",
        "print(\"Forma:\", arr1.shape)\n",
        "print(\"Tipo:\", arr1.dtype)\n",
        "arr1"
      ],
      "execution_count": null,
      "outputs": [
        {
          "output_type": "stream",
          "text": [
            "Forma: (5,)\n",
            "Tipo: float64\n"
          ],
          "name": "stdout"
        },
        {
          "output_type": "execute_result",
          "data": {
            "text/plain": [
              "array([6. , 7.5, 8. , 0. , 1. ])"
            ]
          },
          "metadata": {
            "tags": []
          },
          "execution_count": 32
        }
      ]
    },
    {
      "cell_type": "markdown",
      "metadata": {
        "id": "LJ3JNeLvVfbg"
      },
      "source": [
        "**ATENCIÓN:** Aunque esta vez los datos no son del mismo tipo (hay `int` y hay `float`), la función transforma los enteros a números flotantes."
      ]
    },
    {
      "cell_type": "code",
      "metadata": {
        "colab": {
          "base_uri": "https://localhost:8080/"
        },
        "id": "7IMtWRVKVYco",
        "outputId": "e211cff4-b8e6-4f35-d7e3-b62ec3ab71fb"
      },
      "source": [
        "data2 = [[1, 2, 3, 4], [5, 6, 7, 8]]\n",
        "arr2 = np.array(data2)\n",
        "\n",
        "print(\"Forma:\", arr2.shape)\n",
        "print(\"Tipo:\", arr2.dtype)\n",
        "arr2"
      ],
      "execution_count": null,
      "outputs": [
        {
          "output_type": "stream",
          "text": [
            "Forma: (2, 4)\n",
            "Tipo: int64\n"
          ],
          "name": "stdout"
        },
        {
          "output_type": "execute_result",
          "data": {
            "text/plain": [
              "array([[1, 2, 3, 4],\n",
              "       [5, 6, 7, 8]])"
            ]
          },
          "metadata": {
            "tags": []
          },
          "execution_count": 33
        }
      ]
    },
    {
      "cell_type": "markdown",
      "metadata": {
        "id": "z5pPv0mDV8Y_"
      },
      "source": [
        "En este ejemplo, vemos que le hemos pasado `data2` como una lista de dos listas de la misma longitud, por tanto nos devuelve un array de dos dimensiones. \n",
        "\n",
        "Para ver directamente el número de dimensiones de un arreglo, usamos `shape` (y contamos los elementos de la tupla) o, directamente usamos `ndim`:"
      ]
    },
    {
      "cell_type": "code",
      "metadata": {
        "colab": {
          "base_uri": "https://localhost:8080/"
        },
        "id": "aKlTFf0RV6le",
        "outputId": "1b2550f7-64ae-490b-f598-b7bb7732116f"
      },
      "source": [
        "arr2.ndim"
      ],
      "execution_count": null,
      "outputs": [
        {
          "output_type": "execute_result",
          "data": {
            "text/plain": [
              "2"
            ]
          },
          "metadata": {
            "tags": []
          },
          "execution_count": 34
        }
      ]
    },
    {
      "cell_type": "markdown",
      "metadata": {
        "id": "Bj7hJtX4Xr6I"
      },
      "source": [
        "### `zeros`, `ones` y `empty`\n",
        "\n",
        "Además de `np.array`, hay varias funciones para crear nuevos arreglos. Como ejemplos, `zeros` y `ones` crean arrays de 0's y 1's, respectivamente, con una longitud y forma dados. \n",
        "\n",
        "`empty` crea un array sin inicializar sus valores a ningún valor particular (es un array vacío). No asumas que `np.empty` devolverá una matriz de ceros, podría devolver valores *basura* sin inicializar. Dependerá de lo que tenga en la memoria.\n",
        "\n",
        "Para crear un array de mayores dimensiones con estos métodos, has de indicarlo en una tupla."
      ]
    },
    {
      "cell_type": "code",
      "metadata": {
        "colab": {
          "base_uri": "https://localhost:8080/"
        },
        "id": "KUCMvGlEWVzb",
        "outputId": "ca244e26-c989-48de-9828-e97e58fe6129"
      },
      "source": [
        "# Creamos un array de 10 'ceros' y una dimensión.\n",
        "np.zeros(10)"
      ],
      "execution_count": null,
      "outputs": [
        {
          "output_type": "execute_result",
          "data": {
            "text/plain": [
              "array([0., 0., 0., 0., 0., 0., 0., 0., 0., 0.])"
            ]
          },
          "metadata": {
            "tags": []
          },
          "execution_count": 35
        }
      ]
    },
    {
      "cell_type": "code",
      "metadata": {
        "colab": {
          "base_uri": "https://localhost:8080/"
        },
        "id": "lpePNfMxaKBi",
        "outputId": "d6a383e8-fed5-4000-a2c6-fe72e03291f9"
      },
      "source": [
        "# Creamos un array de 6 'ceros' por elemento, 3 elementos y dos dimensiones.\n",
        "np.zeros((3, 6))\n",
        "# Recuerda que hay que indicarlo todo dentro de una tupla."
      ],
      "execution_count": null,
      "outputs": [
        {
          "output_type": "execute_result",
          "data": {
            "text/plain": [
              "array([[0., 0., 0., 0., 0., 0.],\n",
              "       [0., 0., 0., 0., 0., 0.],\n",
              "       [0., 0., 0., 0., 0., 0.]])"
            ]
          },
          "metadata": {
            "tags": []
          },
          "execution_count": 38
        }
      ]
    },
    {
      "cell_type": "code",
      "metadata": {
        "colab": {
          "base_uri": "https://localhost:8080/"
        },
        "id": "ByjsDF5aagsr",
        "outputId": "e5fb4e77-9a3c-44c5-e523-ee392abaa180"
      },
      "source": [
        "# Creamos un array vacío de 3 dimensiones: \n",
        "np.empty((2, 3, 2))"
      ],
      "execution_count": null,
      "outputs": [
        {
          "output_type": "execute_result",
          "data": {
            "text/plain": [
              "array([[[4.66890915e-310, 2.61854792e-322],\n",
              "        [0.00000000e+000, 0.00000000e+000],\n",
              "        [6.90242791e-310, 1.50008929e+248]],\n",
              "\n",
              "       [[4.50620083e-144, 2.78225500e+296],\n",
              "        [1.43267083e+161, 4.56317366e-144],\n",
              "        [2.77618871e+184, 2.66090405e-312]]])"
            ]
          },
          "metadata": {
            "tags": []
          },
          "execution_count": 40
        }
      ]
    },
    {
      "cell_type": "markdown",
      "metadata": {
        "id": "Vd2gj4nCbyHQ"
      },
      "source": [
        "Como podrás ver, mi array vacío me ha dado esos valores porque son los que tenía en la memoria. Pero son valores *basura*, no están inicializados.\n",
        "\n",
        "Ahora veremos como inicializar un array con un rango:\n",
        "En Python, la función *built.in* es `range()` y en NumPy se usa `arange()`."
      ]
    },
    {
      "cell_type": "code",
      "metadata": {
        "colab": {
          "base_uri": "https://localhost:8080/"
        },
        "id": "xOLGUZTBbjfJ",
        "outputId": "66ea44c1-ccdb-47f0-fae5-982070c2d249"
      },
      "source": [
        "# Creamos un array de 15 elementos. Si no lo especificamos, empezará desde el 0 hasta el número que\n",
        "# le indiquemos por parámetro -1\n",
        "np.arange(15)"
      ],
      "execution_count": null,
      "outputs": [
        {
          "output_type": "execute_result",
          "data": {
            "text/plain": [
              "array([ 0,  1,  2,  3,  4,  5,  6,  7,  8,  9, 10, 11, 12, 13, 14])"
            ]
          },
          "metadata": {
            "tags": []
          },
          "execution_count": 41
        }
      ]
    },
    {
      "cell_type": "code",
      "metadata": {
        "colab": {
          "base_uri": "https://localhost:8080/"
        },
        "id": "-vbLDcUUcuce",
        "outputId": "b4ac1655-b19f-458b-fca2-f538fcabaa33"
      },
      "source": [
        "# Podemos crear un array de 6 elementos del 4 al 9 (ambos incluídos).\n",
        "# Para ello le indicamos dónde queremos empezar (incluído) y dónde queremos parar +1\n",
        "np.arange(4,10)"
      ],
      "execution_count": null,
      "outputs": [
        {
          "output_type": "execute_result",
          "data": {
            "text/plain": [
              "array([4, 5, 6, 7, 8, 9])"
            ]
          },
          "metadata": {
            "tags": []
          },
          "execution_count": 42
        }
      ]
    },
    {
      "cell_type": "code",
      "metadata": {
        "colab": {
          "base_uri": "https://localhost:8080/"
        },
        "id": "viPb5t06dG4o",
        "outputId": "fc0762a3-9b9a-4813-9b29-a46ccca8e1bd"
      },
      "source": [
        "# Podemos usar el start, stop, step que vimos en los range de Python puro.\n",
        "# Crea un array de 8 elementos consecutivos impares, desde el 7.\n",
        "np.arange(7, 23, 2) #También valdría: np.arange(7, 22, 2)"
      ],
      "execution_count": null,
      "outputs": [
        {
          "output_type": "execute_result",
          "data": {
            "text/plain": [
              "array([ 7,  9, 11, 13, 15, 17, 19, 21])"
            ]
          },
          "metadata": {
            "tags": []
          },
          "execution_count": 45
        }
      ]
    },
    {
      "cell_type": "markdown",
      "metadata": {
        "id": "I2nrH8IGeTFA"
      },
      "source": [
        "Aquí puedes ver algunas de las funciones para crear arrays:\n",
        "\n",
        "---\n",
        "\n",
        "| Función   |  Descripción |\n",
        "|:----------|:------|\n",
        "|`array`| Convierte el dato introducido (lista, tupla, array, u otro tipo iterable) a un *ndarray*. |\n",
        "|`asarray`| Convierte un `input` a *ndarray* pero no lo copia si el `input` ya es un *ndarray*. |\n",
        "|`arange`| Como el `range` pero retorna un *ndarray* en vez de una lista. |\n",
        "|`ones`, `ones_like`| Produce un array de 1's con un `shape` y un `dtype` dados. `ones_like` toma otro array y crea un array de 1's del mismo `shape` y `dtype`. |\n",
        "|`zeros`, `zeros_like`| Hace lo mismo que los anteriores pero con 0's. |\n",
        "|`empty`, `empty_like`| Hace lo mismo que los anteriores pero sin inicializar el *ndarray*. |\n",
        "|`full`, `full_like`| Hace lo mismo que los anteriores pero con todos los valores establecidos en el \"fill value\" indicado. |\n",
        "|`eye`, `identity`| Crea una matriz de identidad cuadrada de **N x N** (1's en la diagonal y 0's en todo lo demás). |\n",
        "\n",
        "---"
      ]
    },
    {
      "cell_type": "markdown",
      "metadata": {
        "id": "zRBtGJyWST9G"
      },
      "source": [
        "## Tipos de datos para ndarrays"
      ]
    },
    {
      "cell_type": "markdown",
      "metadata": {
        "id": "zXFTTJB6Srd2"
      },
      "source": [
        "Los **tipos de datos** o `dtype` es un objeto especial que contiene la información (o *metadatos*) que el ndarray necesita para interpretar un pedazo de memoria como un tipo particular de dato."
      ]
    },
    {
      "cell_type": "code",
      "metadata": {
        "colab": {
          "base_uri": "https://localhost:8080/"
        },
        "id": "W-DrWtEnTVtm",
        "outputId": "34dabd70-9092-448a-8f3b-3b52998a7cfc"
      },
      "source": [
        "arr1 = np.array([1, 2, 3], dtype=np.float64)\n",
        "arr2 = np.array([1, 2, 3], dtype=np.int32)\n",
        "arr1.dtype"
      ],
      "execution_count": null,
      "outputs": [
        {
          "output_type": "execute_result",
          "data": {
            "text/plain": [
              "dtype('float64')"
            ]
          },
          "metadata": {
            "tags": []
          },
          "execution_count": 2
        }
      ]
    },
    {
      "cell_type": "code",
      "metadata": {
        "colab": {
          "base_uri": "https://localhost:8080/"
        },
        "id": "b4hFjeI4UKUZ",
        "outputId": "8f39185b-ed4b-4ffb-9781-7d9344e8bd1a"
      },
      "source": [
        "arr2.dtype"
      ],
      "execution_count": null,
      "outputs": [
        {
          "output_type": "execute_result",
          "data": {
            "text/plain": [
              "dtype('int32')"
            ]
          },
          "metadata": {
            "tags": []
          },
          "execution_count": 3
        }
      ]
    },
    {
      "cell_type": "markdown",
      "metadata": {
        "id": "vQ3tqEXNUeLv"
      },
      "source": [
        "Los tipos de datos numéricos se llaman de la misma forma: un nombre *type* (como `float`, `int`, etc), seguido de un número que indica el número de bits por elemento.\n",
        "No es necesario saberlo de memoria, pero veamos una tabla con los tipos de datos:\n",
        "\n",
        "---\n",
        "\n",
        "| Tipo de Dato | Código del tipo | Descripción |\n",
        "|:-------------|:----------------|:------------|\n",
        "|`int8`, `uint8`|`i1`, `u1`|Tipo entero con signo (signed) y sin signo (unsigned) (respectivamente) de 8-bit (1 byte).|\n",
        "|`int16`, `uint16`|`i2`, `u2`|Igual que el anterior pero de 16-bits (2 bytes).|\n",
        "|`int32`, `uint32`|`i4`, `u4`|Igual que los anteriores pero de 32-bits (4 bytes).|\n",
        "|`int64`, `uint64`|`i8`, `u8`|Igual que los anteriores pero de 64-bits (8 bytes).|\n",
        "|`float16`|`f2`|Número decimal de media precisión.|\n",
        "|`float32`|`f4` o `f`|Número decimal estándar de precisión simple. Compatible `float` de C.|\n",
        "|`float64`|`f8` or `d`|Número decimal estándar de doble precisión. Compatible con `double` de C y objetos `float` de Python.|\n",
        "|`float128`|`f16` o `g`|Número decimal de precisión extendida.|\n",
        "|`complex64`, `complex128`, `complex256`|`c8`, `c16`, `c32`|Números complejos representados por dos 32, 64 o 128 `float`, respectivamente.|\n",
        "|`bool`|?|Los tipos booleanos contienen valores `True` o `False`|\n",
        "|`object`|`O`|Objetos de Python. Un valor puede ser cualquier objeto de Python.|\n",
        "|`string_`|`S`|Un tipo `string` ASCII de longitud fija (1 byte por carácter). Por ejemplo, para crear un *string dtype* de longitud 10, usamos `S10`.|\n",
        "|`unicode_`|`U`|Tipo *unicode* de longitud fija.|\n",
        "\n",
        "---"
      ]
    },
    {
      "cell_type": "markdown",
      "metadata": {
        "id": "zuhmrmfJbhVR"
      },
      "source": [
        "Puedes convertir explícitamente un arreglo de un tipo a otro usando el método `astype`:"
      ]
    },
    {
      "cell_type": "code",
      "metadata": {
        "colab": {
          "base_uri": "https://localhost:8080/"
        },
        "id": "iFxcUzJmb7yP",
        "outputId": "bb14f5c1-d553-41e9-eecb-ae38acc779bf"
      },
      "source": [
        "arr = np.array([1, 2, 3, 4, 5])\n",
        "print(arr)\n",
        "arr.dtype"
      ],
      "execution_count": null,
      "outputs": [
        {
          "output_type": "stream",
          "text": [
            "[1 2 3 4 5]\n"
          ],
          "name": "stdout"
        },
        {
          "output_type": "execute_result",
          "data": {
            "text/plain": [
              "dtype('int64')"
            ]
          },
          "metadata": {
            "tags": []
          },
          "execution_count": 9
        }
      ]
    },
    {
      "cell_type": "code",
      "metadata": {
        "colab": {
          "base_uri": "https://localhost:8080/"
        },
        "id": "t1Y5B5SlcC0T",
        "outputId": "630ba3be-91da-495e-fe82-6cfb68893b7b"
      },
      "source": [
        "# Transformamos el tipo 'int64' a 'float64'\n",
        "float_arr = arr.astype(np.float64)\n",
        "print(float_arr)\n",
        "float_arr.dtype"
      ],
      "execution_count": null,
      "outputs": [
        {
          "output_type": "stream",
          "text": [
            "[1. 2. 3. 4. 5.]\n"
          ],
          "name": "stdout"
        },
        {
          "output_type": "execute_result",
          "data": {
            "text/plain": [
              "dtype('float64')"
            ]
          },
          "metadata": {
            "tags": []
          },
          "execution_count": 10
        }
      ]
    },
    {
      "cell_type": "markdown",
      "metadata": {
        "id": "O1clAeTIcngl"
      },
      "source": [
        "**¡OJO!** En este ejemplo, los enteros se transfomaron en flotantes. Si intentamos transformar números decimales a enteros, la parte decimal se truncará."
      ]
    },
    {
      "cell_type": "code",
      "metadata": {
        "colab": {
          "base_uri": "https://localhost:8080/"
        },
        "id": "06E0qmblcYLC",
        "outputId": "a964de0c-cecd-4c72-eaa0-c41db3d21fe3"
      },
      "source": [
        "arr = np.array([2.3, -5.064, -3, 5, 24.98])\n",
        "print(\"Tipo del array:\", arr.dtype)\n",
        "print(\"Array de flotantes:\", arr)\n",
        "print(\"----------------------------------------------------------------\")\n",
        "arr = arr.astype(np.int32)\n",
        "print(\"Tipo del array transformado:\", arr.dtype)\n",
        "print(\"Array transformado a enteros:\", arr)"
      ],
      "execution_count": null,
      "outputs": [
        {
          "output_type": "stream",
          "text": [
            "Tipo del array: float64\n",
            "Array de flotantes: [ 2.3   -5.064 -3.     5.    24.98 ]\n",
            "----------------------------------------------------------------\n",
            "Tipo del array transformado: int32\n",
            "Array transformado a enteros: [ 2 -5 -3  5 24]\n"
          ],
          "name": "stdout"
        }
      ]
    },
    {
      "cell_type": "markdown",
      "metadata": {
        "id": "z_7kRbOMd_im"
      },
      "source": [
        "Si tenemos un array de strings que representan números, puedes transformarlos en números."
      ]
    },
    {
      "cell_type": "code",
      "metadata": {
        "colab": {
          "base_uri": "https://localhost:8080/"
        },
        "id": "a3kTeLYLdw9e",
        "outputId": "4a28c466-5a02-4700-c885-1c3c08b3e430"
      },
      "source": [
        "strings_numericos = np.array([\"125.3\", \"65\", \"24.01\", \"-6.2\"])\n",
        "print(\"Tipo del array:\", strings_numericos.dtype)\n",
        "print(\"Array de strings:\", strings_numericos)\n",
        "print(\"----------------------------------------------------------------\")\n",
        "flotantes = strings_numericos.astype(float)\n",
        "print(\"Tipo del array:\", flotantes.dtype)\n",
        "print(\"Array transformado de flotantes:\", flotantes)"
      ],
      "execution_count": null,
      "outputs": [
        {
          "output_type": "stream",
          "text": [
            "Tipo del array: <U5\n",
            "Array de strings: ['125.3' '65' '24.01' '-6.2']\n",
            "----------------------------------------------------------------\n",
            "Tipo del array: float64\n",
            "Array transformado de flotantes: [125.3   65.    24.01  -6.2 ]\n"
          ],
          "name": "stdout"
        }
      ]
    },
    {
      "cell_type": "markdown",
      "metadata": {
        "id": "Dn2y4871gK2m"
      },
      "source": [
        "También puedes usar otro atributo `dtype`:"
      ]
    },
    {
      "cell_type": "code",
      "metadata": {
        "colab": {
          "base_uri": "https://localhost:8080/"
        },
        "id": "DBG2nmdRevMv",
        "outputId": "23f98ad5-cd6d-4924-b34c-d57a2e57c9f1"
      },
      "source": [
        "int_array = np.arange(10)\n",
        "calibers = np.array([.22, .270, .357, .380, .44, .50], dtype=np.float64)\n",
        "int_array.astype(calibers.dtype)"
      ],
      "execution_count": null,
      "outputs": [
        {
          "output_type": "execute_result",
          "data": {
            "text/plain": [
              "array([0., 1., 2., 3., 4., 5., 6., 7., 8., 9.])"
            ]
          },
          "metadata": {
            "tags": []
          },
          "execution_count": 19
        }
      ]
    },
    {
      "cell_type": "markdown",
      "metadata": {
        "id": "lxYpqN0NhGZP"
      },
      "source": [
        "Hay cadenas de código de tipo abreviado que también puede utilizar para hacer referencia a un tipo:"
      ]
    },
    {
      "cell_type": "code",
      "metadata": {
        "colab": {
          "base_uri": "https://localhost:8080/"
        },
        "id": "xbPMxxJ5g-hU",
        "outputId": "3f893b5a-d624-4ac9-e2b2-186fc019dcc2"
      },
      "source": [
        "empty_uint32 = np.empty(8, dtype=\"u4\")\n",
        "empty_uint32"
      ],
      "execution_count": null,
      "outputs": [
        {
          "output_type": "execute_result",
          "data": {
            "text/plain": [
              "array([ 858993459, 1079989043,          0, 1079001088, 1546188227,\n",
              "       1077412495, 3435973837, 1075367116], dtype=uint32)"
            ]
          },
          "metadata": {
            "tags": []
          },
          "execution_count": 20
        }
      ]
    },
    {
      "cell_type": "markdown",
      "metadata": {
        "id": "IVFvdx3tikKN"
      },
      "source": [
        "Usar `astype` siempre crea un nuevo array (una copia de los datos), incluso si el tipo del nuevo array es del mismo tipo que el viejo."
      ]
    },
    {
      "cell_type": "markdown",
      "metadata": {
        "id": "ysfTf1XMi29t"
      },
      "source": [
        "## Aritmética con NumPy arrays"
      ]
    },
    {
      "cell_type": "markdown",
      "metadata": {
        "id": "bEhRjqwvjHOV"
      },
      "source": [
        "Los arrays son muy importantes porque te permiten las operaciones rápidas por lotes sin usar los loops. Los usuarios de NumPy llaman a esto *vectorización*. Cualquier operación aritmética entre arrays del **mismo tamaño** aplica la operación a cada elemento."
      ]
    },
    {
      "cell_type": "code",
      "metadata": {
        "colab": {
          "base_uri": "https://localhost:8080/"
        },
        "id": "dyHyKvouibbU",
        "outputId": "68500e26-8f1f-4831-822c-a7385fe68134"
      },
      "source": [
        "arr = np.array([[1., 2., 3.], [4., 5., 6.]])\n",
        "arr"
      ],
      "execution_count": null,
      "outputs": [
        {
          "output_type": "execute_result",
          "data": {
            "text/plain": [
              "array([[1., 2., 3.],\n",
              "       [4., 5., 6.]])"
            ]
          },
          "metadata": {
            "tags": []
          },
          "execution_count": 23
        }
      ]
    },
    {
      "cell_type": "code",
      "metadata": {
        "colab": {
          "base_uri": "https://localhost:8080/"
        },
        "id": "wf_H2dmIj9pW",
        "outputId": "7b7fd8fb-df91-4f72-a35e-2ac141d254f8"
      },
      "source": [
        "# Multiplicar el array por sí mismo:\n",
        "arr * arr"
      ],
      "execution_count": null,
      "outputs": [
        {
          "output_type": "execute_result",
          "data": {
            "text/plain": [
              "array([[ 1.,  4.,  9.],\n",
              "       [16., 25., 36.]])"
            ]
          },
          "metadata": {
            "tags": []
          },
          "execution_count": 24
        }
      ]
    },
    {
      "cell_type": "code",
      "metadata": {
        "colab": {
          "base_uri": "https://localhost:8080/"
        },
        "id": "hkUCqRhukK1U",
        "outputId": "772c0d89-ba9a-4095-e8fa-3ae60b1f4f13"
      },
      "source": [
        "# Restar el array a sí mismo:\n",
        "arr - arr"
      ],
      "execution_count": null,
      "outputs": [
        {
          "output_type": "execute_result",
          "data": {
            "text/plain": [
              "array([[0., 0., 0.],\n",
              "       [0., 0., 0.]])"
            ]
          },
          "metadata": {
            "tags": []
          },
          "execution_count": 25
        }
      ]
    },
    {
      "cell_type": "code",
      "metadata": {
        "colab": {
          "base_uri": "https://localhost:8080/"
        },
        "id": "PdSuEnZwkP_T",
        "outputId": "146603ca-ded0-4d5d-87a9-bd3407eaf76c"
      },
      "source": [
        "# Dividir un escalar (un número) entre el array:\n",
        "1 / arr"
      ],
      "execution_count": null,
      "outputs": [
        {
          "output_type": "execute_result",
          "data": {
            "text/plain": [
              "array([[1.        , 0.5       , 0.33333333],\n",
              "       [0.25      , 0.2       , 0.16666667]])"
            ]
          },
          "metadata": {
            "tags": []
          },
          "execution_count": 26
        }
      ]
    },
    {
      "cell_type": "code",
      "metadata": {
        "colab": {
          "base_uri": "https://localhost:8080/"
        },
        "id": "Yj4XZM59kac1",
        "outputId": "20afd22e-d6e4-402e-e664-aa1f011a9905"
      },
      "source": [
        "# Elevar el array a un escalar:\n",
        "arr ** 0.5"
      ],
      "execution_count": null,
      "outputs": [
        {
          "output_type": "execute_result",
          "data": {
            "text/plain": [
              "array([[1.        , 1.41421356, 1.73205081],\n",
              "       [2.        , 2.23606798, 2.44948974]])"
            ]
          },
          "metadata": {
            "tags": []
          },
          "execution_count": 27
        }
      ]
    },
    {
      "cell_type": "markdown",
      "metadata": {
        "id": "-ohCTlMoko6m"
      },
      "source": [
        "Comparar dos arrays del **mismo tamaño** nos retornará un booleano."
      ]
    },
    {
      "cell_type": "code",
      "metadata": {
        "colab": {
          "base_uri": "https://localhost:8080/"
        },
        "id": "iYZE1Wf3khkZ",
        "outputId": "4274d373-d17b-4ddc-93b2-7b2b4061786e"
      },
      "source": [
        "arr2 = np.array([[0., 4., 1.], [7., 2., 12.]])\n",
        "arr2"
      ],
      "execution_count": null,
      "outputs": [
        {
          "output_type": "execute_result",
          "data": {
            "text/plain": [
              "array([[ 0.,  4.,  1.],\n",
              "       [ 7.,  2., 12.]])"
            ]
          },
          "metadata": {
            "tags": []
          },
          "execution_count": 30
        }
      ]
    },
    {
      "cell_type": "code",
      "metadata": {
        "colab": {
          "base_uri": "https://localhost:8080/"
        },
        "id": "IvUA55x2k5A3",
        "outputId": "6e162dc4-74cd-47e5-c517-c9c6620f19c0"
      },
      "source": [
        "arr2 > arr"
      ],
      "execution_count": null,
      "outputs": [
        {
          "output_type": "execute_result",
          "data": {
            "text/plain": [
              "array([[False,  True, False],\n",
              "       [ True, False,  True]])"
            ]
          },
          "metadata": {
            "tags": []
          },
          "execution_count": 31
        }
      ]
    },
    {
      "cell_type": "markdown",
      "metadata": {
        "id": "W4C4rgpXlft-"
      },
      "source": [
        "## Indexing y Slicing básicos"
      ]
    },
    {
      "cell_type": "markdown",
      "metadata": {
        "id": "M7sMittrloTF"
      },
      "source": [
        "La indexación (indexing) de arrays en NumPy es un tema muy amplio. Hay muchas formas por las cuales tú puedes seleccionar un subconjunto de tus datos o elementos individuales.\n",
        "\n",
        "Los arrays de una sola dimensión, son simples; en el fondo actuan de forma parecida a las listas de Python"
      ]
    },
    {
      "cell_type": "code",
      "metadata": {
        "colab": {
          "base_uri": "https://localhost:8080/"
        },
        "id": "pIuA3XpflGAs",
        "outputId": "fbee729b-88a0-4494-e668-57f0c0900967"
      },
      "source": [
        "arr = np.arange(10)\n",
        "arr"
      ],
      "execution_count": null,
      "outputs": [
        {
          "output_type": "execute_result",
          "data": {
            "text/plain": [
              "array([0, 1, 2, 3, 4, 5, 6, 7, 8, 9])"
            ]
          },
          "metadata": {
            "tags": []
          },
          "execution_count": 33
        }
      ]
    },
    {
      "cell_type": "code",
      "metadata": {
        "colab": {
          "base_uri": "https://localhost:8080/"
        },
        "id": "RNUPUyhAmVDe",
        "outputId": "e565f588-3475-4dc9-aba9-f28b737a4989"
      },
      "source": [
        "arr[5]"
      ],
      "execution_count": null,
      "outputs": [
        {
          "output_type": "execute_result",
          "data": {
            "text/plain": [
              "5"
            ]
          },
          "metadata": {
            "tags": []
          },
          "execution_count": 34
        }
      ]
    },
    {
      "cell_type": "code",
      "metadata": {
        "colab": {
          "base_uri": "https://localhost:8080/"
        },
        "id": "RM268kLjmZCM",
        "outputId": "aa4454e8-ea59-43a5-9c28-820b9f072a43"
      },
      "source": [
        "arr[5:8]"
      ],
      "execution_count": null,
      "outputs": [
        {
          "output_type": "execute_result",
          "data": {
            "text/plain": [
              "array([5, 6, 7])"
            ]
          },
          "metadata": {
            "tags": []
          },
          "execution_count": 35
        }
      ]
    },
    {
      "cell_type": "code",
      "metadata": {
        "colab": {
          "base_uri": "https://localhost:8080/"
        },
        "id": "V19ViJHWmb2B",
        "outputId": "ca7d4c65-1e9b-4a35-eba9-07d78bafbdcd"
      },
      "source": [
        "arr[5:8] = 12\n",
        "arr"
      ],
      "execution_count": null,
      "outputs": [
        {
          "output_type": "execute_result",
          "data": {
            "text/plain": [
              "array([ 0,  1,  2,  3,  4, 12, 12, 12,  8,  9])"
            ]
          },
          "metadata": {
            "tags": []
          },
          "execution_count": 36
        }
      ]
    },
    {
      "cell_type": "markdown",
      "metadata": {
        "id": "_OBVib5umkLO"
      },
      "source": [
        "Como pudiste ver en el último ejemplo, si asignamos un escalar a una porción del array, el valor se propaga a toda la selección (**broadcasting**).\n",
        "\n",
        "Una cosa importante que diferencia a los arrays de las listas de Python, es que los fragmentos de arrays son *vistas* del array original. Esto significa que los datos no son copiados, y cualquier modificación de un array será reflejada en el original."
      ]
    },
    {
      "cell_type": "code",
      "metadata": {
        "colab": {
          "base_uri": "https://localhost:8080/"
        },
        "id": "G8-egUCamhHi",
        "outputId": "31cbf448-914b-429a-e1de-1164ab1c6fe4"
      },
      "source": [
        "# Ejemplo: Creamos un fragmento del array 'arr'\n",
        "arr_slice = arr[5:8]\n",
        "arr_slice"
      ],
      "execution_count": null,
      "outputs": [
        {
          "output_type": "execute_result",
          "data": {
            "text/plain": [
              "array([12, 12, 12])"
            ]
          },
          "metadata": {
            "tags": []
          },
          "execution_count": 37
        }
      ]
    },
    {
      "cell_type": "code",
      "metadata": {
        "colab": {
          "base_uri": "https://localhost:8080/"
        },
        "id": "R8G3bf_UoCZt",
        "outputId": "7d5a1627-f276-4d51-90ce-05fc7abcbd11"
      },
      "source": [
        "# Ahora cambiamos los valores de 'arr_slice'. La modificación será reflejada en el array original 'arr'\n",
        "arr_slice[1] = 12345\n",
        "arr"
      ],
      "execution_count": null,
      "outputs": [
        {
          "output_type": "execute_result",
          "data": {
            "text/plain": [
              "array([    0,     1,     2,     3,     4,    12, 12345,    12,     8,\n",
              "           9])"
            ]
          },
          "metadata": {
            "tags": []
          },
          "execution_count": 38
        }
      ]
    },
    {
      "cell_type": "markdown",
      "metadata": {
        "id": "ROr6E8WdohMv"
      },
      "source": [
        "**IMPORTANTE:** Si quieres haceer una copia de un fragmento de un *ndarray*, necesitas copiar explícitamente el array. Por ejemplo:\n",
        "\n",
        "    arr[5:8].copy()\n",
        "\n"
      ]
    },
    {
      "cell_type": "markdown",
      "metadata": {
        "id": "vlrGGm3mpIHm"
      },
      "source": [
        "Con arrays de más dimensiones, tiene muchas opciones:\n",
        "\n",
        "En arrays de **dos dimensiones**, los elementos en cada índice ya no son escalares sino arrays de una dimensión."
      ]
    },
    {
      "cell_type": "code",
      "metadata": {
        "colab": {
          "base_uri": "https://localhost:8080/"
        },
        "id": "4vGlWGBnp0F9",
        "outputId": "a98f63e9-a479-4f19-e048-79799d9598a0"
      },
      "source": [
        "arr2d = np.array([[1, 2, 3], [4, 5, 6], [7, 8, 9]])\n",
        "arr2d"
      ],
      "execution_count": null,
      "outputs": [
        {
          "output_type": "execute_result",
          "data": {
            "text/plain": [
              "array([[1, 2, 3],\n",
              "       [4, 5, 6],\n",
              "       [7, 8, 9]])"
            ]
          },
          "metadata": {
            "tags": []
          },
          "execution_count": 40
        }
      ]
    },
    {
      "cell_type": "code",
      "metadata": {
        "colab": {
          "base_uri": "https://localhost:8080/"
        },
        "id": "5Hb31OUMqBet",
        "outputId": "35b5a7f6-f91e-4497-d7d9-fb7a250e0687"
      },
      "source": [
        "arr2d[2]"
      ],
      "execution_count": null,
      "outputs": [
        {
          "output_type": "execute_result",
          "data": {
            "text/plain": [
              "array([7, 8, 9])"
            ]
          },
          "metadata": {
            "tags": []
          },
          "execution_count": 41
        }
      ]
    },
    {
      "cell_type": "markdown",
      "metadata": {
        "id": "0vwKkURjqKcJ"
      },
      "source": [
        "Por lo tanto, puedes acceder a los elementos individuales recursivamente. Pero esto es mucho trabajo, así que puedes pasarlos como una lista de índices separados por una coma para seleccionar elementos individuales.\n",
        "\n",
        "Los siguientes ejemplos son equivalentes:"
      ]
    },
    {
      "cell_type": "code",
      "metadata": {
        "colab": {
          "base_uri": "https://localhost:8080/"
        },
        "id": "Phux6lJyqFfV",
        "outputId": "a993d151-a9dc-478b-99f1-fe8cbb5e284c"
      },
      "source": [
        "arr2d[0][2]"
      ],
      "execution_count": null,
      "outputs": [
        {
          "output_type": "execute_result",
          "data": {
            "text/plain": [
              "3"
            ]
          },
          "metadata": {
            "tags": []
          },
          "execution_count": 42
        }
      ]
    },
    {
      "cell_type": "code",
      "metadata": {
        "colab": {
          "base_uri": "https://localhost:8080/"
        },
        "id": "3VIdehtFquqb",
        "outputId": "26ebea38-b30d-4941-c80a-18de07803d05"
      },
      "source": [
        "arr2d[0, 2]"
      ],
      "execution_count": null,
      "outputs": [
        {
          "output_type": "execute_result",
          "data": {
            "text/plain": [
              "3"
            ]
          },
          "metadata": {
            "tags": []
          },
          "execution_count": 43
        }
      ]
    },
    {
      "cell_type": "markdown",
      "metadata": {
        "id": "PJiGwb3Mrl6d"
      },
      "source": [
        "En la siguiente imagen podrás ver cómo serían los índices de un array de 2 dimensiones:\n",
        "\n",
        "![Índices de 2D array](https://learning.oreilly.com/library/view/python-for-data/9781449323592/httpatomoreillycomsourceoreillyimages2172112.png \"Elementos indexados en un array de 2D\")"
      ]
    },
    {
      "cell_type": "markdown",
      "metadata": {
        "id": "6FG3ei_dsFS2"
      },
      "source": [
        "En arrays multidimensionales, si omites índices posteriores, el objeto retornado será un array de menos dimensiones con todos los datos a lo largo del array de más dimensiones.\n",
        "Por ejemplo, en un array de 2 x 2 x 2 `arr3d`:"
      ]
    },
    {
      "cell_type": "code",
      "metadata": {
        "colab": {
          "base_uri": "https://localhost:8080/"
        },
        "id": "W1kU5gxNqxcw",
        "outputId": "2a43fbe6-bee1-4704-e174-f64dce0d82bf"
      },
      "source": [
        "arr3d = np.array([[[1, 2, 3],[4, 5, 6]], [[7, 8, 9], [10, 11, 12]]])\n",
        "arr3d"
      ],
      "execution_count": null,
      "outputs": [
        {
          "output_type": "execute_result",
          "data": {
            "text/plain": [
              "array([[[ 1,  2,  3],\n",
              "        [ 4,  5,  6]],\n",
              "\n",
              "       [[ 7,  8,  9],\n",
              "        [10, 11, 12]]])"
            ]
          },
          "metadata": {
            "tags": []
          },
          "execution_count": 60
        }
      ]
    },
    {
      "cell_type": "code",
      "metadata": {
        "colab": {
          "base_uri": "https://localhost:8080/"
        },
        "id": "cZIPcVrDtp4J",
        "outputId": "5cd07835-c1a0-468a-8710-01c4f930aa8e"
      },
      "source": [
        "arr3d[0] # Es un array de 2 x 3 (2D)"
      ],
      "execution_count": null,
      "outputs": [
        {
          "output_type": "execute_result",
          "data": {
            "text/plain": [
              "array([[1, 2, 3],\n",
              "       [4, 5, 6]])"
            ]
          },
          "metadata": {
            "tags": []
          },
          "execution_count": 61
        }
      ]
    },
    {
      "cell_type": "code",
      "metadata": {
        "id": "jU3PKNnRtyLI"
      },
      "source": [
        "# Tanto los escalares como los arrays pueden ser asignados a 'arr3d[0]'\n",
        "old_values = arr3d[0].copy()"
      ],
      "execution_count": null,
      "outputs": []
    },
    {
      "cell_type": "code",
      "metadata": {
        "colab": {
          "base_uri": "https://localhost:8080/"
        },
        "id": "lK1VYtgdvKQF",
        "outputId": "f7cf9c50-ee7e-4e8f-f0f5-609dfd690ff5"
      },
      "source": [
        "arr3d[0] = 42\n",
        "arr3d"
      ],
      "execution_count": null,
      "outputs": [
        {
          "output_type": "execute_result",
          "data": {
            "text/plain": [
              "array([[[42, 42, 42],\n",
              "        [42, 42, 42]],\n",
              "\n",
              "       [[ 7,  8,  9],\n",
              "        [10, 11, 12]]])"
            ]
          },
          "metadata": {
            "tags": []
          },
          "execution_count": 63
        }
      ]
    },
    {
      "cell_type": "code",
      "metadata": {
        "colab": {
          "base_uri": "https://localhost:8080/"
        },
        "id": "j3PHcoI0ubb-",
        "outputId": "5d6a96fb-b414-4ccb-8d78-b8f343ea87af"
      },
      "source": [
        "arr3d[0] = old_values\n",
        "arr3d"
      ],
      "execution_count": null,
      "outputs": [
        {
          "output_type": "execute_result",
          "data": {
            "text/plain": [
              "array([[[ 1,  2,  3],\n",
              "        [ 4,  5,  6]],\n",
              "\n",
              "       [[ 7,  8,  9],\n",
              "        [10, 11, 12]]])"
            ]
          },
          "metadata": {
            "tags": []
          },
          "execution_count": 64
        }
      ]
    },
    {
      "cell_type": "markdown",
      "metadata": {
        "id": "tBDNtYGqvqM-"
      },
      "source": [
        "De forma similar, `arr3d[1, 0]` te dará todos los valores cuyos índices empiecen por `(1, 0)`, formando un array de 1 dimensión."
      ]
    },
    {
      "cell_type": "code",
      "metadata": {
        "colab": {
          "base_uri": "https://localhost:8080/"
        },
        "id": "w0nfC0yburuN",
        "outputId": "dbf24624-92cd-4aaa-d16e-78adf926f1f9"
      },
      "source": [
        "arr3d[1, 0]"
      ],
      "execution_count": null,
      "outputs": [
        {
          "output_type": "execute_result",
          "data": {
            "text/plain": [
              "array([7, 8, 9])"
            ]
          },
          "metadata": {
            "tags": []
          },
          "execution_count": 65
        }
      ]
    },
    {
      "cell_type": "code",
      "metadata": {
        "colab": {
          "base_uri": "https://localhost:8080/"
        },
        "id": "cEaR85RpwDI3",
        "outputId": "b584ecde-526d-436b-9c73-159f8ae3686b"
      },
      "source": [
        "arr3d[1][0] # Es lo mismo que el anterior."
      ],
      "execution_count": null,
      "outputs": [
        {
          "output_type": "execute_result",
          "data": {
            "text/plain": [
              "array([7, 8, 9])"
            ]
          },
          "metadata": {
            "tags": []
          },
          "execution_count": 66
        }
      ]
    },
    {
      "cell_type": "markdown",
      "metadata": {
        "id": "K2eJS3vYwU3O"
      },
      "source": [
        "### Indexando con slices"
      ]
    },
    {
      "cell_type": "markdown",
      "metadata": {
        "id": "1rD00NITwZqf"
      },
      "source": [
        "Como los arrays de una dimensión son objetos como las listas de Python, ndarrays pueden ser troceados con una sintaxis similar."
      ]
    },
    {
      "cell_type": "code",
      "metadata": {
        "colab": {
          "base_uri": "https://localhost:8080/"
        },
        "id": "f-GKTte7wKQ6",
        "outputId": "05569337-cb1f-4055-e7b7-d485caa2031a"
      },
      "source": [
        "arr"
      ],
      "execution_count": null,
      "outputs": [
        {
          "output_type": "execute_result",
          "data": {
            "text/plain": [
              "array([    0,     1,     2,     3,     4,    12, 12345,    12,     8,\n",
              "           9])"
            ]
          },
          "metadata": {
            "tags": []
          },
          "execution_count": 67
        }
      ]
    },
    {
      "cell_type": "code",
      "metadata": {
        "colab": {
          "base_uri": "https://localhost:8080/"
        },
        "id": "IYky9uRjwspk",
        "outputId": "e31fd308-42e1-49e1-f81c-90d85f71198d"
      },
      "source": [
        "arr[1:6] # Recuerda que el primero es incluído y el segundo sin incluir."
      ],
      "execution_count": null,
      "outputs": [
        {
          "output_type": "execute_result",
          "data": {
            "text/plain": [
              "array([ 1,  2,  3,  4, 12])"
            ]
          },
          "metadata": {
            "tags": []
          },
          "execution_count": 68
        }
      ]
    },
    {
      "cell_type": "markdown",
      "metadata": {
        "id": "lWXhVofLw4-X"
      },
      "source": [
        "Considera el array de 2 dimensiones anterior `arr2d`. Trocear este array es un poco diferente:"
      ]
    },
    {
      "cell_type": "code",
      "metadata": {
        "colab": {
          "base_uri": "https://localhost:8080/"
        },
        "id": "i9iCcIeIw0wE",
        "outputId": "e2de551a-4168-463e-91b0-2cd5f36935e4"
      },
      "source": [
        "arr2d"
      ],
      "execution_count": null,
      "outputs": [
        {
          "output_type": "execute_result",
          "data": {
            "text/plain": [
              "array([[1, 2, 3],\n",
              "       [4, 5, 6],\n",
              "       [7, 8, 9]])"
            ]
          },
          "metadata": {
            "tags": []
          },
          "execution_count": 69
        }
      ]
    },
    {
      "cell_type": "code",
      "metadata": {
        "colab": {
          "base_uri": "https://localhost:8080/"
        },
        "id": "V_Ocd0dGxMNJ",
        "outputId": "33e68efd-ad16-4c03-824f-ba0fe2b37ae0"
      },
      "source": [
        "arr2d[:2]"
      ],
      "execution_count": null,
      "outputs": [
        {
          "output_type": "execute_result",
          "data": {
            "text/plain": [
              "array([[1, 2, 3],\n",
              "       [4, 5, 6]])"
            ]
          },
          "metadata": {
            "tags": []
          },
          "execution_count": 70
        }
      ]
    },
    {
      "cell_type": "markdown",
      "metadata": {
        "id": "sJcSBkxoxT5u"
      },
      "source": [
        "Como pudiste ver, ha sido troceado el eje 1 a lo largo del eje 0. Por tanto, un *slice* selecciona un rango de elementos através de un eje.\n",
        "\n",
        "Puedes hacer múltiples *slices* simplemente pasándole múltiples índices:"
      ]
    },
    {
      "cell_type": "code",
      "metadata": {
        "colab": {
          "base_uri": "https://localhost:8080/"
        },
        "id": "LWfrwCX_xQAJ",
        "outputId": "67a4c0ce-ac88-48a0-ea52-90c66276418e"
      },
      "source": [
        "arr2d[:2, 1:]"
      ],
      "execution_count": null,
      "outputs": [
        {
          "output_type": "execute_result",
          "data": {
            "text/plain": [
              "array([[2, 3],\n",
              "       [5, 6]])"
            ]
          },
          "metadata": {
            "tags": []
          },
          "execution_count": 71
        }
      ]
    },
    {
      "cell_type": "code",
      "metadata": {
        "colab": {
          "base_uri": "https://localhost:8080/"
        },
        "id": "80TW72UMyQXs",
        "outputId": "42d33bb6-07b7-4337-febe-49e59d1e185b"
      },
      "source": [
        "arr2d[1, :2]"
      ],
      "execution_count": null,
      "outputs": [
        {
          "output_type": "execute_result",
          "data": {
            "text/plain": [
              "array([4, 5])"
            ]
          },
          "metadata": {
            "tags": []
          },
          "execution_count": 72
        }
      ]
    },
    {
      "cell_type": "code",
      "metadata": {
        "colab": {
          "base_uri": "https://localhost:8080/"
        },
        "id": "DK1u-Cofylzu",
        "outputId": "e6844821-ca4c-4787-e665-0c4af66c2324"
      },
      "source": [
        "arr2d[:2, 2]"
      ],
      "execution_count": null,
      "outputs": [
        {
          "output_type": "execute_result",
          "data": {
            "text/plain": [
              "array([3, 6])"
            ]
          },
          "metadata": {
            "tags": []
          },
          "execution_count": 73
        }
      ]
    },
    {
      "cell_type": "code",
      "metadata": {
        "colab": {
          "base_uri": "https://localhost:8080/"
        },
        "id": "z0SmcBoEyqWN",
        "outputId": "185fa963-e7e3-4179-a003-5a57930f77e6"
      },
      "source": [
        "arr2d[:, :1]"
      ],
      "execution_count": null,
      "outputs": [
        {
          "output_type": "execute_result",
          "data": {
            "text/plain": [
              "array([[1],\n",
              "       [4],\n",
              "       [7]])"
            ]
          },
          "metadata": {
            "tags": []
          },
          "execution_count": 74
        }
      ]
    },
    {
      "cell_type": "code",
      "metadata": {
        "colab": {
          "base_uri": "https://localhost:8080/"
        },
        "id": "wSgVEAIDyxhH",
        "outputId": "6692ef6a-19fa-4837-e217-a53345053387"
      },
      "source": [
        "arr2d[:2, 1:] = 0 # Por supuesto también puedes hacer asignaciones.\n",
        "arr2d"
      ],
      "execution_count": null,
      "outputs": [
        {
          "output_type": "execute_result",
          "data": {
            "text/plain": [
              "array([[1, 0, 0],\n",
              "       [4, 0, 0],\n",
              "       [7, 8, 9]])"
            ]
          },
          "metadata": {
            "tags": []
          },
          "execution_count": 75
        }
      ]
    },
    {
      "cell_type": "markdown",
      "metadata": {
        "id": "QZbSCNWUzOQ1"
      },
      "source": [
        "![Slicing 2d](https://learning.oreilly.com/library/view/python-for-data/9781449323592/httpatomoreillycomsourceoreillyimages2172114.png \"Slicing en un array de 2 dimensiones\")"
      ]
    },
    {
      "cell_type": "markdown",
      "metadata": {
        "id": "XHFYcWmOzpTo"
      },
      "source": [
        "### Indexación booleana"
      ]
    },
    {
      "cell_type": "markdown",
      "metadata": {
        "id": "1Kg_isTzzset"
      },
      "source": [
        "Considera un ejemplo donde tenemos algunos datos en un array y un array de nombres con duplicados. Voy a usar la función `randn` en `numpy.random` para generar algunos datos aleatorios."
      ]
    },
    {
      "cell_type": "code",
      "metadata": {
        "id": "RY_yXWBSy9kp"
      },
      "source": [
        "names = np.array([\"Nacho\", \"Nacho\", \"Kevin\", \"Bryan\", \"Nacho\", \"Kevin\", \"Bryan\"])\n",
        "data = np.random.randn(7, 4)"
      ],
      "execution_count": null,
      "outputs": []
    },
    {
      "cell_type": "code",
      "metadata": {
        "colab": {
          "base_uri": "https://localhost:8080/"
        },
        "id": "KzdyzWzU6i0t",
        "outputId": "f7fb2f09-1cb5-44e9-baf5-515b3c311875"
      },
      "source": [
        "names"
      ],
      "execution_count": null,
      "outputs": [
        {
          "output_type": "execute_result",
          "data": {
            "text/plain": [
              "array(['Nacho', 'Nacho', 'Kevin', 'Bryan', 'Nacho', 'Kevin', 'Bryan'],\n",
              "      dtype='<U5')"
            ]
          },
          "metadata": {
            "tags": []
          },
          "execution_count": 81
        }
      ]
    },
    {
      "cell_type": "code",
      "metadata": {
        "colab": {
          "base_uri": "https://localhost:8080/"
        },
        "id": "cAz12asg6jy7",
        "outputId": "2a41e9aa-c05c-4f40-f094-57fbb5d081a1"
      },
      "source": [
        "data"
      ],
      "execution_count": null,
      "outputs": [
        {
          "output_type": "execute_result",
          "data": {
            "text/plain": [
              "array([[ 0.71650333,  0.46845459, -1.10104683, -0.23260085],\n",
              "       [-1.37694778,  1.10981284, -0.73324469,  0.21973853],\n",
              "       [ 0.16599861,  0.2065221 ,  1.46391646, -2.07402039],\n",
              "       [-0.81922203,  2.05187706,  1.34205509,  0.34808761],\n",
              "       [-0.92085324, -0.27749465,  0.36121495,  0.60753307],\n",
              "       [ 0.50322762,  1.18807861, -0.98394141, -0.31459248],\n",
              "       [ 0.52991442,  1.57071226,  0.17050364,  1.1393948 ]])"
            ]
          },
          "metadata": {
            "tags": []
          },
          "execution_count": 82
        }
      ]
    },
    {
      "cell_type": "markdown",
      "metadata": {
        "id": "0nXOdPz76qmg"
      },
      "source": [
        "Ahora supón que cada nombre corresponde a una fila del array `data` y queremos seleccionar todas las filas que correspondan con el nombre `\"Nacho\"`. Igual que con las operaciones aritméticas, los comparadores (como `==`) en los arrays también son vectorizados. Por tanto, comparar `names` con el string `\"Nacho\"` produce un array de booleanos. "
      ]
    },
    {
      "cell_type": "code",
      "metadata": {
        "colab": {
          "base_uri": "https://localhost:8080/"
        },
        "id": "4WnvOHoL6kzd",
        "outputId": "08247a25-7b90-4a88-f9da-a5e77dbf0806"
      },
      "source": [
        "names == \"Nacho\""
      ],
      "execution_count": null,
      "outputs": [
        {
          "output_type": "execute_result",
          "data": {
            "text/plain": [
              "array([ True,  True, False, False,  True, False, False])"
            ]
          },
          "metadata": {
            "tags": []
          },
          "execution_count": 83
        }
      ]
    },
    {
      "cell_type": "markdown",
      "metadata": {
        "id": "YilSNDbW719o"
      },
      "source": [
        "Este array de boleanos puede ser pasado cuando indexamos el array:"
      ]
    },
    {
      "cell_type": "code",
      "metadata": {
        "colab": {
          "base_uri": "https://localhost:8080/"
        },
        "id": "VPkalRxz7wzw",
        "outputId": "6afce5c1-09d7-4af8-f348-849f51b115ab"
      },
      "source": [
        "data[names == \"Nacho\"]"
      ],
      "execution_count": null,
      "outputs": [
        {
          "output_type": "execute_result",
          "data": {
            "text/plain": [
              "array([[ 0.71650333,  0.46845459, -1.10104683, -0.23260085],\n",
              "       [-1.37694778,  1.10981284, -0.73324469,  0.21973853],\n",
              "       [-0.92085324, -0.27749465,  0.36121495,  0.60753307]])"
            ]
          },
          "metadata": {
            "tags": []
          },
          "execution_count": 84
        }
      ]
    },
    {
      "cell_type": "markdown",
      "metadata": {
        "id": "kjD5a9V58Vfo"
      },
      "source": [
        "Observa que tenemos el array de booleanos:\n",
        "\n",
        "    array([ True,  True, False, False,  True, False, False])\n",
        "\n",
        "Y tenemos el array `data`:\n",
        "\n",
        "    array([[ 0.71650333,  0.46845459, -1.10104683, -0.23260085],\n",
        "       [-1.37694778,  1.10981284, -0.73324469,  0.21973853],\n",
        "       [ 0.16599861,  0.2065221 ,  1.46391646, -2.07402039],\n",
        "       [-0.81922203,  2.05187706,  1.34205509,  0.34808761],\n",
        "       [-0.92085324, -0.27749465,  0.36121495,  0.60753307],\n",
        "       [ 0.50322762,  1.18807861, -0.98394141, -0.31459248],\n",
        "       [ 0.52991442,  1.57071226,  0.17050364,  1.1393948 ]])\n",
        "\n",
        "Hará una comparación:\n",
        "\n",
        "    array([[ 0.71650333,  0.46845459, -1.10104683, -0.23260085],-----> True\n",
        "       [-1.37694778,  1.10981284, -0.73324469,  0.21973853],---------> True\n",
        "       [ 0.16599861,  0.2065221 ,  1.46391646, -2.07402039],---------> False\n",
        "       [-0.81922203,  2.05187706,  1.34205509,  0.34808761],---------> False\n",
        "       [-0.92085324, -0.27749465,  0.36121495,  0.60753307],---------> True\n",
        "       [ 0.50322762,  1.18807861, -0.98394141, -0.31459248],---------> False\n",
        "       [ 0.52991442,  1.57071226,  0.17050364,  1.1393948 ]])--------> False\n",
        "\n",
        "Obteniendo un array basado en `data` que solo muestra los vectores que han sido asignados a `True` en el mismo orden:\n",
        "\n",
        "    array([[ 0.71650333,  0.46845459, -1.10104683, -0.23260085],\n",
        "       [-1.37694778,  1.10981284, -0.73324469,  0.21973853],\n",
        "       [-0.92085324, -0.27749465,  0.36121495,  0.60753307]])"
      ]
    },
    {
      "cell_type": "markdown",
      "metadata": {
        "id": "jzWnG8Pi9ut3"
      },
      "source": [
        "**NOTA:** La selección fallará si el array booleano no tiene la longitud adecuada. Así que hay que tener cuidado al usar esta característica."
      ]
    },
    {
      "cell_type": "markdown",
      "metadata": {
        "id": "phHPri8T-qmg"
      },
      "source": [
        "En los siguientes ejemplos, selecciono de las filas dónde `names == \"Nacho\"` e indexo las columnas también.\n",
        "\n",
        "*Tip:* Para seleccionar todo menos \"Nacho\", también puedes usar `!=` o negar la condición usando `~`."
      ]
    },
    {
      "cell_type": "code",
      "metadata": {
        "id": "l5Fvorqb-KT6"
      },
      "source": [
        "names = np.array([\"Nacho\", \"Nacho\", \"Kevin\", \"Bryan\", \"Nacho\", \"Kevin\", \"Bryan\"])\n",
        "data = np.random.randn(7, 4)"
      ],
      "execution_count": null,
      "outputs": []
    },
    {
      "cell_type": "code",
      "metadata": {
        "colab": {
          "base_uri": "https://localhost:8080/"
        },
        "id": "X2sBQ_zg_2jb",
        "outputId": "5fc5cbbc-2149-43cf-d0fc-b6e1d252f117"
      },
      "source": [
        "names"
      ],
      "execution_count": null,
      "outputs": [
        {
          "output_type": "execute_result",
          "data": {
            "text/plain": [
              "array(['Nacho', 'Nacho', 'Kevin', 'Bryan', 'Nacho', 'Kevin', 'Bryan'],\n",
              "      dtype='<U5')"
            ]
          },
          "metadata": {
            "tags": []
          },
          "execution_count": 88
        }
      ]
    },
    {
      "cell_type": "code",
      "metadata": {
        "colab": {
          "base_uri": "https://localhost:8080/"
        },
        "id": "xBY8ROQJ_3b3",
        "outputId": "6c7720f9-f667-4905-f115-79f1f71889ac"
      },
      "source": [
        "data"
      ],
      "execution_count": null,
      "outputs": [
        {
          "output_type": "execute_result",
          "data": {
            "text/plain": [
              "array([[-0.52144107,  0.03839004,  0.93997221, -0.56854462],\n",
              "       [-0.52021028, -1.52999176,  0.52821054, -1.27504609],\n",
              "       [-1.65758782, -1.2191264 ,  0.8282055 , -0.40801131],\n",
              "       [-0.49982936, -1.16045709, -0.52878842,  0.3980774 ],\n",
              "       [ 0.12918474,  0.1548132 ,  0.8039169 , -0.21740577],\n",
              "       [-1.8057066 ,  1.50876817,  0.86583449, -1.59926366],\n",
              "       [ 0.41722497, -0.01515078, -0.39101323, -1.04856882]])"
            ]
          },
          "metadata": {
            "tags": []
          },
          "execution_count": 89
        }
      ]
    },
    {
      "cell_type": "code",
      "metadata": {
        "colab": {
          "base_uri": "https://localhost:8080/"
        },
        "id": "OZn0vVKrAQs4",
        "outputId": "24c4efe2-d15b-4a0c-9104-4e279f8b99fd"
      },
      "source": [
        "names == \"Nacho\""
      ],
      "execution_count": null,
      "outputs": [
        {
          "output_type": "execute_result",
          "data": {
            "text/plain": [
              "array([ True,  True, False, False,  True, False, False])"
            ]
          },
          "metadata": {
            "tags": []
          },
          "execution_count": 95
        }
      ]
    },
    {
      "cell_type": "code",
      "metadata": {
        "colab": {
          "base_uri": "https://localhost:8080/"
        },
        "id": "vSyuvZheAJyB",
        "outputId": "71290b7c-b380-4707-e378-b3a905f1b5f8"
      },
      "source": [
        "data[names == \"Nacho\"]"
      ],
      "execution_count": null,
      "outputs": [
        {
          "output_type": "execute_result",
          "data": {
            "text/plain": [
              "array([[-0.52144107,  0.03839004,  0.93997221, -0.56854462],\n",
              "       [-0.52021028, -1.52999176,  0.52821054, -1.27504609],\n",
              "       [ 0.12918474,  0.1548132 ,  0.8039169 , -0.21740577]])"
            ]
          },
          "metadata": {
            "tags": []
          },
          "execution_count": 94
        }
      ]
    },
    {
      "cell_type": "code",
      "metadata": {
        "colab": {
          "base_uri": "https://localhost:8080/"
        },
        "id": "4FiDxd-j_4cV",
        "outputId": "88e31469-d342-46fa-8764-19906b424c8a"
      },
      "source": [
        "data[names == \"Nacho\", 2:]"
      ],
      "execution_count": null,
      "outputs": [
        {
          "output_type": "execute_result",
          "data": {
            "text/plain": [
              "array([[ 0.93997221, -0.56854462],\n",
              "       [ 0.52821054, -1.27504609],\n",
              "       [ 0.8039169 , -0.21740577]])"
            ]
          },
          "metadata": {
            "tags": []
          },
          "execution_count": 90
        }
      ]
    },
    {
      "cell_type": "code",
      "metadata": {
        "colab": {
          "base_uri": "https://localhost:8080/"
        },
        "id": "xB09wdCT__Rl",
        "outputId": "c5b183f3-d58b-4fa4-d152-c8c4437329a3"
      },
      "source": [
        "data[names == \"Nacho\", 3]"
      ],
      "execution_count": null,
      "outputs": [
        {
          "output_type": "execute_result",
          "data": {
            "text/plain": [
              "array([-0.56854462, -1.27504609, -0.21740577])"
            ]
          },
          "metadata": {
            "tags": []
          },
          "execution_count": 91
        }
      ]
    },
    {
      "cell_type": "code",
      "metadata": {
        "colab": {
          "base_uri": "https://localhost:8080/"
        },
        "id": "bS0m-YrjAFAv",
        "outputId": "dc1c43c0-197b-47a2-8477-20ee47578906"
      },
      "source": [
        "names != \"Nacho\""
      ],
      "execution_count": null,
      "outputs": [
        {
          "output_type": "execute_result",
          "data": {
            "text/plain": [
              "array([False, False,  True,  True, False,  True,  True])"
            ]
          },
          "metadata": {
            "tags": []
          },
          "execution_count": 96
        }
      ]
    },
    {
      "cell_type": "code",
      "metadata": {
        "colab": {
          "base_uri": "https://localhost:8080/"
        },
        "id": "msKDKRbGA4hQ",
        "outputId": "8994e870-d489-47ad-eca0-c218d6ac0eea"
      },
      "source": [
        "data[~(names == \"Nacho\")]"
      ],
      "execution_count": null,
      "outputs": [
        {
          "output_type": "execute_result",
          "data": {
            "text/plain": [
              "array([[-1.65758782, -1.2191264 ,  0.8282055 , -0.40801131],\n",
              "       [-0.49982936, -1.16045709, -0.52878842,  0.3980774 ],\n",
              "       [-1.8057066 ,  1.50876817,  0.86583449, -1.59926366],\n",
              "       [ 0.41722497, -0.01515078, -0.39101323, -1.04856882]])"
            ]
          },
          "metadata": {
            "tags": []
          },
          "execution_count": 97
        }
      ]
    },
    {
      "cell_type": "code",
      "metadata": {
        "id": "i9QQECw5BBIF"
      },
      "source": [
        "condicion = names == \"Nacho\""
      ],
      "execution_count": null,
      "outputs": []
    },
    {
      "cell_type": "code",
      "metadata": {
        "colab": {
          "base_uri": "https://localhost:8080/"
        },
        "id": "LlUZCk77BPJJ",
        "outputId": "daff48a3-02d8-417a-c80a-888fefbd6c4f"
      },
      "source": [
        "data[~condicion]"
      ],
      "execution_count": null,
      "outputs": [
        {
          "output_type": "execute_result",
          "data": {
            "text/plain": [
              "array([[-1.65758782, -1.2191264 ,  0.8282055 , -0.40801131],\n",
              "       [-0.49982936, -1.16045709, -0.52878842,  0.3980774 ],\n",
              "       [-1.8057066 ,  1.50876817,  0.86583449, -1.59926366],\n",
              "       [ 0.41722497, -0.01515078, -0.39101323, -1.04856882]])"
            ]
          },
          "metadata": {
            "tags": []
          },
          "execution_count": 100
        }
      ]
    },
    {
      "cell_type": "code",
      "metadata": {
        "colab": {
          "base_uri": "https://localhost:8080/"
        },
        "id": "h6kXnGJhBSEp",
        "outputId": "0a7d02ec-fd5f-42d3-966d-5b4e3fb83544"
      },
      "source": [
        "mask = (names == \"Nacho\") | (names == \"Bryan\") # '|' añade una condición 'or'\n",
        "mask"
      ],
      "execution_count": null,
      "outputs": [
        {
          "output_type": "execute_result",
          "data": {
            "text/plain": [
              "array([ True,  True, False,  True,  True, False,  True])"
            ]
          },
          "metadata": {
            "tags": []
          },
          "execution_count": 101
        }
      ]
    },
    {
      "cell_type": "code",
      "metadata": {
        "colab": {
          "base_uri": "https://localhost:8080/"
        },
        "id": "AuOTY1suBiFH",
        "outputId": "a8dbaf64-07db-4a9b-8d01-4be4e43868c4"
      },
      "source": [
        "data[mask]"
      ],
      "execution_count": null,
      "outputs": [
        {
          "output_type": "execute_result",
          "data": {
            "text/plain": [
              "array([[-0.52144107,  0.03839004,  0.93997221, -0.56854462],\n",
              "       [-0.52021028, -1.52999176,  0.52821054, -1.27504609],\n",
              "       [-0.49982936, -1.16045709, -0.52878842,  0.3980774 ],\n",
              "       [ 0.12918474,  0.1548132 ,  0.8039169 , -0.21740577],\n",
              "       [ 0.41722497, -0.01515078, -0.39101323, -1.04856882]])"
            ]
          },
          "metadata": {
            "tags": []
          },
          "execution_count": 102
        }
      ]
    },
    {
      "cell_type": "markdown",
      "metadata": {
        "id": "AZHKxNv0B80B"
      },
      "source": [
        "**IMPORTANTE:** Las palabras clave `and` y `or` de Python no funcionan con arrays booleanos. Usamos `&` (en vez del `and`) y `|` (en vez del `or`)."
      ]
    },
    {
      "cell_type": "markdown",
      "metadata": {
        "id": "pog5yD9aCoPD"
      },
      "source": [
        "**Ejemplo**\n",
        "\n",
        "Para establecer valores en arrays booleanos usamos el sentido común. Por ejemplo, para transformar todos los valores negativos de `data` a '0' solo necesitamos:\n"
      ]
    },
    {
      "cell_type": "code",
      "metadata": {
        "colab": {
          "base_uri": "https://localhost:8080/"
        },
        "id": "_j0qx8UbBzFD",
        "outputId": "2b87352f-6d28-4303-f750-c5be58a0b489"
      },
      "source": [
        "data[data < 0] = 0\n",
        "data"
      ],
      "execution_count": null,
      "outputs": [
        {
          "output_type": "execute_result",
          "data": {
            "text/plain": [
              "array([[0.        , 0.03839004, 0.93997221, 0.        ],\n",
              "       [0.        , 0.        , 0.52821054, 0.        ],\n",
              "       [0.        , 0.        , 0.8282055 , 0.        ],\n",
              "       [0.        , 0.        , 0.        , 0.3980774 ],\n",
              "       [0.12918474, 0.1548132 , 0.8039169 , 0.        ],\n",
              "       [0.        , 1.50876817, 0.86583449, 0.        ],\n",
              "       [0.41722497, 0.        , 0.        , 0.        ]])"
            ]
          },
          "metadata": {
            "tags": []
          },
          "execution_count": 103
        }
      ]
    },
    {
      "cell_type": "markdown",
      "metadata": {
        "id": "3gCSSjwbDOXI"
      },
      "source": [
        "Ajustar todas las filas o columnas usando un array booleano de una dimensión también es fácil:"
      ]
    },
    {
      "cell_type": "code",
      "metadata": {
        "colab": {
          "base_uri": "https://localhost:8080/"
        },
        "id": "Frsu7Kt6DJaq",
        "outputId": "dc8d4489-9be2-4192-d810-511319893f7c"
      },
      "source": [
        "data[names != \"Bryan\"] = 7\n",
        "data"
      ],
      "execution_count": null,
      "outputs": [
        {
          "output_type": "execute_result",
          "data": {
            "text/plain": [
              "array([[7.        , 7.        , 7.        , 7.        ],\n",
              "       [7.        , 7.        , 7.        , 7.        ],\n",
              "       [7.        , 7.        , 7.        , 7.        ],\n",
              "       [0.        , 0.        , 0.        , 0.3980774 ],\n",
              "       [7.        , 7.        , 7.        , 7.        ],\n",
              "       [7.        , 7.        , 7.        , 7.        ],\n",
              "       [0.41722497, 0.        , 0.        , 0.        ]])"
            ]
          },
          "metadata": {
            "tags": []
          },
          "execution_count": 104
        }
      ]
    },
    {
      "cell_type": "markdown",
      "metadata": {
        "id": "DrJo_R1PDqh3"
      },
      "source": [
        "**NOTA:**\n",
        "\n",
        "Más adelante veremos que hacer este tipo de operaciones en datos de dos dimensiones es más conveniente hacerlas con **Pandas**."
      ]
    },
    {
      "cell_type": "markdown",
      "metadata": {
        "id": "waV66jbTD7t_"
      },
      "source": [
        "### Indexación elegante (fancy indexing)"
      ]
    },
    {
      "cell_type": "markdown",
      "metadata": {
        "id": "9rYfig3_ET0K"
      },
      "source": [
        "*Fancy indexing* es un término adoptado por NumPy para describir el indexado usando arrays de enteros.\n",
        "\n",
        "Supón que tenemos una matriz de 8 x 4:"
      ]
    },
    {
      "cell_type": "code",
      "metadata": {
        "colab": {
          "base_uri": "https://localhost:8080/"
        },
        "id": "j105--8oDm91",
        "outputId": "6fdc65e1-2737-42ca-9b94-fb851518c5ee"
      },
      "source": [
        "arr = np.empty((8, 4))\n",
        "for i in range(8):\n",
        "    arr[i] = i\n",
        "\n",
        "arr"
      ],
      "execution_count": null,
      "outputs": [
        {
          "output_type": "execute_result",
          "data": {
            "text/plain": [
              "array([[0., 0., 0., 0.],\n",
              "       [1., 1., 1., 1.],\n",
              "       [2., 2., 2., 2.],\n",
              "       [3., 3., 3., 3.],\n",
              "       [4., 4., 4., 4.],\n",
              "       [5., 5., 5., 5.],\n",
              "       [6., 6., 6., 6.],\n",
              "       [7., 7., 7., 7.]])"
            ]
          },
          "metadata": {
            "tags": []
          },
          "execution_count": 105
        }
      ]
    },
    {
      "cell_type": "markdown",
      "metadata": {
        "id": "cX3yqrFOLzsJ"
      },
      "source": [
        "Para seleccionar un subconjunto (subset) de todas las filas en un orden particular, puedes simplemente pasar una lista o un ndarray de enteros especificando el orden deseado:"
      ]
    },
    {
      "cell_type": "code",
      "metadata": {
        "colab": {
          "base_uri": "https://localhost:8080/"
        },
        "id": "7GuEfxMVEzGK",
        "outputId": "f0f8241a-2372-4312-8aec-7d1c5f506ab3"
      },
      "source": [
        "arr[[4, 3, 0, 6]]"
      ],
      "execution_count": null,
      "outputs": [
        {
          "output_type": "execute_result",
          "data": {
            "text/plain": [
              "array([[4., 4., 4., 4.],\n",
              "       [3., 3., 3., 3.],\n",
              "       [0., 0., 0., 0.],\n",
              "       [6., 6., 6., 6.]])"
            ]
          },
          "metadata": {
            "tags": []
          },
          "execution_count": 106
        }
      ]
    },
    {
      "cell_type": "code",
      "metadata": {
        "colab": {
          "base_uri": "https://localhost:8080/"
        },
        "id": "_i4LsoOtMi2W",
        "outputId": "c0ea7375-8c15-4334-9f5f-c125355e51c6"
      },
      "source": [
        "arr[[-3, -5, -7]]"
      ],
      "execution_count": null,
      "outputs": [
        {
          "output_type": "execute_result",
          "data": {
            "text/plain": [
              "array([[5., 5., 5., 5.],\n",
              "       [3., 3., 3., 3.],\n",
              "       [1., 1., 1., 1.]])"
            ]
          },
          "metadata": {
            "tags": []
          },
          "execution_count": 107
        }
      ]
    },
    {
      "cell_type": "markdown",
      "metadata": {
        "id": "dTc9RCaMNjjA"
      },
      "source": [
        "Si le pasamos varios múltiples arrays de índices, hace algo ligeramente diferente: selecciona un array unidimensional de elementos correspondientes a cada tupla de índices.\n",
        "\n",
        "Por ejemplo:"
      ]
    },
    {
      "cell_type": "code",
      "metadata": {
        "colab": {
          "base_uri": "https://localhost:8080/"
        },
        "id": "OQYI7pWfMqfP",
        "outputId": "6211027e-ee0d-4440-8682-e885e56be643"
      },
      "source": [
        "arr = np.arange(32).reshape((8, 4)) # Veremos el método 'reshape' más adelante.\n",
        "arr"
      ],
      "execution_count": null,
      "outputs": [
        {
          "output_type": "execute_result",
          "data": {
            "text/plain": [
              "array([[ 0,  1,  2,  3],\n",
              "       [ 4,  5,  6,  7],\n",
              "       [ 8,  9, 10, 11],\n",
              "       [12, 13, 14, 15],\n",
              "       [16, 17, 18, 19],\n",
              "       [20, 21, 22, 23],\n",
              "       [24, 25, 26, 27],\n",
              "       [28, 29, 30, 31]])"
            ]
          },
          "metadata": {
            "tags": []
          },
          "execution_count": 108
        }
      ]
    },
    {
      "cell_type": "code",
      "metadata": {
        "colab": {
          "base_uri": "https://localhost:8080/"
        },
        "id": "5Pl6HTo0OXsw",
        "outputId": "0c897b97-805d-4412-b762-eb9f0932b14c"
      },
      "source": [
        "arr[[1, 5, 7, 2], [0, 3, 1, 2]]"
      ],
      "execution_count": null,
      "outputs": [
        {
          "output_type": "execute_result",
          "data": {
            "text/plain": [
              "array([ 4, 23, 29, 10])"
            ]
          },
          "metadata": {
            "tags": []
          },
          "execution_count": 109
        }
      ]
    },
    {
      "cell_type": "markdown",
      "metadata": {
        "id": "mP1w713EY2mv"
      },
      "source": [
        "En el ejemplo anterior, los elementos `(1, 0), (5, 3), (7, 1) (2, 2)` son los seleccionados. Sin importar cuántas dimensiones tenga el array (en este caso, solo 2), el resultado de hacer un *fancy indexing* es siempre una matriz unidimensional.\n",
        "\n",
        "El comportamiento del *fancy indexing* en este caso es un poco diferente del que muchas personas habrían esperado, el cual es la región rectangular formada al seleccionar un subconjunto de filas y columnas de la matriz.\n",
        "\n",
        "Esta es una forma de hacer eso mismo:"
      ]
    },
    {
      "cell_type": "code",
      "metadata": {
        "colab": {
          "base_uri": "https://localhost:8080/"
        },
        "id": "qoFdjEKiXJ4z",
        "outputId": "57f1f258-ee6c-4822-8715-39f1602bf4b0"
      },
      "source": [
        "arr[[1, 5, 7, 2]][:, [0, 3, 1, 2]]"
      ],
      "execution_count": null,
      "outputs": [
        {
          "output_type": "execute_result",
          "data": {
            "text/plain": [
              "array([[ 4,  7,  5,  6],\n",
              "       [20, 23, 21, 22],\n",
              "       [28, 31, 29, 30],\n",
              "       [ 8, 11,  9, 10]])"
            ]
          },
          "metadata": {
            "tags": []
          },
          "execution_count": 113
        }
      ]
    },
    {
      "cell_type": "markdown",
      "metadata": {
        "id": "DhMdreDqbA62"
      },
      "source": [
        "Es decir: Cogeríamos los elementos de las posiciones 0, 3, 1, 2; para cada una de las filas (en este caso las filas 1, 5, 7, 2).\n",
        "\n",
        "**IMPORTANTE:** Ten en cuenta que el *fancy indexing*, al contrario del *slicing*, siempre copia los datos en un nuevo array."
      ]
    },
    {
      "cell_type": "markdown",
      "metadata": {
        "id": "L9vhWi-qfnWM"
      },
      "source": [
        "## Transposición de matrices e intercambio de ejes."
      ]
    },
    {
      "cell_type": "markdown",
      "metadata": {
        "id": "xPWjTmIWfzz-"
      },
      "source": [
        "La transposición (transposing) es una forma especial de reorganización que devuelve de manera similar una visión de los datos subyacentes sin copiar nada. Los arrays tienen el método `transpose` y también el atributo especial `T`."
      ]
    },
    {
      "cell_type": "code",
      "metadata": {
        "colab": {
          "base_uri": "https://localhost:8080/"
        },
        "id": "4W3HCscfaiLk",
        "outputId": "238c08d3-366c-4728-fe98-702bbc62f7fc"
      },
      "source": [
        "arr = np.arange(15).reshape((3, 5))\n",
        "arr"
      ],
      "execution_count": null,
      "outputs": [
        {
          "output_type": "execute_result",
          "data": {
            "text/plain": [
              "array([[ 0,  1,  2,  3,  4],\n",
              "       [ 5,  6,  7,  8,  9],\n",
              "       [10, 11, 12, 13, 14]])"
            ]
          },
          "metadata": {
            "tags": []
          },
          "execution_count": 115
        }
      ]
    },
    {
      "cell_type": "code",
      "metadata": {
        "colab": {
          "base_uri": "https://localhost:8080/"
        },
        "id": "JzgVozneiG9d",
        "outputId": "1f6b0b26-b332-4bc4-d18b-4c3e547651ff"
      },
      "source": [
        "arr.T"
      ],
      "execution_count": null,
      "outputs": [
        {
          "output_type": "execute_result",
          "data": {
            "text/plain": [
              "array([[ 0,  5, 10],\n",
              "       [ 1,  6, 11],\n",
              "       [ 2,  7, 12],\n",
              "       [ 3,  8, 13],\n",
              "       [ 4,  9, 14]])"
            ]
          },
          "metadata": {
            "tags": []
          },
          "execution_count": 116
        }
      ]
    },
    {
      "cell_type": "markdown",
      "metadata": {
        "id": "-CYmmzxQjkTq"
      },
      "source": [
        "Cuando haces cálculos con matrices, harás esto muy a menudo. Por ejemplo, cuando calculas el producto de la matriz interna usando `np.dot`."
      ]
    },
    {
      "cell_type": "code",
      "metadata": {
        "colab": {
          "base_uri": "https://localhost:8080/"
        },
        "id": "tDuUd2U9jPM3",
        "outputId": "c39e2045-938e-4f14-e658-54d5c9a71ce7"
      },
      "source": [
        "arr = np.random.randn(6, 3)\n",
        "arr"
      ],
      "execution_count": null,
      "outputs": [
        {
          "output_type": "execute_result",
          "data": {
            "text/plain": [
              "array([[ 0.70431464,  0.24866411,  0.58671725],\n",
              "       [-0.4551557 ,  0.70377098,  0.2073415 ],\n",
              "       [ 0.065923  ,  0.60118095, -0.5376714 ],\n",
              "       [ 1.83199065,  0.21197464,  0.68994011],\n",
              "       [ 0.77791731,  1.81890245,  1.644619  ],\n",
              "       [-0.24727836, -0.81898801, -0.12288491]])"
            ]
          },
          "metadata": {
            "tags": []
          },
          "execution_count": 117
        }
      ]
    },
    {
      "cell_type": "code",
      "metadata": {
        "colab": {
          "base_uri": "https://localhost:8080/"
        },
        "id": "3oa-athbj-Hj",
        "outputId": "ff78fbd3-b440-4ef3-a892-e86133f093f8"
      },
      "source": [
        "np.dot(arr.T, arr)"
      ],
      "execution_count": null,
      "outputs": [
        {
          "output_type": "execute_result",
          "data": {
            "text/plain": [
              "array([[4.73006332, 1.90025333, 2.85714416],\n",
              "       [1.90025333, 4.94262672, 3.20687127],\n",
              "       [2.85714416, 3.20687127, 3.87220787]])"
            ]
          },
          "metadata": {
            "tags": []
          },
          "execution_count": 118
        }
      ]
    },
    {
      "cell_type": "markdown",
      "metadata": {
        "id": "-m2jmZODFBs9"
      },
      "source": [
        "Para arrays de mayores dimensiones, `transpose` aceptará una tupla de número de ejes para permutar los ejes."
      ]
    },
    {
      "cell_type": "code",
      "metadata": {
        "colab": {
          "base_uri": "https://localhost:8080/"
        },
        "id": "zY8j1qf4kD-N",
        "outputId": "285c66a8-99c4-4969-ba22-7176c4b76b3b"
      },
      "source": [
        "arr = np.arange(16).reshape((2, 2, 4))\n",
        "arr"
      ],
      "execution_count": null,
      "outputs": [
        {
          "output_type": "execute_result",
          "data": {
            "text/plain": [
              "array([[[ 0,  1,  2,  3],\n",
              "        [ 4,  5,  6,  7]],\n",
              "\n",
              "       [[ 8,  9, 10, 11],\n",
              "        [12, 13, 14, 15]]])"
            ]
          },
          "metadata": {
            "tags": []
          },
          "execution_count": 3
        }
      ]
    },
    {
      "cell_type": "code",
      "metadata": {
        "colab": {
          "base_uri": "https://localhost:8080/"
        },
        "id": "0i_BqVNUF5H2",
        "outputId": "73e1f474-ff6a-48c1-f147-5e158e807eac"
      },
      "source": [
        "arr.transpose((1, 0, 2))"
      ],
      "execution_count": null,
      "outputs": [
        {
          "output_type": "execute_result",
          "data": {
            "text/plain": [
              "array([[[ 0,  1,  2,  3],\n",
              "        [ 8,  9, 10, 11]],\n",
              "\n",
              "       [[ 4,  5,  6,  7],\n",
              "        [12, 13, 14, 15]]])"
            ]
          },
          "metadata": {
            "tags": []
          },
          "execution_count": 4
        }
      ]
    },
    {
      "cell_type": "markdown",
      "metadata": {
        "id": "OL55aQ7LHyEf"
      },
      "source": [
        "Aquí, los ejes se han reordenado con el segundo eje en primer lugar, el primer eje en el segundo y el último eje sin cambios."
      ]
    },
    {
      "cell_type": "markdown",
      "metadata": {
        "id": "0qzGwxEaIeTG"
      },
      "source": [
        "La transposición simple con `.T` es un caso especial de intercambio de ejes.\n",
        "\n",
        "*ndarray* tiene el método `swapaxes`, el cual toma un par de números de eje y cambia los ejes indicados para reorganizar los datos."
      ]
    },
    {
      "cell_type": "code",
      "metadata": {
        "colab": {
          "base_uri": "https://localhost:8080/"
        },
        "id": "RUNRmk9MHhr-",
        "outputId": "6ac41410-1cda-4ed4-f323-f0fce82cc182"
      },
      "source": [
        "arr"
      ],
      "execution_count": null,
      "outputs": [
        {
          "output_type": "execute_result",
          "data": {
            "text/plain": [
              "array([[[ 0,  1,  2,  3],\n",
              "        [ 4,  5,  6,  7]],\n",
              "\n",
              "       [[ 8,  9, 10, 11],\n",
              "        [12, 13, 14, 15]]])"
            ]
          },
          "metadata": {
            "tags": []
          },
          "execution_count": 5
        }
      ]
    },
    {
      "cell_type": "code",
      "metadata": {
        "colab": {
          "base_uri": "https://localhost:8080/"
        },
        "id": "xcz01q4XJDiw",
        "outputId": "646187f4-ce4b-4191-bc0b-3f0ac680b0bd"
      },
      "source": [
        "arr.swapaxes(1, 2)"
      ],
      "execution_count": null,
      "outputs": [
        {
          "output_type": "execute_result",
          "data": {
            "text/plain": [
              "array([[[ 0,  4],\n",
              "        [ 1,  5],\n",
              "        [ 2,  6],\n",
              "        [ 3,  7]],\n",
              "\n",
              "       [[ 8, 12],\n",
              "        [ 9, 13],\n",
              "        [10, 14],\n",
              "        [11, 15]]])"
            ]
          },
          "metadata": {
            "tags": []
          },
          "execution_count": 6
        }
      ]
    },
    {
      "cell_type": "code",
      "metadata": {
        "id": "jlf7HGdvJG18"
      },
      "source": [
        ""
      ],
      "execution_count": null,
      "outputs": []
    },
    {
      "cell_type": "markdown",
      "metadata": {
        "id": "_Cup_Ph8JMF5"
      },
      "source": [
        "**¡OJO!** Igualmente, `swapaxes` devuelve la vista de los datos sin hacer una copia."
      ]
    }
  ]
}