{
 "cells": [
  {
   "cell_type": "markdown",
   "metadata": {},
   "source": [
    "# Insertar y eliminar filas y columnas, mover rangos de celdas"
   ]
  },
  {
   "cell_type": "markdown",
   "metadata": {},
   "source": [
    "## Insertar filas y columnas\n",
    "\n",
    "Puedes insertar filas o columnas utilizando los métodos de hoja de trabajo:\n",
    "\n",
    "- `openpyxl.worksheet.worksheet.Worksheet.insert_rows()`\n",
    "- `openpyxl.worksheet.worksheet.Worksheet.insert_cols()`\n",
    "- `openpyxl.worksheet.worksheet.Worksheet.delete_rows()`\n",
    "- `openpyxl.worksheet.worksheet.Worksheet.delete_cols()`\n",
    "\n",
    "El valor predeterminado es una fila o columna. Por ejemplo, para insertar una fila en 7 (antes de la fila 7 existente):"
   ]
  },
  {
   "cell_type": "code",
   "execution_count": 7,
   "metadata": {},
   "outputs": [],
   "source": [
    "from openpyxl import Workbook\n",
    "\n",
    "wb = Workbook() # Creamos un nuebo WB\n",
    "ws = wb.create_sheet() # Creamos una nueva hoja\n",
    "\n",
    "# Vamos a llenarlo con 100 filas y 200 columnas\n",
    "for row in range(100):\n",
    "    ws.append(['%d' % i for i in range(200)])\n",
    "\n",
    "ws.insert_rows(7) # Insertamos una fila antes de la fila 7\n",
    "\n",
    "# Guardamos el archivo\n",
    "wb.save('ejemplo5.xlsx')"
   ]
  },
  {
   "cell_type": "markdown",
   "metadata": {},
   "source": [
    "## Eliminar filas y columnas\n",
    "\n",
    "Para eliminar las columnas `F:H`:"
   ]
  },
  {
   "cell_type": "code",
   "execution_count": 9,
   "metadata": {},
   "outputs": [],
   "source": [
    "ws.delete_cols(6, 3)\n",
    "\n",
    "# Guardamos el archivo\n",
    "wb.save('ejemplo5.xlsx')"
   ]
  },
  {
   "cell_type": "markdown",
   "metadata": {},
   "source": [
    "## Moviendo rangos de celdas\n",
    "\n",
    "También puedes mover rangos de celdas dentro de una hoja de trabajo:"
   ]
  },
  {
   "cell_type": "code",
   "execution_count": 10,
   "metadata": {},
   "outputs": [],
   "source": [
    "ws.move_range(\"D4:F10\", rows=-1, cols=2)\n",
    "\n",
    "# Guardamos el archivo\n",
    "wb.save('ejemplo5.xlsx')"
   ]
  },
  {
   "cell_type": "markdown",
   "metadata": {},
   "source": [
    "Esto moverá las celdas en el rango `D4:F10` una fila hacia arriba y dos columnas hacia la derecha. Las celdas sobrescribirán las celdas existentes.\n",
    "\n",
    "Si las celdas contienen fórmulas, puede dejar que openpyxl las traduzca por usted, pero como esto no siempre es lo que desea, está deshabilitado de forma predeterminada. Además, solo se traducirán las fórmulas de las propias celdas. Las referencias a las celdas de otras celdas o nombres definidos no se actualizarán; puedes usar el traductor de fórmulas de análisis para hacer esto:"
   ]
  },
  {
   "cell_type": "code",
   "execution_count": 11,
   "metadata": {},
   "outputs": [],
   "source": [
    "ws.move_range(\"G4:H10\", rows=1, cols=1, translate=True)\n",
    "\n",
    "# Guardamos el archivo\n",
    "wb.save('ejemplo5.xlsx')"
   ]
  },
  {
   "cell_type": "markdown",
   "metadata": {},
   "source": [
    "Esto moverá las referencias relativas en fórmulas en el rango una fila y una columna."
   ]
  }
 ],
 "metadata": {
  "interpreter": {
   "hash": "d2fd9c1d91aaf73e97855b3cdea058fd6ca885f614aa31c4b296d653474e021a"
  },
  "kernelspec": {
   "display_name": "Python 3.7.4 64-bit",
   "name": "python3"
  },
  "language_info": {
   "codemirror_mode": {
    "name": "ipython",
    "version": 3
   },
   "file_extension": ".py",
   "mimetype": "text/x-python",
   "name": "python",
   "nbconvert_exporter": "python",
   "pygments_lexer": "ipython3",
   "version": "3.7.4"
  },
  "orig_nbformat": 4
 },
 "nbformat": 4,
 "nbformat_minor": 2
}
