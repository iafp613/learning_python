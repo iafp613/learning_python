{
 "cells": [
  {
   "cell_type": "markdown",
   "metadata": {},
   "source": [
    "# Uso básico"
   ]
  },
  {
   "cell_type": "markdown",
   "metadata": {},
   "source": [
    "## Escribir un libro de trabajo"
   ]
  },
  {
   "cell_type": "code",
   "execution_count": 37,
   "metadata": {},
   "outputs": [
    {
     "name": "stdout",
     "output_type": "stream",
     "text": [
      "AA\n"
     ]
    }
   ],
   "source": [
    "from openpyxl import Workbook\n",
    "from openpyxl.utils import get_column_letter\n",
    "\n",
    "wb = Workbook() # Creamos un Objeto Workbook\n",
    "\n",
    "dest_filename = 'empty_book.xlsx' # Designamos en una variable el nombre del libro\n",
    "\n",
    "ws1 = wb.active # Activamos la Hoja 1\n",
    "ws1.title = \"range names\" # Renombramos la hoja\n",
    "\n",
    "# Escribimos en cada columna de la hoja los números del 0 al 599 40 veces (filas de la 1 a la 39)\n",
    "for row in range(1, 40):\n",
    "    ws1.append(range(600))\n",
    "\n",
    "ws2 = wb.create_sheet(title=\"Pi\") # Creamos una nueva hoja llamada 'Pi'\n",
    "\n",
    "ws2['F5'] = 3.14 # Asignamos un valor a la celda 'F5' de 'Pi'\n",
    "\n",
    "ws3 = wb.create_sheet(title=\"Data\") # Creamos una tercera hoja llamada 'Data'\n",
    "\n",
    "# Escribimos desde la columna AA hasta la BA y desde la fila 10 a la 19 el nombre de su respectiva columna\n",
    "for row in range(10, 20):\n",
    "    for col in range(27, 54):\n",
    "        _ = ws3.cell(column=col, row=row, value=\"{0}\".format(get_column_letter(col)))\n",
    "print(ws3['AA10'].value) # Imprimimos el valor correspondiente a la columna AA fila 10\n",
    "\n",
    "# guardamos\n",
    "wb.save(filename = dest_filename)"
   ]
  },
  {
   "cell_type": "markdown",
   "metadata": {},
   "source": [
    "## Leer un libro de trabajo existente"
   ]
  },
  {
   "cell_type": "code",
   "execution_count": 38,
   "metadata": {},
   "outputs": [
    {
     "name": "stdout",
     "output_type": "stream",
     "text": [
      "3\n"
     ]
    }
   ],
   "source": [
    "from openpyxl import load_workbook\n",
    "\n",
    "wb = load_workbook(filename = 'empty_book.xlsx') # Cargamos el libro que creamos antes\n",
    "sheet_ranges = wb['range names'] # Guardamos en una variable la hoja llamada 'range names'\n",
    "print(sheet_ranges['D18'].value) # Imprimimos el valor correspondiente a la columna D fila 18"
   ]
  },
  {
   "cell_type": "markdown",
   "metadata": {},
   "source": [
    "**NOTA:** Hay varios indicadores que se pueden usar en load_workbook.\n",
    "\n",
    "*data_only* controla si las celdas con fórmulas tienen la fórmula (predeterminada) o el valor almacenado la última vez que Excel leyó la hoja.\n",
    "\n",
    "*keep_vba* controla si los elementos de Visual Basic se conservan o no (predeterminado). Si se conservan aún, no se pueden editar."
   ]
  },
  {
   "cell_type": "markdown",
   "metadata": {},
   "source": [
    "**ATENCIÓN:** *openpyxl* actualmente no lee todos los elementos posibles en un archivo de Excel, por lo que las imágenes y los gráficos se perderán de los archivos existentes si se abren y guardan con el mismo nombre."
   ]
  },
  {
   "cell_type": "markdown",
   "metadata": {},
   "source": [
    "## Usar formatos numéricos"
   ]
  },
  {
   "cell_type": "code",
   "execution_count": 39,
   "metadata": {},
   "outputs": [
    {
     "data": {
      "text/plain": [
       "'yyyy-mm-dd h:mm:ss'"
      ]
     },
     "execution_count": 39,
     "metadata": {},
     "output_type": "execute_result"
    }
   ],
   "source": [
    "import datetime\n",
    "from openpyxl import Workbook\n",
    "\n",
    "wb = load_workbook(filename = 'empty_book.xlsx')\n",
    "sheet_pi = wb['Pi']\n",
    "\n",
    "# establecer la fecha y hora usando datetime de Python: aaaa, mm, dd, hh, mm, ss\n",
    "sheet_pi['A1'] = datetime.datetime(2021, 10, 31, 14, 3, 42) # La escribimos en la columna A fila 1\n",
    "wb.save(filename = dest_filename) # Guardamos\n",
    "\n",
    "sheet_pi['A1'].number_format # Mostramos el formato de fecha"
   ]
  },
  {
   "cell_type": "markdown",
   "metadata": {},
   "source": [
    "## Usando fórmulas"
   ]
  },
  {
   "cell_type": "code",
   "execution_count": 40,
   "metadata": {},
   "outputs": [],
   "source": [
    "wb = load_workbook(filename = 'empty_book.xlsx')\n",
    "sheet_pi = wb['Pi'] # Accedemos a la hoja Pi\n",
    "\n",
    "sheet_pi[\"C2\"] = \"=SUM(1, 1)\" # Insertamos esta simple fórmula que suma 1 + 1 en la columna C fila 2\n",
    "wb.save(filename = dest_filename) # Guardamos"
   ]
  },
  {
   "cell_type": "markdown",
   "metadata": {},
   "source": [
    "**Nota:** Se debe usar el nombre en inglés para una función y los argumentos de la función deben estar separados por comas y no por otros signos de puntuación como punto y coma."
   ]
  },
  {
   "cell_type": "markdown",
   "metadata": {},
   "source": [
    "*openpyxl* nunca evalúa la fórmula, pero es posible verificar el nombre de una fórmula:"
   ]
  },
  {
   "cell_type": "code",
   "execution_count": 41,
   "metadata": {},
   "outputs": [
    {
     "data": {
      "text/plain": [
       "True"
      ]
     },
     "execution_count": 41,
     "metadata": {},
     "output_type": "execute_result"
    }
   ],
   "source": [
    "from openpyxl.utils import FORMULAE # Importamos el módulo\n",
    "\n",
    "\"HEX2DEC\" in FORMULAE # Verificamos si la fórmula existe"
   ]
  },
  {
   "cell_type": "markdown",
   "metadata": {},
   "source": [
    "Si estás intentando utilizar una fórmula que no se reconoce, esto podría deberse a que estás utilizando una fórmula que no se incluyó en la especificación inicial. Estas fórmulas deben tener el prefijo _xlfn. para funcionar."
   ]
  },
  {
   "cell_type": "markdown",
   "metadata": {},
   "source": [
    "## Combinar/separar celdas"
   ]
  },
  {
   "cell_type": "markdown",
   "metadata": {},
   "source": [
    "Cuando fusionas celdas, todas las celdas, excepto la de arriba a la izquierda, se eliminan de la hoja de trabajo. Para llevar la información de borde de la celda combinada, las celdas de límite de la celda combinada se crean como *MergeCells* que siempre tienen el valor *None*."
   ]
  },
  {
   "cell_type": "code",
   "execution_count": 42,
   "metadata": {},
   "outputs": [],
   "source": [
    "wb = load_workbook(filename = 'empty_book.xlsx')\n",
    "sheet_pi = wb['Pi'] # Accedemos a la hoja Pi\n",
    "\n",
    "sheet_pi.merge_cells('D2:H2') # Combinamos las celdas\n",
    "sheet_pi.unmerge_cells('D2:H2') # Separamos las celdas\n",
    "\n",
    "# o equivalente:\n",
    "sheet_pi.merge_cells(start_row=10, start_column=1, end_row=22, end_column=3) # Combinamos las celdas\n",
    "sheet_pi.unmerge_cells(start_row=10, start_column=1, end_row=22, end_column=3) # Separamos las celdas\n",
    "\n",
    "wb.save(filename = dest_filename) # Guardamos"
   ]
  },
  {
   "cell_type": "markdown",
   "metadata": {},
   "source": [
    "## Insertando una imagen"
   ]
  },
  {
   "cell_type": "code",
   "execution_count": 43,
   "metadata": {},
   "outputs": [],
   "source": [
    "from openpyxl.drawing.image import Image\n",
    "\n",
    "wb = load_workbook(filename = 'empty_book.xlsx')\n",
    "sheet_data = wb['Data'] # Accedemos a la hoja Data\n",
    "sheet_data['A1'] = 'You should see the logo below' # Escribimos en la celda A1\n",
    "\n",
    "img = Image('logo.png') # Guardamos la imagen en una variable\n",
    "\n",
    "sheet_data.add_image(img, 'A3') # Añadimos la imagen en la celda A3\n",
    "wb.save(filename = dest_filename) # Guardamos"
   ]
  },
  {
   "cell_type": "markdown",
   "metadata": {},
   "source": [
    "## Doblar (contorno)"
   ]
  },
  {
   "cell_type": "code",
   "execution_count": 44,
   "metadata": {},
   "outputs": [],
   "source": [
    "wb = load_workbook(filename = 'empty_book.xlsx')\n",
    "ws4 = wb.create_sheet(title=\"Fold\") # Creamos una nueva hoja llamada 'Fold'\n",
    "\n",
    "ws4.column_dimensions.group('A','D', hidden=True) # Doblamos las columnas de la A a la D\n",
    "ws4.row_dimensions.group(1,10, hidden=True) # Doblamos las filas de la 1 a la 10\n",
    "\n",
    "wb.save(filename = dest_filename) # Guardamos"
   ]
  }
 ],
 "metadata": {
  "interpreter": {
   "hash": "d2fd9c1d91aaf73e97855b3cdea058fd6ca885f614aa31c4b296d653474e021a"
  },
  "kernelspec": {
   "display_name": "Python 3.7.4 64-bit",
   "name": "python3"
  },
  "language_info": {
   "codemirror_mode": {
    "name": "ipython",
    "version": 3
   },
   "file_extension": ".py",
   "mimetype": "text/x-python",
   "name": "python",
   "nbconvert_exporter": "python",
   "pygments_lexer": "ipython3",
   "version": "3.7.4"
  },
  "orig_nbformat": 4
 },
 "nbformat": 4,
 "nbformat_minor": 2
}
