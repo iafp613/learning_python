{
 "cells": [
  {
   "cell_type": "markdown",
   "metadata": {},
   "source": [
    "# Tutorial"
   ]
  },
  {
   "cell_type": "markdown",
   "metadata": {},
   "source": [
    "## Crear un nuevo Workbook"
   ]
  },
  {
   "cell_type": "code",
   "execution_count": 40,
   "metadata": {},
   "outputs": [],
   "source": [
    "# Importamos\n",
    "from openpyxl import Workbook"
   ]
  },
  {
   "cell_type": "code",
   "execution_count": 41,
   "metadata": {},
   "outputs": [],
   "source": [
    "# Creamos el workbook\n",
    "wb = Workbook()"
   ]
  },
  {
   "cell_type": "markdown",
   "metadata": {},
   "source": [
    "Un libro de trabajo siempre se crea con al menos una hoja de trabajo.\n",
    "\n",
    "Se establece en 0 de forma predeterminada. A menos que modifique su valor, siempre obtendrá la primera hoja de trabajo utilizando este método."
   ]
  },
  {
   "cell_type": "code",
   "execution_count": 42,
   "metadata": {},
   "outputs": [],
   "source": [
    "ws = wb.active"
   ]
  },
  {
   "cell_type": "markdown",
   "metadata": {},
   "source": [
    "Puedes crear nuevas hojas de trabajo usando el método `Workbook.create_sheet()`:"
   ]
  },
  {
   "cell_type": "code",
   "execution_count": 43,
   "metadata": {},
   "outputs": [],
   "source": [
    "ws1 = wb.create_sheet(\"Mysheet\") # La inserta al final (por defecto)\n",
    "\n",
    "ws2 = wb.create_sheet(\"Mysheet\", 0) # La inserta en la primera posición\n",
    "\n",
    "ws3 = wb.create_sheet(\"Mysheet\", -1) # La inserta en la penúltima posición"
   ]
  },
  {
   "cell_type": "markdown",
   "metadata": {},
   "source": [
    "Las hojas reciben un nombre automáticamente cuando se crean. Están numerados en secuencia (Hoja, Hoja1, Hoja2,…). Puedes cambiar este nombre en cualquier momento con la propiedad `Worksheet.title`:"
   ]
  },
  {
   "cell_type": "code",
   "execution_count": 44,
   "metadata": {},
   "outputs": [],
   "source": [
    "ws.title = \"New Title\""
   ]
  },
  {
   "cell_type": "markdown",
   "metadata": {},
   "source": [
    "El color de fondo de la pestaña que contiene este título es blanco por defecto. Puede cambiar esto proporcionando un código de color RRGGBB al atributo `Worksheet.sheet_properties.tabColor`:"
   ]
  },
  {
   "cell_type": "code",
   "execution_count": 45,
   "metadata": {},
   "outputs": [],
   "source": [
    "ws.sheet_properties.tabColor = \"1072BA\""
   ]
  },
  {
   "cell_type": "markdown",
   "metadata": {},
   "source": [
    "Una vez que le diste un nombre a una hoja de trabajo, puedes obtenerla como clave del libro de trabajo:"
   ]
  },
  {
   "cell_type": "code",
   "execution_count": 46,
   "metadata": {},
   "outputs": [
    {
     "data": {
      "text/plain": [
       "<Worksheet \"New Title\">"
      ]
     },
     "execution_count": 46,
     "metadata": {},
     "output_type": "execute_result"
    }
   ],
   "source": [
    "ws3 = wb[\"New Title\"]\n",
    "ws3"
   ]
  },
  {
   "cell_type": "markdown",
   "metadata": {},
   "source": [
    "Puedes revisar los nombres de todas las hojas de trabajo del libro de trabajo con el atributo `Workbook.sheetname`"
   ]
  },
  {
   "cell_type": "code",
   "execution_count": 47,
   "metadata": {},
   "outputs": [
    {
     "name": "stdout",
     "output_type": "stream",
     "text": [
      "['Mysheet1', 'New Title', 'Mysheet2', 'Mysheet']\n"
     ]
    }
   ],
   "source": [
    "print(wb.sheetnames)"
   ]
  },
  {
   "cell_type": "markdown",
   "metadata": {},
   "source": [
    "Puedes recorrer las hojas de trabajo:"
   ]
  },
  {
   "cell_type": "code",
   "execution_count": 48,
   "metadata": {},
   "outputs": [
    {
     "name": "stdout",
     "output_type": "stream",
     "text": [
      "Mysheet1\n",
      "New Title\n",
      "Mysheet2\n",
      "Mysheet\n"
     ]
    }
   ],
   "source": [
    "for sheet in wb:\n",
    "    print(sheet.title)"
   ]
  },
  {
   "cell_type": "markdown",
   "metadata": {},
   "source": [
    "Puedes crear copias de hojas de trabajo **dentro de un solo libro de trabajo**:"
   ]
  },
  {
   "cell_type": "code",
   "execution_count": 49,
   "metadata": {},
   "outputs": [],
   "source": [
    "source = wb.active\n",
    "target = wb.copy_worksheet(source)"
   ]
  },
  {
   "cell_type": "markdown",
   "metadata": {},
   "source": [
    "Solo se copian las celdas (incluidos los valores, los estilos, los hipervínculos y los comentarios) y ciertos atributos de la hoja de trabajo (incluidas las dimensiones, el formato y las propiedades). Todos los demás atributos del libro / hoja de trabajo no se copian, p. Ej. Imágenes, gráficos.\n",
    "\n",
    "Tampoco puedes copiar hojas de trabajo entre libros. No puedes copiar una hoja de trabajo si el libro de trabajo está abierto en modo de solo lectura o de solo escritura."
   ]
  },
  {
   "cell_type": "markdown",
   "metadata": {},
   "source": [
    "## Jugando con los datos"
   ]
  },
  {
   "cell_type": "markdown",
   "metadata": {},
   "source": [
    "### Accediendo a una celda"
   ]
  },
  {
   "cell_type": "markdown",
   "metadata": {},
   "source": [
    "Ahora que sabemos cómo obtener una hoja de trabajo, podemos comenzar a modificar el contenido de las celdas. Se puede acceder a las celdas directamente como claves de la hoja de trabajo:"
   ]
  },
  {
   "cell_type": "code",
   "execution_count": 50,
   "metadata": {},
   "outputs": [
    {
     "data": {
      "text/plain": [
       "<Cell 'New Title'.A4>"
      ]
     },
     "execution_count": 50,
     "metadata": {},
     "output_type": "execute_result"
    }
   ],
   "source": [
    "c = ws['A4']\n",
    "c"
   ]
  },
  {
   "cell_type": "markdown",
   "metadata": {},
   "source": [
    "Esto devolverá la celda a A4, o creará una si aún no existe. Los valores se pueden asignar directamente:"
   ]
  },
  {
   "cell_type": "code",
   "execution_count": 51,
   "metadata": {},
   "outputs": [],
   "source": [
    "ws['A4'] = 4"
   ]
  },
  {
   "cell_type": "markdown",
   "metadata": {},
   "source": [
    "También existe el método `Worksheet.cell()`. Esto proporciona acceso a las celdas usando la notación de filas y columnas:"
   ]
  },
  {
   "cell_type": "code",
   "execution_count": 52,
   "metadata": {},
   "outputs": [
    {
     "data": {
      "text/plain": [
       "<Cell 'New Title'.B4>"
      ]
     },
     "execution_count": 52,
     "metadata": {},
     "output_type": "execute_result"
    }
   ],
   "source": [
    "d = ws.cell(row=4, column=2, value=10)\n",
    "d"
   ]
  },
  {
   "cell_type": "markdown",
   "metadata": {},
   "source": [
    "**NOTA:** Cuando se crea una hoja de trabajo en la memoria, no contiene celdas. Se crean cuando se accede por primera vez."
   ]
  },
  {
   "cell_type": "markdown",
   "metadata": {},
   "source": [
    "**PRECAUCIÓN:**\n",
    "Debido a esta función, desplazarse por las celdas en lugar de acceder a ellas directamente las creará todas en la memoria, incluso si no les asigna un valor.\n",
    "\n",
    "Algo como:\n",
    "~~~\n",
    "for x in range(1,101):\n",
    "     for y in range(1,101):\n",
    "         ws.cell(row=x, column=y)\n",
    "~~~\n",
    "\n",
    "creará 100x100 celdas en la memoria, para nada...\n"
   ]
  },
  {
   "cell_type": "markdown",
   "metadata": {},
   "source": [
    "### Accediendo a varias celdas"
   ]
  },
  {
   "cell_type": "markdown",
   "metadata": {},
   "source": [
    "Se puede acceder a los rangos de celdas mediante la división:"
   ]
  },
  {
   "cell_type": "code",
   "execution_count": 53,
   "metadata": {},
   "outputs": [],
   "source": [
    "colC = ws['C']\n",
    "col_range = ws['C:D']\n",
    "row10 = ws[10]\n",
    "row_range = ws[5:10]"
   ]
  },
  {
   "cell_type": "markdown",
   "metadata": {},
   "source": [
    "También puede utilizar el método `Worksheet.iter_rows()`:"
   ]
  },
  {
   "cell_type": "code",
   "execution_count": 54,
   "metadata": {},
   "outputs": [
    {
     "name": "stdout",
     "output_type": "stream",
     "text": [
      "<Cell 'New Title'.A1>\n",
      "<Cell 'New Title'.B1>\n",
      "<Cell 'New Title'.C1>\n",
      "<Cell 'New Title'.A2>\n",
      "<Cell 'New Title'.B2>\n",
      "<Cell 'New Title'.C2>\n"
     ]
    }
   ],
   "source": [
    "for row in ws.iter_rows(min_row=1, max_col=3, max_row=2):\n",
    "    for cell in row:\n",
    "        print(cell)"
   ]
  },
  {
   "cell_type": "markdown",
   "metadata": {},
   "source": [
    "Asimismo, el método `Worksheet.iter_cols()` devolverá columnas:"
   ]
  },
  {
   "cell_type": "code",
   "execution_count": 55,
   "metadata": {},
   "outputs": [
    {
     "name": "stdout",
     "output_type": "stream",
     "text": [
      "<Cell 'New Title'.A1>\n",
      "<Cell 'New Title'.A2>\n",
      "<Cell 'New Title'.B1>\n",
      "<Cell 'New Title'.B2>\n",
      "<Cell 'New Title'.C1>\n",
      "<Cell 'New Title'.C2>\n"
     ]
    }
   ],
   "source": [
    "for col in ws.iter_cols(min_row=1, max_col=3, max_row=2):\n",
    "    for cell in col:\n",
    "        print(cell)"
   ]
  },
  {
   "cell_type": "markdown",
   "metadata": {},
   "source": [
    "**NOTA:** Por motivos de rendimiento, el método `Worksheet.iter_cols()` no está disponible en modo de solo lectura."
   ]
  },
  {
   "cell_type": "markdown",
   "metadata": {},
   "source": [
    "Si necesitas recorrer todas las filas o columnas de un archivo, puedes usar la propiedad `Worksheet.rows`:"
   ]
  },
  {
   "cell_type": "code",
   "execution_count": 56,
   "metadata": {},
   "outputs": [
    {
     "data": {
      "text/plain": [
       "((<Cell 'Mysheet1'.A1>, <Cell 'Mysheet1'.B1>, <Cell 'Mysheet1'.C1>),\n",
       " (<Cell 'Mysheet1'.A2>, <Cell 'Mysheet1'.B2>, <Cell 'Mysheet1'.C2>),\n",
       " (<Cell 'Mysheet1'.A3>, <Cell 'Mysheet1'.B3>, <Cell 'Mysheet1'.C3>),\n",
       " (<Cell 'Mysheet1'.A4>, <Cell 'Mysheet1'.B4>, <Cell 'Mysheet1'.C4>),\n",
       " (<Cell 'Mysheet1'.A5>, <Cell 'Mysheet1'.B5>, <Cell 'Mysheet1'.C5>),\n",
       " (<Cell 'Mysheet1'.A6>, <Cell 'Mysheet1'.B6>, <Cell 'Mysheet1'.C6>),\n",
       " (<Cell 'Mysheet1'.A7>, <Cell 'Mysheet1'.B7>, <Cell 'Mysheet1'.C7>),\n",
       " (<Cell 'Mysheet1'.A8>, <Cell 'Mysheet1'.B8>, <Cell 'Mysheet1'.C8>),\n",
       " (<Cell 'Mysheet1'.A9>, <Cell 'Mysheet1'.B9>, <Cell 'Mysheet1'.C9>))"
      ]
     },
     "execution_count": 56,
     "metadata": {},
     "output_type": "execute_result"
    }
   ],
   "source": [
    "ws = wb.active\n",
    "ws['C9'] = 'hello world'\n",
    "tuple(ws.rows)"
   ]
  },
  {
   "cell_type": "markdown",
   "metadata": {},
   "source": [
    "...o la propiedad `Worksheet.columns`:"
   ]
  },
  {
   "cell_type": "code",
   "execution_count": 57,
   "metadata": {},
   "outputs": [
    {
     "data": {
      "text/plain": [
       "((<Cell 'Mysheet1'.A1>,\n",
       "  <Cell 'Mysheet1'.A2>,\n",
       "  <Cell 'Mysheet1'.A3>,\n",
       "  <Cell 'Mysheet1'.A4>,\n",
       "  <Cell 'Mysheet1'.A5>,\n",
       "  <Cell 'Mysheet1'.A6>,\n",
       "  <Cell 'Mysheet1'.A7>,\n",
       "  <Cell 'Mysheet1'.A8>,\n",
       "  <Cell 'Mysheet1'.A9>),\n",
       " (<Cell 'Mysheet1'.B1>,\n",
       "  <Cell 'Mysheet1'.B2>,\n",
       "  <Cell 'Mysheet1'.B3>,\n",
       "  <Cell 'Mysheet1'.B4>,\n",
       "  <Cell 'Mysheet1'.B5>,\n",
       "  <Cell 'Mysheet1'.B6>,\n",
       "  <Cell 'Mysheet1'.B7>,\n",
       "  <Cell 'Mysheet1'.B8>,\n",
       "  <Cell 'Mysheet1'.B9>),\n",
       " (<Cell 'Mysheet1'.C1>,\n",
       "  <Cell 'Mysheet1'.C2>,\n",
       "  <Cell 'Mysheet1'.C3>,\n",
       "  <Cell 'Mysheet1'.C4>,\n",
       "  <Cell 'Mysheet1'.C5>,\n",
       "  <Cell 'Mysheet1'.C6>,\n",
       "  <Cell 'Mysheet1'.C7>,\n",
       "  <Cell 'Mysheet1'.C8>,\n",
       "  <Cell 'Mysheet1'.C9>))"
      ]
     },
     "execution_count": 57,
     "metadata": {},
     "output_type": "execute_result"
    }
   ],
   "source": [
    "tuple(ws.columns)"
   ]
  },
  {
   "cell_type": "markdown",
   "metadata": {},
   "source": [
    "Por motivos de rendimiento, la propiedad `Worksheet.columns` no está disponible en modo de solo lectura."
   ]
  },
  {
   "cell_type": "markdown",
   "metadata": {},
   "source": [
    "### Solo valores"
   ]
  },
  {
   "cell_type": "markdown",
   "metadata": {},
   "source": [
    "Si solo deseas los valores de una hoja de trabajo, puedes usar la propiedad Worksheet.values. Esto itera sobre todas las filas en una hoja de trabajo pero devuelve solo los valores de celda:"
   ]
  },
  {
   "cell_type": "code",
   "execution_count": 58,
   "metadata": {},
   "outputs": [
    {
     "name": "stdout",
     "output_type": "stream",
     "text": [
      "None\n",
      "None\n",
      "None\n",
      "None\n",
      "None\n",
      "None\n",
      "None\n",
      "None\n",
      "None\n",
      "None\n",
      "None\n",
      "None\n",
      "None\n",
      "None\n",
      "None\n",
      "None\n",
      "None\n",
      "None\n",
      "None\n",
      "None\n",
      "None\n",
      "None\n",
      "None\n",
      "None\n",
      "None\n",
      "None\n",
      "hello world\n"
     ]
    }
   ],
   "source": [
    "for row in ws.values:\n",
    "    for value in row:\n",
    "        print(value)"
   ]
  },
  {
   "cell_type": "markdown",
   "metadata": {},
   "source": [
    "Tanto `Worksheet.iter_rows()` como `Worksheet.iter_cols()` pueden tomar el parámetro *values_only* para devolver solo el valor de la celda:"
   ]
  },
  {
   "cell_type": "code",
   "execution_count": 59,
   "metadata": {},
   "outputs": [
    {
     "name": "stdout",
     "output_type": "stream",
     "text": [
      "(None, None, None)\n",
      "(None, None, None)\n"
     ]
    }
   ],
   "source": [
    "for row in ws.iter_rows(min_row=1, max_col=3, max_row=2, values_only=True):\n",
    "    print(row)"
   ]
  },
  {
   "cell_type": "markdown",
   "metadata": {},
   "source": [
    "### Almacenamiento de datos"
   ]
  },
  {
   "cell_type": "markdown",
   "metadata": {},
   "source": [
    "Una vez que tenemos una *celda*, podemos asignarle un valor:"
   ]
  },
  {
   "cell_type": "code",
   "execution_count": 60,
   "metadata": {},
   "outputs": [
    {
     "name": "stdout",
     "output_type": "stream",
     "text": [
      "hello, world\n",
      "3.14\n"
     ]
    }
   ],
   "source": [
    "c.value = 'hello, world'\n",
    "print(c.value)\n",
    "\n",
    "d.value = 3.14\n",
    "print(d.value)"
   ]
  },
  {
   "cell_type": "markdown",
   "metadata": {},
   "source": [
    "### Guardando el archivo"
   ]
  },
  {
   "cell_type": "markdown",
   "metadata": {},
   "source": [
    "La forma más sencilla y segura de guardar un libro es mediante el método `Workbook.save()` del objeto **Workbook**:"
   ]
  },
  {
   "cell_type": "code",
   "execution_count": 61,
   "metadata": {},
   "outputs": [],
   "source": [
    "wb.save('ejemplo1.xlsx')"
   ]
  },
  {
   "cell_type": "markdown",
   "metadata": {},
   "source": [
    "**PRECAUCIÓN:** Esta operación sobrescribirá los archivos existentes sin previo aviso.\n",
    "\n",
    "**NOTA:** La extensión del nombre de archivo no está obligada a ser xlsx o xlsm, aunque es posible que tenga problemas para abrirla directamente con otra aplicación si no usa una extensión oficial.\n",
    "Como los archivos OOXML son básicamente archivos ZIP, también puede abrirlos con su administrador de archivos ZIP favorito."
   ]
  },
  {
   "cell_type": "markdown",
   "metadata": {},
   "source": [
    "### Cargando desde un archivo"
   ]
  },
  {
   "cell_type": "markdown",
   "metadata": {},
   "source": [
    "De la misma manera que escribes, puedes usar `openpyxl.load_workbook()` para abrir un libro de trabajo existente:"
   ]
  },
  {
   "cell_type": "code",
   "execution_count": 62,
   "metadata": {},
   "outputs": [
    {
     "name": "stdout",
     "output_type": "stream",
     "text": [
      "['Mysheet1', 'New Title', 'Mysheet2', 'Mysheet', 'Mysheet1 Copy']\n"
     ]
    }
   ],
   "source": [
    "from openpyxl import load_workbook\n",
    "wb2 = load_workbook('ejemplo1.xlsx')\n",
    "print(wb2.sheetnames)"
   ]
  }
 ],
 "metadata": {
  "interpreter": {
   "hash": "d2fd9c1d91aaf73e97855b3cdea058fd6ca885f614aa31c4b296d653474e021a"
  },
  "kernelspec": {
   "display_name": "Python 3.7.4 64-bit",
   "name": "python3"
  },
  "language_info": {
   "codemirror_mode": {
    "name": "ipython",
    "version": 3
   },
   "file_extension": ".py",
   "mimetype": "text/x-python",
   "name": "python",
   "nbconvert_exporter": "python",
   "pygments_lexer": "ipython3",
   "version": "3.7.4"
  },
  "orig_nbformat": 4
 },
 "nbformat": 4,
 "nbformat_minor": 2
}
