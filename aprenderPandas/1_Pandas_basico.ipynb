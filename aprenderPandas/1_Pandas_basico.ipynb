{
  "nbformat": 4,
  "nbformat_minor": 0,
  "metadata": {
    "colab": {
      "name": "1_Pandas_basico.ipynb",
      "provenance": [],
      "collapsed_sections": [],
      "toc_visible": true
    },
    "kernelspec": {
      "name": "python3",
      "display_name": "Python 3"
    },
    "language_info": {
      "name": "python"
    }
  },
  "cells": [
    {
      "cell_type": "markdown",
      "metadata": {
        "id": "V3w9w6Nf2TqM"
      },
      "source": [
        "# Pandas Básico"
      ]
    },
    {
      "cell_type": "markdown",
      "metadata": {
        "id": "qDvNS2K53az5"
      },
      "source": [
        "## Introducción a los objetos de Pandas\n",
        "\n",
        "Los objetos Pandas se pueden considerar como versiones mejoradas de los arrays estructurados de NumPy en los que las filas y columnas se identifican con etiquetas en lugar de índices enteros simples.\n",
        "\n",
        "Pandas proporciona una gran cantidad de herramientas, métodos y funcionalidades útiles además de las estructuras de datos básicas, pero casi todo lo que sigue requerirá una comprensión de qué son estas estructuras.\n",
        "\n",
        "Por tanto, antes de ver nada más, vamos a introducirnos en estas estructuras de datos básicas de Pandas: las **Series**, los **DataFrames** y los **Index**.\n",
        "\n",
        "Comenzaremos importando NumPy y Pandas."
      ]
    },
    {
      "cell_type": "code",
      "metadata": {
        "id": "w9FtWcsC2IAI"
      },
      "source": [
        "import numpy as np\n",
        "import pandas as pd"
      ],
      "execution_count": 4,
      "outputs": []
    },
    {
      "cell_type": "markdown",
      "metadata": {
        "id": "Jv-NFOa86XyT"
      },
      "source": [
        "### Series\n",
        "\n",
        "Una *Series* de Pandas es un array de una dimensión de datos indexados. Puede ser creada a partir de una lista o array como la siguiente:"
      ]
    },
    {
      "cell_type": "code",
      "metadata": {
        "colab": {
          "base_uri": "https://localhost:8080/"
        },
        "id": "_HWyPM5I62cn",
        "outputId": "4c436a75-4dc5-4a99-d9dc-9390a5230c42"
      },
      "source": [
        "data = pd.Series([0.25, 0.5, 0.75, 1.0])\n",
        "data"
      ],
      "execution_count": 5,
      "outputs": [
        {
          "output_type": "execute_result",
          "data": {
            "text/plain": [
              "0    0.25\n",
              "1    0.50\n",
              "2    0.75\n",
              "3    1.00\n",
              "dtype: float64"
            ]
          },
          "metadata": {
            "tags": []
          },
          "execution_count": 5
        }
      ]
    },
    {
      "cell_type": "markdown",
      "metadata": {
        "id": "aqQha6gU7F6Y"
      },
      "source": [
        "Como podemos observar en el *output* anterior, las *Series* abarcan una secuencia de valores y una secuencia de índices, a los cuales podremos acceder con los atributos `values` e `index`.\n",
        "\n",
        "Los `values` son simplemente un familiar array de NumPy:"
      ]
    },
    {
      "cell_type": "code",
      "metadata": {
        "colab": {
          "base_uri": "https://localhost:8080/"
        },
        "id": "_B4F7VlU7CUW",
        "outputId": "7f68dbd6-64dd-4302-f40a-cdb989616cc5"
      },
      "source": [
        "data.values"
      ],
      "execution_count": 6,
      "outputs": [
        {
          "output_type": "execute_result",
          "data": {
            "text/plain": [
              "array([0.25, 0.5 , 0.75, 1.  ])"
            ]
          },
          "metadata": {
            "tags": []
          },
          "execution_count": 6
        }
      ]
    },
    {
      "cell_type": "markdown",
      "metadata": {
        "id": "xVmnE41K79-b"
      },
      "source": [
        "El `index` es similar a un array de tipo `pd.Index`, del cual hablaremos más adelante."
      ]
    },
    {
      "cell_type": "code",
      "metadata": {
        "colab": {
          "base_uri": "https://localhost:8080/"
        },
        "id": "CGUumLuZ76_f",
        "outputId": "0cbd9c50-cf93-44cc-9acd-26fb9c19990c"
      },
      "source": [
        "data.index"
      ],
      "execution_count": 7,
      "outputs": [
        {
          "output_type": "execute_result",
          "data": {
            "text/plain": [
              "RangeIndex(start=0, stop=4, step=1)"
            ]
          },
          "metadata": {
            "tags": []
          },
          "execution_count": 7
        }
      ]
    },
    {
      "cell_type": "markdown",
      "metadata": {
        "id": "iUU3exJ-8tFS"
      },
      "source": [
        "Igual que con los array de NumPy, podemos acceder a los datos a través de su índice asociado mediante la misma notación de corchetes de Python."
      ]
    },
    {
      "cell_type": "code",
      "metadata": {
        "colab": {
          "base_uri": "https://localhost:8080/"
        },
        "id": "vgKWw2sc8afU",
        "outputId": "79f9a02a-fb53-40ee-f1d2-8e50bc1e4b3d"
      },
      "source": [
        "data[1]"
      ],
      "execution_count": 8,
      "outputs": [
        {
          "output_type": "execute_result",
          "data": {
            "text/plain": [
              "0.5"
            ]
          },
          "metadata": {
            "tags": []
          },
          "execution_count": 8
        }
      ]
    },
    {
      "cell_type": "code",
      "metadata": {
        "colab": {
          "base_uri": "https://localhost:8080/"
        },
        "id": "iDM16Ogt9E_8",
        "outputId": "06993b94-a1be-4b2e-867b-3ae63fbdab93"
      },
      "source": [
        "data[1:3]"
      ],
      "execution_count": 9,
      "outputs": [
        {
          "output_type": "execute_result",
          "data": {
            "text/plain": [
              "1    0.50\n",
              "2    0.75\n",
              "dtype: float64"
            ]
          },
          "metadata": {
            "tags": []
          },
          "execution_count": 9
        }
      ]
    },
    {
      "cell_type": "markdown",
      "metadata": {
        "id": "bi4B8NMs9Mjy"
      },
      "source": [
        "Como verás, las *Series* de Pandas son más flexibles que los arrays unidimensionales de NumPy a los que emulan."
      ]
    },
    {
      "cell_type": "markdown",
      "metadata": {
        "id": "O9dB7lOq9fEC"
      },
      "source": [
        "#### Series como arrays de NumPy\n",
        "\n",
        "Por lo que hemos visto hasta ahora, los objetos *Series* son básicamente intercambiables con los arrays unidimensionales de NumPy. La diferencia esencial es la presencia del índice: Mientras que un array de NumPy tiene un índice entero **implícitamente definido** que se usa para acceder a los valores, las *Series* de Pandas tienen un índice **explícitamente definido** asociado a los valores.\n",
        "\n",
        "Esta definición de índice explícito le da a los objetos *Series* capacidades adicionales. Por ejemplo, el índice no tiene por qué ser necesariamente un número entero, puede constar de valores de cualquier tipo que desees. Por ejemplo, si queremos, podemos usar strings como índice."
      ]
    },
    {
      "cell_type": "code",
      "metadata": {
        "colab": {
          "base_uri": "https://localhost:8080/"
        },
        "id": "s2ZxHd0s9HTQ",
        "outputId": "8e9be221-4dc9-4801-8ca1-4f9f4658bd4f"
      },
      "source": [
        "data = pd.Series([0.25, 0.5, 0.75, 1.0],\n",
        "                 index=['a', 'b', 'c', 'd'])\n",
        "data"
      ],
      "execution_count": 10,
      "outputs": [
        {
          "output_type": "execute_result",
          "data": {
            "text/plain": [
              "a    0.25\n",
              "b    0.50\n",
              "c    0.75\n",
              "d    1.00\n",
              "dtype: float64"
            ]
          },
          "metadata": {
            "tags": []
          },
          "execution_count": 10
        }
      ]
    },
    {
      "cell_type": "code",
      "metadata": {
        "colab": {
          "base_uri": "https://localhost:8080/"
        },
        "id": "okz0IWB3EsNO",
        "outputId": "f06c98da-e9b5-463c-e122-df697f2c8574"
      },
      "source": [
        "data['b']"
      ],
      "execution_count": 11,
      "outputs": [
        {
          "output_type": "execute_result",
          "data": {
            "text/plain": [
              "0.5"
            ]
          },
          "metadata": {
            "tags": []
          },
          "execution_count": 11
        }
      ]
    },
    {
      "cell_type": "code",
      "metadata": {
        "colab": {
          "base_uri": "https://localhost:8080/"
        },
        "id": "lK0KYomcEud7",
        "outputId": "acbbf9dc-eee6-43de-c1a2-51e8efa93902"
      },
      "source": [
        "data = pd.Series([0.25, 0.5, 0.75, 1.0],\n",
        "                 index=[2, 5, 3, 7])\n",
        "data"
      ],
      "execution_count": 12,
      "outputs": [
        {
          "output_type": "execute_result",
          "data": {
            "text/plain": [
              "2    0.25\n",
              "5    0.50\n",
              "3    0.75\n",
              "7    1.00\n",
              "dtype: float64"
            ]
          },
          "metadata": {
            "tags": []
          },
          "execution_count": 12
        }
      ]
    },
    {
      "cell_type": "markdown",
      "metadata": {
        "id": "PNJx5A_jE8Ep"
      },
      "source": [
        "#### Series como un diccionario\n",
        "\n",
        "En este punto, ya puedes empezar a pensar en *Series* como una especialización de un diccionario de Python. Un diccionario es una estructura que asigna claves a un conjunto de valores arbitrarios, y un *Series* es una estructura que asigna claves escritas a un conjunto de valores escritos.\n",
        "\n",
        "Esto es importante ya que, al igual que los arrays de NumPy son mucho más eficientes que las listas de Python para cierto tipo de operaciones, los *Series* de Pandas son mucho más eficientes que los diccionarios de Python para cierto tipo de operaciones.\n",
        "\n",
        "Podemos hacer que la analogía de *Series* como diccionario sea aún más clara construyendo un objeto *Series* directamente desde un diccionario de Python:"
      ]
    },
    {
      "cell_type": "code",
      "metadata": {
        "colab": {
          "base_uri": "https://localhost:8080/"
        },
        "id": "k7qBYOb7E3tt",
        "outputId": "4ae42a7b-3e61-4243-b9a6-3e44c3edc7f9"
      },
      "source": [
        "population_dict = {'California': 38332521,\n",
        "                   'Texas': 26448193,\n",
        "                   'New York': 19651127,\n",
        "                   'Florida': 19552860,\n",
        "                   'Illinois': 12882135}\n",
        "\n",
        "population = pd.Series(population_dict)\n",
        "population"
      ],
      "execution_count": 13,
      "outputs": [
        {
          "output_type": "execute_result",
          "data": {
            "text/plain": [
              "California    38332521\n",
              "Texas         26448193\n",
              "New York      19651127\n",
              "Florida       19552860\n",
              "Illinois      12882135\n",
              "dtype: int64"
            ]
          },
          "metadata": {
            "tags": []
          },
          "execution_count": 13
        }
      ]
    },
    {
      "cell_type": "markdown",
      "metadata": {
        "id": "mcNLWBhjJmZY"
      },
      "source": [
        "De forma predeterminada, se creará un *Series* donde el índice se extrae de las claves ordenadas. Desde aquí, se puede realizar el acceso típico a elementos de estilo diccionario.:"
      ]
    },
    {
      "cell_type": "code",
      "metadata": {
        "colab": {
          "base_uri": "https://localhost:8080/"
        },
        "id": "kz-VJJtFJhSx",
        "outputId": "2869898b-6d0f-4cf2-d124-1afc6979020d"
      },
      "source": [
        "population['California']"
      ],
      "execution_count": 14,
      "outputs": [
        {
          "output_type": "execute_result",
          "data": {
            "text/plain": [
              "38332521"
            ]
          },
          "metadata": {
            "tags": []
          },
          "execution_count": 14
        }
      ]
    },
    {
      "cell_type": "markdown",
      "metadata": {
        "id": "vwPu_6otLREn"
      },
      "source": [
        "A diferencia de un diccionario, los *Series* permiten también operaciones al estilo array como el *slicing*:"
      ]
    },
    {
      "cell_type": "code",
      "metadata": {
        "colab": {
          "base_uri": "https://localhost:8080/"
        },
        "id": "1Kajj0ODLJsp",
        "outputId": "3a56187b-43de-4a07-d290-234120ce4368"
      },
      "source": [
        "population['California':'Florida']"
      ],
      "execution_count": 15,
      "outputs": [
        {
          "output_type": "execute_result",
          "data": {
            "text/plain": [
              "California    38332521\n",
              "Texas         26448193\n",
              "New York      19651127\n",
              "Florida       19552860\n",
              "dtype: int64"
            ]
          },
          "metadata": {
            "tags": []
          },
          "execution_count": 15
        }
      ]
    },
    {
      "cell_type": "markdown",
      "metadata": {
        "id": "tGj-3dGeSgyX"
      },
      "source": [
        "#### Construyendo Series\n",
        "\n",
        "Ya hemos visto algunas formas de construir un *Series* de Pandas. Todas ellas son alguna versión de:\n",
        "\n",
        "    pd.Series(data, index=index)\n",
        "\n",
        "Por ejemplo, la variable `data` que creamos antes puede ser una lista o un array de NumPy, en cada caso el índice predeterminado es una secuencia de enteros:"
      ]
    },
    {
      "cell_type": "code",
      "metadata": {
        "colab": {
          "base_uri": "https://localhost:8080/"
        },
        "id": "Yis_J3zHLkB0",
        "outputId": "b0d41f28-9237-40de-edf6-b186f8fb82e1"
      },
      "source": [
        "pd.Series([2, 4, 6])"
      ],
      "execution_count": 16,
      "outputs": [
        {
          "output_type": "execute_result",
          "data": {
            "text/plain": [
              "0    2\n",
              "1    4\n",
              "2    6\n",
              "dtype: int64"
            ]
          },
          "metadata": {
            "tags": []
          },
          "execution_count": 16
        }
      ]
    },
    {
      "cell_type": "markdown",
      "metadata": {
        "id": "9_ZFSvsbTgpA"
      },
      "source": [
        "`data` puede ser un escalar, el cual se repetirá para rellenar los índices especificados:"
      ]
    },
    {
      "cell_type": "code",
      "metadata": {
        "colab": {
          "base_uri": "https://localhost:8080/"
        },
        "id": "wHCTqgdYTc5W",
        "outputId": "04031d70-6e8e-40ce-bb61-9fb15fb950fa"
      },
      "source": [
        "pd.Series(5, index=[100, 200, 300])"
      ],
      "execution_count": 17,
      "outputs": [
        {
          "output_type": "execute_result",
          "data": {
            "text/plain": [
              "100    5\n",
              "200    5\n",
              "300    5\n",
              "dtype: int64"
            ]
          },
          "metadata": {
            "tags": []
          },
          "execution_count": 17
        }
      ]
    },
    {
      "cell_type": "markdown",
      "metadata": {
        "id": "SA1TMHC1TyP2"
      },
      "source": [
        "`data` puede ser un diccionario, cuyo índice predeterminado serán las claves del diccionario."
      ]
    },
    {
      "cell_type": "code",
      "metadata": {
        "colab": {
          "base_uri": "https://localhost:8080/"
        },
        "id": "h-9muu2ETw7k",
        "outputId": "fa59dc04-ae3c-4920-fee4-8e61430145a1"
      },
      "source": [
        "pd.Series({2:'a', 1:'b', 3:'c'})"
      ],
      "execution_count": 18,
      "outputs": [
        {
          "output_type": "execute_result",
          "data": {
            "text/plain": [
              "2    a\n",
              "1    b\n",
              "3    c\n",
              "dtype: object"
            ]
          },
          "metadata": {
            "tags": []
          },
          "execution_count": 18
        }
      ]
    },
    {
      "cell_type": "markdown",
      "metadata": {
        "id": "irrbSukQUP2X"
      },
      "source": [
        "En cada caso, el índice se puede establecer explícitamente si se prefiere un resultado diferente:"
      ]
    },
    {
      "cell_type": "code",
      "metadata": {
        "colab": {
          "base_uri": "https://localhost:8080/"
        },
        "id": "FQmpTC8XUHCa",
        "outputId": "465b8255-24b9-4212-8dd6-cc889e844e5a"
      },
      "source": [
        "pd.Series({2:'a', 1:'b', 3:'c'}, index=[3, 2])"
      ],
      "execution_count": 19,
      "outputs": [
        {
          "output_type": "execute_result",
          "data": {
            "text/plain": [
              "3    c\n",
              "2    a\n",
              "dtype: object"
            ]
          },
          "metadata": {
            "tags": []
          },
          "execution_count": 19
        }
      ]
    },
    {
      "cell_type": "markdown",
      "metadata": {
        "id": "9g-64BVRU7P2"
      },
      "source": [
        "Ten en cuenta que en este caso, el *Series* se completa solo con las claves identificadas explícitamente"
      ]
    },
    {
      "cell_type": "markdown",
      "metadata": {
        "id": "ci88FmMjcwoG"
      },
      "source": [
        "### DataFrame"
      ]
    },
    {
      "cell_type": "markdown",
      "metadata": {
        "id": "-uPd3XehVXYP"
      },
      "source": [
        "#### DataFrame como arrays de NumPy\n",
        "\n",
        "Si un *Series* es un análogo de un array unidimensional con índices flexibles, un *DataFrame* es un análogo de un array bidimensional con índices de fila flexibles y nombres de columna flexibles.\n",
        "\n",
        "Si tú imaginaste un array bidimensional como una secuencia ordenada de columnas unidimensionales alineadas, puedes pensar en un *DataFrame* como una secuencia de objetos *Series* alineados. Aquí, por \"alineados\" me refiero a que comparten el mismo índice.\n",
        "\n",
        "Para demostrar esto, vamos a construir primero un nuevo *Series* con las áreas de cada uno de los 5 estados que vimos en la sección anterior:"
      ]
    },
    {
      "cell_type": "code",
      "metadata": {
        "colab": {
          "base_uri": "https://localhost:8080/"
        },
        "id": "K6U3pHXQU2RE",
        "outputId": "54370d3a-f300-4e95-8152-bc3fff85228e"
      },
      "source": [
        "area_dict = {'California': 423967,\n",
        "             'Texas': 695662, \n",
        "             'New York': 141297, \n",
        "             'Florida': 170312, \n",
        "             'Illinois': 149995}\n",
        "\n",
        "area = pd.Series(area_dict)\n",
        "area"
      ],
      "execution_count": 20,
      "outputs": [
        {
          "output_type": "execute_result",
          "data": {
            "text/plain": [
              "California    423967\n",
              "Texas         695662\n",
              "New York      141297\n",
              "Florida       170312\n",
              "Illinois      149995\n",
              "dtype: int64"
            ]
          },
          "metadata": {
            "tags": []
          },
          "execution_count": 20
        }
      ]
    },
    {
      "cell_type": "markdown",
      "metadata": {
        "id": "1BE_Mx86YNmV"
      },
      "source": [
        "Ahora que tenemos las áreas asignadas, vamos a hacer un diccionario para construir un objeto de dos dimensiones que contiene esta información."
      ]
    },
    {
      "cell_type": "code",
      "metadata": {
        "colab": {
          "base_uri": "https://localhost:8080/",
          "height": 195
        },
        "id": "x-8WW5p7YCCE",
        "outputId": "38f5bf40-d909-4330-8c58-7d9ff3ea6d0c"
      },
      "source": [
        "states = pd.DataFrame({'Population': population,\n",
        "                       'Area': area})\n",
        "states"
      ],
      "execution_count": 21,
      "outputs": [
        {
          "output_type": "execute_result",
          "data": {
            "text/html": [
              "<div>\n",
              "<style scoped>\n",
              "    .dataframe tbody tr th:only-of-type {\n",
              "        vertical-align: middle;\n",
              "    }\n",
              "\n",
              "    .dataframe tbody tr th {\n",
              "        vertical-align: top;\n",
              "    }\n",
              "\n",
              "    .dataframe thead th {\n",
              "        text-align: right;\n",
              "    }\n",
              "</style>\n",
              "<table border=\"1\" class=\"dataframe\">\n",
              "  <thead>\n",
              "    <tr style=\"text-align: right;\">\n",
              "      <th></th>\n",
              "      <th>Population</th>\n",
              "      <th>Area</th>\n",
              "    </tr>\n",
              "  </thead>\n",
              "  <tbody>\n",
              "    <tr>\n",
              "      <th>California</th>\n",
              "      <td>38332521</td>\n",
              "      <td>423967</td>\n",
              "    </tr>\n",
              "    <tr>\n",
              "      <th>Texas</th>\n",
              "      <td>26448193</td>\n",
              "      <td>695662</td>\n",
              "    </tr>\n",
              "    <tr>\n",
              "      <th>New York</th>\n",
              "      <td>19651127</td>\n",
              "      <td>141297</td>\n",
              "    </tr>\n",
              "    <tr>\n",
              "      <th>Florida</th>\n",
              "      <td>19552860</td>\n",
              "      <td>170312</td>\n",
              "    </tr>\n",
              "    <tr>\n",
              "      <th>Illinois</th>\n",
              "      <td>12882135</td>\n",
              "      <td>149995</td>\n",
              "    </tr>\n",
              "  </tbody>\n",
              "</table>\n",
              "</div>"
            ],
            "text/plain": [
              "            Population    Area\n",
              "California    38332521  423967\n",
              "Texas         26448193  695662\n",
              "New York      19651127  141297\n",
              "Florida       19552860  170312\n",
              "Illinois      12882135  149995"
            ]
          },
          "metadata": {
            "tags": []
          },
          "execution_count": 21
        }
      ]
    },
    {
      "cell_type": "markdown",
      "metadata": {
        "id": "AHKwMQt0ZOE9"
      },
      "source": [
        "Como los objetos *Series*, el *DataFrame* tiene un atributo `index` que da acceso a los índices."
      ]
    },
    {
      "cell_type": "code",
      "metadata": {
        "colab": {
          "base_uri": "https://localhost:8080/"
        },
        "id": "DlS-pRGOZFDP",
        "outputId": "09d7e086-ab9d-439d-c20e-037452cc1975"
      },
      "source": [
        "states.index"
      ],
      "execution_count": 22,
      "outputs": [
        {
          "output_type": "execute_result",
          "data": {
            "text/plain": [
              "Index(['California', 'Texas', 'New York', 'Florida', 'Illinois'], dtype='object')"
            ]
          },
          "metadata": {
            "tags": []
          },
          "execution_count": 22
        }
      ]
    },
    {
      "cell_type": "markdown",
      "metadata": {
        "id": "3TV2NUsDd8JF"
      },
      "source": [
        "Además, el *DataFrame* tiene el atributo `columns`, el cual es un objeto *Index* que contiene las columnas."
      ]
    },
    {
      "cell_type": "code",
      "metadata": {
        "colab": {
          "base_uri": "https://localhost:8080/"
        },
        "id": "UnSDcUJwdzrT",
        "outputId": "43d4b7cb-cee4-40d0-bd9f-1f92052be354"
      },
      "source": [
        "states.columns"
      ],
      "execution_count": 23,
      "outputs": [
        {
          "output_type": "execute_result",
          "data": {
            "text/plain": [
              "Index(['Population', 'Area'], dtype='object')"
            ]
          },
          "metadata": {
            "tags": []
          },
          "execution_count": 23
        }
      ]
    },
    {
      "cell_type": "markdown",
      "metadata": {
        "id": "zKz8eX4NedoU"
      },
      "source": [
        "#### DataFrame como un diccionario\n",
        "\n",
        "También podemos pensar en un *DataFrame* como una especialización de un diccionario. Donde un diccionario asigna una clave a un valor, un *DataFrame* asigna un nombre de columna a una columna de datos tipo *Series*. Por ejemplo, si preguntas por el atributo `area` retorna el objeto *Series* que contiene todas las áreas:"
      ]
    },
    {
      "cell_type": "code",
      "metadata": {
        "colab": {
          "base_uri": "https://localhost:8080/"
        },
        "id": "B0JvmI5KeVlr",
        "outputId": "e96fec9d-5b79-46cb-bb6f-63afe89881b3"
      },
      "source": [
        "states['Area']"
      ],
      "execution_count": 24,
      "outputs": [
        {
          "output_type": "execute_result",
          "data": {
            "text/plain": [
              "California    423967\n",
              "Texas         695662\n",
              "New York      141297\n",
              "Florida       170312\n",
              "Illinois      149995\n",
              "Name: Area, dtype: int64"
            ]
          },
          "metadata": {
            "tags": []
          },
          "execution_count": 24
        }
      ]
    },
    {
      "cell_type": "markdown",
      "metadata": {
        "id": "oqaNZm5KfxN8"
      },
      "source": [
        "Date cuenta de la confusión potencial de este punto: en un array bidimensional de NumPy, `data[0]` retornaría la primera fila. Para un *DataFrame*, `data['col0']` retornaría la primera columna"
      ]
    },
    {
      "cell_type": "markdown",
      "metadata": {
        "id": "nDbIRRiogk1s"
      },
      "source": [
        "#### Construyendo DataFrames\n",
        "\n",
        "Un *DataFrame* de Pandas puede ser construído de diferentes formas:"
      ]
    },
    {
      "cell_type": "code",
      "metadata": {
        "colab": {
          "base_uri": "https://localhost:8080/",
          "height": 195
        },
        "id": "TAjckWOAfpYZ",
        "outputId": "8e453716-4941-405f-ec51-dfdc7ec007e5"
      },
      "source": [
        "# 1. A partir de un solo objeto Series:\n",
        "pd.DataFrame(population, columns=['population'])"
      ],
      "execution_count": 25,
      "outputs": [
        {
          "output_type": "execute_result",
          "data": {
            "text/html": [
              "<div>\n",
              "<style scoped>\n",
              "    .dataframe tbody tr th:only-of-type {\n",
              "        vertical-align: middle;\n",
              "    }\n",
              "\n",
              "    .dataframe tbody tr th {\n",
              "        vertical-align: top;\n",
              "    }\n",
              "\n",
              "    .dataframe thead th {\n",
              "        text-align: right;\n",
              "    }\n",
              "</style>\n",
              "<table border=\"1\" class=\"dataframe\">\n",
              "  <thead>\n",
              "    <tr style=\"text-align: right;\">\n",
              "      <th></th>\n",
              "      <th>population</th>\n",
              "    </tr>\n",
              "  </thead>\n",
              "  <tbody>\n",
              "    <tr>\n",
              "      <th>California</th>\n",
              "      <td>38332521</td>\n",
              "    </tr>\n",
              "    <tr>\n",
              "      <th>Texas</th>\n",
              "      <td>26448193</td>\n",
              "    </tr>\n",
              "    <tr>\n",
              "      <th>New York</th>\n",
              "      <td>19651127</td>\n",
              "    </tr>\n",
              "    <tr>\n",
              "      <th>Florida</th>\n",
              "      <td>19552860</td>\n",
              "    </tr>\n",
              "    <tr>\n",
              "      <th>Illinois</th>\n",
              "      <td>12882135</td>\n",
              "    </tr>\n",
              "  </tbody>\n",
              "</table>\n",
              "</div>"
            ],
            "text/plain": [
              "            population\n",
              "California    38332521\n",
              "Texas         26448193\n",
              "New York      19651127\n",
              "Florida       19552860\n",
              "Illinois      12882135"
            ]
          },
          "metadata": {
            "tags": []
          },
          "execution_count": 25
        }
      ]
    },
    {
      "cell_type": "code",
      "metadata": {
        "colab": {
          "base_uri": "https://localhost:8080/",
          "height": 136
        },
        "id": "vZ4QPLpShoL8",
        "outputId": "02da2bcd-6ef5-4062-dccb-465104ec8a8e"
      },
      "source": [
        "# 2. A partir de una lista de diccionarios (con list comprehension):\n",
        "data = [{'a': i, 'b': 2 * i} for i in range(3)]\n",
        "pd.DataFrame(data)"
      ],
      "execution_count": 26,
      "outputs": [
        {
          "output_type": "execute_result",
          "data": {
            "text/html": [
              "<div>\n",
              "<style scoped>\n",
              "    .dataframe tbody tr th:only-of-type {\n",
              "        vertical-align: middle;\n",
              "    }\n",
              "\n",
              "    .dataframe tbody tr th {\n",
              "        vertical-align: top;\n",
              "    }\n",
              "\n",
              "    .dataframe thead th {\n",
              "        text-align: right;\n",
              "    }\n",
              "</style>\n",
              "<table border=\"1\" class=\"dataframe\">\n",
              "  <thead>\n",
              "    <tr style=\"text-align: right;\">\n",
              "      <th></th>\n",
              "      <th>a</th>\n",
              "      <th>b</th>\n",
              "    </tr>\n",
              "  </thead>\n",
              "  <tbody>\n",
              "    <tr>\n",
              "      <th>0</th>\n",
              "      <td>0</td>\n",
              "      <td>0</td>\n",
              "    </tr>\n",
              "    <tr>\n",
              "      <th>1</th>\n",
              "      <td>1</td>\n",
              "      <td>2</td>\n",
              "    </tr>\n",
              "    <tr>\n",
              "      <th>2</th>\n",
              "      <td>2</td>\n",
              "      <td>4</td>\n",
              "    </tr>\n",
              "  </tbody>\n",
              "</table>\n",
              "</div>"
            ],
            "text/plain": [
              "   a  b\n",
              "0  0  0\n",
              "1  1  2\n",
              "2  2  4"
            ]
          },
          "metadata": {
            "tags": []
          },
          "execution_count": 26
        }
      ]
    },
    {
      "cell_type": "code",
      "metadata": {
        "colab": {
          "base_uri": "https://localhost:8080/",
          "height": 106
        },
        "id": "AM-CwSfeiIPq",
        "outputId": "b6889d73-712f-4923-fb45-a757d87cd48d"
      },
      "source": [
        "# Si algunas claves del diccionario no existen, Pandas las 'rellena' con valores NaN:\n",
        "pd.DataFrame([{'a': 1, 'b': 2}, {'b': 3, 'c': 4}])"
      ],
      "execution_count": 27,
      "outputs": [
        {
          "output_type": "execute_result",
          "data": {
            "text/html": [
              "<div>\n",
              "<style scoped>\n",
              "    .dataframe tbody tr th:only-of-type {\n",
              "        vertical-align: middle;\n",
              "    }\n",
              "\n",
              "    .dataframe tbody tr th {\n",
              "        vertical-align: top;\n",
              "    }\n",
              "\n",
              "    .dataframe thead th {\n",
              "        text-align: right;\n",
              "    }\n",
              "</style>\n",
              "<table border=\"1\" class=\"dataframe\">\n",
              "  <thead>\n",
              "    <tr style=\"text-align: right;\">\n",
              "      <th></th>\n",
              "      <th>a</th>\n",
              "      <th>b</th>\n",
              "      <th>c</th>\n",
              "    </tr>\n",
              "  </thead>\n",
              "  <tbody>\n",
              "    <tr>\n",
              "      <th>0</th>\n",
              "      <td>1.0</td>\n",
              "      <td>2</td>\n",
              "      <td>NaN</td>\n",
              "    </tr>\n",
              "    <tr>\n",
              "      <th>1</th>\n",
              "      <td>NaN</td>\n",
              "      <td>3</td>\n",
              "      <td>4.0</td>\n",
              "    </tr>\n",
              "  </tbody>\n",
              "</table>\n",
              "</div>"
            ],
            "text/plain": [
              "     a  b    c\n",
              "0  1.0  2  NaN\n",
              "1  NaN  3  4.0"
            ]
          },
          "metadata": {
            "tags": []
          },
          "execution_count": 27
        }
      ]
    },
    {
      "cell_type": "code",
      "metadata": {
        "colab": {
          "base_uri": "https://localhost:8080/",
          "height": 195
        },
        "id": "BD1iis6vizjH",
        "outputId": "4d60ab9b-2d8a-44e7-e3b2-920a965b94fa"
      },
      "source": [
        "# 3. A partir de un diccionario de objetos Series:\n",
        "pd.DataFrame({'population': population, \n",
        "              'area': area})"
      ],
      "execution_count": 28,
      "outputs": [
        {
          "output_type": "execute_result",
          "data": {
            "text/html": [
              "<div>\n",
              "<style scoped>\n",
              "    .dataframe tbody tr th:only-of-type {\n",
              "        vertical-align: middle;\n",
              "    }\n",
              "\n",
              "    .dataframe tbody tr th {\n",
              "        vertical-align: top;\n",
              "    }\n",
              "\n",
              "    .dataframe thead th {\n",
              "        text-align: right;\n",
              "    }\n",
              "</style>\n",
              "<table border=\"1\" class=\"dataframe\">\n",
              "  <thead>\n",
              "    <tr style=\"text-align: right;\">\n",
              "      <th></th>\n",
              "      <th>population</th>\n",
              "      <th>area</th>\n",
              "    </tr>\n",
              "  </thead>\n",
              "  <tbody>\n",
              "    <tr>\n",
              "      <th>California</th>\n",
              "      <td>38332521</td>\n",
              "      <td>423967</td>\n",
              "    </tr>\n",
              "    <tr>\n",
              "      <th>Texas</th>\n",
              "      <td>26448193</td>\n",
              "      <td>695662</td>\n",
              "    </tr>\n",
              "    <tr>\n",
              "      <th>New York</th>\n",
              "      <td>19651127</td>\n",
              "      <td>141297</td>\n",
              "    </tr>\n",
              "    <tr>\n",
              "      <th>Florida</th>\n",
              "      <td>19552860</td>\n",
              "      <td>170312</td>\n",
              "    </tr>\n",
              "    <tr>\n",
              "      <th>Illinois</th>\n",
              "      <td>12882135</td>\n",
              "      <td>149995</td>\n",
              "    </tr>\n",
              "  </tbody>\n",
              "</table>\n",
              "</div>"
            ],
            "text/plain": [
              "            population    area\n",
              "California    38332521  423967\n",
              "Texas         26448193  695662\n",
              "New York      19651127  141297\n",
              "Florida       19552860  170312\n",
              "Illinois      12882135  149995"
            ]
          },
          "metadata": {
            "tags": []
          },
          "execution_count": 28
        }
      ]
    },
    {
      "cell_type": "code",
      "metadata": {
        "colab": {
          "base_uri": "https://localhost:8080/",
          "height": 136
        },
        "id": "bATkiWrhjVIV",
        "outputId": "eaf2e2b1-54ae-4e44-d125-9aefdf87256a"
      },
      "source": [
        "# 4. A partir de un array de NumPy bidimensional:\n",
        "pd.DataFrame(np.random.randn(3, 2), \n",
        "             columns= ['foo', 'bar'], \n",
        "             index=['a', 'b', 'c'])"
      ],
      "execution_count": 29,
      "outputs": [
        {
          "output_type": "execute_result",
          "data": {
            "text/html": [
              "<div>\n",
              "<style scoped>\n",
              "    .dataframe tbody tr th:only-of-type {\n",
              "        vertical-align: middle;\n",
              "    }\n",
              "\n",
              "    .dataframe tbody tr th {\n",
              "        vertical-align: top;\n",
              "    }\n",
              "\n",
              "    .dataframe thead th {\n",
              "        text-align: right;\n",
              "    }\n",
              "</style>\n",
              "<table border=\"1\" class=\"dataframe\">\n",
              "  <thead>\n",
              "    <tr style=\"text-align: right;\">\n",
              "      <th></th>\n",
              "      <th>foo</th>\n",
              "      <th>bar</th>\n",
              "    </tr>\n",
              "  </thead>\n",
              "  <tbody>\n",
              "    <tr>\n",
              "      <th>a</th>\n",
              "      <td>-1.184719</td>\n",
              "      <td>0.901229</td>\n",
              "    </tr>\n",
              "    <tr>\n",
              "      <th>b</th>\n",
              "      <td>0.439593</td>\n",
              "      <td>1.097230</td>\n",
              "    </tr>\n",
              "    <tr>\n",
              "      <th>c</th>\n",
              "      <td>0.432783</td>\n",
              "      <td>-1.697138</td>\n",
              "    </tr>\n",
              "  </tbody>\n",
              "</table>\n",
              "</div>"
            ],
            "text/plain": [
              "        foo       bar\n",
              "a -1.184719  0.901229\n",
              "b  0.439593  1.097230\n",
              "c  0.432783 -1.697138"
            ]
          },
          "metadata": {
            "tags": []
          },
          "execution_count": 29
        }
      ]
    },
    {
      "cell_type": "code",
      "metadata": {
        "colab": {
          "base_uri": "https://localhost:8080/"
        },
        "id": "pCfIigIcj1YN",
        "outputId": "48756c0c-71fc-47cd-8aa5-a381219589ce"
      },
      "source": [
        "# 5. A partir de un array de NumPy estructurado:\n",
        "A = np.zeros(3, dtype=[('A', 'i8'), ('B', 'f8')])\n",
        "A"
      ],
      "execution_count": 30,
      "outputs": [
        {
          "output_type": "execute_result",
          "data": {
            "text/plain": [
              "array([(0, 0.), (0, 0.), (0, 0.)], dtype=[('A', '<i8'), ('B', '<f8')])"
            ]
          },
          "metadata": {
            "tags": []
          },
          "execution_count": 30
        }
      ]
    },
    {
      "cell_type": "code",
      "metadata": {
        "colab": {
          "base_uri": "https://localhost:8080/",
          "height": 136
        },
        "id": "UGiQP-FwkPCo",
        "outputId": "3e8f2eb7-d80b-4377-d0a1-8c47cd987af0"
      },
      "source": [
        "pd.DataFrame(A)"
      ],
      "execution_count": 31,
      "outputs": [
        {
          "output_type": "execute_result",
          "data": {
            "text/html": [
              "<div>\n",
              "<style scoped>\n",
              "    .dataframe tbody tr th:only-of-type {\n",
              "        vertical-align: middle;\n",
              "    }\n",
              "\n",
              "    .dataframe tbody tr th {\n",
              "        vertical-align: top;\n",
              "    }\n",
              "\n",
              "    .dataframe thead th {\n",
              "        text-align: right;\n",
              "    }\n",
              "</style>\n",
              "<table border=\"1\" class=\"dataframe\">\n",
              "  <thead>\n",
              "    <tr style=\"text-align: right;\">\n",
              "      <th></th>\n",
              "      <th>A</th>\n",
              "      <th>B</th>\n",
              "    </tr>\n",
              "  </thead>\n",
              "  <tbody>\n",
              "    <tr>\n",
              "      <th>0</th>\n",
              "      <td>0</td>\n",
              "      <td>0.0</td>\n",
              "    </tr>\n",
              "    <tr>\n",
              "      <th>1</th>\n",
              "      <td>0</td>\n",
              "      <td>0.0</td>\n",
              "    </tr>\n",
              "    <tr>\n",
              "      <th>2</th>\n",
              "      <td>0</td>\n",
              "      <td>0.0</td>\n",
              "    </tr>\n",
              "  </tbody>\n",
              "</table>\n",
              "</div>"
            ],
            "text/plain": [
              "   A    B\n",
              "0  0  0.0\n",
              "1  0  0.0\n",
              "2  0  0.0"
            ]
          },
          "metadata": {
            "tags": []
          },
          "execution_count": 31
        }
      ]
    },
    {
      "cell_type": "markdown",
      "metadata": {
        "id": "NXosaCXikga9"
      },
      "source": [
        "### Index\n",
        "\n",
        "Hemos visto que tanto los objetos *Series* como los objetos *DataFrames* contienen un índice explícito que te permite referenciar y modificar los datos. Este objeto *Index* es una interesante estructura en sí misma, y se puede considerar como un *array inmutable* o como un *set ordenado* (técnicamente un multiset, ya que *Index* puede contener valores repetidos y un set no).\n",
        "\n",
        "Todo esto tiene unas consecuencias interesantes. Como ejemplo simple, vamos a construir un *Index* a partir de una lista de enteros:"
      ]
    },
    {
      "cell_type": "code",
      "metadata": {
        "colab": {
          "base_uri": "https://localhost:8080/"
        },
        "id": "0rQAoSqkl5L1",
        "outputId": "2041cda2-9b6a-4f57-c41c-3b501c6ba6c2"
      },
      "source": [
        "ind = pd.Index([2, 3, 5, 7, 11])\n",
        "ind"
      ],
      "execution_count": 32,
      "outputs": [
        {
          "output_type": "execute_result",
          "data": {
            "text/plain": [
              "Int64Index([2, 3, 5, 7, 11], dtype='int64')"
            ]
          },
          "metadata": {
            "tags": []
          },
          "execution_count": 32
        }
      ]
    },
    {
      "cell_type": "markdown",
      "metadata": {
        "id": "nJ0tYmLGkkJ0"
      },
      "source": [
        "#### Index como array inmutable\n",
        "\n",
        "El objeto *Index* funciona de muchas formas al igual que lo hace un array. Por ejemplo, podemos usar la notación estandar de Python para recuperar valores o fragmentos:"
      ]
    },
    {
      "cell_type": "code",
      "metadata": {
        "colab": {
          "base_uri": "https://localhost:8080/"
        },
        "id": "EKskOQN6m6Xj",
        "outputId": "d18553e5-f272-45ea-ecad-4b0667ad757a"
      },
      "source": [
        "ind[1]"
      ],
      "execution_count": 33,
      "outputs": [
        {
          "output_type": "execute_result",
          "data": {
            "text/plain": [
              "3"
            ]
          },
          "metadata": {
            "tags": []
          },
          "execution_count": 33
        }
      ]
    },
    {
      "cell_type": "code",
      "metadata": {
        "colab": {
          "base_uri": "https://localhost:8080/"
        },
        "id": "RKNi4BhKm9Rz",
        "outputId": "9cd09b08-5297-43e5-9c8c-f6734f8bc7fb"
      },
      "source": [
        "ind[::2]"
      ],
      "execution_count": 34,
      "outputs": [
        {
          "output_type": "execute_result",
          "data": {
            "text/plain": [
              "Int64Index([2, 5, 11], dtype='int64')"
            ]
          },
          "metadata": {
            "tags": []
          },
          "execution_count": 34
        }
      ]
    },
    {
      "cell_type": "markdown",
      "metadata": {
        "id": "Mg4u09BTnGz6"
      },
      "source": [
        "Los objetos *Index* también tienen muchos atributos familiares de los arrays de NumPy:"
      ]
    },
    {
      "cell_type": "code",
      "metadata": {
        "colab": {
          "base_uri": "https://localhost:8080/"
        },
        "id": "3ZxNrKEVm_iB",
        "outputId": "4807ec9d-48da-4a82-fada-3d5d0557921b"
      },
      "source": [
        "print(ind.size, ind.shape, ind.ndim, ind.dtype)"
      ],
      "execution_count": 35,
      "outputs": [
        {
          "output_type": "stream",
          "text": [
            "5 (5,) 1 int64\n"
          ],
          "name": "stdout"
        }
      ]
    },
    {
      "cell_type": "markdown",
      "metadata": {
        "id": "a3GjjM3YoGr7"
      },
      "source": [
        "Una diferencia entre los objetos *Index* y los arrays de NumPy es que los índices son inmutables, es decir, no pueden ser modificados a través de los medios normales:"
      ]
    },
    {
      "cell_type": "code",
      "metadata": {
        "colab": {
          "base_uri": "https://localhost:8080/",
          "height": 279
        },
        "id": "hRFrcRFonhg7",
        "outputId": "8180e03c-cb0a-416d-a98c-ed558b546d89"
      },
      "source": [
        "ind[1] = 0"
      ],
      "execution_count": 37,
      "outputs": [
        {
          "output_type": "error",
          "ename": "TypeError",
          "evalue": "ignored",
          "traceback": [
            "\u001b[0;31m---------------------------------------------------------------------------\u001b[0m",
            "\u001b[0;31mTypeError\u001b[0m                                 Traceback (most recent call last)",
            "\u001b[0;32m<ipython-input-37-906a9fa1424c>\u001b[0m in \u001b[0;36m<module>\u001b[0;34m()\u001b[0m\n\u001b[0;32m----> 1\u001b[0;31m \u001b[0mind\u001b[0m\u001b[0;34m[\u001b[0m\u001b[0;36m1\u001b[0m\u001b[0;34m]\u001b[0m \u001b[0;34m=\u001b[0m \u001b[0;36m0\u001b[0m\u001b[0;34m\u001b[0m\u001b[0;34m\u001b[0m\u001b[0m\n\u001b[0m",
            "\u001b[0;32m/usr/local/lib/python3.7/dist-packages/pandas/core/indexes/base.py\u001b[0m in \u001b[0;36m__setitem__\u001b[0;34m(self, key, value)\u001b[0m\n\u001b[1;32m   4082\u001b[0m \u001b[0;34m\u001b[0m\u001b[0m\n\u001b[1;32m   4083\u001b[0m     \u001b[0;32mdef\u001b[0m \u001b[0m__setitem__\u001b[0m\u001b[0;34m(\u001b[0m\u001b[0mself\u001b[0m\u001b[0;34m,\u001b[0m \u001b[0mkey\u001b[0m\u001b[0;34m,\u001b[0m \u001b[0mvalue\u001b[0m\u001b[0;34m)\u001b[0m\u001b[0;34m:\u001b[0m\u001b[0;34m\u001b[0m\u001b[0;34m\u001b[0m\u001b[0m\n\u001b[0;32m-> 4084\u001b[0;31m         \u001b[0;32mraise\u001b[0m \u001b[0mTypeError\u001b[0m\u001b[0;34m(\u001b[0m\u001b[0;34m\"Index does not support mutable operations\"\u001b[0m\u001b[0;34m)\u001b[0m\u001b[0;34m\u001b[0m\u001b[0;34m\u001b[0m\u001b[0m\n\u001b[0m\u001b[1;32m   4085\u001b[0m \u001b[0;34m\u001b[0m\u001b[0m\n\u001b[1;32m   4086\u001b[0m     \u001b[0;32mdef\u001b[0m \u001b[0m__getitem__\u001b[0m\u001b[0;34m(\u001b[0m\u001b[0mself\u001b[0m\u001b[0;34m,\u001b[0m \u001b[0mkey\u001b[0m\u001b[0;34m)\u001b[0m\u001b[0;34m:\u001b[0m\u001b[0;34m\u001b[0m\u001b[0;34m\u001b[0m\u001b[0m\n",
            "\u001b[0;31mTypeError\u001b[0m: Index does not support mutable operations"
          ]
        }
      ]
    },
    {
      "cell_type": "markdown",
      "metadata": {
        "id": "pbYBq0-cokRK"
      },
      "source": [
        "Esta inmutabilidad hace seguro compartir índices entre múltiples *DataFrames* y arrays sin los posibles efectos secundarios de la modificación inadvertida del índice."
      ]
    },
    {
      "cell_type": "markdown",
      "metadata": {
        "id": "ASA1fLIVpFQi"
      },
      "source": [
        "#### Index como un set ordenado\n",
        "\n",
        "Los objetos Pandas están diseñados para facilitar operaciones como uniones entre conjuntos de datos, que dependen de muchos aspectos de la aritmética de conjuntos. Los objetos *Index* siguen muchas de las convenciones usadas por las estructuras de datos de los *sets* de Python puro, así las uniones, intersecciones, diferencias y otras combinaciones pueden ser calculadas de forma similar:"
      ]
    },
    {
      "cell_type": "code",
      "metadata": {
        "id": "wu9HL3Gfoe9p"
      },
      "source": [
        "indA = pd.Index([1, 3, 5, 7, 9])\n",
        "indB = pd.Index([2, 3, 5, 7, 11])"
      ],
      "execution_count": 39,
      "outputs": []
    },
    {
      "cell_type": "code",
      "metadata": {
        "colab": {
          "base_uri": "https://localhost:8080/"
        },
        "id": "n_RaBpidtRtl",
        "outputId": "014ca650-c1c7-4267-9962-9cfd328ed86c"
      },
      "source": [
        "indA & indB # Intersección (and)"
      ],
      "execution_count": 40,
      "outputs": [
        {
          "output_type": "execute_result",
          "data": {
            "text/plain": [
              "Int64Index([3, 5, 7], dtype='int64')"
            ]
          },
          "metadata": {
            "tags": []
          },
          "execution_count": 40
        }
      ]
    },
    {
      "cell_type": "code",
      "metadata": {
        "colab": {
          "base_uri": "https://localhost:8080/"
        },
        "id": "noi80C5DtXHZ",
        "outputId": "b116c63d-d9eb-4cb7-84e4-4b8d728e4e25"
      },
      "source": [
        "indA | indB # Unión (or)"
      ],
      "execution_count": 41,
      "outputs": [
        {
          "output_type": "execute_result",
          "data": {
            "text/plain": [
              "Int64Index([1, 2, 3, 5, 7, 9, 11], dtype='int64')"
            ]
          },
          "metadata": {
            "tags": []
          },
          "execution_count": 41
        }
      ]
    },
    {
      "cell_type": "code",
      "metadata": {
        "colab": {
          "base_uri": "https://localhost:8080/"
        },
        "id": "sAXaAzCDtga4",
        "outputId": "0e43e748-4980-4750-e323-985c78f882a0"
      },
      "source": [
        "indA ^ indB # Diferencia simétrica"
      ],
      "execution_count": 42,
      "outputs": [
        {
          "output_type": "execute_result",
          "data": {
            "text/plain": [
              "Int64Index([1, 2, 9, 11], dtype='int64')"
            ]
          },
          "metadata": {
            "tags": []
          },
          "execution_count": 42
        }
      ]
    },
    {
      "cell_type": "code",
      "metadata": {
        "id": "qDP1RahWtok-"
      },
      "source": [
        ""
      ],
      "execution_count": 42,
      "outputs": []
    },
    {
      "cell_type": "markdown",
      "metadata": {
        "id": "F2KOfZvBadIo"
      },
      "source": [
        "## Indexación y selección de datos.\n",
        "\n",
        "En el bloque de NumPy, vimos en detalle los métodos y herramientas para acceder, configurar y modificar valores en los arrays. Estos incluían el *indexing* (ej: `arr[2, 1]`), slicing (ej: `arr[:, 1:5]`), masking (ej: `arr[arr > o]`), fancy indexing (ej: `arr[0, [1, 5]]`) y combinaciones de todos ellos (ej: `arr[:, [1, 5]]`).\n",
        "\n",
        "En este apartado veremos una forma similar para acceder y modificar valores de objetos *Series* y *DataFrames*. Si dominas los patrones que usamos en NumPy, los patrones correspondientes en Pandas son muy similares, aunque tienen algunas peculiaridades a tener en cuenta.\n",
        "\n",
        "Empezaremos con los simples objetos unidimensionales *Series* y luego seguiremos con los objetos *DataFrame*, algo más complicados."
      ]
    },
    {
      "cell_type": "markdown",
      "metadata": {
        "id": "ioKkOOJRdTEP"
      },
      "source": [
        "### Selección de datos en Series\n",
        "\n",
        "Como vimos en la sección anterior, un objeto *Series* se comporta muchas veces como un array de NumPy, y otras veces como un diccionario estandar de Python. Si tenemos en cuenta estas analogías, nos ayudarán a entender los patrones de indexado y selección de datos en estos arrays."
      ]
    },
    {
      "cell_type": "markdown",
      "metadata": {
        "id": "PeePQsHDehkZ"
      },
      "source": [
        "#### Series como diccionarios\n",
        "\n",
        "Como un diccionario, los objetos *Series* proporciona la asignación de una colección de claves a una colección de valores."
      ]
    },
    {
      "cell_type": "code",
      "metadata": {
        "colab": {
          "base_uri": "https://localhost:8080/"
        },
        "id": "ZhYL4owcfLOa",
        "outputId": "9ad3ce8d-57c6-4160-c547-6cb7328236c4"
      },
      "source": [
        "data = pd.Series([0.25, 0.5, 0.75, 1.0], \n",
        "                 index=['a', 'b', 'c', 'd'])\n",
        "data"
      ],
      "execution_count": 43,
      "outputs": [
        {
          "output_type": "execute_result",
          "data": {
            "text/plain": [
              "a    0.25\n",
              "b    0.50\n",
              "c    0.75\n",
              "d    1.00\n",
              "dtype: float64"
            ]
          },
          "metadata": {
            "tags": []
          },
          "execution_count": 43
        }
      ]
    },
    {
      "cell_type": "code",
      "metadata": {
        "colab": {
          "base_uri": "https://localhost:8080/"
        },
        "id": "qSmf86E_faK9",
        "outputId": "1a4e7797-9c11-46e4-fa86-7693bd7c0e6a"
      },
      "source": [
        "data['b']"
      ],
      "execution_count": 44,
      "outputs": [
        {
          "output_type": "execute_result",
          "data": {
            "text/plain": [
              "0.5"
            ]
          },
          "metadata": {
            "tags": []
          },
          "execution_count": 44
        }
      ]
    },
    {
      "cell_type": "markdown",
      "metadata": {
        "id": "J96bSqG3ft6p"
      },
      "source": [
        "También podemos usar las expresiones y métodos de los diccionarios de Python para examinar las claves/índices y valores."
      ]
    },
    {
      "cell_type": "code",
      "metadata": {
        "colab": {
          "base_uri": "https://localhost:8080/"
        },
        "id": "UYbO1U2-fpix",
        "outputId": "874aa059-f64c-4483-c13b-282390debcb5"
      },
      "source": [
        "'a' in data"
      ],
      "execution_count": 45,
      "outputs": [
        {
          "output_type": "execute_result",
          "data": {
            "text/plain": [
              "True"
            ]
          },
          "metadata": {
            "tags": []
          },
          "execution_count": 45
        }
      ]
    },
    {
      "cell_type": "code",
      "metadata": {
        "colab": {
          "base_uri": "https://localhost:8080/"
        },
        "id": "C6ZiX6VngAcG",
        "outputId": "e1422ff5-6e19-43dc-a1c7-a5e08d5c83c0"
      },
      "source": [
        "data.keys()"
      ],
      "execution_count": 46,
      "outputs": [
        {
          "output_type": "execute_result",
          "data": {
            "text/plain": [
              "Index(['a', 'b', 'c', 'd'], dtype='object')"
            ]
          },
          "metadata": {
            "tags": []
          },
          "execution_count": 46
        }
      ]
    },
    {
      "cell_type": "code",
      "metadata": {
        "colab": {
          "base_uri": "https://localhost:8080/"
        },
        "id": "_Ip5T6dZgC5I",
        "outputId": "0149d209-f9d1-4148-bd0f-c267e4553ea8"
      },
      "source": [
        "list(data.items())"
      ],
      "execution_count": 47,
      "outputs": [
        {
          "output_type": "execute_result",
          "data": {
            "text/plain": [
              "[('a', 0.25), ('b', 0.5), ('c', 0.75), ('d', 1.0)]"
            ]
          },
          "metadata": {
            "tags": []
          },
          "execution_count": 47
        }
      ]
    },
    {
      "cell_type": "markdown",
      "metadata": {
        "id": "VpNKkaBFge3y"
      },
      "source": [
        "Los objetos *Series* incluso pueden ser modificados coon la misma sintaxis que usabámos para los diccionarios. Al igual que podías ampliar un diccionario asignándole una nueva clave, con los objetos *Series* es lo mismo: asignándole un nuevo valor de índice:"
      ]
    },
    {
      "cell_type": "code",
      "metadata": {
        "colab": {
          "base_uri": "https://localhost:8080/"
        },
        "id": "xZyPj4cOgHXZ",
        "outputId": "184f5164-3a74-4974-fc5a-a872a2e13cd1"
      },
      "source": [
        "data['e'] = 1.25\n",
        "data"
      ],
      "execution_count": 48,
      "outputs": [
        {
          "output_type": "execute_result",
          "data": {
            "text/plain": [
              "a    0.25\n",
              "b    0.50\n",
              "c    0.75\n",
              "d    1.00\n",
              "e    1.25\n",
              "dtype: float64"
            ]
          },
          "metadata": {
            "tags": []
          },
          "execution_count": 48
        }
      ]
    },
    {
      "cell_type": "markdown",
      "metadata": {
        "id": "CD2s1tcuiOwn"
      },
      "source": [
        "#### Series como arrays 1D\n",
        "\n",
        "Un objeto *Series* se basa en una interfaz similar a un diccionario y proporciona una selección de elementos de estilo de array a través del mismo mecanismo básico que los arrays de NumPy."
      ]
    },
    {
      "cell_type": "code",
      "metadata": {
        "colab": {
          "base_uri": "https://localhost:8080/"
        },
        "id": "VqIeYpCEh2Mr",
        "outputId": "cfe8f0b6-eaee-4af9-8ccc-04a642c20adb"
      },
      "source": [
        "# Slicing con un índice explícito\n",
        "data['a':'c']"
      ],
      "execution_count": 49,
      "outputs": [
        {
          "output_type": "execute_result",
          "data": {
            "text/plain": [
              "a    0.25\n",
              "b    0.50\n",
              "c    0.75\n",
              "dtype: float64"
            ]
          },
          "metadata": {
            "tags": []
          },
          "execution_count": 49
        }
      ]
    },
    {
      "cell_type": "code",
      "metadata": {
        "colab": {
          "base_uri": "https://localhost:8080/"
        },
        "id": "HiuH-VchnQvF",
        "outputId": "fba9e352-7248-404d-98ea-2995da82a08a"
      },
      "source": [
        "# Slicing con un índice entero implícito\n",
        "data[0:2]"
      ],
      "execution_count": 50,
      "outputs": [
        {
          "output_type": "execute_result",
          "data": {
            "text/plain": [
              "a    0.25\n",
              "b    0.50\n",
              "dtype: float64"
            ]
          },
          "metadata": {
            "tags": []
          },
          "execution_count": 50
        }
      ]
    },
    {
      "cell_type": "code",
      "metadata": {
        "colab": {
          "base_uri": "https://localhost:8080/"
        },
        "id": "cDgu1FWBn1Ub",
        "outputId": "e8e6c09a-d700-4429-d31a-dd25ce50ef07"
      },
      "source": [
        "# Masking\n",
        "data[(data > 0.3) & (data < 0.8)]"
      ],
      "execution_count": 51,
      "outputs": [
        {
          "output_type": "execute_result",
          "data": {
            "text/plain": [
              "b    0.50\n",
              "c    0.75\n",
              "dtype: float64"
            ]
          },
          "metadata": {
            "tags": []
          },
          "execution_count": 51
        }
      ]
    },
    {
      "cell_type": "code",
      "metadata": {
        "colab": {
          "base_uri": "https://localhost:8080/"
        },
        "id": "ycEIpjDkoFnB",
        "outputId": "ec283388-4068-4411-ca26-f111b7d050b4"
      },
      "source": [
        "# Fancy index\n",
        "data[['a', 'e']]"
      ],
      "execution_count": 52,
      "outputs": [
        {
          "output_type": "execute_result",
          "data": {
            "text/plain": [
              "a    0.25\n",
              "e    1.25\n",
              "dtype: float64"
            ]
          },
          "metadata": {
            "tags": []
          },
          "execution_count": 52
        }
      ]
    },
    {
      "cell_type": "markdown",
      "metadata": {
        "id": "RbetyWoNoxOe"
      },
      "source": [
        "**IMPORTANTE:** Date cuenta que cuando hacemos slicing con un índice explícito, el índice final es incluído en el fragmento, mientras que si lo hacemos con el índice implícito, el índice final es excluído."
      ]
    },
    {
      "cell_type": "markdown",
      "metadata": {
        "id": "hu-R49ZGpRVM"
      },
      "source": [
        "#### `loc`, `iloc`\n",
        "\n",
        "Esta convención de slicing e inexado puede ser objeto de confusión. Por ejemplo, si tu objeto *Series* tiene un índice entero explícito, una operación de indexado como `data[1]` usaría los índices explícitos; mientras que la operación de slicing como `data[1:3]` usará el índice ímplícito al estilo de Python."
      ]
    },
    {
      "cell_type": "code",
      "metadata": {
        "colab": {
          "base_uri": "https://localhost:8080/"
        },
        "id": "APG582MHoNZH",
        "outputId": "81c56217-bd41-4ee2-9e8a-08f597190745"
      },
      "source": [
        "data = pd.Series(['a', 'b', 'c'], \n",
        "                 index=[1, 3, 5])\n",
        "data"
      ],
      "execution_count": 53,
      "outputs": [
        {
          "output_type": "execute_result",
          "data": {
            "text/plain": [
              "1    a\n",
              "3    b\n",
              "5    c\n",
              "dtype: object"
            ]
          },
          "metadata": {
            "tags": []
          },
          "execution_count": 53
        }
      ]
    },
    {
      "cell_type": "code",
      "metadata": {
        "colab": {
          "base_uri": "https://localhost:8080/",
          "height": 35
        },
        "id": "DlqFrextqluV",
        "outputId": "710a0eeb-2c84-4d0e-c85a-97587e97e3b0"
      },
      "source": [
        "# Indexado con índice explícito\n",
        "data[1]"
      ],
      "execution_count": 54,
      "outputs": [
        {
          "output_type": "execute_result",
          "data": {
            "application/vnd.google.colaboratory.intrinsic+json": {
              "type": "string"
            },
            "text/plain": [
              "'a'"
            ]
          },
          "metadata": {
            "tags": []
          },
          "execution_count": 54
        }
      ]
    },
    {
      "cell_type": "code",
      "metadata": {
        "colab": {
          "base_uri": "https://localhost:8080/"
        },
        "id": "rihmlfYlquKN",
        "outputId": "fc079896-b486-4c2c-bb40-bd98b5d00058"
      },
      "source": [
        "# Slicing con índice implícito.\n",
        "data[1:3]"
      ],
      "execution_count": 55,
      "outputs": [
        {
          "output_type": "execute_result",
          "data": {
            "text/plain": [
              "3    b\n",
              "5    c\n",
              "dtype: object"
            ]
          },
          "metadata": {
            "tags": []
          },
          "execution_count": 55
        }
      ]
    },
    {
      "cell_type": "markdown",
      "metadata": {
        "id": "BDCZ-8xrrDSb"
      },
      "source": [
        "Debido a esta potencial confusión en el caso de índices enteros, Pandas proporciona algunos atributos de indexación que exponen explícitamente ciertos esquemas de indexación.\n",
        "\n",
        "Estos no son métodos funcionales, sino atributos que exponen una interfaz de slicing particular a los datos del *Series*.\n",
        "\n",
        "Primero, el atributo `loc` permite el indexado y el slicing referenciando siempre el índice explícito:"
      ]
    },
    {
      "cell_type": "code",
      "metadata": {
        "colab": {
          "base_uri": "https://localhost:8080/",
          "height": 35
        },
        "id": "0jhmQfkgq9bS",
        "outputId": "1fe50d47-ede9-4e00-df5f-5ee7a1860954"
      },
      "source": [
        "data.loc[1]"
      ],
      "execution_count": 56,
      "outputs": [
        {
          "output_type": "execute_result",
          "data": {
            "application/vnd.google.colaboratory.intrinsic+json": {
              "type": "string"
            },
            "text/plain": [
              "'a'"
            ]
          },
          "metadata": {
            "tags": []
          },
          "execution_count": 56
        }
      ]
    },
    {
      "cell_type": "code",
      "metadata": {
        "colab": {
          "base_uri": "https://localhost:8080/"
        },
        "id": "uqK99NDHs5di",
        "outputId": "9509c9fe-34f5-4366-a076-3c98414a27f5"
      },
      "source": [
        "data.loc[1:3]"
      ],
      "execution_count": 57,
      "outputs": [
        {
          "output_type": "execute_result",
          "data": {
            "text/plain": [
              "1    a\n",
              "3    b\n",
              "dtype: object"
            ]
          },
          "metadata": {
            "tags": []
          },
          "execution_count": 57
        }
      ]
    },
    {
      "cell_type": "markdown",
      "metadata": {
        "id": "zG30t64ptByL"
      },
      "source": [
        "Segundo, el atributo `iloc` permite el indexado y el slicing referenciando siempre el índice implícito al estilo de Python:"
      ]
    },
    {
      "cell_type": "code",
      "metadata": {
        "colab": {
          "base_uri": "https://localhost:8080/",
          "height": 35
        },
        "id": "OnNQ_I7Hs762",
        "outputId": "ed5f3a37-4156-48c0-8137-e4c55ed0dfec"
      },
      "source": [
        "data.iloc[1]"
      ],
      "execution_count": 58,
      "outputs": [
        {
          "output_type": "execute_result",
          "data": {
            "application/vnd.google.colaboratory.intrinsic+json": {
              "type": "string"
            },
            "text/plain": [
              "'b'"
            ]
          },
          "metadata": {
            "tags": []
          },
          "execution_count": 58
        }
      ]
    },
    {
      "cell_type": "code",
      "metadata": {
        "colab": {
          "base_uri": "https://localhost:8080/"
        },
        "id": "a1IQc5LYtUXj",
        "outputId": "b7a467eb-179d-46fb-8dff-29b210f8bd53"
      },
      "source": [
        "data.iloc[1:3]"
      ],
      "execution_count": 59,
      "outputs": [
        {
          "output_type": "execute_result",
          "data": {
            "text/plain": [
              "3    b\n",
              "5    c\n",
              "dtype: object"
            ]
          },
          "metadata": {
            "tags": []
          },
          "execution_count": 59
        }
      ]
    },
    {
      "cell_type": "markdown",
      "metadata": {
        "id": "9Picu4NHujfS"
      },
      "source": [
        "### Selección de datos en DataFrames\n",
        "\n",
        "Recuerda que un *DataFrame* se comporta muchas veces como un array de dos dimensiones o como un array estructurado, y otras veces como un diccionario de *Series* que comparten el mismo índice."
      ]
    },
    {
      "cell_type": "markdown",
      "metadata": {
        "id": "zBpaLweyvrUU"
      },
      "source": [
        "#### DataFrame como un diccionario\n",
        "\n",
        "La primera analogía que tendremos que considerar es al *DataFrame* como un diccionario de objetos *Series* relacionados.\n",
        "\n",
        "Volvamos al ejemplo de las áreas y poblaciones:"
      ]
    },
    {
      "cell_type": "code",
      "metadata": {
        "colab": {
          "base_uri": "https://localhost:8080/",
          "height": 195
        },
        "id": "ZBu5w6BvtZ1J",
        "outputId": "d8f152c8-bada-47e8-86e7-8d4cc0ee208a"
      },
      "source": [
        "area = pd.Series({'California': 423967, \n",
        "                  'Texas': 695662, \n",
        "                  'New York': 141297, \n",
        "                  'Florida': 170312,\n",
        "                  'Illinois': 149995})\n",
        "\n",
        "pop = pd.Series({'California': 38332521, \n",
        "                 'Texas': 26448193, \n",
        "                 'New York': 19651127, \n",
        "                 'Florida': 19552860, \n",
        "                 'Illinois': 12882135})\n",
        "\n",
        "data = pd.DataFrame({'area': area, 'pop': pop})\n",
        "data"
      ],
      "execution_count": 60,
      "outputs": [
        {
          "output_type": "execute_result",
          "data": {
            "text/html": [
              "<div>\n",
              "<style scoped>\n",
              "    .dataframe tbody tr th:only-of-type {\n",
              "        vertical-align: middle;\n",
              "    }\n",
              "\n",
              "    .dataframe tbody tr th {\n",
              "        vertical-align: top;\n",
              "    }\n",
              "\n",
              "    .dataframe thead th {\n",
              "        text-align: right;\n",
              "    }\n",
              "</style>\n",
              "<table border=\"1\" class=\"dataframe\">\n",
              "  <thead>\n",
              "    <tr style=\"text-align: right;\">\n",
              "      <th></th>\n",
              "      <th>area</th>\n",
              "      <th>pop</th>\n",
              "    </tr>\n",
              "  </thead>\n",
              "  <tbody>\n",
              "    <tr>\n",
              "      <th>California</th>\n",
              "      <td>423967</td>\n",
              "      <td>38332521</td>\n",
              "    </tr>\n",
              "    <tr>\n",
              "      <th>Texas</th>\n",
              "      <td>695662</td>\n",
              "      <td>26448193</td>\n",
              "    </tr>\n",
              "    <tr>\n",
              "      <th>New York</th>\n",
              "      <td>141297</td>\n",
              "      <td>19651127</td>\n",
              "    </tr>\n",
              "    <tr>\n",
              "      <th>Florida</th>\n",
              "      <td>170312</td>\n",
              "      <td>19552860</td>\n",
              "    </tr>\n",
              "    <tr>\n",
              "      <th>Illinois</th>\n",
              "      <td>149995</td>\n",
              "      <td>12882135</td>\n",
              "    </tr>\n",
              "  </tbody>\n",
              "</table>\n",
              "</div>"
            ],
            "text/plain": [
              "              area       pop\n",
              "California  423967  38332521\n",
              "Texas       695662  26448193\n",
              "New York    141297  19651127\n",
              "Florida     170312  19552860\n",
              "Illinois    149995  12882135"
            ]
          },
          "metadata": {
            "tags": []
          },
          "execution_count": 60
        }
      ]
    },
    {
      "cell_type": "markdown",
      "metadata": {
        "id": "UFJVU_e2x-pC"
      },
      "source": [
        "Se puede acceder a los *Series* individuales que componen las columnas del *DataFrame* a través de la indexación del nombre de la columna al estilo de diccionario:"
      ]
    },
    {
      "cell_type": "code",
      "metadata": {
        "colab": {
          "base_uri": "https://localhost:8080/"
        },
        "id": "wMyo0RH_x26h",
        "outputId": "84b4ef1c-dba9-40c4-8338-ffb674126974"
      },
      "source": [
        "data['area']"
      ],
      "execution_count": 61,
      "outputs": [
        {
          "output_type": "execute_result",
          "data": {
            "text/plain": [
              "California    423967\n",
              "Texas         695662\n",
              "New York      141297\n",
              "Florida       170312\n",
              "Illinois      149995\n",
              "Name: area, dtype: int64"
            ]
          },
          "metadata": {
            "tags": []
          },
          "execution_count": 61
        }
      ]
    },
    {
      "cell_type": "markdown",
      "metadata": {
        "id": "R5lN529ayiMJ"
      },
      "source": [
        "De forma equivalente, podemos usar el atributo con los nombres de las columnas que son strings."
      ]
    },
    {
      "cell_type": "code",
      "metadata": {
        "colab": {
          "base_uri": "https://localhost:8080/"
        },
        "id": "9Ysy3X9UyZKF",
        "outputId": "7889f206-5a35-469b-df3a-b3bb3a953f6d"
      },
      "source": [
        "data.area"
      ],
      "execution_count": 62,
      "outputs": [
        {
          "output_type": "execute_result",
          "data": {
            "text/plain": [
              "California    423967\n",
              "Texas         695662\n",
              "New York      141297\n",
              "Florida       170312\n",
              "Illinois      149995\n",
              "Name: area, dtype: int64"
            ]
          },
          "metadata": {
            "tags": []
          },
          "execution_count": 62
        }
      ]
    },
    {
      "cell_type": "markdown",
      "metadata": {
        "id": "F48--H3GzJVb"
      },
      "source": [
        "Estas dos formas acceden al mismo objeto:"
      ]
    },
    {
      "cell_type": "code",
      "metadata": {
        "colab": {
          "base_uri": "https://localhost:8080/"
        },
        "id": "RfNWUxcZzFpp",
        "outputId": "72a6daeb-e92d-484d-df76-1fa623f32a5e"
      },
      "source": [
        "data.area is data['area']"
      ],
      "execution_count": 63,
      "outputs": [
        {
          "output_type": "execute_result",
          "data": {
            "text/plain": [
              "True"
            ]
          },
          "metadata": {
            "tags": []
          },
          "execution_count": 63
        }
      ]
    },
    {
      "cell_type": "markdown",
      "metadata": {
        "id": "1iBgMw_kTRDO"
      },
      "source": [
        "Aunque esta forma es bastante fácil y muy usada, hay que tener en cuenta que no funciona siempre. Por ejemplo, si los nombres de las columnas no son strings, o si los nombres de las columnas entran en conflicto con los métodos de un *DataFrame*, este estilo de atributo no es posible.\n",
        "\n",
        "Por ejemplo, un *DataFrame* tiene el método `pop()`, así, `data.pop()` apuntará a esto en vez de a la columna 'pop'."
      ]
    },
    {
      "cell_type": "code",
      "metadata": {
        "colab": {
          "base_uri": "https://localhost:8080/"
        },
        "id": "NBs86Q_nUA_g",
        "outputId": "8a13dbcb-ac30-49f0-99b1-fd3faae0c05b"
      },
      "source": [
        "data.pop is data['pop']"
      ],
      "execution_count": 64,
      "outputs": [
        {
          "output_type": "execute_result",
          "data": {
            "text/plain": [
              "False"
            ]
          },
          "metadata": {
            "tags": []
          },
          "execution_count": 64
        }
      ]
    },
    {
      "cell_type": "markdown",
      "metadata": {
        "id": "4HfxMsAoUbJU"
      },
      "source": [
        "En particular, debes evitar la tentación de probar la asignación de columnas a través de un atributo (Por ejemplo, usar `data['pop'] = z` en vez de `data.pop = z`).\n",
        "\n",
        "Al igual que con los objetos *Series* que vimos anteriormente, esta sintaxis estilo diccionario también se puede usar para modificar el objeto, en este caso para agregar una nueva columna."
      ]
    },
    {
      "cell_type": "code",
      "metadata": {
        "colab": {
          "base_uri": "https://localhost:8080/",
          "height": 195
        },
        "id": "9o61RIYwVsa0",
        "outputId": "6ee766ba-8756-47f1-832c-7b364e3dcbb3"
      },
      "source": [
        "data['density'] = data['pop'] / data['area']\n",
        "data"
      ],
      "execution_count": 66,
      "outputs": [
        {
          "output_type": "execute_result",
          "data": {
            "text/html": [
              "<div>\n",
              "<style scoped>\n",
              "    .dataframe tbody tr th:only-of-type {\n",
              "        vertical-align: middle;\n",
              "    }\n",
              "\n",
              "    .dataframe tbody tr th {\n",
              "        vertical-align: top;\n",
              "    }\n",
              "\n",
              "    .dataframe thead th {\n",
              "        text-align: right;\n",
              "    }\n",
              "</style>\n",
              "<table border=\"1\" class=\"dataframe\">\n",
              "  <thead>\n",
              "    <tr style=\"text-align: right;\">\n",
              "      <th></th>\n",
              "      <th>area</th>\n",
              "      <th>pop</th>\n",
              "      <th>density</th>\n",
              "    </tr>\n",
              "  </thead>\n",
              "  <tbody>\n",
              "    <tr>\n",
              "      <th>California</th>\n",
              "      <td>423967</td>\n",
              "      <td>38332521</td>\n",
              "      <td>90.413926</td>\n",
              "    </tr>\n",
              "    <tr>\n",
              "      <th>Texas</th>\n",
              "      <td>695662</td>\n",
              "      <td>26448193</td>\n",
              "      <td>38.018740</td>\n",
              "    </tr>\n",
              "    <tr>\n",
              "      <th>New York</th>\n",
              "      <td>141297</td>\n",
              "      <td>19651127</td>\n",
              "      <td>139.076746</td>\n",
              "    </tr>\n",
              "    <tr>\n",
              "      <th>Florida</th>\n",
              "      <td>170312</td>\n",
              "      <td>19552860</td>\n",
              "      <td>114.806121</td>\n",
              "    </tr>\n",
              "    <tr>\n",
              "      <th>Illinois</th>\n",
              "      <td>149995</td>\n",
              "      <td>12882135</td>\n",
              "      <td>85.883763</td>\n",
              "    </tr>\n",
              "  </tbody>\n",
              "</table>\n",
              "</div>"
            ],
            "text/plain": [
              "              area       pop     density\n",
              "California  423967  38332521   90.413926\n",
              "Texas       695662  26448193   38.018740\n",
              "New York    141297  19651127  139.076746\n",
              "Florida     170312  19552860  114.806121\n",
              "Illinois    149995  12882135   85.883763"
            ]
          },
          "metadata": {
            "tags": []
          },
          "execution_count": 66
        }
      ]
    },
    {
      "cell_type": "markdown",
      "metadata": {
        "id": "PquUts5xWTjC"
      },
      "source": [
        "Esto muestra una vista previa de la sencilla sintaxis de la aritmética elemento por elemento entre objetos *Series*."
      ]
    },
    {
      "cell_type": "markdown",
      "metadata": {
        "id": "6AUixGnxWjNc"
      },
      "source": [
        "#### DataFrame como array 2-D\n",
        "\n",
        "Como se mencionó anteriormente, podemos imaginar un *DataFrame* como un array de dos dimensiones mejorado. Podemos examinar el array de datos subyacentes sin procesar utilizando el atributo `values`."
      ]
    },
    {
      "cell_type": "code",
      "metadata": {
        "colab": {
          "base_uri": "https://localhost:8080/"
        },
        "id": "4SGzCWHcXMF6",
        "outputId": "5c27cbdf-a26c-41a1-da63-50ab47335aa3"
      },
      "source": [
        "data.values"
      ],
      "execution_count": 67,
      "outputs": [
        {
          "output_type": "execute_result",
          "data": {
            "text/plain": [
              "array([[4.23967000e+05, 3.83325210e+07, 9.04139261e+01],\n",
              "       [6.95662000e+05, 2.64481930e+07, 3.80187404e+01],\n",
              "       [1.41297000e+05, 1.96511270e+07, 1.39076746e+02],\n",
              "       [1.70312000e+05, 1.95528600e+07, 1.14806121e+02],\n",
              "       [1.49995000e+05, 1.28821350e+07, 8.58837628e+01]])"
            ]
          },
          "metadata": {
            "tags": []
          },
          "execution_count": 67
        }
      ]
    },
    {
      "cell_type": "markdown",
      "metadata": {
        "id": "ucp1ilzVkFOk"
      },
      "source": [
        "Con esa imagen en la cabeza, podemos hacer muchas observaciones que ya nos resultan familiares en el *DataFrame*. Por ejemplo, podemos transponer todo el *DataFrame* para intercambiar las filas y las columnas:"
      ]
    },
    {
      "cell_type": "code",
      "metadata": {
        "colab": {
          "base_uri": "https://localhost:8080/",
          "height": 136
        },
        "id": "iN9IV8IKXNop",
        "outputId": "f8bbf153-c6bc-4234-987f-7c0d1c0d26e6"
      },
      "source": [
        "data.T"
      ],
      "execution_count": 68,
      "outputs": [
        {
          "output_type": "execute_result",
          "data": {
            "text/html": [
              "<div>\n",
              "<style scoped>\n",
              "    .dataframe tbody tr th:only-of-type {\n",
              "        vertical-align: middle;\n",
              "    }\n",
              "\n",
              "    .dataframe tbody tr th {\n",
              "        vertical-align: top;\n",
              "    }\n",
              "\n",
              "    .dataframe thead th {\n",
              "        text-align: right;\n",
              "    }\n",
              "</style>\n",
              "<table border=\"1\" class=\"dataframe\">\n",
              "  <thead>\n",
              "    <tr style=\"text-align: right;\">\n",
              "      <th></th>\n",
              "      <th>California</th>\n",
              "      <th>Texas</th>\n",
              "      <th>New York</th>\n",
              "      <th>Florida</th>\n",
              "      <th>Illinois</th>\n",
              "    </tr>\n",
              "  </thead>\n",
              "  <tbody>\n",
              "    <tr>\n",
              "      <th>area</th>\n",
              "      <td>4.239670e+05</td>\n",
              "      <td>6.956620e+05</td>\n",
              "      <td>1.412970e+05</td>\n",
              "      <td>1.703120e+05</td>\n",
              "      <td>1.499950e+05</td>\n",
              "    </tr>\n",
              "    <tr>\n",
              "      <th>pop</th>\n",
              "      <td>3.833252e+07</td>\n",
              "      <td>2.644819e+07</td>\n",
              "      <td>1.965113e+07</td>\n",
              "      <td>1.955286e+07</td>\n",
              "      <td>1.288214e+07</td>\n",
              "    </tr>\n",
              "    <tr>\n",
              "      <th>density</th>\n",
              "      <td>9.041393e+01</td>\n",
              "      <td>3.801874e+01</td>\n",
              "      <td>1.390767e+02</td>\n",
              "      <td>1.148061e+02</td>\n",
              "      <td>8.588376e+01</td>\n",
              "    </tr>\n",
              "  </tbody>\n",
              "</table>\n",
              "</div>"
            ],
            "text/plain": [
              "           California         Texas      New York       Florida      Illinois\n",
              "area     4.239670e+05  6.956620e+05  1.412970e+05  1.703120e+05  1.499950e+05\n",
              "pop      3.833252e+07  2.644819e+07  1.965113e+07  1.955286e+07  1.288214e+07\n",
              "density  9.041393e+01  3.801874e+01  1.390767e+02  1.148061e+02  8.588376e+01"
            ]
          },
          "metadata": {
            "tags": []
          },
          "execution_count": 68
        }
      ]
    },
    {
      "cell_type": "markdown",
      "metadata": {
        "id": "TEB4tFK4uec1"
      },
      "source": [
        "Sin embargo, cuando se trata de indexar objetos *DataFrame*, está claro que la indexación de columnas estilo diccionario excluye nuestra capacidad para tratarlo simplemente como una matriz NumPy. En particular, al pasar un solo índice a una matriz se accede a una fila:"
      ]
    },
    {
      "cell_type": "code",
      "metadata": {
        "colab": {
          "base_uri": "https://localhost:8080/"
        },
        "id": "25I1hZbVvRIc",
        "outputId": "7af51c17-275f-4ec4-dd4c-8822eba12d54"
      },
      "source": [
        "data.values[0]"
      ],
      "execution_count": 69,
      "outputs": [
        {
          "output_type": "execute_result",
          "data": {
            "text/plain": [
              "array([4.23967000e+05, 3.83325210e+07, 9.04139261e+01])"
            ]
          },
          "metadata": {
            "tags": []
          },
          "execution_count": 69
        }
      ]
    },
    {
      "cell_type": "code",
      "metadata": {
        "id": "rCT8hblBvTNl"
      },
      "source": [
        ""
      ],
      "execution_count": null,
      "outputs": []
    },
    {
      "cell_type": "markdown",
      "metadata": {
        "id": "lmArSZFevVOF"
      },
      "source": [
        "y pasar un solo \"índice\" a un DataFrame accede a una columna:"
      ]
    },
    {
      "cell_type": "code",
      "metadata": {
        "colab": {
          "base_uri": "https://localhost:8080/"
        },
        "id": "-A8Nur3pvZrM",
        "outputId": "3be86128-b6fe-4510-cc69-e6e2ef2f6d0b"
      },
      "source": [
        "data['area']"
      ],
      "execution_count": 70,
      "outputs": [
        {
          "output_type": "execute_result",
          "data": {
            "text/plain": [
              "California    423967\n",
              "Texas         695662\n",
              "New York      141297\n",
              "Florida       170312\n",
              "Illinois      149995\n",
              "Name: area, dtype: int64"
            ]
          },
          "metadata": {
            "tags": []
          },
          "execution_count": 70
        }
      ]
    },
    {
      "cell_type": "markdown",
      "metadata": {
        "id": "51ZQwzOqvvIM"
      },
      "source": [
        "Por lo tanto, para la indexación de estilo array, necesitamos otra convención. Aquí **Pandas** usa nuevamente los indexadores `loc` e `iloc` mencionados anteriormente. Usando el indexador `iloc`, podemos indexar la matriz subyacente como si fuera una matriz NumPy simple (usando el índice implícito de estilo Python), pero el índice de *DataFrame* y las etiquetas de columna se mantienen en el resultado:"
      ]
    },
    {
      "cell_type": "code",
      "metadata": {
        "colab": {
          "base_uri": "https://localhost:8080/",
          "height": 136
        },
        "id": "b4x9M7A-v-AU",
        "outputId": "437b2287-137c-4c83-e5b3-2a295e8569d4"
      },
      "source": [
        "data.iloc[:3, :2]"
      ],
      "execution_count": 71,
      "outputs": [
        {
          "output_type": "execute_result",
          "data": {
            "text/html": [
              "<div>\n",
              "<style scoped>\n",
              "    .dataframe tbody tr th:only-of-type {\n",
              "        vertical-align: middle;\n",
              "    }\n",
              "\n",
              "    .dataframe tbody tr th {\n",
              "        vertical-align: top;\n",
              "    }\n",
              "\n",
              "    .dataframe thead th {\n",
              "        text-align: right;\n",
              "    }\n",
              "</style>\n",
              "<table border=\"1\" class=\"dataframe\">\n",
              "  <thead>\n",
              "    <tr style=\"text-align: right;\">\n",
              "      <th></th>\n",
              "      <th>area</th>\n",
              "      <th>pop</th>\n",
              "    </tr>\n",
              "  </thead>\n",
              "  <tbody>\n",
              "    <tr>\n",
              "      <th>California</th>\n",
              "      <td>423967</td>\n",
              "      <td>38332521</td>\n",
              "    </tr>\n",
              "    <tr>\n",
              "      <th>Texas</th>\n",
              "      <td>695662</td>\n",
              "      <td>26448193</td>\n",
              "    </tr>\n",
              "    <tr>\n",
              "      <th>New York</th>\n",
              "      <td>141297</td>\n",
              "      <td>19651127</td>\n",
              "    </tr>\n",
              "  </tbody>\n",
              "</table>\n",
              "</div>"
            ],
            "text/plain": [
              "              area       pop\n",
              "California  423967  38332521\n",
              "Texas       695662  26448193\n",
              "New York    141297  19651127"
            ]
          },
          "metadata": {
            "tags": []
          },
          "execution_count": 71
        }
      ]
    },
    {
      "cell_type": "code",
      "metadata": {
        "colab": {
          "base_uri": "https://localhost:8080/",
          "height": 195
        },
        "id": "wBEvJjcrwBBB",
        "outputId": "fd068f9d-786d-40b6-8281-db71a5bd7498"
      },
      "source": [
        "data.loc[:'Illinois', :'pop']"
      ],
      "execution_count": 72,
      "outputs": [
        {
          "output_type": "execute_result",
          "data": {
            "text/html": [
              "<div>\n",
              "<style scoped>\n",
              "    .dataframe tbody tr th:only-of-type {\n",
              "        vertical-align: middle;\n",
              "    }\n",
              "\n",
              "    .dataframe tbody tr th {\n",
              "        vertical-align: top;\n",
              "    }\n",
              "\n",
              "    .dataframe thead th {\n",
              "        text-align: right;\n",
              "    }\n",
              "</style>\n",
              "<table border=\"1\" class=\"dataframe\">\n",
              "  <thead>\n",
              "    <tr style=\"text-align: right;\">\n",
              "      <th></th>\n",
              "      <th>area</th>\n",
              "      <th>pop</th>\n",
              "    </tr>\n",
              "  </thead>\n",
              "  <tbody>\n",
              "    <tr>\n",
              "      <th>California</th>\n",
              "      <td>423967</td>\n",
              "      <td>38332521</td>\n",
              "    </tr>\n",
              "    <tr>\n",
              "      <th>Texas</th>\n",
              "      <td>695662</td>\n",
              "      <td>26448193</td>\n",
              "    </tr>\n",
              "    <tr>\n",
              "      <th>New York</th>\n",
              "      <td>141297</td>\n",
              "      <td>19651127</td>\n",
              "    </tr>\n",
              "    <tr>\n",
              "      <th>Florida</th>\n",
              "      <td>170312</td>\n",
              "      <td>19552860</td>\n",
              "    </tr>\n",
              "    <tr>\n",
              "      <th>Illinois</th>\n",
              "      <td>149995</td>\n",
              "      <td>12882135</td>\n",
              "    </tr>\n",
              "  </tbody>\n",
              "</table>\n",
              "</div>"
            ],
            "text/plain": [
              "              area       pop\n",
              "California  423967  38332521\n",
              "Texas       695662  26448193\n",
              "New York    141297  19651127\n",
              "Florida     170312  19552860\n",
              "Illinois    149995  12882135"
            ]
          },
          "metadata": {
            "tags": []
          },
          "execution_count": 72
        }
      ]
    },
    {
      "cell_type": "markdown",
      "metadata": {
        "id": "k1UjgczSwpec"
      },
      "source": [
        "Cualquiera de los patrones familiares de acceso a datos de estilo NumPy se puede utilizar dentro de estos indexadores. Por ejemplo, en el indexador `loc` podemos combinar enmascaramiento y *fancy indexing* como se muestra a continuación:"
      ]
    },
    {
      "cell_type": "code",
      "metadata": {
        "colab": {
          "base_uri": "https://localhost:8080/",
          "height": 106
        },
        "id": "zoEk-85zwO-S",
        "outputId": "0b703c99-73f3-4ab7-b308-7c0e4c8592f3"
      },
      "source": [
        "data.loc[data.density > 100, ['pop', 'density']]"
      ],
      "execution_count": 73,
      "outputs": [
        {
          "output_type": "execute_result",
          "data": {
            "text/html": [
              "<div>\n",
              "<style scoped>\n",
              "    .dataframe tbody tr th:only-of-type {\n",
              "        vertical-align: middle;\n",
              "    }\n",
              "\n",
              "    .dataframe tbody tr th {\n",
              "        vertical-align: top;\n",
              "    }\n",
              "\n",
              "    .dataframe thead th {\n",
              "        text-align: right;\n",
              "    }\n",
              "</style>\n",
              "<table border=\"1\" class=\"dataframe\">\n",
              "  <thead>\n",
              "    <tr style=\"text-align: right;\">\n",
              "      <th></th>\n",
              "      <th>pop</th>\n",
              "      <th>density</th>\n",
              "    </tr>\n",
              "  </thead>\n",
              "  <tbody>\n",
              "    <tr>\n",
              "      <th>New York</th>\n",
              "      <td>19651127</td>\n",
              "      <td>139.076746</td>\n",
              "    </tr>\n",
              "    <tr>\n",
              "      <th>Florida</th>\n",
              "      <td>19552860</td>\n",
              "      <td>114.806121</td>\n",
              "    </tr>\n",
              "  </tbody>\n",
              "</table>\n",
              "</div>"
            ],
            "text/plain": [
              "               pop     density\n",
              "New York  19651127  139.076746\n",
              "Florida   19552860  114.806121"
            ]
          },
          "metadata": {
            "tags": []
          },
          "execution_count": 73
        }
      ]
    },
    {
      "cell_type": "markdown",
      "metadata": {
        "id": "YeXc4KjZxKpM"
      },
      "source": [
        "Cualquiera de estas convenciones de indexación también se puede utilizar para establecer o modificar valores. Esto se hace de la forma estándar a la que puede estar acostumbrado al trabajar con NumPy:"
      ]
    },
    {
      "cell_type": "code",
      "metadata": {
        "colab": {
          "base_uri": "https://localhost:8080/",
          "height": 195
        },
        "id": "-48wD-gexOeC",
        "outputId": "b13f19bc-954a-48ee-84c3-6f0bc5f97ff9"
      },
      "source": [
        "data.iloc[0, 2] = 90\n",
        "data"
      ],
      "execution_count": 74,
      "outputs": [
        {
          "output_type": "execute_result",
          "data": {
            "text/html": [
              "<div>\n",
              "<style scoped>\n",
              "    .dataframe tbody tr th:only-of-type {\n",
              "        vertical-align: middle;\n",
              "    }\n",
              "\n",
              "    .dataframe tbody tr th {\n",
              "        vertical-align: top;\n",
              "    }\n",
              "\n",
              "    .dataframe thead th {\n",
              "        text-align: right;\n",
              "    }\n",
              "</style>\n",
              "<table border=\"1\" class=\"dataframe\">\n",
              "  <thead>\n",
              "    <tr style=\"text-align: right;\">\n",
              "      <th></th>\n",
              "      <th>area</th>\n",
              "      <th>pop</th>\n",
              "      <th>density</th>\n",
              "    </tr>\n",
              "  </thead>\n",
              "  <tbody>\n",
              "    <tr>\n",
              "      <th>California</th>\n",
              "      <td>423967</td>\n",
              "      <td>38332521</td>\n",
              "      <td>90.000000</td>\n",
              "    </tr>\n",
              "    <tr>\n",
              "      <th>Texas</th>\n",
              "      <td>695662</td>\n",
              "      <td>26448193</td>\n",
              "      <td>38.018740</td>\n",
              "    </tr>\n",
              "    <tr>\n",
              "      <th>New York</th>\n",
              "      <td>141297</td>\n",
              "      <td>19651127</td>\n",
              "      <td>139.076746</td>\n",
              "    </tr>\n",
              "    <tr>\n",
              "      <th>Florida</th>\n",
              "      <td>170312</td>\n",
              "      <td>19552860</td>\n",
              "      <td>114.806121</td>\n",
              "    </tr>\n",
              "    <tr>\n",
              "      <th>Illinois</th>\n",
              "      <td>149995</td>\n",
              "      <td>12882135</td>\n",
              "      <td>85.883763</td>\n",
              "    </tr>\n",
              "  </tbody>\n",
              "</table>\n",
              "</div>"
            ],
            "text/plain": [
              "              area       pop     density\n",
              "California  423967  38332521   90.000000\n",
              "Texas       695662  26448193   38.018740\n",
              "New York    141297  19651127  139.076746\n",
              "Florida     170312  19552860  114.806121\n",
              "Illinois    149995  12882135   85.883763"
            ]
          },
          "metadata": {
            "tags": []
          },
          "execution_count": 74
        }
      ]
    },
    {
      "cell_type": "markdown",
      "metadata": {
        "id": "qqpZ-M9nxbd1"
      },
      "source": [
        "Para desarrollar tu fluidez en la manipulación de datos de **Pandas**, sugiero pasar algo de tiempo con un *DataFrame* simple y explorar los tipos de indexación, segmentación, enmascaramiento y *fancy indexing* que permiten estos diversos enfoques de indexación."
      ]
    },
    {
      "cell_type": "markdown",
      "metadata": {
        "id": "I_a5x6zQxnEM"
      },
      "source": [
        "#### Convenciones adicionales de indexación\n",
        "\n",
        "Hay un par de convenciones de indexación adicionales que pueden parecer contrarias a todo lo anterior, pero que, no obstante, pueden resultar muy útiles en la práctica. Primero, mientras que la indexación se refiere a las columnas, la segmentación se refiere a las filas:"
      ]
    },
    {
      "cell_type": "code",
      "metadata": {
        "colab": {
          "base_uri": "https://localhost:8080/",
          "height": 106
        },
        "id": "Okd9vseRxStU",
        "outputId": "37378df2-1528-4267-a1a9-3ddf6638b7b6"
      },
      "source": [
        "data['Florida': 'Illinois']"
      ],
      "execution_count": 75,
      "outputs": [
        {
          "output_type": "execute_result",
          "data": {
            "text/html": [
              "<div>\n",
              "<style scoped>\n",
              "    .dataframe tbody tr th:only-of-type {\n",
              "        vertical-align: middle;\n",
              "    }\n",
              "\n",
              "    .dataframe tbody tr th {\n",
              "        vertical-align: top;\n",
              "    }\n",
              "\n",
              "    .dataframe thead th {\n",
              "        text-align: right;\n",
              "    }\n",
              "</style>\n",
              "<table border=\"1\" class=\"dataframe\">\n",
              "  <thead>\n",
              "    <tr style=\"text-align: right;\">\n",
              "      <th></th>\n",
              "      <th>area</th>\n",
              "      <th>pop</th>\n",
              "      <th>density</th>\n",
              "    </tr>\n",
              "  </thead>\n",
              "  <tbody>\n",
              "    <tr>\n",
              "      <th>Florida</th>\n",
              "      <td>170312</td>\n",
              "      <td>19552860</td>\n",
              "      <td>114.806121</td>\n",
              "    </tr>\n",
              "    <tr>\n",
              "      <th>Illinois</th>\n",
              "      <td>149995</td>\n",
              "      <td>12882135</td>\n",
              "      <td>85.883763</td>\n",
              "    </tr>\n",
              "  </tbody>\n",
              "</table>\n",
              "</div>"
            ],
            "text/plain": [
              "            area       pop     density\n",
              "Florida   170312  19552860  114.806121\n",
              "Illinois  149995  12882135   85.883763"
            ]
          },
          "metadata": {
            "tags": []
          },
          "execution_count": 75
        }
      ]
    },
    {
      "cell_type": "markdown",
      "metadata": {
        "id": "6A-aTuS_yEXM"
      },
      "source": [
        "Dichos fragmentos también pueden referirse a filas por número en lugar de por índice:"
      ]
    },
    {
      "cell_type": "code",
      "metadata": {
        "colab": {
          "base_uri": "https://localhost:8080/",
          "height": 106
        },
        "id": "dhwYkupbx9QK",
        "outputId": "2a180db1-a502-4de3-9e22-69935279e84c"
      },
      "source": [
        "data[3:5]"
      ],
      "execution_count": 80,
      "outputs": [
        {
          "output_type": "execute_result",
          "data": {
            "text/html": [
              "<div>\n",
              "<style scoped>\n",
              "    .dataframe tbody tr th:only-of-type {\n",
              "        vertical-align: middle;\n",
              "    }\n",
              "\n",
              "    .dataframe tbody tr th {\n",
              "        vertical-align: top;\n",
              "    }\n",
              "\n",
              "    .dataframe thead th {\n",
              "        text-align: right;\n",
              "    }\n",
              "</style>\n",
              "<table border=\"1\" class=\"dataframe\">\n",
              "  <thead>\n",
              "    <tr style=\"text-align: right;\">\n",
              "      <th></th>\n",
              "      <th>area</th>\n",
              "      <th>pop</th>\n",
              "      <th>density</th>\n",
              "    </tr>\n",
              "  </thead>\n",
              "  <tbody>\n",
              "    <tr>\n",
              "      <th>Florida</th>\n",
              "      <td>170312</td>\n",
              "      <td>19552860</td>\n",
              "      <td>114.806121</td>\n",
              "    </tr>\n",
              "    <tr>\n",
              "      <th>Illinois</th>\n",
              "      <td>149995</td>\n",
              "      <td>12882135</td>\n",
              "      <td>85.883763</td>\n",
              "    </tr>\n",
              "  </tbody>\n",
              "</table>\n",
              "</div>"
            ],
            "text/plain": [
              "            area       pop     density\n",
              "Florida   170312  19552860  114.806121\n",
              "Illinois  149995  12882135   85.883763"
            ]
          },
          "metadata": {
            "tags": []
          },
          "execution_count": 80
        }
      ]
    },
    {
      "cell_type": "markdown",
      "metadata": {
        "id": "zeMtT8Vcyk54"
      },
      "source": [
        "De manera similar, las operaciones de enmascaramiento directo también se interpretan por filas en lugar de por columnas:"
      ]
    },
    {
      "cell_type": "code",
      "metadata": {
        "colab": {
          "base_uri": "https://localhost:8080/",
          "height": 106
        },
        "id": "1-9aA6SgyK0N",
        "outputId": "a6be30eb-da0c-413c-c9c1-87bbe269315c"
      },
      "source": [
        "data[data.density > 100]"
      ],
      "execution_count": 81,
      "outputs": [
        {
          "output_type": "execute_result",
          "data": {
            "text/html": [
              "<div>\n",
              "<style scoped>\n",
              "    .dataframe tbody tr th:only-of-type {\n",
              "        vertical-align: middle;\n",
              "    }\n",
              "\n",
              "    .dataframe tbody tr th {\n",
              "        vertical-align: top;\n",
              "    }\n",
              "\n",
              "    .dataframe thead th {\n",
              "        text-align: right;\n",
              "    }\n",
              "</style>\n",
              "<table border=\"1\" class=\"dataframe\">\n",
              "  <thead>\n",
              "    <tr style=\"text-align: right;\">\n",
              "      <th></th>\n",
              "      <th>area</th>\n",
              "      <th>pop</th>\n",
              "      <th>density</th>\n",
              "    </tr>\n",
              "  </thead>\n",
              "  <tbody>\n",
              "    <tr>\n",
              "      <th>New York</th>\n",
              "      <td>141297</td>\n",
              "      <td>19651127</td>\n",
              "      <td>139.076746</td>\n",
              "    </tr>\n",
              "    <tr>\n",
              "      <th>Florida</th>\n",
              "      <td>170312</td>\n",
              "      <td>19552860</td>\n",
              "      <td>114.806121</td>\n",
              "    </tr>\n",
              "  </tbody>\n",
              "</table>\n",
              "</div>"
            ],
            "text/plain": [
              "            area       pop     density\n",
              "New York  141297  19651127  139.076746\n",
              "Florida   170312  19552860  114.806121"
            ]
          },
          "metadata": {
            "tags": []
          },
          "execution_count": 81
        }
      ]
    },
    {
      "cell_type": "markdown",
      "metadata": {
        "id": "PtRWYn_Uy2_8"
      },
      "source": [
        "Estas dos convenciones son sintácticamente similares a las de un array de NumPy y, aunque es posible que no encajen con precisión en el molde de las convenciones de **Pandas**, son bastante útiles en la práctica."
      ]
    }
  ]
}