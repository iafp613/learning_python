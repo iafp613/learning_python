{
  "nbformat": 4,
  "nbformat_minor": 0,
  "metadata": {
    "colab": {
      "name": "3_PythonIntermedio_Operadores.ipynb",
      "provenance": [],
      "collapsed_sections": [
        "kRrXfHgAPswn"
      ],
      "toc_visible": true
    },
    "kernelspec": {
      "name": "python3",
      "display_name": "Python 3"
    },
    "language_info": {
      "name": "python"
    }
  },
  "cells": [
    {
      "cell_type": "code",
      "metadata": {
        "id": "AabaX0BsPToc"
      },
      "source": [
        ""
      ],
      "execution_count": null,
      "outputs": []
    },
    {
      "cell_type": "markdown",
      "metadata": {
        "id": "kRrXfHgAPswn"
      },
      "source": [
        "# Operadores lógicos, de comparación y de decisión"
      ]
    },
    {
      "cell_type": "markdown",
      "metadata": {
        "id": "JBE3nDfrPxiL"
      },
      "source": [
        "## Operadores lógicos\n",
        "\n",
        "Los operadores lógicos nos proporcionan un resultado a partir de que se cumpla o no una cierta condición, producen un resultado booleano, y sus operandos son también valores lógicos o asimilables a ellos (los valores numéricos son asimilados a cierto o falso según su valor sea cero o distinto de cero)."
      ]
    },
    {
      "cell_type": "markdown",
      "metadata": {
        "id": "tGehiGqHQolr"
      },
      "source": [
        "### Negación\n",
        "\n",
        "Para hacer la negación, utilizamos el operador `not`"
      ]
    },
    {
      "cell_type": "code",
      "metadata": {
        "colab": {
          "base_uri": "https://localhost:8080/"
        },
        "id": "dKsgNeuqQwLL",
        "outputId": "a8cd0020-0a16-497b-e183-c688f916fb26"
      },
      "source": [
        "A = True\n",
        "not A"
      ],
      "execution_count": null,
      "outputs": [
        {
          "output_type": "execute_result",
          "data": {
            "text/plain": [
              "False"
            ]
          },
          "metadata": {
            "tags": []
          },
          "execution_count": 1
        }
      ]
    },
    {
      "cell_type": "code",
      "metadata": {
        "colab": {
          "base_uri": "https://localhost:8080/"
        },
        "id": "720-k35pRAO6",
        "outputId": "1209a4ca-a554-41d4-8d68-a26a96fd26d8"
      },
      "source": [
        "B = False\n",
        "not B"
      ],
      "execution_count": null,
      "outputs": [
        {
          "output_type": "execute_result",
          "data": {
            "text/plain": [
              "True"
            ]
          },
          "metadata": {
            "tags": []
          },
          "execution_count": 2
        }
      ]
    },
    {
      "cell_type": "markdown",
      "metadata": {
        "id": "Yr2Uj_UoRF-9"
      },
      "source": [
        "### Conjunción\n",
        "\n",
        "Para hacer la conjunción entre dos variables lógicas utilizamos el operador `and`"
      ]
    },
    {
      "cell_type": "code",
      "metadata": {
        "colab": {
          "base_uri": "https://localhost:8080/"
        },
        "id": "3kSDspQ_RS2n",
        "outputId": "29e67c73-959c-456c-cb6e-253e6b309939"
      },
      "source": [
        "A, B = True, True\n",
        "A and B"
      ],
      "execution_count": null,
      "outputs": [
        {
          "output_type": "execute_result",
          "data": {
            "text/plain": [
              "True"
            ]
          },
          "metadata": {
            "tags": []
          },
          "execution_count": 3
        }
      ]
    },
    {
      "cell_type": "code",
      "metadata": {
        "colab": {
          "base_uri": "https://localhost:8080/"
        },
        "id": "Db0uxAt2RYRU",
        "outputId": "b72504d6-2556-4c9e-f004-261b591c3a7c"
      },
      "source": [
        "A and (not B)"
      ],
      "execution_count": null,
      "outputs": [
        {
          "output_type": "execute_result",
          "data": {
            "text/plain": [
              "False"
            ]
          },
          "metadata": {
            "tags": []
          },
          "execution_count": 4
        }
      ]
    },
    {
      "cell_type": "markdown",
      "metadata": {
        "id": "n6TFUKr-RfpR"
      },
      "source": [
        "### Disyunción\n",
        "\n",
        "Para hacer la disyunción entre dos variables lógicas, utilizamos el operador `or`"
      ]
    },
    {
      "cell_type": "code",
      "metadata": {
        "colab": {
          "base_uri": "https://localhost:8080/"
        },
        "id": "eiGt2MUxSAJ8",
        "outputId": "772b6ac2-1639-4964-8256-5c89c5ed204c"
      },
      "source": [
        "A, B = False, False\n",
        "A or B"
      ],
      "execution_count": null,
      "outputs": [
        {
          "output_type": "execute_result",
          "data": {
            "text/plain": [
              "False"
            ]
          },
          "metadata": {
            "tags": []
          },
          "execution_count": 5
        }
      ]
    },
    {
      "cell_type": "code",
      "metadata": {
        "colab": {
          "base_uri": "https://localhost:8080/"
        },
        "id": "nDQdniRcSGi7",
        "outputId": "2a7d474e-e9e6-492b-d5d7-27f93240661f"
      },
      "source": [
        "(not A) or B"
      ],
      "execution_count": null,
      "outputs": [
        {
          "output_type": "execute_result",
          "data": {
            "text/plain": [
              "True"
            ]
          },
          "metadata": {
            "tags": []
          },
          "execution_count": 6
        }
      ]
    },
    {
      "cell_type": "markdown",
      "metadata": {
        "id": "4LrbKUx_7lBi"
      },
      "source": [
        "## Operadores de comparación\n",
        "\n",
        "En `Python` podemos comparar datos y obtener un resultado booleano. Los operadores de comparación disponibles son\n",
        "\n",
        "| Operador | Significado |\n",
        "| :---: | :--- |\n",
        "| $>$ | Estrictamente mayor |\n",
        "| $\\ge$ | Mayor o igual |\n",
        "| $<$ | Estrictamente menor |\n",
        "| $\\le$ | Menor o igual |\n",
        "| $==$ | Igual |\n",
        "| $!=$ | Diferente |"
      ]
    },
    {
      "cell_type": "code",
      "metadata": {
        "colab": {
          "base_uri": "https://localhost:8080/"
        },
        "id": "y_rhctAHTCq_",
        "outputId": "53b495a7-3e22-46dd-c831-62de38930b89"
      },
      "source": [
        "613 == 613.0"
      ],
      "execution_count": null,
      "outputs": [
        {
          "output_type": "execute_result",
          "data": {
            "text/plain": [
              "True"
            ]
          },
          "metadata": {
            "tags": []
          },
          "execution_count": 7
        }
      ]
    },
    {
      "cell_type": "code",
      "metadata": {
        "colab": {
          "base_uri": "https://localhost:8080/"
        },
        "id": "F8oVW8BJTGut",
        "outputId": "d800750e-7d88-44c5-e46e-1fbb49563ef5"
      },
      "source": [
        "\"Pedro\" == \"pedro\""
      ],
      "execution_count": null,
      "outputs": [
        {
          "output_type": "execute_result",
          "data": {
            "text/plain": [
              "False"
            ]
          },
          "metadata": {
            "tags": []
          },
          "execution_count": 8
        }
      ]
    },
    {
      "cell_type": "code",
      "metadata": {
        "colab": {
          "base_uri": "https://localhost:8080/"
        },
        "id": "n_LKW3RMTPBa",
        "outputId": "9887d081-bda9-4c2c-8baf-a5c56f7d1992"
      },
      "source": [
        "6 != \"6\""
      ],
      "execution_count": null,
      "outputs": [
        {
          "output_type": "execute_result",
          "data": {
            "text/plain": [
              "True"
            ]
          },
          "metadata": {
            "tags": []
          },
          "execution_count": 9
        }
      ]
    },
    {
      "cell_type": "code",
      "metadata": {
        "colab": {
          "base_uri": "https://localhost:8080/"
        },
        "id": "fQjPF5VxTWf4",
        "outputId": "12adf649-8268-42d8-8926-e5fb0038ff15"
      },
      "source": [
        "0.613 < 0.320"
      ],
      "execution_count": null,
      "outputs": [
        {
          "output_type": "execute_result",
          "data": {
            "text/plain": [
              "False"
            ]
          },
          "metadata": {
            "tags": []
          },
          "execution_count": 10
        }
      ]
    },
    {
      "cell_type": "markdown",
      "metadata": {
        "id": "AYmhmERK8SxI"
      },
      "source": [
        "**Observación.** Observa que cuando hemos comparado el número 613 en formato integer y en formato float, hemos obtenido que eran iguales, mientras que al haber comparado el número 6 en formato integer con el mismo número, pero en formato string, nos ha devuelto que son diferentes. Esto lo que nos viene a decir es que numéricamente, `Python` considera iguales los números enteros tanto si están en formato integer como en formato float. No obstante, nunca considerará iguales dos datos donde uno esté en formato numérico y el otro, en formato string.\n",
        "\n"
      ]
    },
    {
      "cell_type": "markdown",
      "metadata": {
        "id": "ag98MpnSDw2M"
      },
      "source": [
        "### Múltiples comparaciones simultáneas\n",
        "\n",
        "Podemos realizar múltiples comparaciones a la vez.\n",
        "\n",
        "Supongamos que tenemos que tener 16 años o más, pero menos de 40 para poder concertar una entrevista y aspirar a ser miembros de una organización.\n",
        "\n",
        "Queremos saber si nos concederán una entrevista si tenemos 17 años."
      ]
    },
    {
      "cell_type": "code",
      "metadata": {
        "colab": {
          "base_uri": "https://localhost:8080/"
        },
        "id": "Xf_19eszT_sy",
        "outputId": "29f72d28-d21e-4284-f191-83c9a48dd512"
      },
      "source": [
        "edad = 17\n",
        "(edad >= 16) and (edad < 40)"
      ],
      "execution_count": null,
      "outputs": [
        {
          "output_type": "execute_result",
          "data": {
            "text/plain": [
              "True"
            ]
          },
          "metadata": {
            "tags": []
          },
          "execution_count": 11
        }
      ]
    },
    {
      "cell_type": "markdown",
      "metadata": {
        "id": "05v5Mxqn-0Sz"
      },
      "source": [
        "### Comparaciones de strings\n",
        "\n",
        "No solamente podemos comparar datos numéricos, sino que también podemos comparar strings en relación al orden alfabético."
      ]
    },
    {
      "cell_type": "code",
      "metadata": {
        "colab": {
          "base_uri": "https://localhost:8080/"
        },
        "id": "9QYZ_DKqUQmV",
        "outputId": "469db972-5ae4-4543-e6af-75d487ee1c21"
      },
      "source": [
        "\"Mallorca\" >= \"Madrid\""
      ],
      "execution_count": null,
      "outputs": [
        {
          "output_type": "execute_result",
          "data": {
            "text/plain": [
              "True"
            ]
          },
          "metadata": {
            "tags": []
          },
          "execution_count": 12
        }
      ]
    },
    {
      "cell_type": "code",
      "metadata": {
        "colab": {
          "base_uri": "https://localhost:8080/"
        },
        "id": "cC7Nn8xLUYlz",
        "outputId": "e3cd5051-0250-45fb-96d8-0baa4d31e9e5"
      },
      "source": [
        "\"Mallorca\" < \"Dubai\""
      ],
      "execution_count": null,
      "outputs": [
        {
          "output_type": "execute_result",
          "data": {
            "text/plain": [
              "False"
            ]
          },
          "metadata": {
            "tags": []
          },
          "execution_count": 13
        }
      ]
    },
    {
      "cell_type": "code",
      "metadata": {
        "colab": {
          "base_uri": "https://localhost:8080/"
        },
        "id": "s6vmqzEaUnSm",
        "outputId": "dd4754ae-b2d8-44df-fcd8-f6dec1579ca3"
      },
      "source": [
        "\"Gijón\" > \"Albacete\""
      ],
      "execution_count": null,
      "outputs": [
        {
          "output_type": "execute_result",
          "data": {
            "text/plain": [
              "True"
            ]
          },
          "metadata": {
            "tags": []
          },
          "execution_count": 15
        }
      ]
    },
    {
      "cell_type": "markdown",
      "metadata": {
        "id": "3qC1IlA7_Znt"
      },
      "source": [
        "El resultado que obtenemos no se debe a que Mallorca sea mejor que Dubai, sino a que la primera letra de la primera palabra, M, no se encuentra antes en el abecedario que la primera letra de la segunda palabra, D.\n",
        "\n",
        "**Observación.** En caso de que la primera letra de cada una de las palabras comparadas coincidan, se comparan los caracteres que se encuentran en la siguiente posición. En caso de empate, seguiríamos comparando los caracteres de la tercera posición y así sucesivamente."
      ]
    },
    {
      "cell_type": "markdown",
      "metadata": {
        "id": "ZBMJ5Tg9_t-2"
      },
      "source": [
        "### Más métodos de string\n",
        "\n",
        "El método `.startswith()` nos devuelve verdadero si el string empieza con el caracter o la cadena de caracteres indicado."
      ]
    },
    {
      "cell_type": "code",
      "metadata": {
        "id": "1URYsNpt_e2k",
        "colab": {
          "base_uri": "https://localhost:8080/"
        },
        "outputId": "921f3486-2c6a-4b46-b546-c1209dc1b648"
      },
      "source": [
        "s = \"Mallorca es una isla preciosa\"\n",
        "s.startswith(\"m\")"
      ],
      "execution_count": null,
      "outputs": [
        {
          "output_type": "execute_result",
          "data": {
            "text/plain": [
              "False"
            ]
          },
          "metadata": {
            "tags": []
          },
          "execution_count": 16
        }
      ]
    },
    {
      "cell_type": "code",
      "metadata": {
        "colab": {
          "base_uri": "https://localhost:8080/"
        },
        "id": "NiyPUxBeVELX",
        "outputId": "87dec442-6c9a-4b23-a06c-9d7cca2a8c41"
      },
      "source": [
        "s.startswith(\"M\")"
      ],
      "execution_count": null,
      "outputs": [
        {
          "output_type": "execute_result",
          "data": {
            "text/plain": [
              "True"
            ]
          },
          "metadata": {
            "tags": []
          },
          "execution_count": 17
        }
      ]
    },
    {
      "cell_type": "markdown",
      "metadata": {
        "id": "dlYrhEBXAGzQ"
      },
      "source": [
        "El método `.endswith()` nos devuelve verdadero si el string acaba con el caracter o la cadena de caracteres indicado."
      ]
    },
    {
      "cell_type": "code",
      "metadata": {
        "colab": {
          "base_uri": "https://localhost:8080/"
        },
        "id": "aD3WEPObVPCN",
        "outputId": "f85589d5-3135-4b1a-ab51-305220808767"
      },
      "source": [
        "s.endswith(\"sa\")"
      ],
      "execution_count": null,
      "outputs": [
        {
          "output_type": "execute_result",
          "data": {
            "text/plain": [
              "True"
            ]
          },
          "metadata": {
            "tags": []
          },
          "execution_count": 18
        }
      ]
    },
    {
      "cell_type": "code",
      "metadata": {
        "colab": {
          "base_uri": "https://localhost:8080/"
        },
        "id": "7a4-sEI2VUgu",
        "outputId": "e4160d08-98af-4d4d-ae7e-94e391b22ddd"
      },
      "source": [
        "s.endswith(\"o\")"
      ],
      "execution_count": null,
      "outputs": [
        {
          "output_type": "execute_result",
          "data": {
            "text/plain": [
              "False"
            ]
          },
          "metadata": {
            "tags": []
          },
          "execution_count": 19
        }
      ]
    },
    {
      "cell_type": "markdown",
      "metadata": {
        "id": "CGAU5S9yAVLq"
      },
      "source": [
        "El método `.isalnum()` nos devuelve verdadero si todos los caracteres del string son alfanuméricos."
      ]
    },
    {
      "cell_type": "code",
      "metadata": {
        "colab": {
          "base_uri": "https://localhost:8080/"
        },
        "id": "3xlsx6QIVfGR",
        "outputId": "80fe2de1-ee16-4504-ba6f-4a9208a85ffd"
      },
      "source": [
        "print(s)\n",
        "s.isalnum()"
      ],
      "execution_count": null,
      "outputs": [
        {
          "output_type": "stream",
          "text": [
            "Mallorca es una isla preciosa\n"
          ],
          "name": "stdout"
        },
        {
          "output_type": "execute_result",
          "data": {
            "text/plain": [
              "False"
            ]
          },
          "metadata": {
            "tags": []
          },
          "execution_count": 21
        }
      ]
    },
    {
      "cell_type": "code",
      "metadata": {
        "colab": {
          "base_uri": "https://localhost:8080/"
        },
        "id": "0aWGa-aAVjeK",
        "outputId": "986edc17-e85e-4d84-d33f-ecd89e4d18a4"
      },
      "source": [
        "s1 = \"Nacho613\"\n",
        "s1.isalnum()"
      ],
      "execution_count": null,
      "outputs": [
        {
          "output_type": "execute_result",
          "data": {
            "text/plain": [
              "True"
            ]
          },
          "metadata": {
            "tags": []
          },
          "execution_count": 23
        }
      ]
    },
    {
      "cell_type": "markdown",
      "metadata": {
        "id": "c1EL8qH6AcZP"
      },
      "source": [
        "**¡OJO!** No se consideran caracteres alfanuméricos los siguientes: espacio en blanco, !, %, ?, & y un largo etcétera.\n",
        "\n",
        "El método `.isalpha()` nos devuelve verdadero si todos los caracteres del string son del alfabeto."
      ]
    },
    {
      "cell_type": "code",
      "metadata": {
        "colab": {
          "base_uri": "https://localhost:8080/"
        },
        "id": "Igjz9D9lV9Bx",
        "outputId": "49414149-4e07-4653-ffc3-1e21ed0aa924"
      },
      "source": [
        "s = \"Ballena\"\n",
        "s.isalpha()"
      ],
      "execution_count": null,
      "outputs": [
        {
          "output_type": "execute_result",
          "data": {
            "text/plain": [
              "True"
            ]
          },
          "metadata": {
            "tags": []
          },
          "execution_count": 24
        }
      ]
    },
    {
      "cell_type": "code",
      "metadata": {
        "colab": {
          "base_uri": "https://localhost:8080/"
        },
        "id": "RgiczvhHWCDd",
        "outputId": "fc0d5709-53cf-4730-982f-73e30b28d6cd"
      },
      "source": [
        "s1 = \"Una ballena\"\n",
        "s1.isalpha()"
      ],
      "execution_count": null,
      "outputs": [
        {
          "output_type": "execute_result",
          "data": {
            "text/plain": [
              "False"
            ]
          },
          "metadata": {
            "tags": []
          },
          "execution_count": 26
        }
      ]
    },
    {
      "cell_type": "markdown",
      "metadata": {
        "id": "ceo-DE86A1WZ"
      },
      "source": [
        "El método `.isdigit()` nos devuelve verdadero si todos los caracteres del string son dígitos."
      ]
    },
    {
      "cell_type": "code",
      "metadata": {
        "colab": {
          "base_uri": "https://localhost:8080/"
        },
        "id": "cr_GOBWOWM1h",
        "outputId": "a2e9cd8e-190d-4769-b525-ac0596ebc4e0"
      },
      "source": [
        "s = \"613\"\n",
        "s.isdigit()"
      ],
      "execution_count": null,
      "outputs": [
        {
          "output_type": "execute_result",
          "data": {
            "text/plain": [
              "True"
            ]
          },
          "metadata": {
            "tags": []
          },
          "execution_count": 27
        }
      ]
    },
    {
      "cell_type": "code",
      "metadata": {
        "colab": {
          "base_uri": "https://localhost:8080/"
        },
        "id": "s-q3-nFgWR5r",
        "outputId": "aa4277e5-8e86-49f7-b2c5-06e07b6ac4f4"
      },
      "source": [
        "s1 = \"613a\"\n",
        "s1.isdigit()"
      ],
      "execution_count": null,
      "outputs": [
        {
          "output_type": "execute_result",
          "data": {
            "text/plain": [
              "False"
            ]
          },
          "metadata": {
            "tags": []
          },
          "execution_count": 28
        }
      ]
    },
    {
      "cell_type": "markdown",
      "metadata": {
        "id": "LiNtvxYoA-Vk"
      },
      "source": [
        "El método `.isspace()` nos devuelve verdadero si todos los caracteres del string son espacios en blanco."
      ]
    },
    {
      "cell_type": "markdown",
      "metadata": {
        "id": "NF14qe4NBCyk"
      },
      "source": [
        "El método `.islower()` nos devuelve verdadero si todos los caracteres del string están en minúscula."
      ]
    },
    {
      "cell_type": "markdown",
      "metadata": {
        "id": "ZMaIjOzkBLY4"
      },
      "source": [
        "El método `.isupper()` nos devuelve verdadero si todos los caracteres del string están en mayúscula."
      ]
    },
    {
      "cell_type": "markdown",
      "metadata": {
        "id": "YBuOWqm2BRuK"
      },
      "source": [
        "El método `.istitle()` nos devuelve verdadero si todas las palabras del string empiezan en mayúscula y el resto de las letras de la palabra están en minúscula."
      ]
    },
    {
      "cell_type": "markdown",
      "metadata": {
        "id": "v0Xcs06PWnbb"
      },
      "source": [
        "## Operadores de decisión"
      ]
    },
    {
      "cell_type": "markdown",
      "metadata": {
        "id": "DAK502eYD5pT"
      },
      "source": [
        "### `if`\n",
        "\n",
        "Cuando queremos comprobar si se cumple alguna condición, utilizamos el operador de decisión `if`. La sintaxis que debemos seguir es la siguiente:\n",
        "\n",
        "\n",
        "\n",
        "```\n",
        "if condicion:\n",
        "    consecuencia\n",
        "```\n",
        "\n",
        "\n"
      ]
    },
    {
      "cell_type": "markdown",
      "metadata": {
        "id": "LdYNZT4tD1tS"
      },
      "source": [
        "**¡Cuidado!** La sintaxis de los dos puntos después de la condición y la indentación (equivalente a una tabulación, un total de 4 espacios en blanco) que precede a la consecuencia es muy importante. De hecho, si se omite alguna de las dos cosas o bien nos pasamos de indentación, nos saltará error.\n",
        "\n",
        "- Si quieres hacer una tabulación, debes pulsar el tabulador una vez. \n",
        "- Puedes hacer tabulaciones en bloque seleccionando las líneas de código que quieras indentar y, a continuación, pulsando el tabulador.\n",
        "- Puedes deshacer tabulaciones pulsando Shift + Tab\n",
        "- Puedes deshacer tabulaciones en bloque seleccionando las líneas de código que quieras desindentar y, a continuación, pulsando el Shift + Tab.\n",
        "\n",
        "Siguiendo con nuestro ejemplo, si el usuario tiene más de 16 años, pero menos de 40, entonces puede acceder a la entrevista para formar parte de la organización."
      ]
    },
    {
      "cell_type": "code",
      "metadata": {
        "id": "O6UngCPDEIgW",
        "colab": {
          "base_uri": "https://localhost:8080/"
        },
        "outputId": "01a2eac0-eae6-4310-d313-d47d7ffeecbe"
      },
      "source": [
        "age = 23\n",
        "if (age >= 16 and age <= 40):\n",
        "    print(\"Eres aspirante a la organización\")"
      ],
      "execution_count": null,
      "outputs": [
        {
          "output_type": "stream",
          "text": [
            "Eres aspirante a la organización\n"
          ],
          "name": "stdout"
        }
      ]
    },
    {
      "cell_type": "markdown",
      "metadata": {
        "id": "xgXTymltFKFb"
      },
      "source": [
        "### `else`\n",
        "\n",
        "Ahora, nos podríamos preguntar qué le podríamos decir al usuario en el caso en que no satisfaga la condición. Ahí es donde entra en juego el operador de decisión `else`. Esta vez, la sintaxis a seguir es la siguiente:\n",
        "\n",
        "\n",
        "\n",
        "```\n",
        "if condicion:\n",
        "    consecuencia_si_es_verdad\n",
        "else:\n",
        "    consecuencia_si_es_falsa\n",
        "```\n",
        "\n"
      ]
    },
    {
      "cell_type": "markdown",
      "metadata": {
        "id": "8e1k4FTgFZoD"
      },
      "source": [
        "Siguiendo el ejemplo anterior, si el usuario tiene 16 años o más, pero menos de 40, entonces puede aspirar a formar parte de la organización. Si no, le diremos que no satisface una necesidad básica para ser miembro."
      ]
    },
    {
      "cell_type": "code",
      "metadata": {
        "id": "ng2PZLJoFi8T",
        "colab": {
          "base_uri": "https://localhost:8080/"
        },
        "outputId": "0646f93f-690d-4860-d28d-4392e2ef2314"
      },
      "source": [
        "age = 13\n",
        "if (age >= 16 and age <= 40):\n",
        "    print(\"Eres aspirante a la Organización\")\n",
        "else:\n",
        "    print(\"No satisfaces una necesidad básica para pertenecer a la Organización\")"
      ],
      "execution_count": null,
      "outputs": [
        {
          "output_type": "stream",
          "text": [
            "No satisfaces una necesidad básica para pertenecer a la Organización\n"
          ],
          "name": "stdout"
        }
      ]
    },
    {
      "cell_type": "markdown",
      "metadata": {
        "id": "77HNiAkbFx-P"
      },
      "source": [
        "### `elif`\n",
        "\n",
        "Ahora, en vez de comprobar si se cumple o no una condición, nos podríamos preguntar cómo haríamos para comprobar más de una condición. Podríamos hacerlo a lo bruto anidando operadores `if`, esto es, metiendo un `if` dentro de otro; o bien, podríamos hacerlo utilizando el operador de decisión `elif`.\n",
        "\n",
        "El operador `elif` funciona del siguiente modo: se empieza con un operador `if`; si la condición de este no se cumple, pasamos a la siguiente condición posible precedida de un `elif`; si esta tampoco se cumple, pasamos al siguiente `elif`; seguimos así hasta que o bien se satisface alguna condición y realizamos su consecuencia, o hasta llegar al `else`, que implica que no se ha satisfecho ninguna de las condiciones anteriores.\n",
        "\n",
        "La sintaxis del operador de decisión `elif` es la siguiente:\n",
        "\n",
        "\n",
        "\n",
        "```\n",
        "if condicion_1:\n",
        "    consecuencia\n",
        "elif condicion_2:\n",
        "    consecuencia\n",
        "elif condicion_3:\n",
        "    consecuencia\n",
        ".\n",
        ".\n",
        ".\n",
        "else:\n",
        "    consecuencia\n",
        "```\n",
        "\n"
      ]
    },
    {
      "cell_type": "markdown",
      "metadata": {
        "id": "xi8inDseFUaF"
      },
      "source": [
        "Recuperemos el ejemplo de que tenemos que tener 16 años o más, pero menos de 40 para poder ser entrevistado e ingresar en una Organización. Vamos a mejorar lo que habíamos conseguido con el `if` y el `else`, añadiendo el operador `elif`.\n",
        "\n",
        "Además, veremos que nos dice con la edad de 20 años."
      ]
    },
    {
      "cell_type": "code",
      "metadata": {
        "id": "FuDXd3ieGY0O",
        "colab": {
          "base_uri": "https://localhost:8080/"
        },
        "outputId": "9bf74bf8-ff83-4ae5-acf3-86c2d88bb51b"
      },
      "source": [
        "age = 20\n",
        "\n",
        "if age > 40:\n",
        "  print(\"No puedes pertenecer a la Organización, te pasas de la edad límite.\")\n",
        "elif age >= 16:\n",
        "  print(\"Podrás optar a pertenecer la Organización. Aún te queda superar la entrevista con el CEO.\")\n",
        "else:\n",
        "  print(\"¡Eres muy pequeño todavía para el mundo laboral!\")"
      ],
      "execution_count": null,
      "outputs": [
        {
          "output_type": "stream",
          "text": [
            "Podrás optar a pertenecer la Organización. Aún te queda superar la entrevista con el CEO.\n"
          ],
          "name": "stdout"
        }
      ]
    },
    {
      "cell_type": "markdown",
      "metadata": {
        "id": "5ysq4F4jH6qR"
      },
      "source": [
        "### Operador ternario\n",
        "\n",
        "Si queremos hacer un simple `if` / `else` en una sola línea de código, podemos utilizar el operador ternario, que tiene la siguiente estructura:\n",
        "\n",
        "\n",
        "\n",
        "```\n",
        "consecuencia_cierto if condicion else consecuencia_falso\n",
        "```\n",
        "\n"
      ]
    },
    {
      "cell_type": "markdown",
      "metadata": {
        "id": "vUmCX9WGIHoD"
      },
      "source": [
        "Por ejemplo, hagamos el caso de mayor de edad. Si la edad es mayor o igual a 18, entonces es mayor de edad en España. Si no, entonces es menor de edad en España."
      ]
    },
    {
      "cell_type": "code",
      "metadata": {
        "id": "thCBwMwuIJqc",
        "colab": {
          "base_uri": "https://localhost:8080/"
        },
        "outputId": "cf03dd59-72b7-4e23-95e5-d412d94f38ed"
      },
      "source": [
        "age = 20\n",
        "texto_mayor = \"Eres mayor de edad en España\"\n",
        "texto_menor = \"Eres menor de edad en España\"\n",
        "\n",
        "print(texto_mayor) if age >= 18 else print(texto_menor)"
      ],
      "execution_count": null,
      "outputs": [
        {
          "output_type": "stream",
          "text": [
            "Eres mayor de edad en España\n"
          ],
          "name": "stdout"
        }
      ]
    },
    {
      "cell_type": "markdown",
      "metadata": {
        "id": "DNWW648JpBZM"
      },
      "source": [
        "# Operadores de iteración"
      ]
    },
    {
      "cell_type": "markdown",
      "metadata": {
        "id": "bpgqA5xSGRCb"
      },
      "source": [
        "## Bucle `for`\n",
        "\n",
        "La idea del bucle `for` es: para todos los elementos de la clave, seguimos realizando las líneas del bucle. Una vez nos quedemos sin elementos, salimos del bucle.\n",
        "\n",
        "Su estructura es la siguiente:\n",
        "\n",
        "\n",
        "\n",
        "```\n",
        "for clave:\n",
        "    instrucción 1\n",
        "    instrucción 2\n",
        "    .\n",
        "    .\n",
        "    .\n",
        "    instrucción n\n",
        "```\n",
        "\n"
      ]
    },
    {
      "cell_type": "markdown",
      "metadata": {
        "id": "j2d3NxJF2Z_Z"
      },
      "source": [
        "**Observación.** Aparecen tanto los dos puntos después de la clave como la indentación previa a las instrucciones que se encuentran dentro del bucle.\n",
        "\n",
        "Un ejemplo del uso de un bucle `for` es el de recorrer todos los caracteres de un string:"
      ]
    },
    {
      "cell_type": "code",
      "metadata": {
        "colab": {
          "base_uri": "https://localhost:8080/"
        },
        "id": "X3jn36ve2lUg",
        "outputId": "84b5ed9c-b0a8-493e-e7f3-b091c89f13a5"
      },
      "source": [
        "s = \"Me gustan las matemáticas\"\n",
        "\n",
        "for c in s:\n",
        "  print(c)"
      ],
      "execution_count": null,
      "outputs": [
        {
          "output_type": "stream",
          "text": [
            "M\n",
            "e\n",
            " \n",
            "g\n",
            "u\n",
            "s\n",
            "t\n",
            "a\n",
            "n\n",
            " \n",
            "l\n",
            "a\n",
            "s\n",
            " \n",
            "m\n",
            "a\n",
            "t\n",
            "e\n",
            "m\n",
            "á\n",
            "t\n",
            "i\n",
            "c\n",
            "a\n",
            "s\n"
          ],
          "name": "stdout"
        }
      ]
    },
    {
      "cell_type": "markdown",
      "metadata": {
        "id": "oSYhmk6a2ua6"
      },
      "source": [
        "Lo que hace el anterior chunk de código es imprimir todos y cada uno de los caracteres, a los que identificamos por `c`, que se encuentran en el string `s`.\n",
        "\n"
      ]
    },
    {
      "cell_type": "markdown",
      "metadata": {
        "id": "P3LqrB9mEG6q"
      },
      "source": [
        "### Función `range()`\n",
        "\n",
        "La función `range()` tiene 3 posibles argumentos: \n",
        " \n",
        " - `start` \n",
        " - `stop` \n",
        " - `step`\n",
        "\n",
        "Veremos el uso de la función `range()` con un ejemplo. Recuperemos el ejemplo en que queríamos imprimir los 10 primeros números naturales:"
      ]
    },
    {
      "cell_type": "code",
      "metadata": {
        "colab": {
          "base_uri": "https://localhost:8080/"
        },
        "id": "fN50QCHx_pVO",
        "outputId": "126ca6a3-aeb5-440c-c3c8-262cac8ac83d"
      },
      "source": [
        "for i in range(1, 11, 1):\n",
        "  print(i)"
      ],
      "execution_count": null,
      "outputs": [
        {
          "output_type": "stream",
          "text": [
            "1\n",
            "2\n",
            "3\n",
            "4\n",
            "5\n",
            "6\n",
            "7\n",
            "8\n",
            "9\n",
            "10\n"
          ],
          "name": "stdout"
        }
      ]
    },
    {
      "cell_type": "code",
      "metadata": {
        "colab": {
          "base_uri": "https://localhost:8080/"
        },
        "id": "Jo41eBsW54D9",
        "outputId": "a3063f7b-bb54-4ad1-d6b2-822c402da510"
      },
      "source": [
        "for x in range(5):\n",
        "    print(x)"
      ],
      "execution_count": null,
      "outputs": [
        {
          "output_type": "stream",
          "text": [
            "0\n",
            "1\n",
            "2\n",
            "3\n",
            "4\n"
          ],
          "name": "stdout"
        }
      ]
    },
    {
      "cell_type": "markdown",
      "metadata": {
        "id": "WY31f88E_rEJ"
      },
      "source": [
        "**Observación.** Cosas a tener en cuenta cuando usamos la función `range()`:\n",
        "\n",
        "- El elemento indicado en el argumento `stop` nunca se incluye.\n",
        "- Si no indicamos ningún elemento en el argumento `start`, por defecto éste vale 0.\n",
        "- El valor por defecto del argumento `step` es 1.\n",
        "\n",
        "\n",
        "Por lo tanto, obtendríamos el mismo resultado que en el ejemplo anterior ejecutando las siguientes líneas de código:"
      ]
    },
    {
      "cell_type": "markdown",
      "metadata": {
        "id": "GR1_6iyAAJiS"
      },
      "source": [
        "¿Y si quisiéramos imprimir los 10 primeros números naturales invirtiendo el orden? Pues, con un bucle `for`, lo haríamos del siguiente modo:"
      ]
    },
    {
      "cell_type": "code",
      "metadata": {
        "id": "cOEYalenAPFv",
        "colab": {
          "base_uri": "https://localhost:8080/"
        },
        "outputId": "1244c443-95b0-4fe4-d0b8-993feeb12616"
      },
      "source": [
        "for i in range(10, 0, -1):\n",
        "  print(i)"
      ],
      "execution_count": null,
      "outputs": [
        {
          "output_type": "stream",
          "text": [
            "10\n",
            "9\n",
            "8\n",
            "7\n",
            "6\n",
            "5\n",
            "4\n",
            "3\n",
            "2\n",
            "1\n"
          ],
          "name": "stdout"
        }
      ]
    },
    {
      "cell_type": "markdown",
      "metadata": {
        "id": "XcgdX9yQARKu"
      },
      "source": [
        "### Comando `continue`\n",
        "\n",
        "El comando `continue`, lo que hace es interrumpir la iteración en la que se encuentra y empezar la siguiente iteración.\n",
        "\n"
      ]
    },
    {
      "cell_type": "markdown",
      "metadata": {
        "id": "R6H4Kj04EJjT"
      },
      "source": [
        "---\n",
        "#### Ejemplo 2\n",
        "\n",
        "Supongamos que queremos que se nos impriman todos los números entre 0 y 100 que no son ni divisibles entre 2 ni entre 5.\n",
        "\n",
        "**Ejercicio.** Pensad cómo podríais resolver este problema en el cual se exige que en algún momento utilicéis el comando `continue`."
      ]
    },
    {
      "cell_type": "code",
      "metadata": {
        "id": "KNI5JmiAAZGy",
        "colab": {
          "base_uri": "https://localhost:8080/"
        },
        "outputId": "27b3de47-ea35-4643-8db8-fdc8b535e965"
      },
      "source": [
        "for i in range(101):\n",
        "  if i % 2 == 0 or i % 5 == 0:\n",
        "    continue\n",
        "  print(i)"
      ],
      "execution_count": null,
      "outputs": [
        {
          "output_type": "stream",
          "text": [
            "1\n",
            "3\n",
            "7\n",
            "9\n",
            "11\n",
            "13\n",
            "17\n",
            "19\n",
            "21\n",
            "23\n",
            "27\n",
            "29\n",
            "31\n",
            "33\n",
            "37\n",
            "39\n",
            "41\n",
            "43\n",
            "47\n",
            "49\n",
            "51\n",
            "53\n",
            "57\n",
            "59\n",
            "61\n",
            "63\n",
            "67\n",
            "69\n",
            "71\n",
            "73\n",
            "77\n",
            "79\n",
            "81\n",
            "83\n",
            "87\n",
            "89\n",
            "91\n",
            "93\n",
            "97\n",
            "99\n"
          ],
          "name": "stdout"
        }
      ]
    },
    {
      "cell_type": "markdown",
      "metadata": {
        "id": "BdmMeTHJpD_d"
      },
      "source": [
        "## El bucle `while`\n",
        "\n",
        "La idea del bucle `while` es: mientras la condición sea cierta, seguimos realizando las líneas del interior del bucle. Una vez la condición deja de ser verdadera, salimos del bucle.\n",
        "\n",
        "Su estructura es la siguiente\n",
        "\n",
        "\n",
        "\n",
        "```\n",
        "inicialización de la variable de la condición\n",
        "while condición verdadera:\n",
        "    intrucción 1\n",
        "    instrucción 2\n",
        "    .\n",
        "    .\n",
        "    .\n",
        "    instrucción n\n",
        "```\n",
        "\n"
      ]
    },
    {
      "cell_type": "markdown",
      "metadata": {
        "id": "FGKPoOn2tInA"
      },
      "source": [
        "**Observación.** Vuelven a aparecer tanto los dos puntos después de la condición como la indentación previa a las instrucciones que se encuentran dentro del bucle.\n",
        "\n",
        "**¡Cuidado!** Hay que tener en cuenta que alguna de las instrucciones que se encuentran dentro del bucle `while` tiene que modificar a la variable de la condición. De lo contrario, si la variable de la condición nunca es modificada, la condición nunca llegará a ser falsa y el bucle no acabaría nunca, con lo que pasaría a convertirse en lo que se denomina bucle infinito.\n",
        "\n",
        "Una de las utilidades de un bucle `while` es evitar el copia y pega de algunas funciones. Por ejemplo, si queremos impirmir los primeros 10 números naturales, en vez de copiar 10 veces la función `print()`, una para cada número, lo podemos hacer todo con un bucle `while`:"
      ]
    },
    {
      "cell_type": "code",
      "metadata": {
        "id": "XZ3xpUkdtQiI",
        "colab": {
          "base_uri": "https://localhost:8080/"
        },
        "outputId": "63780335-bcab-4869-c3f5-09e5b40e9827"
      },
      "source": [
        "i = 1 # Inicializamos la variable\n",
        "while i <= 10: # Queremos que i como mucho valga 10\n",
        "  print(i) # Imprimimos los números\n",
        "  i += 1 # Incrementamos una unidad en cada iteración"
      ],
      "execution_count": null,
      "outputs": [
        {
          "output_type": "stream",
          "text": [
            "1\n",
            "2\n",
            "3\n",
            "4\n",
            "5\n",
            "6\n",
            "7\n",
            "8\n",
            "9\n",
            "10\n"
          ],
          "name": "stdout"
        }
      ]
    },
    {
      "cell_type": "markdown",
      "metadata": {
        "id": "olI-tFdMtqi4"
      },
      "source": [
        "### Comando `break`\n",
        "\n",
        "`break` es muy útil si dada una condición queremos que se salga inmediatamente de un bucle `while`. Veámoslo con un ejemplo:\n",
        "\n",
        "\n"
      ]
    },
    {
      "cell_type": "markdown",
      "metadata": {
        "id": "WiRy4iHQEBXf"
      },
      "source": [
        "---\n",
        "\n",
        "#### Ejemplo 1\n",
        "\n",
        "La sucesión de Fibonacci es una sucesión infinita que se caracteriza porque cada término es la suma de los dos anteriores. Algunos de sus términos son 1, 1, 2, 3, 5, 8, 13...\n",
        "\n",
        "Supongamos que queremos que se nos impriman los 20 primeros términos de esta serie. Por tanto, necesitaremos por un lado los términos de la serie y, por otro, los índices que ocupan.\n",
        "\n",
        "**Ejercicio.** Piensa en cómo podrías resolver este problema en el cual se exige que en algún momento utilices el comando `break`."
      ]
    },
    {
      "cell_type": "code",
      "metadata": {
        "id": "7B64OKePufqd",
        "colab": {
          "base_uri": "https://localhost:8080/"
        },
        "outputId": "4165bd48-9393-4ad8-8dd6-3537d4f86877"
      },
      "source": [
        "fibo_ant = 1 # Término anterior\n",
        "fibo = 1 # Término actual\n",
        "idx = 3 # Como ya tenemos los dos primeros términos, empezamos con el índice 3\n",
        "\n",
        "print(\"El término {} ocupa la posición {}\".format(fibo_ant, 1))\n",
        "print(\"El término {} ocupa la posición {}\".format(fibo, 2))\n",
        "\n",
        "while fibo <= 500000: # Establecemos una cota para que el bucle no sea infinito\n",
        "  temp = fibo  # Guardamos temporalmente el fibonacci actual \n",
        "  fibo = fibo + fibo_ant  # Calculamos el nuevo término de la sucesión\n",
        "  fibo_ant = temp # Modicamos el valor del término anterior\n",
        "  \n",
        "  print(\"El término {} ocupa la posición {}\".format(fibo, idx))\n",
        "  \n",
        "  if idx == 20: # Si llegamos al vigésimo índice, \n",
        "    break       # salimos del bucle\n",
        "  \n",
        "  idx += 1 # Incrementamos el valor del índice"
      ],
      "execution_count": null,
      "outputs": [
        {
          "output_type": "stream",
          "text": [
            "El término 1 ocupa la posición 1\n",
            "El término 1 ocupa la posición 2\n",
            "El término 2 ocupa la posición 3\n",
            "El término 3 ocupa la posición 4\n",
            "El término 5 ocupa la posición 5\n",
            "El término 8 ocupa la posición 6\n",
            "El término 13 ocupa la posición 7\n",
            "El término 21 ocupa la posición 8\n",
            "El término 34 ocupa la posición 9\n",
            "El término 55 ocupa la posición 10\n",
            "El término 89 ocupa la posición 11\n",
            "El término 144 ocupa la posición 12\n",
            "El término 233 ocupa la posición 13\n",
            "El término 377 ocupa la posición 14\n",
            "El término 610 ocupa la posición 15\n",
            "El término 987 ocupa la posición 16\n",
            "El término 1597 ocupa la posición 17\n",
            "El término 2584 ocupa la posición 18\n",
            "El término 4181 ocupa la posición 19\n",
            "El término 6765 ocupa la posición 20\n"
          ],
          "name": "stdout"
        }
      ]
    },
    {
      "cell_type": "markdown",
      "metadata": {
        "id": "0WJ31N5ou5V7"
      },
      "source": [
        "**Ejercicio.** El ejemplo anterior se podría haber hecho perfectamente sin necesidad de utilizar la función `break`.\n",
        "\n",
        "---\n",
        "\n"
      ]
    },
    {
      "cell_type": "markdown",
      "metadata": {
        "id": "iGKR_-fjEDmM"
      },
      "source": [
        "### Combinación `while ... else`\n",
        "\n",
        "Podemos combinar un bucle `while` con el operador `else` para ejecutar un bloque de código una vez la condición del `while` haya dejado de ser verdadera."
      ]
    },
    {
      "cell_type": "code",
      "metadata": {
        "colab": {
          "base_uri": "https://localhost:8080/"
        },
        "id": "R-xActcRGgwV",
        "outputId": "cae71131-bce3-46b9-e3a1-db9e04032f62"
      },
      "source": [
        "i = 10\n",
        "print(\"Preparados para despegue. Empieza la cuenta atrás.\")\n",
        "while i >= 0:\n",
        "  print(i)\n",
        "  i -= 1\n",
        "else:\n",
        "  print(\"La cuenta atrás ha finalizado.\")"
      ],
      "execution_count": null,
      "outputs": [
        {
          "output_type": "stream",
          "text": [
            "Preparados para despegue. Empieza la cuenta atrás.\n",
            "10\n",
            "9\n",
            "8\n",
            "7\n",
            "6\n",
            "5\n",
            "4\n",
            "3\n",
            "2\n",
            "1\n",
            "0\n",
            "La cuenta atrás ha finalizado.\n"
          ],
          "name": "stdout"
        }
      ]
    },
    {
      "cell_type": "markdown",
      "metadata": {
        "id": "7bHfvIT7ELh8"
      },
      "source": [
        "## Bucles anidados\n",
        "\n",
        "Se trata de bucles dentro de bucles\n",
        "\n"
      ]
    },
    {
      "cell_type": "markdown",
      "metadata": {
        "id": "KjH93D5PENCL"
      },
      "source": [
        "---\n",
        "\n",
        "#### Ejemplo 3\n",
        "\n",
        "Vamos a calcular las tablas de multiplicar de los números del 1 al 10 anidando dos bucles `for`:"
      ]
    },
    {
      "cell_type": "code",
      "metadata": {
        "colab": {
          "base_uri": "https://localhost:8080/"
        },
        "id": "m9K1Gz3RA0OQ",
        "outputId": "617d9ef3-bbab-44db-e96f-7e0697ef705f"
      },
      "source": [
        "for i in range(1, 11):\n",
        "  print(\"\\nTabla de multiplicar del {}\".format(i))\n",
        "  for j in range(1, 21):\n",
        "    print(\"{} x {} = {}\".format(i, j, i * j))"
      ],
      "execution_count": null,
      "outputs": [
        {
          "output_type": "stream",
          "text": [
            "\n",
            "Tabla de multiplicar del 1\n",
            "1 x 1 = 1\n",
            "1 x 2 = 2\n",
            "1 x 3 = 3\n",
            "1 x 4 = 4\n",
            "1 x 5 = 5\n",
            "1 x 6 = 6\n",
            "1 x 7 = 7\n",
            "1 x 8 = 8\n",
            "1 x 9 = 9\n",
            "1 x 10 = 10\n",
            "1 x 11 = 11\n",
            "1 x 12 = 12\n",
            "1 x 13 = 13\n",
            "1 x 14 = 14\n",
            "1 x 15 = 15\n",
            "1 x 16 = 16\n",
            "1 x 17 = 17\n",
            "1 x 18 = 18\n",
            "1 x 19 = 19\n",
            "1 x 20 = 20\n",
            "\n",
            "Tabla de multiplicar del 2\n",
            "2 x 1 = 2\n",
            "2 x 2 = 4\n",
            "2 x 3 = 6\n",
            "2 x 4 = 8\n",
            "2 x 5 = 10\n",
            "2 x 6 = 12\n",
            "2 x 7 = 14\n",
            "2 x 8 = 16\n",
            "2 x 9 = 18\n",
            "2 x 10 = 20\n",
            "2 x 11 = 22\n",
            "2 x 12 = 24\n",
            "2 x 13 = 26\n",
            "2 x 14 = 28\n",
            "2 x 15 = 30\n",
            "2 x 16 = 32\n",
            "2 x 17 = 34\n",
            "2 x 18 = 36\n",
            "2 x 19 = 38\n",
            "2 x 20 = 40\n",
            "\n",
            "Tabla de multiplicar del 3\n",
            "3 x 1 = 3\n",
            "3 x 2 = 6\n",
            "3 x 3 = 9\n",
            "3 x 4 = 12\n",
            "3 x 5 = 15\n",
            "3 x 6 = 18\n",
            "3 x 7 = 21\n",
            "3 x 8 = 24\n",
            "3 x 9 = 27\n",
            "3 x 10 = 30\n",
            "3 x 11 = 33\n",
            "3 x 12 = 36\n",
            "3 x 13 = 39\n",
            "3 x 14 = 42\n",
            "3 x 15 = 45\n",
            "3 x 16 = 48\n",
            "3 x 17 = 51\n",
            "3 x 18 = 54\n",
            "3 x 19 = 57\n",
            "3 x 20 = 60\n",
            "\n",
            "Tabla de multiplicar del 4\n",
            "4 x 1 = 4\n",
            "4 x 2 = 8\n",
            "4 x 3 = 12\n",
            "4 x 4 = 16\n",
            "4 x 5 = 20\n",
            "4 x 6 = 24\n",
            "4 x 7 = 28\n",
            "4 x 8 = 32\n",
            "4 x 9 = 36\n",
            "4 x 10 = 40\n",
            "4 x 11 = 44\n",
            "4 x 12 = 48\n",
            "4 x 13 = 52\n",
            "4 x 14 = 56\n",
            "4 x 15 = 60\n",
            "4 x 16 = 64\n",
            "4 x 17 = 68\n",
            "4 x 18 = 72\n",
            "4 x 19 = 76\n",
            "4 x 20 = 80\n",
            "\n",
            "Tabla de multiplicar del 5\n",
            "5 x 1 = 5\n",
            "5 x 2 = 10\n",
            "5 x 3 = 15\n",
            "5 x 4 = 20\n",
            "5 x 5 = 25\n",
            "5 x 6 = 30\n",
            "5 x 7 = 35\n",
            "5 x 8 = 40\n",
            "5 x 9 = 45\n",
            "5 x 10 = 50\n",
            "5 x 11 = 55\n",
            "5 x 12 = 60\n",
            "5 x 13 = 65\n",
            "5 x 14 = 70\n",
            "5 x 15 = 75\n",
            "5 x 16 = 80\n",
            "5 x 17 = 85\n",
            "5 x 18 = 90\n",
            "5 x 19 = 95\n",
            "5 x 20 = 100\n",
            "\n",
            "Tabla de multiplicar del 6\n",
            "6 x 1 = 6\n",
            "6 x 2 = 12\n",
            "6 x 3 = 18\n",
            "6 x 4 = 24\n",
            "6 x 5 = 30\n",
            "6 x 6 = 36\n",
            "6 x 7 = 42\n",
            "6 x 8 = 48\n",
            "6 x 9 = 54\n",
            "6 x 10 = 60\n",
            "6 x 11 = 66\n",
            "6 x 12 = 72\n",
            "6 x 13 = 78\n",
            "6 x 14 = 84\n",
            "6 x 15 = 90\n",
            "6 x 16 = 96\n",
            "6 x 17 = 102\n",
            "6 x 18 = 108\n",
            "6 x 19 = 114\n",
            "6 x 20 = 120\n",
            "\n",
            "Tabla de multiplicar del 7\n",
            "7 x 1 = 7\n",
            "7 x 2 = 14\n",
            "7 x 3 = 21\n",
            "7 x 4 = 28\n",
            "7 x 5 = 35\n",
            "7 x 6 = 42\n",
            "7 x 7 = 49\n",
            "7 x 8 = 56\n",
            "7 x 9 = 63\n",
            "7 x 10 = 70\n",
            "7 x 11 = 77\n",
            "7 x 12 = 84\n",
            "7 x 13 = 91\n",
            "7 x 14 = 98\n",
            "7 x 15 = 105\n",
            "7 x 16 = 112\n",
            "7 x 17 = 119\n",
            "7 x 18 = 126\n",
            "7 x 19 = 133\n",
            "7 x 20 = 140\n",
            "\n",
            "Tabla de multiplicar del 8\n",
            "8 x 1 = 8\n",
            "8 x 2 = 16\n",
            "8 x 3 = 24\n",
            "8 x 4 = 32\n",
            "8 x 5 = 40\n",
            "8 x 6 = 48\n",
            "8 x 7 = 56\n",
            "8 x 8 = 64\n",
            "8 x 9 = 72\n",
            "8 x 10 = 80\n",
            "8 x 11 = 88\n",
            "8 x 12 = 96\n",
            "8 x 13 = 104\n",
            "8 x 14 = 112\n",
            "8 x 15 = 120\n",
            "8 x 16 = 128\n",
            "8 x 17 = 136\n",
            "8 x 18 = 144\n",
            "8 x 19 = 152\n",
            "8 x 20 = 160\n",
            "\n",
            "Tabla de multiplicar del 9\n",
            "9 x 1 = 9\n",
            "9 x 2 = 18\n",
            "9 x 3 = 27\n",
            "9 x 4 = 36\n",
            "9 x 5 = 45\n",
            "9 x 6 = 54\n",
            "9 x 7 = 63\n",
            "9 x 8 = 72\n",
            "9 x 9 = 81\n",
            "9 x 10 = 90\n",
            "9 x 11 = 99\n",
            "9 x 12 = 108\n",
            "9 x 13 = 117\n",
            "9 x 14 = 126\n",
            "9 x 15 = 135\n",
            "9 x 16 = 144\n",
            "9 x 17 = 153\n",
            "9 x 18 = 162\n",
            "9 x 19 = 171\n",
            "9 x 20 = 180\n",
            "\n",
            "Tabla de multiplicar del 10\n",
            "10 x 1 = 10\n",
            "10 x 2 = 20\n",
            "10 x 3 = 30\n",
            "10 x 4 = 40\n",
            "10 x 5 = 50\n",
            "10 x 6 = 60\n",
            "10 x 7 = 70\n",
            "10 x 8 = 80\n",
            "10 x 9 = 90\n",
            "10 x 10 = 100\n",
            "10 x 11 = 110\n",
            "10 x 12 = 120\n",
            "10 x 13 = 130\n",
            "10 x 14 = 140\n",
            "10 x 15 = 150\n",
            "10 x 16 = 160\n",
            "10 x 17 = 170\n",
            "10 x 18 = 180\n",
            "10 x 19 = 190\n",
            "10 x 20 = 200\n"
          ],
          "name": "stdout"
        }
      ]
    },
    {
      "cell_type": "markdown",
      "metadata": {
        "id": "EXg4xr8dP6_k"
      },
      "source": [
        "## Bucles con listas"
      ]
    },
    {
      "cell_type": "markdown",
      "metadata": {
        "id": "Jbblbwu_4tdD"
      },
      "source": [
        "Si quisiéramos imprimir por pantalla todos los elementos de una lista, lo podríamos hacer mediante los índices"
      ]
    },
    {
      "cell_type": "code",
      "metadata": {
        "colab": {
          "base_uri": "https://localhost:8080/"
        },
        "id": "3n1Nz98vWbcY",
        "outputId": "4ac8cc53-41a4-4a67-ae8c-b96b29ab8aa7"
      },
      "source": [
        "names = [\"Mario\", \"Nacho\", \"Ana\", \"Claudia\"]\n",
        "for i in range(len(names)):\n",
        "  print(names[i])"
      ],
      "execution_count": null,
      "outputs": [
        {
          "output_type": "stream",
          "text": [
            "Mario\n",
            "Nacho\n",
            "Ana\n",
            "Claudia\n"
          ],
          "name": "stdout"
        }
      ]
    },
    {
      "cell_type": "markdown",
      "metadata": {
        "id": "Jgmm54cF9nfa"
      },
      "source": [
        "## Bucles y tuplas\n",
        "\n",
        "Podemos iterar una tupla utilizando un bucle `for`\n",
        "\n"
      ]
    },
    {
      "cell_type": "code",
      "metadata": {
        "id": "bDuaGS9q5Fdn",
        "colab": {
          "base_uri": "https://localhost:8080/"
        },
        "outputId": "cedc3d73-748f-41db-92b1-143ec74c9ef5"
      },
      "source": [
        "frutas = \"Cereza\", \"Kiwi\", \"Pera\", \"Naranja\", \"Melocotón\", \"Sandía\", \"Melón\"\n",
        "\n",
        "for fruta in frutas:\n",
        "  print(fruta)"
      ],
      "execution_count": null,
      "outputs": [
        {
          "output_type": "stream",
          "text": [
            "Cereza\n",
            "Kiwi\n",
            "Pera\n",
            "Naranja\n",
            "Melocotón\n",
            "Sandía\n",
            "Melón\n"
          ],
          "name": "stdout"
        }
      ]
    },
    {
      "cell_type": "markdown",
      "metadata": {
        "id": "C7PDctpj-ARY"
      },
      "source": [
        "También podemos usar la técnica de unpacking en los bucles"
      ]
    },
    {
      "cell_type": "code",
      "metadata": {
        "colab": {
          "base_uri": "https://localhost:8080/"
        },
        "id": "T2om7z4W-EZe",
        "outputId": "c083d7d1-2b19-4c8d-b69a-436f408f4224"
      },
      "source": [
        "t = (\"cereza\", \"roja\"), (\"kiwi\", \"amarillo\"), (\"pera\", \"verde\"), (\"naranja\", \"naranja\")\n",
        "\n",
        "for fruta, color in t:\n",
        "  if fruta == \"kiwi\":\n",
        "    print(\"El color del\", fruta, \"es\", color)\n",
        "  else:\n",
        "    print(\"La {} es {}\".format(fruta, color))\n",
        "  "
      ],
      "execution_count": null,
      "outputs": [
        {
          "output_type": "stream",
          "text": [
            "La cereza es roja\n",
            "El color del kiwi es amarillo\n",
            "La pera es verde\n",
            "La naranja es naranja\n"
          ],
          "name": "stdout"
        }
      ]
    },
    {
      "cell_type": "markdown",
      "metadata": {
        "id": "SVWIyrklKtXY"
      },
      "source": [
        "## Bucles y conjuntos\n",
        "\n",
        "Podemos acceder a todos los elementos de un conjunto mediante un bucle `for`"
      ]
    },
    {
      "cell_type": "code",
      "metadata": {
        "colab": {
          "base_uri": "https://localhost:8080/"
        },
        "id": "7fbcNGGdKsru",
        "outputId": "b73b08fa-3268-431d-a51d-bdc49c2d0d97"
      },
      "source": [
        "set1 = {\"manzana\", \"pera\", \"melón\"}\n",
        "for item in set1:\n",
        "  print(item)"
      ],
      "execution_count": null,
      "outputs": [
        {
          "output_type": "stream",
          "text": [
            "manzana\n",
            "melón\n",
            "pera\n"
          ],
          "name": "stdout"
        }
      ]
    },
    {
      "cell_type": "markdown",
      "metadata": {
        "id": "09PvnVakVjBx"
      },
      "source": [
        "## Bucles y diccionarios\n",
        "\n",
        "Para recorrer todo el diccionario, podemos hacer uso de un bucle `for`, pues el diccionario es una estructura iterable:"
      ]
    },
    {
      "cell_type": "code",
      "metadata": {
        "colab": {
          "base_uri": "https://localhost:8080/"
        },
        "id": "4vvn3rfIiVh6",
        "outputId": "e64de846-3a6f-4849-81b2-3d9a80d94358"
      },
      "source": [
        "dicc = {\"username\": \"iafp\",\n",
        "        \"name\": \"Ignacio\",\n",
        "        \"age\": 28,\n",
        "        \"city\": \"Gijón\"}\n",
        "\n",
        "for key in dicc:\n",
        "  print(key, \":\", dicc[key])"
      ],
      "execution_count": null,
      "outputs": [
        {
          "output_type": "stream",
          "text": [
            "username : iafp\n",
            "name : Ignacio\n",
            "age : 28\n",
            "city : Gijón\n"
          ],
          "name": "stdout"
        }
      ]
    },
    {
      "cell_type": "markdown",
      "metadata": {
        "id": "AAJmz998iVvh"
      },
      "source": [
        "Otra forma de recorrer el diccionario sería obteniendo una lista de tuplas de la forma `(clave, valor)` para cada elemento de un diccionario, que construimos con el método `.items()`. Al ser una lista, sabemos que es iterable y podemos mostrar todas sus entradas haciendo uso de un bucle `for`."
      ]
    },
    {
      "cell_type": "code",
      "metadata": {
        "colab": {
          "base_uri": "https://localhost:8080/"
        },
        "id": "cBZAduWuMK1b",
        "outputId": "32792a8a-d2c0-4376-9879-bf8075fbb3fc"
      },
      "source": [
        "dicc.items()"
      ],
      "execution_count": null,
      "outputs": [
        {
          "output_type": "execute_result",
          "data": {
            "text/plain": [
              "dict_items([('username', 'iafp'), ('name', 'Ignacio'), ('age', 28), ('city', 'Gijón')])"
            ]
          },
          "metadata": {
            "tags": []
          },
          "execution_count": 15
        }
      ]
    },
    {
      "cell_type": "code",
      "metadata": {
        "colab": {
          "base_uri": "https://localhost:8080/"
        },
        "id": "DRfIFo37V624",
        "outputId": "dfbbd7f7-6744-4503-e6ca-b51e31ec8e26"
      },
      "source": [
        "for item in dicc.items():\n",
        "  print(item)"
      ],
      "execution_count": null,
      "outputs": [
        {
          "output_type": "stream",
          "text": [
            "('username', 'iafp')\n",
            "('name', 'Ignacio')\n",
            "('age', 28)\n",
            "('city', 'Gijón')\n"
          ],
          "name": "stdout"
        }
      ]
    },
    {
      "cell_type": "markdown",
      "metadata": {
        "id": "fXMjxa9nV_Mv"
      },
      "source": [
        "Para tener clave y valor por separado, podemos hacerlo del siguiente modo:"
      ]
    },
    {
      "cell_type": "code",
      "metadata": {
        "colab": {
          "base_uri": "https://localhost:8080/"
        },
        "id": "R3xNpytlqmSz",
        "outputId": "84d21e9e-f89c-45cc-d282-0d4cfc5f9a33"
      },
      "source": [
        "for key, value in dicc.items():\n",
        "  print(key, \":\", value)"
      ],
      "execution_count": null,
      "outputs": [
        {
          "output_type": "stream",
          "text": [
            "username : iafp\n",
            "name : Ignacio\n",
            "age : 28\n",
            "city : Gijón\n"
          ],
          "name": "stdout"
        }
      ]
    }
  ]
}
