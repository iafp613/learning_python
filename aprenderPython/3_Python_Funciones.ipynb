{
  "nbformat": 4,
  "nbformat_minor": 0,
  "metadata": {
    "colab": {
      "name": "4_PythonIntermedio_Funciones.ipynb",
      "provenance": [],
      "collapsed_sections": [],
      "toc_visible": true
    },
    "kernelspec": {
      "name": "python3",
      "display_name": "Python 3"
    },
    "language_info": {
      "name": "python"
    }
  },
  "cells": [
    {
      "cell_type": "markdown",
      "metadata": {
        "id": "qUOdgOhTv1si"
      },
      "source": [
        "# Funciones\n",
        "\n"
      ]
    },
    {
      "cell_type": "markdown",
      "metadata": {
        "id": "r55MQssxE_7o"
      },
      "source": [
        "## Función\n",
        "\n",
        "**Función.** Una función en `Python` es una pieza de código reutilizable que solo se ejecuta cuando es llamada.\n",
        "\n",
        "Se define usando la palabra reservada `def` y estructura general es la siguiente:\n",
        "\n",
        "\n",
        "\n",
        "```\n",
        "def nombre_función(input1, input2, ..., inputn):\n",
        "    cuerpo de la función\n",
        "    return output\n",
        "```\n",
        "\n"
      ]
    },
    {
      "cell_type": "markdown",
      "metadata": {
        "id": "JakkE-fEwODq"
      },
      "source": [
        "**Observación.** La instrucción `return` finaliza la ejecución de la función y devuelve el resultado que se indica a continuación. Si no se indicase nada, la función finalizaría, pero no retornaría nada.\n",
        "\n",
        "Como hemos visto, en general, las funciones constan de 3 partes:\n",
        "\n",
        "- **Inputs (parámetros o argumentos).** Son los valores que le pasamos como entrada a la función.\n",
        "- **Cuerpo.** Son todas las operaciones que lleva a cabo la función.\n",
        "- **Output.** Es el resultado que devuelve la función.\n",
        "\n",
        "**Observación.** Los parámetros son variables internas de la función. Si probásemos a ejecutar una de dichas variables en el entorno global, nos saltaría un error.\n",
        "\n",
        "Con lo visto anteriormente, a la hora de construir una función hay que hacerse las siguientes preguntas:\n",
        "\n",
        "- ¿Qué datos necesita conocer la función? (inputs)\n",
        "- ¿Qué hace la función? (cuerpo)\n",
        "- ¿Qué devuelve? (output)\n",
        "\n",
        "**Observación.** Los inputs y el output son opcionales: podemos definir una función sin necesidad de proporcionarle inputs y sin que nos devuelva nada.\n",
        "\n",
        "Una vez definida una función, para llamarla utilizamos su nombre seguido de paréntesis:"
      ]
    },
    {
      "cell_type": "code",
      "metadata": {
        "colab": {
          "base_uri": "https://localhost:8080/"
        },
        "id": "b48B7dXvNEc3",
        "outputId": "bbc7c4b2-ca94-455c-9230-e39a75769963"
      },
      "source": [
        "def mi_primera_funcion():\n",
        "    print(\"Hola\")\n",
        "\n",
        "mi_primera_funcion()"
      ],
      "execution_count": null,
      "outputs": [
        {
          "output_type": "stream",
          "text": [
            "Hola\n"
          ],
          "name": "stdout"
        }
      ]
    },
    {
      "cell_type": "markdown",
      "metadata": {
        "id": "6gyFc8hV8337"
      },
      "source": [
        "Hemos dicho que tanto los inputs como el output son opcionales. Veamos algunos ejemplos con diferentes casos.\n",
        "\n"
      ]
    },
    {
      "cell_type": "markdown",
      "metadata": {
        "id": "BFnz-v2UFCpe"
      },
      "source": [
        "---\n",
        "\n",
        "#### Ejemplo 1\n",
        "\n",
        "Veamos otro ejemplo que no necesite ningún parámetro y no nos devuelva nada, tal y como ocurría con `mi_primera_funcion()`"
      ]
    },
    {
      "cell_type": "code",
      "metadata": {
        "colab": {
          "base_uri": "https://localhost:8080/"
        },
        "id": "-CdgRhrGNg7O",
        "outputId": "8318249f-fd8f-443b-bc92-d4a01e5715c5"
      },
      "source": [
        "def holaMundo():\n",
        "    print(\"Hola mundo\")\n",
        "\n",
        "holaMundo()\n",
        "\n",
        "# Esta función, cuando es llamada, imprime \"Hola mundo\", pero no devuelve nada."
      ],
      "execution_count": null,
      "outputs": [
        {
          "output_type": "stream",
          "text": [
            "Hola mundo\n"
          ],
          "name": "stdout"
        }
      ]
    },
    {
      "cell_type": "markdown",
      "metadata": {
        "id": "_j8A5Pqg60NE"
      },
      "source": [
        "---\n",
        "\n",
        "#### Ejemplo 2\n",
        "\n",
        "Veamos un ejemplo de función que no necesita ningún input, pero que devuelve un output. Por ejemplo, una función que nos devuelve \"¡Buenos días!\""
      ]
    },
    {
      "cell_type": "code",
      "metadata": {
        "colab": {
          "base_uri": "https://localhost:8080/",
          "height": 36
        },
        "id": "WOpU_HZtN8h5",
        "outputId": "43a1decf-ca04-4022-f124-92b5d562d653"
      },
      "source": [
        "# Declaramos la función:\n",
        "def buenosDias():\n",
        "    return \"Buenos días\"\n",
        "\n",
        "# Llamamos a la función:\n",
        "buenosDias()"
      ],
      "execution_count": null,
      "outputs": [
        {
          "output_type": "execute_result",
          "data": {
            "application/vnd.google.colaboratory.intrinsic+json": {
              "type": "string"
            },
            "text/plain": [
              "'Buenos días'"
            ]
          },
          "metadata": {
            "tags": []
          },
          "execution_count": 4
        }
      ]
    },
    {
      "cell_type": "markdown",
      "metadata": {
        "id": "OvaxNnGV8fiF"
      },
      "source": [
        "Como nos devuelve el saludo, lo podemos guardar en una variable, que será de tipo string"
      ]
    },
    {
      "cell_type": "code",
      "metadata": {
        "colab": {
          "base_uri": "https://localhost:8080/"
        },
        "id": "9nV3m9XBOUQG",
        "outputId": "657f9bdb-58d3-4545-c38c-482894242ee3"
      },
      "source": [
        "buenosDias = buenosDias()\n",
        "print(buenosDias)\n",
        "print(type(buenosDias))"
      ],
      "execution_count": null,
      "outputs": [
        {
          "output_type": "stream",
          "text": [
            "Buenos días\n",
            "<class 'str'>\n"
          ],
          "name": "stdout"
        }
      ]
    },
    {
      "cell_type": "markdown",
      "metadata": {
        "id": "NZXpjzpn7Qwv"
      },
      "source": [
        "---\n",
        "\n",
        "#### Ejemplo 3\n",
        "\n",
        "Veamos ahora un ejemplo de función que no nos devuelva nada, pero que sí toma algún parámetro"
      ]
    },
    {
      "cell_type": "code",
      "metadata": {
        "colab": {
          "base_uri": "https://localhost:8080/"
        },
        "id": "rw52PX9oQX8x",
        "outputId": "469a7f77-2f01-4fd6-c91d-ecd5d91fab60"
      },
      "source": [
        "def buenos_dias(nombre):\n",
        "    print(\"¡Buenos días, {}!\".format(nombre))\n",
        "\n",
        "buenos_dias(nombre = \"Nacho\")\n",
        "\n",
        "# La función recibe un nombre por parámetro y muestra por pantalla el resultado con el nombre indicado."
      ],
      "execution_count": null,
      "outputs": [
        {
          "output_type": "stream",
          "text": [
            "¡Buenos días, Nacho!\n"
          ],
          "name": "stdout"
        }
      ]
    },
    {
      "cell_type": "markdown",
      "metadata": {
        "id": "t9QrO9P3uYVG"
      },
      "source": [
        "---\n",
        "\n",
        "#### Ejemplo 4\n",
        "\n",
        "Por último, vamos a crear una función que nos calcule la división entera de dos números y nos retorne el cociente y el resto."
      ]
    },
    {
      "cell_type": "code",
      "metadata": {
        "id": "34IoZoMaRHBe"
      },
      "source": [
        "def division_entera(x, y):\n",
        "    q = x // y\n",
        "    r = x % y\n",
        "    return q, r"
      ],
      "execution_count": null,
      "outputs": []
    },
    {
      "cell_type": "markdown",
      "metadata": {
        "id": "v4HSy360xmT_"
      },
      "source": [
        "Esta función, a la que hemos llamado `division_entera`, calcula el cociente y el resto de dos números cualesquiera y devuelve como resultado esos dos números calculados.\n",
        "\n",
        "Utilicemos ahora nuestra función para calcular el cociente y el resto de la división $41 \\div 7$"
      ]
    },
    {
      "cell_type": "code",
      "metadata": {
        "colab": {
          "base_uri": "https://localhost:8080/"
        },
        "id": "wLo1oxyNRey6",
        "outputId": "1df930e2-8ade-480c-c23d-459e8bc767db"
      },
      "source": [
        "division_entera(x = 41, y = 7)"
      ],
      "execution_count": null,
      "outputs": [
        {
          "output_type": "execute_result",
          "data": {
            "text/plain": [
              "(5, 6)"
            ]
          },
          "metadata": {
            "tags": []
          },
          "execution_count": 9
        }
      ]
    },
    {
      "cell_type": "code",
      "metadata": {
        "colab": {
          "base_uri": "https://localhost:8080/"
        },
        "id": "kqSqbeLYRoPQ",
        "outputId": "544fa0fe-f4dc-4dfe-931f-e1b8e731ce37"
      },
      "source": [
        "division_entera(y = 7, x = 41)"
      ],
      "execution_count": null,
      "outputs": [
        {
          "output_type": "execute_result",
          "data": {
            "text/plain": [
              "(5, 6)"
            ]
          },
          "metadata": {
            "tags": []
          },
          "execution_count": 10
        }
      ]
    },
    {
      "cell_type": "code",
      "metadata": {
        "colab": {
          "base_uri": "https://localhost:8080/"
        },
        "id": "o2RDBbEoRu7p",
        "outputId": "5f6e51ab-45ca-4117-aad7-6e59656a724c"
      },
      "source": [
        "division_entera(41, 7)"
      ],
      "execution_count": null,
      "outputs": [
        {
          "output_type": "execute_result",
          "data": {
            "text/plain": [
              "(5, 6)"
            ]
          },
          "metadata": {
            "tags": []
          },
          "execution_count": 11
        }
      ]
    },
    {
      "cell_type": "markdown",
      "metadata": {
        "id": "871_CMggyClo"
      },
      "source": [
        "Al llamar a la función e indicarle por parámetros `x = 41` e `y = 7`, hemos obtenido como resultado la tupla `(5, 6)`. El significado de dicho resulatdo es que el cociente entero de $41\\div 7$ es 5, mientras que el resto es $6$. Efectivamente\n",
        "\n",
        "$$41 = 7\\cdot 5 + 6$$\n",
        "\n",
        "También podríamos guardar en variables diferentes los resultados que nos devuelve nuestra función, para poder trabajar con ellos en el entorno global"
      ]
    },
    {
      "cell_type": "code",
      "metadata": {
        "colab": {
          "base_uri": "https://localhost:8080/"
        },
        "id": "4dHdjMpSR8Y5",
        "outputId": "f1e570ec-27e9-4691-a901-e80242c3c88f"
      },
      "source": [
        "cociente, resto = division_entera(x = 41, y = 7)\n",
        "print(cociente)\n",
        "print(resto)\n",
        "print(41 == 7 * cociente + resto)"
      ],
      "execution_count": null,
      "outputs": [
        {
          "output_type": "stream",
          "text": [
            "5\n",
            "6\n",
            "True\n"
          ],
          "name": "stdout"
        }
      ]
    },
    {
      "cell_type": "markdown",
      "metadata": {
        "id": "IFTMxwvJcNSE"
      },
      "source": [
        "## Parámetros\n",
        "\n",
        "Por defecto, una función debe ser llamada con el número correcto de argumentos. Esto es, si la función espera 2 argumentos, tenemos que llamar a la función con esos 2 argumentos. Ni más, ni menos.\n",
        "\n"
      ]
    },
    {
      "cell_type": "code",
      "metadata": {
        "colab": {
          "base_uri": "https://localhost:8080/"
        },
        "id": "UbJHL2DaSaFp",
        "outputId": "c6867b23-5f23-4d1b-b313-28fab9e4590e"
      },
      "source": [
        "def nombre_completo(nombre, apellido):\n",
        "    print(\"El nombre completo es: \", nombre, apellido)\n",
        "\n",
        "nombre_completo(\"Ana\", \"García\")"
      ],
      "execution_count": null,
      "outputs": [
        {
          "output_type": "stream",
          "text": [
            "El nombre completo es:  Ana García\n"
          ],
          "name": "stdout"
        }
      ]
    },
    {
      "cell_type": "markdown",
      "metadata": {
        "id": "zcKikKOdzIBZ"
      },
      "source": [
        "Si intentamos llamar a la función `complete_name()` pasando 1 solo parámetro o 3 parámetros, entonces la función devuelve error."
      ]
    },
    {
      "cell_type": "markdown",
      "metadata": {
        "id": "0RcJ96fHzVj9"
      },
      "source": [
        "### Número arbitrario de argumentos\n",
        "\n",
        "Si no sabemos el número de parámetros que van a ser introducidos, entonces añadimos un asterisco `*` previo al nombre del parámetro en la definición de la función. Los valores introducidos serán guardados en una tupla."
      ]
    },
    {
      "cell_type": "code",
      "metadata": {
        "id": "luNhyXUUTcnW"
      },
      "source": [
        "def suma_num(*numeros):\n",
        "    suma = 0\n",
        "    for n in numeros:\n",
        "        suma += n\n",
        "    return suma"
      ],
      "execution_count": null,
      "outputs": []
    },
    {
      "cell_type": "code",
      "metadata": {
        "colab": {
          "base_uri": "https://localhost:8080/"
        },
        "id": "fdxudPEHT7Ls",
        "outputId": "f1b278e2-6347-4f52-c1ab-0fee251cadcb"
      },
      "source": [
        "suma_num(1, 2, 3)"
      ],
      "execution_count": null,
      "outputs": [
        {
          "output_type": "execute_result",
          "data": {
            "text/plain": [
              "6"
            ]
          },
          "metadata": {
            "tags": []
          },
          "execution_count": 16
        }
      ]
    },
    {
      "cell_type": "code",
      "metadata": {
        "colab": {
          "base_uri": "https://localhost:8080/"
        },
        "id": "7LqLBxDCT-8s",
        "outputId": "f82a3c0d-7ec2-4a3b-f4fa-43563e395c32"
      },
      "source": [
        "suma_num(2, 4, 613, 8, 10)"
      ],
      "execution_count": null,
      "outputs": [
        {
          "output_type": "execute_result",
          "data": {
            "text/plain": [
              "637"
            ]
          },
          "metadata": {
            "tags": []
          },
          "execution_count": 18
        }
      ]
    },
    {
      "cell_type": "markdown",
      "metadata": {
        "id": "sIFU7QxA1M1N"
      },
      "source": [
        "### Número arbitrario de claves de argumento\n",
        "\n",
        "Hasta ahora hemos visto que al pasar valores por parámetro a la función, podemos hacerlo con la sintaxis `clave_argumento = valor` o directamente pasar por parámetro el valor siguiendo el orden posicional de la definición de la función:"
      ]
    },
    {
      "cell_type": "code",
      "metadata": {
        "colab": {
          "base_uri": "https://localhost:8080/"
        },
        "id": "Rti0dHplUzWq",
        "outputId": "98ab15a7-922f-4eda-ada7-e55e375ad0d9"
      },
      "source": [
        "def nombre_completo(nombre, apellido):\n",
        "    print(\"El nombre completo es: \", nombre, apellido)\n",
        "\n",
        "nombre_completo(\"Pedro\", \"Aguado\")"
      ],
      "execution_count": null,
      "outputs": [
        {
          "output_type": "stream",
          "text": [
            "El nombre completo es:  Pedro Aguado\n"
          ],
          "name": "stdout"
        }
      ]
    },
    {
      "cell_type": "markdown",
      "metadata": {
        "id": "oLUVGV0a2JJ3"
      },
      "source": [
        "En realidad, los nombres completos pueden tener dos o incluso más apellidos, pero no sabemos si el usuario tiene 1 o 2 o más. Entones, podemos añadir dos asteriscos `**` antes del nombre del parámetro para así poder introducir tantos como queramos sin que salte error"
      ]
    },
    {
      "cell_type": "code",
      "metadata": {
        "colab": {
          "base_uri": "https://localhost:8080/"
        },
        "id": "vlc8xBzZU_7S",
        "outputId": "306b915f-c26e-492b-d581-f9f40fdc4ce9"
      },
      "source": [
        "def nombre_completo(nombre, **apellido):\n",
        "    print(\"El nombre completo es: {}\".format(nombre), end = \" \" )\n",
        "    for i in apellido.items():\n",
        "        print(\"{}\".format(i[1]), end = \" \")\n",
        "\n",
        "nombre_completo(nombre = \"Luis\", apellido1 = \"Pérez\", apellido2 = \"López\")"
      ],
      "execution_count": null,
      "outputs": [
        {
          "output_type": "stream",
          "text": [
            "El nombre completo es: Luis Pérez López "
          ],
          "name": "stdout"
        }
      ]
    },
    {
      "cell_type": "markdown",
      "metadata": {
        "id": "WAmAFPo2ycl-"
      },
      "source": [
        "### Parámetros por defecto\n",
        "\n",
        "Hemos visto que una función en `Python` puede tener o no parámetros.\n",
        "\n",
        "En caso de tener, podemos indicar que alguno tenga un valor por defecto.\n",
        "\n",
        "La función `diff()` calcula la diferencia entre los dos números que introducimos por parámetros. Podemos hacer que el sustraendo por defecto valga 1 del siguiente modo:"
      ]
    },
    {
      "cell_type": "code",
      "metadata": {
        "colab": {
          "base_uri": "https://localhost:8080/"
        },
        "id": "nBQ2scRZWLg3",
        "outputId": "8429d066-7ec9-42c7-cf24-48f7af2f1647"
      },
      "source": [
        "def diff(x, y = 1):\n",
        "    return x - y\n",
        "\n",
        "diff(613)"
      ],
      "execution_count": null,
      "outputs": [
        {
          "output_type": "execute_result",
          "data": {
            "text/plain": [
              "612"
            ]
          },
          "metadata": {
            "tags": []
          },
          "execution_count": 25
        }
      ]
    },
    {
      "cell_type": "markdown",
      "metadata": {
        "id": "TKl7Kes2egTS"
      },
      "source": [
        "## Docstring\n",
        "\n",
        "**Docstring.** Son comentarios explicativos que ayudan a comprender el funcionamiento de una función.\n",
        "\n",
        "- Van entre triple comilla doble\n",
        "- Pueden ser multilínea\n",
        "- Se sitúan al principio de la definición de la función\n",
        "\n",
        "Retomando el ejemplo de la división entera, podríamos utilizar docstring del siguiente modo:"
      ]
    },
    {
      "cell_type": "code",
      "metadata": {
        "id": "ZhqcAo13Wt9t"
      },
      "source": [
        "def division_entera(x, y):\n",
        "    \"\"\"\n",
        "    Esta función calcula el cociente y el resto\n",
        "    de la división entera de x entre y.\n",
        "    Argumentos:\n",
        "        x(int): dividendo\n",
        "        y(int): divisor distinto de cero.\n",
        "    \"\"\"\n",
        "    q = x // y\n",
        "    r = x % y\n",
        "    return q, r"
      ],
      "execution_count": null,
      "outputs": []
    },
    {
      "cell_type": "markdown",
      "metadata": {
        "id": "M8c-vyXWfXL3"
      },
      "source": [
        "Con la ayuda del método `.__doc__` podemos acceder directamente a la información indicada en el docstring de una función"
      ]
    },
    {
      "cell_type": "code",
      "metadata": {
        "colab": {
          "base_uri": "https://localhost:8080/"
        },
        "id": "nO5BlraRXJwG",
        "outputId": "78fb37e1-3acf-4be8-f661-d8cd09b74bb8"
      },
      "source": [
        "print(division_entera.__doc__)"
      ],
      "execution_count": null,
      "outputs": [
        {
          "output_type": "stream",
          "text": [
            "\n",
            "    Esta función calcula el cociente y el resto\n",
            "    de la división entera de x entre y.\n",
            "    Argumentos:\n",
            "        x(int): dividendo\n",
            "        y(int): divisor distinto de cero.\n",
            "    \n"
          ],
          "name": "stdout"
        }
      ]
    },
    {
      "cell_type": "markdown",
      "metadata": {
        "id": "x4hH0f43fp4q"
      },
      "source": [
        "## Variables de una función\n",
        "\n",
        "Dentro de una función en `Python` existen dos tipos de variables:\n",
        "\n",
        "- **Variable local.** Aquella que es creada y solamente existe dentro de la función.\n",
        "- **Variable global.** Aquella que es creada en el entorno global.\n",
        "\n",
        "Dada la siguiente función:"
      ]
    },
    {
      "cell_type": "code",
      "metadata": {
        "id": "2ZvhnqCPYnTG"
      },
      "source": [
        "def operaciones_aritmeticas(x, y):\n",
        "    sum = x + y\n",
        "    diff = x - y\n",
        "    mult = x * y\n",
        "    div = x / y\n",
        "    return {\"suma\": sum,\n",
        "            \"resta\": diff,\n",
        "            \"producto\": mult,\n",
        "            \"division\": div}"
      ],
      "execution_count": null,
      "outputs": []
    },
    {
      "cell_type": "markdown",
      "metadata": {
        "id": "7OilEVxgglpi"
      },
      "source": [
        "Si nosotros queremos imprimir por ejemplo el valor que toma la variable `mult` en el entorno global nos saltará un error, pues esta variable no existe a nivel global porque no ha sido declarada en dicho entorno ya que solamente ha sido declarada a nivel local, dentro de la función `operaciones_aritmeticas()`."
      ]
    },
    {
      "cell_type": "code",
      "metadata": {
        "colab": {
          "base_uri": "https://localhost:8080/"
        },
        "id": "i6ddydIhZ3ZS",
        "outputId": "2876ebcb-b67b-4c18-f533-786d1a556221"
      },
      "source": [
        "print(operaciones_aritmeticas(5, 3))"
      ],
      "execution_count": null,
      "outputs": [
        {
          "output_type": "stream",
          "text": [
            "{'suma': 8, 'resta': 2, 'producto': 15, 'division': 1.6666666666666667}\n"
          ],
          "name": "stdout"
        }
      ]
    },
    {
      "cell_type": "markdown",
      "metadata": {
        "id": "bRGOMrr-hzOe"
      },
      "source": [
        "Si se diese el caso de que sí hubiese sido definida la variable `mult` en el entorno global, como lo que ocurre en el siguiente bloque de código, por mucho que la variable local tenga el mimso nombre y por mucho que ejecutemos la función, el valor de la variable global no se ve modificado"
      ]
    },
    {
      "cell_type": "code",
      "metadata": {
        "colab": {
          "base_uri": "https://localhost:8080/"
        },
        "id": "v0LdovRQghnz",
        "outputId": "6026f322-0a8e-4f90-b9c1-05a302b1450e"
      },
      "source": [
        "mult = 10\n",
        "print(operaciones_aritmeticas(x = 5, y = 3))\n",
        "print(mult)"
      ],
      "execution_count": null,
      "outputs": [
        {
          "output_type": "stream",
          "text": [
            "{'suma': 8, 'resta': 2, 'producto': 15, 'division': 1.6666666666666667}\n",
            "10\n"
          ],
          "name": "stdout"
        }
      ]
    },
    {
      "cell_type": "markdown",
      "metadata": {
        "id": "X7h_mZNeiLJ4"
      },
      "source": [
        "Si dentro de una función utilizamos la palabra reservada `global` a una variable local, ésta automáticamente pasa a ser una variable global previamente definida.\n",
        "\n",
        "Veamos un ejemplo de función que nos devuelve el siguiente número del entero `n` definido en el entorno global:"
      ]
    },
    {
      "cell_type": "code",
      "metadata": {
        "colab": {
          "base_uri": "https://localhost:8080/"
        },
        "id": "hK1kS1AuiHp8",
        "outputId": "0ec81792-4e9c-4cf0-b3ff-ce3cece9bcfe"
      },
      "source": [
        "n = 7\n",
        "\n",
        "def next_n():\n",
        "  global n\n",
        "  return n + 1\n",
        "\n",
        "next_n()"
      ],
      "execution_count": null,
      "outputs": [
        {
          "output_type": "execute_result",
          "data": {
            "text/plain": [
              "8"
            ]
          },
          "metadata": {
            "tags": []
          },
          "execution_count": 32
        }
      ]
    },
    {
      "cell_type": "markdown",
      "metadata": {
        "id": "AKYIJ-Uj5iOg"
      },
      "source": [
        "### Paso por copia vs. paso por referencia\n",
        "\n",
        "Dependiendo del tipo de dato que pasemos por parámetro a la función, podemos diferenciar entre\n",
        "\n",
        "- **Paso por copia.** Se crea una copia local de la variable dentro de la función.\n",
        "- **Paso por referencia.** Se maneja directamente la variable y los cambios realizados dentro de la función afectan también a nivel global.\n",
        "\n",
        "En general, los tipos de datos básicos como enteros, en coma flotante, strings o booleanos se pasan por copia, mientras que estructuras de datos como listas, diccionarios, conjuntos o tuplas u otros objetos se pasan por referencia.\n",
        "\n",
        "Un ejemplo de paso por copia sería"
      ]
    },
    {
      "cell_type": "code",
      "metadata": {
        "id": "mL27Pg_p5xNZ"
      },
      "source": [
        "def double_value(n):\n",
        "    n = n*2\n",
        "    return n"
      ],
      "execution_count": null,
      "outputs": []
    },
    {
      "cell_type": "code",
      "metadata": {
        "colab": {
          "base_uri": "https://localhost:8080/"
        },
        "id": "pmw6xMZA52Xa",
        "outputId": "a47f8820-3c9f-4ee9-cfc3-0d94963c027c"
      },
      "source": [
        "num = 5\n",
        "print(double_value(num))\n",
        "print(num)"
      ],
      "execution_count": null,
      "outputs": [
        {
          "output_type": "stream",
          "text": [
            "10\n",
            "5\n"
          ],
          "name": "stdout"
        }
      ]
    },
    {
      "cell_type": "markdown",
      "metadata": {
        "id": "CO1OLE_U5_p7"
      },
      "source": [
        "Un ejemplo de paso por referencia sería"
      ]
    },
    {
      "cell_type": "code",
      "metadata": {
        "id": "V8eGf2qD6B44"
      },
      "source": [
        "def double_values(ns):\n",
        "  for i, n in enumerate(ns):\n",
        "    ns[i] *= 2\n",
        "\n",
        "  return ns"
      ],
      "execution_count": null,
      "outputs": []
    },
    {
      "cell_type": "code",
      "metadata": {
        "colab": {
          "base_uri": "https://localhost:8080/"
        },
        "id": "WFuevE1T6beZ",
        "outputId": "35af7633-02ae-440f-c27d-ffe0bc5ee838"
      },
      "source": [
        "nums = [1, 2, 3, 4, 5]\n",
        "print(double_values(nums))\n",
        "print(nums)"
      ],
      "execution_count": null,
      "outputs": [
        {
          "output_type": "stream",
          "text": [
            "[2, 4, 6, 8, 10]\n",
            "[2, 4, 6, 8, 10]\n"
          ],
          "name": "stdout"
        }
      ]
    },
    {
      "cell_type": "markdown",
      "metadata": {
        "id": "vSHQn0k7iKek"
      },
      "source": [
        "## Funciones más complejas\n",
        "\n",
        "Las funciones pueden ser más completas, pues admiten tanto operadores de decisión como de iteración.\n",
        "\n",
        "Volviendo al ejemplo 4, la función creada claramente es muy sencilla, pues suponemos que el usuario va a introducir por parámetros números enteros.\n",
        "\n",
        "**Ejercicio.** Mejora la función `division_entera()` para que\n",
        "\n",
        "- Compruebe que los números introducidos son enteros. En caso de no ser así, indicar que se ha tomado la parte entera de los valores introducidos.\n",
        "- Realice la división entera del mayor parámetro (en valor absoluto) entre el menor parámetro. Esto es, si el usuario introduce `x = -2` e `y = -10`, como 10 > 2, entonces la función debe llevar a cabo la división entera de -10 entre -2.\n",
        "- Imprima por pantalla una frase indicando la división realizada y el cociente y el resto obtenidos.\n",
        "- Devuelva el cociente y el resto a modo de tupla\n"
      ]
    },
    {
      "cell_type": "code",
      "metadata": {
        "id": "W3mzqWbJeCa8"
      },
      "source": [
        "def division_entera(x, y):\n",
        "    ints = (x == int(x)) and (y == int(y))\n",
        "\n",
        "    if not ints:\n",
        "        x = int(x)\n",
        "        y = int(y)\n",
        "        print(\"Se tomarán como parámetro las partes enteras de los valores introducidos\")\n",
        "\n",
        "    if abs(x) >= abs(y):\n",
        "        q = x // y\n",
        "        r = x % y\n",
        "        print(f\"Se ha realizado la división de {x} entre {y}, el resultado es: cociente = {q} y el resto {r}\")\n",
        "\n",
        "    else:\n",
        "        q = y // x\n",
        "        r = y % x\n",
        "        print(f\"Se ha realizado la división de {y} entre {x}, el resultado es: cociente = {q} y el resto {r}\")\n",
        "\n",
        "    return q, r"
      ],
      "execution_count": null,
      "outputs": []
    },
    {
      "cell_type": "code",
      "metadata": {
        "colab": {
          "base_uri": "https://localhost:8080/"
        },
        "id": "Yn5uZKHYf8FM",
        "outputId": "f4214265-4b2e-4619-8446-51084e86a404"
      },
      "source": [
        "division_entera(-10.3, -5)"
      ],
      "execution_count": null,
      "outputs": [
        {
          "output_type": "stream",
          "text": [
            "Se tomarán como parámetro las partes enteras de los valores introducidos\n",
            "Se ha realizado la división de -10 entre -5, el resultado es: cociente = 2 y el resto 0\n"
          ],
          "name": "stdout"
        },
        {
          "output_type": "execute_result",
          "data": {
            "text/plain": [
              "(2, 0)"
            ]
          },
          "metadata": {
            "tags": []
          },
          "execution_count": 39
        }
      ]
    },
    {
      "cell_type": "code",
      "metadata": {
        "colab": {
          "base_uri": "https://localhost:8080/"
        },
        "id": "Qi5FvOVBgHui",
        "outputId": "c0bf398e-91e6-4ef1-b160-6b2778f51787"
      },
      "source": [
        "division_entera(-3, 19)"
      ],
      "execution_count": null,
      "outputs": [
        {
          "output_type": "stream",
          "text": [
            "Se ha realizado la división de 19 entre -3, el resultado es: cociente = -7 y el resto -2\n"
          ],
          "name": "stdout"
        },
        {
          "output_type": "execute_result",
          "data": {
            "text/plain": [
              "(-7, -2)"
            ]
          },
          "metadata": {
            "tags": []
          },
          "execution_count": 40
        }
      ]
    },
    {
      "cell_type": "markdown",
      "metadata": {
        "id": "UldoeHHuxVNs"
      },
      "source": [
        "---\n",
        "\n",
        "#### Ejemplo 5\n",
        "\n",
        "Veamos una función que dado un número, nos dice si éste es positivo, negativo o vale 0.\n"
      ]
    },
    {
      "cell_type": "code",
      "metadata": {
        "id": "_EM3gzkWhSxd"
      },
      "source": [
        "def signo(num):\n",
        "    \"\"\"\n",
        "    Función que dado un número devuelve el signo positivo\n",
        "    negativo o cero del mismo.\n",
        "\n",
        "    Argumentos:\n",
        "        num(int): Número del cual queremos hallar su signo.\n",
        "    \n",
        "    Returns:\n",
        "        signo(str): string positivo, negativo o cero.\n",
        "    \"\"\"\n",
        "    if num > 0:\n",
        "        return \"Positivo\"\n",
        "    elif num < 0:\n",
        "        return \"Negativo\"\n",
        "    else:\n",
        "        return \"Cero\""
      ],
      "execution_count": null,
      "outputs": []
    },
    {
      "cell_type": "code",
      "metadata": {
        "colab": {
          "base_uri": "https://localhost:8080/"
        },
        "id": "N1EK97Alibbm",
        "outputId": "023b82a2-79f9-48cf-e68c-7c97f81b5498"
      },
      "source": [
        "print(signo(3.1415))\n",
        "print(signo(-100))\n",
        "print(signo(0))"
      ],
      "execution_count": null,
      "outputs": [
        {
          "output_type": "stream",
          "text": [
            "Positivo\n",
            "Negativo\n",
            "Cero\n"
          ],
          "name": "stdout"
        }
      ]
    },
    {
      "cell_type": "markdown",
      "metadata": {
        "id": "dgiLR9QQjwlu"
      },
      "source": [
        "---\n",
        "\n",
        "#### Ejemplo 6\n",
        "\n",
        "Veamos ahora una función que contiene un bucle `for` y que dado un número entero, nos imprime su tabla de multiplicar con sus 10 primeros múltiplos y nos devuelve una lista con todos esos múltiplos:"
      ]
    },
    {
      "cell_type": "code",
      "metadata": {
        "id": "HBhmElsujqRQ"
      },
      "source": [
        "def multiplication_table10(num):\n",
        "  \"\"\"\n",
        "  Dado un número entero, imprimimos su tabla de multiplicar con\n",
        "  los 10 primeros múltiplos y devolvemos una lista de los múltiplos. \n",
        "\n",
        "  Args:\n",
        "    num (int): valor del cual vamos a calcular sus tabla de multiplicar\n",
        "\n",
        "  Returns: \n",
        "    multiples (list): lista con los 10 primeros múltiplos de num\n",
        "  \"\"\"\n",
        "  multiples = []\n",
        "  print(\"La tabla de multiplicar del {}:\".format(num))\n",
        "  \n",
        "  for i in range(1, 11):\n",
        "    multiple = num * i\n",
        "    print(\"{} x {} = {}\".format(num, i, multiple))\n",
        "    multiples.append(multiple)\n",
        "  \n",
        "  return multiples"
      ],
      "execution_count": null,
      "outputs": []
    },
    {
      "cell_type": "code",
      "metadata": {
        "colab": {
          "base_uri": "https://localhost:8080/"
        },
        "id": "KOCDnJHTjQnn",
        "outputId": "11c682a5-a9f7-4ddc-c1e8-c3f9af1d6d15"
      },
      "source": [
        "multiples7 = multiplication_table10(7)\n",
        "print(multiples7)"
      ],
      "execution_count": null,
      "outputs": [
        {
          "output_type": "stream",
          "text": [
            "La tabla de multiplicar del 7:\n",
            "7 x 1 = 7\n",
            "7 x 2 = 14\n",
            "7 x 3 = 21\n",
            "7 x 4 = 28\n",
            "7 x 5 = 35\n",
            "7 x 6 = 42\n",
            "7 x 7 = 49\n",
            "7 x 8 = 56\n",
            "7 x 9 = 63\n",
            "7 x 10 = 70\n",
            "[7, 14, 21, 28, 35, 42, 49, 56, 63, 70]\n"
          ],
          "name": "stdout"
        }
      ]
    },
    {
      "cell_type": "markdown",
      "metadata": {
        "id": "O3pgpZRckezm"
      },
      "source": [
        "Vamos ahora a mejorar la función `multiplication_table10()` para que si el usuario decide introducir un número que no sea entero, nuestra función le avise y le explique el error que está cometiendo:"
      ]
    },
    {
      "cell_type": "code",
      "metadata": {
        "id": "wAeuky2NkXOL"
      },
      "source": [
        "def multiplication_table10(num):\n",
        "  \"\"\"\n",
        "  Dado un número entero, primero comprovamos si es entero. \n",
        "  Si no lo es, no devolvemos nada.\n",
        "  Si lo es, imprimimos su tabla de multiplicar con los 10 \n",
        "  primeros múltiplos y devolvemos una lista de los múltiplos. \n",
        "\n",
        "  Args:\n",
        "    num (int): valor del cual vamos a calcular sus 10 primeros múltiplos\n",
        "\n",
        "  Returns: \n",
        "    multiples (list): lista con los 10 primeros múltiplos de num\n",
        "  \"\"\"\n",
        "\n",
        "  if type(num) != type(1):\n",
        "    print(\"El número introducido no es entero\")\n",
        "    return\n",
        "\n",
        "  multiples = []\n",
        "  print(\"La tabla de multiplicar del {}:\".format(num))\n",
        "  \n",
        "  for i in range(1, 11):\n",
        "    multiple = num * i\n",
        "    print(\"{} x {} = {}\".format(num, i, multiple))\n",
        "    multiples.append(multiple)\n",
        "  \n",
        "  return multiples"
      ],
      "execution_count": null,
      "outputs": []
    },
    {
      "cell_type": "code",
      "metadata": {
        "colab": {
          "base_uri": "https://localhost:8080/"
        },
        "id": "dgKYK1shmxgx",
        "outputId": "d66f5cd5-8c2e-4382-ad76-25a2a4370f18"
      },
      "source": [
        "multiples3 = multiplication_table10(num = 3)\n",
        "print(multiples3)"
      ],
      "execution_count": null,
      "outputs": [
        {
          "output_type": "stream",
          "text": [
            "La tabla de multiplicar del 3:\n",
            "3 x 1 = 3\n",
            "3 x 2 = 6\n",
            "3 x 3 = 9\n",
            "3 x 4 = 12\n",
            "3 x 5 = 15\n",
            "3 x 6 = 18\n",
            "3 x 7 = 21\n",
            "3 x 8 = 24\n",
            "3 x 9 = 27\n",
            "3 x 10 = 30\n",
            "[3, 6, 9, 12, 15, 18, 21, 24, 27, 30]\n"
          ],
          "name": "stdout"
        }
      ]
    },
    {
      "cell_type": "code",
      "metadata": {
        "colab": {
          "base_uri": "https://localhost:8080/"
        },
        "id": "Usl-Jxoimi0E",
        "outputId": "549f6b35-4009-4ca1-b850-98840e85e17c"
      },
      "source": [
        "multiples_float = multiplication_table10(num = \"3.7\")\n",
        "print(multiples_float)"
      ],
      "execution_count": null,
      "outputs": [
        {
          "output_type": "stream",
          "text": [
            "El número introducido no es entero\n",
            "None\n"
          ],
          "name": "stdout"
        }
      ]
    },
    {
      "cell_type": "markdown",
      "metadata": {
        "id": "KnXYBINqnG6S"
      },
      "source": [
        "---\n",
        "\n",
        "#### Ejemplo 7\n",
        "\n",
        "Creemos ahora una función que dada una frase acabada en punto, nos devuelva si contiene o no la letra \"a\" haciendo uso de un bucle `while`"
      ]
    },
    {
      "cell_type": "code",
      "metadata": {
        "id": "rBy4w_xUm2ok"
      },
      "source": [
        "def contains_a(sentence):\n",
        "  i = 0\n",
        "  while sentence[i] != \".\":\n",
        "    if sentence[i] == \"a\":\n",
        "      return True\n",
        "    i += 1\n",
        "  return False"
      ],
      "execution_count": null,
      "outputs": []
    },
    {
      "cell_type": "code",
      "metadata": {
        "colab": {
          "base_uri": "https://localhost:8080/"
        },
        "id": "kFGPJgTKnfn5",
        "outputId": "b14957eb-bc03-480c-c6d7-181046713e18"
      },
      "source": [
        "contains_a(\"El erizo es bonito.\")"
      ],
      "execution_count": null,
      "outputs": [
        {
          "output_type": "execute_result",
          "data": {
            "text/plain": [
              "False"
            ]
          },
          "metadata": {
            "tags": []
          },
          "execution_count": 51
        }
      ]
    },
    {
      "cell_type": "code",
      "metadata": {
        "colab": {
          "base_uri": "https://localhost:8080/"
        },
        "id": "DIftpZoCnje3",
        "outputId": "cd92e183-2412-4bde-fba2-d4c15780dcc7"
      },
      "source": [
        "contains_a(\"El elefante es gigante.\")"
      ],
      "execution_count": null,
      "outputs": [
        {
          "output_type": "execute_result",
          "data": {
            "text/plain": [
              "True"
            ]
          },
          "metadata": {
            "tags": []
          },
          "execution_count": 52
        }
      ]
    },
    {
      "cell_type": "markdown",
      "metadata": {
        "id": "c1AspPOInpbi"
      },
      "source": [
        "**Ejercicio.** Generaliza la función `contains_a()` a una función llamada contains_letter() que devuelva si una frase cualquiera (no necesariamente acabada en punto) contiene o no la letra indicada también por el usuario. Tienes que hacerlo únicamente con operadores de decisión e iteración. No vale usar ningún método existente de `string`."
      ]
    },
    {
      "cell_type": "code",
      "metadata": {
        "colab": {
          "base_uri": "https://localhost:8080/"
        },
        "id": "zYlnccPZnmWr",
        "outputId": "c05f77df-982c-454a-e802-6cd9a7e8670c"
      },
      "source": [
        "def contains_letter(sentence, letter):\n",
        "  for c in sentence:\n",
        "    if c == letter:\n",
        "      return True\n",
        "  return False\n",
        "\n",
        "contains_letter(\"Mi amigo es muy inteligente, pero un poco pesado\", \"t\")"
      ],
      "execution_count": null,
      "outputs": [
        {
          "output_type": "execute_result",
          "data": {
            "text/plain": [
              "True"
            ]
          },
          "metadata": {
            "tags": []
          },
          "execution_count": 64
        }
      ]
    },
    {
      "cell_type": "markdown",
      "metadata": {
        "id": "8eeiieccoUs2"
      },
      "source": [
        "---\n",
        "\n"
      ]
    },
    {
      "cell_type": "markdown",
      "metadata": {
        "id": "P0oNlzpCFR3a"
      },
      "source": [
        "## Funciones recursivas\n",
        "\n",
        "**Función recursiva.** Es una función que se llama a sí misma.\n",
        "\n",
        "**¡Cuidado!** Hay que tener mucho cuidado con este tipo de funciones porque podemos caer en un bucle infinito. Es decir, que la función no acabara nunca de ejecutarse.\n",
        "\n",
        "Una función recursiva que entraría en bucle infinito sería la siguiente."
      ]
    },
    {
      "cell_type": "code",
      "metadata": {
        "id": "Plx_wkdjoSiq"
      },
      "source": [
        "def powers(x, n):\n",
        "  print(x ** n)\n",
        "  powers(x, n + 1)"
      ],
      "execution_count": null,
      "outputs": []
    },
    {
      "cell_type": "markdown",
      "metadata": {
        "id": "x17PU3Mmo0aC"
      },
      "source": [
        "¿Por qué decimos que entra en bulce infinito? Pues porque solo parará si nosotros interrumpimos la ejecución.\n",
        "\n",
        "Esto se debe a que no le hemos indicado un caso de parada a la función, denominado caso final.\n",
        "\n",
        "**Caso final.** Es el caso que indica cuándo debe romperse la recursión. Hay que indicarlo siempre para no caer en un bucle infinito.\n",
        "\n",
        "En el caso de la función `powers()`, podemos indicar como caso final cuando el valor resultante supere 1000000. Lo indicamos con un `if`"
      ]
    },
    {
      "cell_type": "code",
      "metadata": {
        "id": "fE0oHkRxpHNF"
      },
      "source": [
        "def powers(x, n):\n",
        "  if x ** n > 1000000:\n",
        "    return x ** n\n",
        "\n",
        "  print(x ** n)\n",
        "  powers(x, n + 1)"
      ],
      "execution_count": null,
      "outputs": []
    },
    {
      "cell_type": "code",
      "metadata": {
        "colab": {
          "base_uri": "https://localhost:8080/"
        },
        "id": "1F67YP2sgwgO",
        "outputId": "ed32f8a3-8349-44d4-cc9c-0551ded2cdbf"
      },
      "source": [
        "powers(2, 1)"
      ],
      "execution_count": null,
      "outputs": [
        {
          "output_type": "stream",
          "text": [
            "2\n",
            "4\n",
            "8\n",
            "16\n",
            "32\n",
            "64\n",
            "128\n",
            "256\n",
            "512\n",
            "1024\n",
            "2048\n",
            "4096\n",
            "8192\n",
            "16384\n",
            "32768\n",
            "65536\n",
            "131072\n",
            "262144\n",
            "524288\n"
          ],
          "name": "stdout"
        }
      ]
    },
    {
      "cell_type": "markdown",
      "metadata": {
        "id": "jSxRl_n5pj9z"
      },
      "source": [
        "---\n",
        "\n",
        "#### Ejemplo 8\n",
        "\n",
        "Veamos ahora un ejemplo clásico de función recursiva que funciona correctamente.\n",
        "\n",
        "Queremos una función que nos imprima el término $i$-ésimo de la sucesión de Fibonacci. Es decir, nosotros le indicamos el índice del término y la función nos devuelve el valor de dicho término.\n",
        "\n",
        "La sucesión de Fibonacci es\n",
        "\n",
        "$$1, 1, 2, 3, 5, 8, 13,\\dots$$\n",
        "\n",
        "Es decir, cada término se obtiene de la suma de los dos anteriores.\n",
        "\n",
        "$$F_0 = F_1 = 1$$\n",
        "$$F_n = F_{n-1} + F_{n-2}, n\\geq 2$$\n",
        "\n",
        "Con lo cual, la función que queremos y a la que hemos llamado `Fibonacci()` es:\n"
      ]
    },
    {
      "cell_type": "code",
      "metadata": {
        "id": "xwIbeKmUqDvW"
      },
      "source": [
        "def Fibonacci(index):\n",
        "  if index == 0 or index == 1:\n",
        "    return 1\n",
        "  \n",
        "  return Fibonacci(index - 1) + Fibonacci(index - 2) "
      ],
      "execution_count": null,
      "outputs": []
    },
    {
      "cell_type": "code",
      "metadata": {
        "colab": {
          "base_uri": "https://localhost:8080/"
        },
        "id": "FqCHxCfVqsxM",
        "outputId": "6487450d-5b25-4b71-f14b-2998099d8d6d"
      },
      "source": [
        "Fibonacci(index = 7)"
      ],
      "execution_count": null,
      "outputs": [
        {
          "output_type": "execute_result",
          "data": {
            "text/plain": [
              "21"
            ]
          },
          "metadata": {
            "tags": []
          },
          "execution_count": 57
        }
      ]
    },
    {
      "cell_type": "code",
      "metadata": {
        "colab": {
          "base_uri": "https://localhost:8080/"
        },
        "id": "U4H5L7lZjuq3",
        "outputId": "578fec19-2147-4e64-da1d-f23daccd4d62"
      },
      "source": [
        "Fibonacci(30)"
      ],
      "execution_count": null,
      "outputs": [
        {
          "output_type": "execute_result",
          "data": {
            "text/plain": [
              "1346269"
            ]
          },
          "metadata": {
            "tags": []
          },
          "execution_count": 58
        }
      ]
    },
    {
      "cell_type": "markdown",
      "metadata": {
        "id": "MYnhAmr6FfEN"
      },
      "source": [
        "## Funciones helper\n",
        "\n",
        "Al igual que las funciones pueden llamarse a sí mismas, también pueden llamar a otras funciones.\n",
        "\n",
        "**Función helper.** Es una función cuyo propósito es evitar la repetición de código.\n",
        "\n",
        "Si nos dan la siguiente función"
      ]
    },
    {
      "cell_type": "code",
      "metadata": {
        "id": "sfKPqma1quEa"
      },
      "source": [
        "def sign_sum(x, y):\n",
        "  if x + y > 0:\n",
        "    print(\"El resultado de sumar {} más {} es positivo\".format(x, y))\n",
        "  elif x + y == 0:\n",
        "    print(\"El resultado de sumar {} más {} es cero\".format(x, y))\n",
        "  else:\n",
        "    print(\"El resultado de sumar {} más {} es negativo\".format(x, y))"
      ],
      "execution_count": null,
      "outputs": []
    },
    {
      "cell_type": "code",
      "metadata": {
        "colab": {
          "base_uri": "https://localhost:8080/"
        },
        "id": "phZKuwq_rywC",
        "outputId": "a25ff2fb-3033-434d-d120-4d61bef935ca"
      },
      "source": [
        "sign_sum(5, 4)\n",
        "sign_sum(3, -3)\n",
        "sign_sum(1, -8)"
      ],
      "execution_count": null,
      "outputs": [
        {
          "output_type": "stream",
          "text": [
            "El resultado de sumar 5 más 4 es positivo\n",
            "El resultado de sumar 3 más -3 es cero\n",
            "El resultado de sumar 1 más -8 es negativo\n"
          ],
          "name": "stdout"
        }
      ]
    },
    {
      "cell_type": "markdown",
      "metadata": {
        "id": "kx3GlWT7rNcw"
      },
      "source": [
        "Vemos que el `print` se repite salvo por la última palabra.\n",
        "\n",
        "Podríamos pensar en crear la función helper siguiente:"
      ]
    },
    {
      "cell_type": "code",
      "metadata": {
        "id": "TPFYDAbarS77"
      },
      "source": [
        "def helper_print(x, y, sign):\n",
        "  print(\"El resultado de sumar {} más {} es {}.\".format(x, y, sign))"
      ],
      "execution_count": null,
      "outputs": []
    },
    {
      "cell_type": "markdown",
      "metadata": {
        "id": "7Owq3ZANrZCX"
      },
      "source": [
        "Si utilizamos la función helper, la función `sign_sum()` quedaría modificada del siguiente modo:"
      ]
    },
    {
      "cell_type": "code",
      "metadata": {
        "id": "oeE2MImqrej7"
      },
      "source": [
        "def sign_sum(x, y):\n",
        "  if x + y > 0:\n",
        "    helper_print(x, y, \"positivo\")\n",
        "  elif x + y == 0:\n",
        "    helper_print(x, y, \"cero\")\n",
        "  else:\n",
        "    helper_print(x, y, \"negativo\")"
      ],
      "execution_count": null,
      "outputs": []
    },
    {
      "cell_type": "code",
      "metadata": {
        "colab": {
          "base_uri": "https://localhost:8080/"
        },
        "id": "hpqbKSx1sEqv",
        "outputId": "79ef25f3-f8f7-423d-9361-82a89ae1f439"
      },
      "source": [
        "sign_sum(5, 4)\n",
        "sign_sum(3, -3)\n",
        "sign_sum(1, -8)"
      ],
      "execution_count": null,
      "outputs": [
        {
          "output_type": "stream",
          "text": [
            "El resultado de sumar 5 más 4 es positivo.\n",
            "El resultado de sumar 3 más -3 es cero.\n",
            "El resultado de sumar 1 más -8 es negativo.\n"
          ],
          "name": "stdout"
        }
      ]
    },
    {
      "cell_type": "markdown",
      "metadata": {
        "id": "uNZoSwLDrqK-"
      },
      "source": [
        "Con lo cual ya no hay código repetido.\n",
        "\n",
        "Y como se puede observar, la función original funciona correctamente."
      ]
    },
    {
      "cell_type": "markdown",
      "metadata": {
        "id": "yTMl_zvpvZQ5"
      },
      "source": [
        "# Funciones `lambda`\n",
        "\n"
      ]
    },
    {
      "cell_type": "markdown",
      "metadata": {
        "id": "dOVM-A5-FiFm"
      },
      "source": [
        "## Funciones `lambda`\n",
        "\n",
        "Son un tipo especial de funciones de `Python` que tienen la sintaxis siguiente\n",
        "\n",
        "\n",
        "\n",
        "```\n",
        "lambda parámetros: expresión\n",
        "```\n",
        "\n"
      ]
    },
    {
      "cell_type": "markdown",
      "metadata": {
        "id": "UZF6R7zFvzzK"
      },
      "source": [
        "- Son útiles para ejecutar funciones en una sola línea\n",
        "- Pueden tomar cualquier número de argumentos\n",
        "- Tienen una limitación: solamente pueden contener una expresión\n",
        "\n",
        "Veamos algunos ejemplos\n",
        "\n"
      ]
    },
    {
      "cell_type": "markdown",
      "metadata": {
        "id": "lvnBReyPFltn"
      },
      "source": [
        "---\n",
        "\n",
        "#### Ejemplo 1\n",
        "\n",
        "Función que dado un número, le suma 10 puntos más:"
      ]
    },
    {
      "cell_type": "code",
      "metadata": {
        "colab": {
          "base_uri": "https://localhost:8080/"
        },
        "id": "MRnWT4-Dz8yJ",
        "outputId": "f8e0acec-e97e-4a61-8858-9dbeb0f8eea0"
      },
      "source": [
        "plus10 = lambda x: x + 10\n",
        "plus10(5)"
      ],
      "execution_count": null,
      "outputs": [
        {
          "output_type": "execute_result",
          "data": {
            "text/plain": [
              "15"
            ]
          },
          "metadata": {
            "tags": []
          },
          "execution_count": 64
        }
      ]
    },
    {
      "cell_type": "markdown",
      "metadata": {
        "id": "npUEMWbu0Dd7"
      },
      "source": [
        "---\n",
        "\n",
        "#### Ejemplo 2\n",
        "\n",
        "Función que calcula el producto de dos números:"
      ]
    },
    {
      "cell_type": "code",
      "metadata": {
        "id": "EM19vCokv_Lp"
      },
      "source": [
        "prod = lambda x, y: x * y"
      ],
      "execution_count": null,
      "outputs": []
    },
    {
      "cell_type": "code",
      "metadata": {
        "colab": {
          "base_uri": "https://localhost:8080/"
        },
        "id": "enxD7WvLwCtl",
        "outputId": "94f43a29-831d-434d-f5a2-d8af6f2213ce"
      },
      "source": [
        "prod(5, 10)"
      ],
      "execution_count": null,
      "outputs": [
        {
          "output_type": "execute_result",
          "data": {
            "text/plain": [
              "50"
            ]
          },
          "metadata": {
            "tags": []
          },
          "execution_count": 67
        }
      ]
    },
    {
      "cell_type": "markdown",
      "metadata": {
        "id": "yibBaY-94Mha"
      },
      "source": [
        "---\n",
        "\n",
        "#### Ejemplo 3\n",
        "\n",
        "Función que dados 3 números, calcula el discriminante de la ecuación de segundo grado.\n",
        "\n",
        "Recordemos que dada una ecuación de segundo grado de la forma $$ax^2 + bx + c = 0$$\n",
        "\n",
        "el discriminante es $$\\triangle =  b^2-4ac$$\n",
        "\n",
        "y dependiendo de su signo, nos indica cuantas soluciones reales va a tener la ecuación:\n",
        "\n",
        "- Si $\\triangle > 0$, entonces hay dos soluciones diferentes\n",
        "- Si $\\triangle = 0$, entonces hay dos soluciones que son iguales\n",
        "- Si $\\triangle < 0$, entonces no hay solución"
      ]
    },
    {
      "cell_type": "code",
      "metadata": {
        "colab": {
          "base_uri": "https://localhost:8080/"
        },
        "id": "V5DG4CFW41c4",
        "outputId": "9691fe85-db1d-451b-cfce-c120aaead97a"
      },
      "source": [
        "discriminante = lambda a, b, c: b ** 2 - 4 * a * c\n",
        "discriminante(1, 2, 1) # Se corresponde a la ecuación x^2 + 2x + 1 = 0, cuya única solución es x = -1"
      ],
      "execution_count": null,
      "outputs": [
        {
          "output_type": "execute_result",
          "data": {
            "text/plain": [
              "0"
            ]
          },
          "metadata": {
            "tags": []
          },
          "execution_count": 68
        }
      ]
    },
    {
      "cell_type": "markdown",
      "metadata": {
        "id": "xe1Ttp5ZwGKe"
      },
      "source": [
        "## La función `filter()`\n",
        "\n",
        "- Aplica una función a todos los elementos de un objeto iterable\n",
        "- Devuelve un objeto generador, de ahí que usamos la función `list()` para convertirlo a lista\n",
        "- Como output, devuelve los elementos para los cuales el aplicar la función ha devuelto `True`\n",
        "\n",
        "Con la ayuda de las funciones `lambda`, apliquemos `filter()` para quedarnos con los números múltiplos de 7 de la siguiente lista llamada `nums`"
      ]
    },
    {
      "cell_type": "code",
      "metadata": {
        "colab": {
          "base_uri": "https://localhost:8080/"
        },
        "id": "T5cjAfOkwizf",
        "outputId": "b8cb51dd-0b38-4661-db4d-a139b437fac7"
      },
      "source": [
        "nums = [49, 57, 62, 147, 2101, 22]\n",
        "list(filter(lambda x: (x % 7 == 0), nums))"
      ],
      "execution_count": null,
      "outputs": [
        {
          "output_type": "execute_result",
          "data": {
            "text/plain": [
              "[49, 147]"
            ]
          },
          "metadata": {
            "tags": []
          },
          "execution_count": 69
        }
      ]
    },
    {
      "cell_type": "markdown",
      "metadata": {
        "id": "AeH0WM_666HK"
      },
      "source": [
        "La función proporcionada a `filter()` no tiene por qué ser `lambda`, sino que puede ser una ya existente, o bien una creada por nosotros mismos.\n",
        "\n",
        "Con las siguientes líneas de código vamos a obtener todas las palabras cuya tercera letra sea `s` haciendo uso de `filter()` y la función creada `third_letter_is_s()`:"
      ]
    },
    {
      "cell_type": "code",
      "metadata": {
        "id": "AjVNskBe7vAD"
      },
      "source": [
        "def third_letter_is_s(word):\n",
        "  return word[2] == \"s\""
      ],
      "execution_count": null,
      "outputs": []
    },
    {
      "cell_type": "code",
      "metadata": {
        "colab": {
          "base_uri": "https://localhost:8080/"
        },
        "id": "k1C7-JWf76Lp",
        "outputId": "ff0830c4-72d7-40f0-f7d2-6aa098e09b44"
      },
      "source": [
        "words = [\"castaña\", \"astronomía\", \"masa\", \"bolígrafo\", \"mando\", \"tostada\"]\n",
        "list(filter(third_letter_is_s, words))"
      ],
      "execution_count": null,
      "outputs": [
        {
          "output_type": "execute_result",
          "data": {
            "text/plain": [
              "['castaña', 'masa', 'tostada']"
            ]
          },
          "metadata": {
            "tags": []
          },
          "execution_count": 71
        }
      ]
    },
    {
      "cell_type": "markdown",
      "metadata": {
        "id": "CyI_nHtLw2Qk"
      },
      "source": [
        "## La función `reduce()`\n",
        "\n",
        "- Aplica continuamente una misma función a los elementos de un objeto iterable\n",
        "\n",
        "    1. Aplica la función a los primeros dos elementos\n",
        "    2. Aplica la función al resultado del paso anterior y el tercer elemento\n",
        "    3. Aplica la función al resultado del paso anterior y el cuarto elemento\n",
        "    4. Sigue así hasta que solo queda un elemento\n",
        "- Devuelve el valor resultante\n",
        "\n",
        "Con la ayuda de las funciones `lambda`, apliquemos `reduce()` para calcular el producto de todos los elementos de una lista"
      ]
    },
    {
      "cell_type": "code",
      "metadata": {
        "id": "nOVFz8uuw0UJ"
      },
      "source": [
        "from functools import reduce"
      ],
      "execution_count": null,
      "outputs": []
    },
    {
      "cell_type": "code",
      "metadata": {
        "colab": {
          "base_uri": "https://localhost:8080/"
        },
        "id": "W8fGtGNaxj-5",
        "outputId": "672f42dc-12eb-4753-ce26-6ef4fe6494ed"
      },
      "source": [
        "nums = [1, 2, 3, 4, 5, 6]\n",
        "reduce(lambda x, y: x * y, nums)"
      ],
      "execution_count": null,
      "outputs": [
        {
          "output_type": "execute_result",
          "data": {
            "text/plain": [
              "720"
            ]
          },
          "metadata": {
            "tags": []
          },
          "execution_count": 73
        }
      ]
    },
    {
      "cell_type": "markdown",
      "metadata": {
        "id": "9u7E8ixv8M02"
      },
      "source": [
        "De nuevo, la función proporcionada a `reduce()` no tiene por qué ser `lambda`, sino que puede ser una ya existente o bien, una creada por nosotros mismos.\n",
        "\n",
        "Con las siguientes líneas de código, vamos a obtener el máximo de una lista dada, haciendo uso de `reduce()` y la función creada `bigger_than()`:"
      ]
    },
    {
      "cell_type": "code",
      "metadata": {
        "id": "nfXGOSCA9CAf"
      },
      "source": [
        "def bigger_than(a, b):\n",
        "  if a > b:\n",
        "    return a\n",
        "  return b"
      ],
      "execution_count": null,
      "outputs": []
    },
    {
      "cell_type": "code",
      "metadata": {
        "colab": {
          "base_uri": "https://localhost:8080/"
        },
        "id": "vKYBPswJFxWw",
        "outputId": "46c25329-c7d2-494a-9230-04d5e99f1ab0"
      },
      "source": [
        "bigger_than(14, 7)"
      ],
      "execution_count": null,
      "outputs": [
        {
          "output_type": "execute_result",
          "data": {
            "text/plain": [
              "14"
            ]
          },
          "metadata": {
            "tags": []
          },
          "execution_count": 75
        }
      ]
    },
    {
      "cell_type": "code",
      "metadata": {
        "colab": {
          "base_uri": "https://localhost:8080/"
        },
        "id": "YkR81poo9NEZ",
        "outputId": "9bd12054-922e-4ff1-914d-aef1e4db2656"
      },
      "source": [
        "nums = [-10, 5, 7, -3, 16, -30, 2, 33]\n",
        "reduce(bigger_than, nums)"
      ],
      "execution_count": null,
      "outputs": [
        {
          "output_type": "execute_result",
          "data": {
            "text/plain": [
              "33"
            ]
          },
          "metadata": {
            "tags": []
          },
          "execution_count": 76
        }
      ]
    },
    {
      "cell_type": "markdown",
      "metadata": {
        "id": "c0kYiYJ0x0lH"
      },
      "source": [
        "## La función `map()`\n",
        "\n",
        "- Aplica una misma función a todos los elementos de un objeto iterable\n",
        "- Devuelve un objeto generador, de ahí que usemos la función `list()` para convertirlo a lista\n",
        "- Como output, devuelve el resultado de aplicar la función a cada elemento\n",
        "\n",
        "Con la ayuda de las funciones `lambda`, apliquemos `map()` para calcular las longitudes de las siguientes palabras"
      ]
    },
    {
      "cell_type": "code",
      "metadata": {
        "colab": {
          "base_uri": "https://localhost:8080/"
        },
        "id": "3D4MNmF9xp_V",
        "outputId": "22c3b97c-72fd-428f-ebd6-022b2e763e0d"
      },
      "source": [
        "words = [\"zapato\", \"amigo\", \"yoyo\", \"barco\", \"xilófono\", \"césped\"]\n",
        "list(map(lambda w: len(w), words))"
      ],
      "execution_count": null,
      "outputs": [
        {
          "output_type": "execute_result",
          "data": {
            "text/plain": [
              "[6, 5, 4, 5, 8, 6]"
            ]
          },
          "metadata": {
            "tags": []
          },
          "execution_count": 77
        }
      ]
    },
    {
      "cell_type": "markdown",
      "metadata": {
        "id": "YTk0daHbyWJS"
      },
      "source": [
        "Sin embargo, para este caso en concreto no haría falta usar funciones `lambda`, pues podríamos hacer directamente"
      ]
    },
    {
      "cell_type": "code",
      "metadata": {
        "colab": {
          "base_uri": "https://localhost:8080/"
        },
        "id": "aldFAJFkyfCk",
        "outputId": "7b82a281-9f7e-447c-f125-18759a283c60"
      },
      "source": [
        "list(map(len, words))"
      ],
      "execution_count": null,
      "outputs": [
        {
          "output_type": "execute_result",
          "data": {
            "text/plain": [
              "[6, 5, 4, 5, 8, 6]"
            ]
          },
          "metadata": {
            "tags": []
          },
          "execution_count": 78
        }
      ]
    },
    {
      "cell_type": "markdown",
      "metadata": {
        "id": "BHi1SsQwyjI9"
      },
      "source": [
        "## La función `sorted()`\n",
        "\n",
        "- Ordena los elementos del objeto iterable que indiquemos de acuerdo a la función que pasemos por parámetro\n",
        "- Como output, devuelve una permutación del objeto iterable ordenado según la función indicada\n",
        "\n",
        "Con la ayuda de las funciones `lambda`, apliquemos `sorted()` para ordenar la lista `words` en función de las longitudes de las palabras en orden descendente."
      ]
    },
    {
      "cell_type": "code",
      "metadata": {
        "colab": {
          "base_uri": "https://localhost:8080/"
        },
        "id": "nhusSK4hygr1",
        "outputId": "8a2675af-5b04-4866-b027-efd19fe61acf"
      },
      "source": [
        "words = [\"zapato\", \"amigo\", \"yoyo\", \"barco\", \"xilófono\", \"césped\"]\n",
        "sorted(words, key = lambda x: len(x), reverse = True)"
      ],
      "execution_count": null,
      "outputs": [
        {
          "output_type": "execute_result",
          "data": {
            "text/plain": [
              "['xilófono', 'zapato', 'césped', 'amigo', 'barco', 'yoyo']"
            ]
          },
          "metadata": {
            "tags": []
          },
          "execution_count": 79
        }
      ]
    },
    {
      "cell_type": "markdown",
      "metadata": {
        "id": "QvgnMCWhzPzp"
      },
      "source": [
        "**Observación.** Si quisiésemos ordenar en orden ascendente, simplemente tendríamos que indicar `reverse = False`, que al ser el valor por defecto, bastaría con omitir dicho parámetro.\n",
        "\n",
        "**Observación.** Si el tipo de objeto a ser ordenado es un string y no indicamos parámetro `key`, entonces se ordenan por defecto: orden alfabético ascendente."
      ]
    },
    {
      "cell_type": "code",
      "metadata": {
        "id": "_lLiSMQYtNJi",
        "colab": {
          "base_uri": "https://localhost:8080/"
        },
        "outputId": "9c9e71fb-5f89-4616-8cdf-d3c1a1ef3a70"
      },
      "source": [
        "sorted(words, key = len)"
      ],
      "execution_count": null,
      "outputs": [
        {
          "output_type": "execute_result",
          "data": {
            "text/plain": [
              "['yoyo', 'amigo', 'barco', 'zapato', 'césped', 'xilófono']"
            ]
          },
          "metadata": {
            "tags": []
          },
          "execution_count": 80
        }
      ]
    },
    {
      "cell_type": "code",
      "metadata": {
        "colab": {
          "base_uri": "https://localhost:8080/"
        },
        "id": "_W_nZHZqIXbh",
        "outputId": "71b8bdb7-d5ec-4d4e-ca52-2d9324f58a02"
      },
      "source": [
        "sorted(words)"
      ],
      "execution_count": null,
      "outputs": [
        {
          "output_type": "execute_result",
          "data": {
            "text/plain": [
              "['amigo', 'barco', 'césped', 'xilófono', 'yoyo', 'zapato']"
            ]
          },
          "metadata": {
            "tags": []
          },
          "execution_count": 81
        }
      ]
    }
  ]
}
