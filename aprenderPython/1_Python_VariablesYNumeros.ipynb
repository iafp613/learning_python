{
  "nbformat": 4,
  "nbformat_minor": 0,
  "metadata": {
    "colab": {
      "name": "1_PythonBasico_VariablesYNumeros.ipynb",
      "provenance": [],
      "collapsed_sections": [
        "PFS0fIq2d28a",
        "wNFYdGeh2Xv6",
        "p1MJUGv7DXFh",
        "kt0YfKEBXfPp",
        "Bp-NMBwGOT3-"
      ],
      "toc_visible": true
    },
    "kernelspec": {
      "name": "python3",
      "display_name": "Python 3"
    },
    "language_info": {
      "name": "python"
    }
  },
  "cells": [
    {
      "cell_type": "markdown",
      "metadata": {
        "id": "9QodAjU6bCnL"
      },
      "source": [
        "# Python básico\n",
        "\n"
      ]
    },
    {
      "cell_type": "markdown",
      "metadata": {
        "id": "PFS0fIq2d28a"
      },
      "source": [
        "## Comentarios\n",
        "\n",
        "Dado un bloque de código, a veces puede ser útil explicar qué hace o en qué consiste, o bien hacer que una línea no se ejecute por algún motivo, pero que siga presente en dicho código. Aquí entran en juego los comentarios, que son parte del código, pero no se ejecutan.\n",
        "\n",
        "Si queremos hacer un comentario en una línea, utilizamos `#`"
      ]
    },
    {
      "cell_type": "code",
      "metadata": {
        "colab": {
          "base_uri": "https://localhost:8080/"
        },
        "id": "Nwpz5zL1Shym",
        "outputId": "0474e105-7087-4cd3-b2db-3a02ced609e4"
      },
      "source": [
        "# Esto es un comentario\n",
        "z = 23 # Esto es una variable que definimos\n",
        "# t = 58  Esto es código comentado que no se ejecuta.\n",
        "# Ahora imprimimos por pantalla la variable z\n",
        "print(z)"
      ],
      "execution_count": null,
      "outputs": [
        {
          "output_type": "stream",
          "text": [
            "23\n"
          ],
          "name": "stdout"
        }
      ]
    },
    {
      "cell_type": "markdown",
      "metadata": {
        "id": "wNFYdGeh2Xv6"
      },
      "source": [
        "## Variables\n",
        "\n",
        "**Variable.** Es un espacio en el sistema de almacenamiento temporal (memoria principal de un ordenador) y un nombre simbólico (un identificador) que está asociado a dicho espacio.\n",
        "\n",
        "Una variable es la relación que hay entre un nombre y un objeto ubicado en algún lugar de la memoria del ordenador.\n",
        "\n",
        "En `Python` asignamos valores a las variables siguiendo el siguiente formato: `nombre_variable = valor`"
      ]
    },
    {
      "cell_type": "code",
      "metadata": {
        "colab": {
          "base_uri": "https://localhost:8080/",
          "height": 36
        },
        "id": "Ol8n71F9QHKj",
        "outputId": "1f18f371-e2e7-482f-d781-f3ff847f9840"
      },
      "source": [
        "x = \"Nacho\"\n",
        "x"
      ],
      "execution_count": null,
      "outputs": [
        {
          "output_type": "execute_result",
          "data": {
            "application/vnd.google.colaboratory.intrinsic+json": {
              "type": "string"
            },
            "text/plain": [
              "'Nacho'"
            ]
          },
          "metadata": {
            "tags": []
          },
          "execution_count": 1
        }
      ]
    },
    {
      "cell_type": "code",
      "metadata": {
        "colab": {
          "base_uri": "https://localhost:8080/"
        },
        "id": "nw9MUV7vQpx_",
        "outputId": "30e32176-90c0-4307-f85d-c3104184af04"
      },
      "source": [
        "y = 613\n",
        "y"
      ],
      "execution_count": null,
      "outputs": [
        {
          "output_type": "execute_result",
          "data": {
            "text/plain": [
              "613"
            ]
          },
          "metadata": {
            "tags": []
          },
          "execution_count": 2
        }
      ]
    },
    {
      "cell_type": "markdown",
      "metadata": {
        "id": "jgRynsvNbm2t"
      },
      "source": [
        "### Restricciones sobre los nombres de las variables\n",
        "\n",
        "- No pueden empezar ni contener carácteres especiales\n",
        "- No pueden empezar por números\n",
        "- No pueden ser llamadas igual que las palabras claves reservadas en Python\n",
        "- No pueden contener espacios\n",
        "\n",
        "**OJO.** Conviene que al darle nombre a una variable, éste tenga sentido en cuanto al dato que guarde, para que así resulte mucho más fácil la comprensión por parte de quien lea el código.\n",
        "\n",
        "**IMPORTANTE.** A día de hoy, si los nombres de las variables están compuestos por múltiples palabras, hay 3 formas principales de escribir dichos nombres:\n",
        "\n",
        "- camelCase: `nombreVariable`\n",
        "- PascalCase: `NombreVariable`\n",
        "- snake_case: `nombre_variable`"
      ]
    },
    {
      "cell_type": "markdown",
      "metadata": {
        "id": "0SrOJaa_cDyY"
      },
      "source": [
        "### Palabras clave en `Python`\n",
        "\n",
        "Las palabras clave o palabras reservadas en `Python` son las que se muestran con el siguiente chunk de código."
      ]
    },
    {
      "cell_type": "code",
      "metadata": {
        "colab": {
          "base_uri": "https://localhost:8080/"
        },
        "id": "MpwYS7ymFwx1",
        "outputId": "144af755-d691-40fd-c910-3c3d4b157147"
      },
      "source": [
        "help('keywords')"
      ],
      "execution_count": null,
      "outputs": [
        {
          "output_type": "stream",
          "text": [
            "\n",
            "Here is a list of the Python keywords.  Enter any keyword to get more help.\n",
            "\n",
            "False               class               from                or\n",
            "None                continue            global              pass\n",
            "True                def                 if                  raise\n",
            "and                 del                 import              return\n",
            "as                  elif                in                  try\n",
            "assert              else                is                  while\n",
            "async               except              lambda              with\n",
            "await               finally             nonlocal            yield\n",
            "break               for                 not                 \n",
            "\n"
          ],
          "name": "stdout"
        }
      ]
    },
    {
      "cell_type": "markdown",
      "metadata": {
        "id": "kSwXKsFbcWN9"
      },
      "source": [
        "### Declarando múltiples variables en una sola línea\n",
        "\n",
        "Se hace del siguiente modo:"
      ]
    },
    {
      "cell_type": "code",
      "metadata": {
        "id": "BzrVYq0URhCq"
      },
      "source": [
        "nickname, altura = \"Andrómeda\", 182"
      ],
      "execution_count": null,
      "outputs": []
    },
    {
      "cell_type": "code",
      "metadata": {
        "colab": {
          "base_uri": "https://localhost:8080/"
        },
        "id": "w5DtQeHURxaA",
        "outputId": "81460de6-2e95-4105-8b88-0fe8dd07ac7a"
      },
      "source": [
        "print(nickname)"
      ],
      "execution_count": null,
      "outputs": [
        {
          "output_type": "stream",
          "text": [
            "Andrómeda\n"
          ],
          "name": "stdout"
        }
      ]
    },
    {
      "cell_type": "code",
      "metadata": {
        "colab": {
          "base_uri": "https://localhost:8080/"
        },
        "id": "P3zQfPxlR0Yr",
        "outputId": "a51c131a-73e7-4639-9d5c-1fb3e5ecc34c"
      },
      "source": [
        "print(altura)"
      ],
      "execution_count": null,
      "outputs": [
        {
          "output_type": "stream",
          "text": [
            "182\n"
          ],
          "name": "stdout"
        }
      ]
    },
    {
      "cell_type": "markdown",
      "metadata": {
        "id": "p1MJUGv7DXFh"
      },
      "source": [
        "### Variables string\n",
        "\n",
        "**String.** Cadena ordenada de caracteres.\n",
        "\n",
        "Una variable de tipo string es aquella que guarda un string. Cuando queremos que una variable se trate de una variable de tipo string, `str` en `Python`, a la hora de declararla, el contenido de la variable debe ir o bien entre comillas dobles `\" \"`, o bien entre comillas simples `' ' `.\n",
        "\n",
        "**OJO.** A Python no le gustan ni los acentos, ni la letra `ñ` así que es mejor no usarlos."
      ]
    },
    {
      "cell_type": "code",
      "metadata": {
        "colab": {
          "base_uri": "https://localhost:8080/"
        },
        "id": "aTTnF-YVTpEG",
        "outputId": "2e240523-ca67-4e15-dc11-7ac9a60feedf"
      },
      "source": [
        "s1 = \"Esto es un string\"\n",
        "s2 = 'Esto también es un string'\n",
        "print(s1)\n",
        "print(s2)"
      ],
      "execution_count": null,
      "outputs": [
        {
          "output_type": "stream",
          "text": [
            "Esto es un string\n",
            "Esto también es un string\n"
          ],
          "name": "stdout"
        }
      ]
    },
    {
      "cell_type": "markdown",
      "metadata": {
        "id": "yQE5dsY9EsBd"
      },
      "source": [
        "#### String literals\n",
        "\n",
        "El hecho de que el contenido de las variables de tipo `str` vaya entre comillas, ya sean simples o dobles, conlleva a que algunos caracteres deban ser tratados de forma especial. \n",
        "\n",
        "Aquí entran en juego los string literals. Algunos de los más utilizados se muestran en la siguiente tabla:\n",
        "\n",
        "Código | Significado |\n",
        "--- | --- |\n",
        "`\\\\` | Backslash, `\\`| \n",
        "`\\'` | Comilla simple, `'`| \n",
        "`\\\"` | Comilla doble, `\"`|  \n",
        "`\\n` | Salto de línea| \n",
        "`\\t` | Tabulación horizontal| \n",
        "\n",
        "Para más información acerca de los string literals ir a la [documentación](https://docs.python.org/3.7/reference/lexical_analysis.html#string-and-bytes-literals).\n"
      ]
    },
    {
      "cell_type": "code",
      "metadata": {
        "colab": {
          "base_uri": "https://localhost:8080/",
          "height": 36
        },
        "id": "0KRcoDSoNw4c",
        "outputId": "141b8272-a5d3-4b7f-d02b-cc06021b3df7"
      },
      "source": [
        "s1 = \"Nacho dijo: \\\"me gusta el solomillo \\\"\"\n",
        "s1"
      ],
      "execution_count": null,
      "outputs": [
        {
          "output_type": "execute_result",
          "data": {
            "application/vnd.google.colaboratory.intrinsic+json": {
              "type": "string"
            },
            "text/plain": [
              "'Nacho dijo: \"me gusta el solomillo \"'"
            ]
          },
          "metadata": {
            "tags": []
          },
          "execution_count": 31
        }
      ]
    },
    {
      "cell_type": "markdown",
      "metadata": {
        "id": "v-6s10ZbIaV3"
      },
      "source": [
        "**Atención.** Si usamos comillas dobles, para guardar la frase de este ejemplo necesitaremos usar string literals, ya que si no nos saltará error. Sin embargo, si usamos comillas simples, para guardar la frase de este ejemplo en una variable no hace falta que cambiemos nada."
      ]
    },
    {
      "cell_type": "code",
      "metadata": {
        "colab": {
          "base_uri": "https://localhost:8080/",
          "height": 36
        },
        "id": "b1xDiSJvOdxA",
        "outputId": "b3907769-d5d4-438a-ce38-0d94a4d7b697"
      },
      "source": [
        "s2 = 'Nacho dijo: \"me gusta el solomillo\"'\n",
        "s2"
      ],
      "execution_count": null,
      "outputs": [
        {
          "output_type": "execute_result",
          "data": {
            "application/vnd.google.colaboratory.intrinsic+json": {
              "type": "string"
            },
            "text/plain": [
              "'Nacho dijo: \"me gusta el solomillo\"'"
            ]
          },
          "metadata": {
            "tags": []
          },
          "execution_count": 32
        }
      ]
    },
    {
      "cell_type": "markdown",
      "metadata": {
        "id": "WoD3EBWYS4ts"
      },
      "source": [
        "#### Substrings\n",
        "\n",
        "Para acceder a un caracter de una variable string usamos la sintaxis de `[]`\n",
        "Hay que tener en cuenta que en Python, los índices empiezan siempre en 0."
      ]
    },
    {
      "cell_type": "code",
      "metadata": {
        "colab": {
          "base_uri": "https://localhost:8080/",
          "height": 36
        },
        "id": "2xZRaNDsQMNO",
        "outputId": "d272da20-40f1-4165-8add-5882d53fdf26"
      },
      "source": [
        "sub = \"María quería estudiar\"\n",
        "sub[0] # Queremos acceder al primer caracter del string."
      ],
      "execution_count": null,
      "outputs": [
        {
          "output_type": "execute_result",
          "data": {
            "application/vnd.google.colaboratory.intrinsic+json": {
              "type": "string"
            },
            "text/plain": [
              "'M'"
            ]
          },
          "metadata": {
            "tags": []
          },
          "execution_count": 33
        }
      ]
    },
    {
      "cell_type": "markdown",
      "metadata": {
        "id": "hLzZPNdt0Gha"
      },
      "source": [
        "Si precedemos el índice por un `-`, entonces empezamos desde el final"
      ]
    },
    {
      "cell_type": "code",
      "metadata": {
        "colab": {
          "base_uri": "https://localhost:8080/",
          "height": 36
        },
        "id": "9_0JOYG7RPLq",
        "outputId": "8d6cda32-b380-4111-e3f2-b79909be9636"
      },
      "source": [
        "sub[-1] # Queremos acceder al último caracter del string"
      ],
      "execution_count": null,
      "outputs": [
        {
          "output_type": "execute_result",
          "data": {
            "application/vnd.google.colaboratory.intrinsic+json": {
              "type": "string"
            },
            "text/plain": [
              "'r'"
            ]
          },
          "metadata": {
            "tags": []
          },
          "execution_count": 34
        }
      ]
    },
    {
      "cell_type": "markdown",
      "metadata": {
        "id": "TUyZcCC10cw7"
      },
      "source": [
        "Si queremos acceder a varios caracteres seguidos, podemos utilizar `:`"
      ]
    },
    {
      "cell_type": "code",
      "metadata": {
        "colab": {
          "base_uri": "https://localhost:8080/",
          "height": 36
        },
        "id": "3qMvYoByRhS-",
        "outputId": "cd0d2692-e362-4db7-9526-b3bd41619ea8"
      },
      "source": [
        "sub[6:12] # Accedemos al caracter con el índice 6 hasta el caracter con el ínidice 12 - 1 (11)"
      ],
      "execution_count": null,
      "outputs": [
        {
          "output_type": "execute_result",
          "data": {
            "application/vnd.google.colaboratory.intrinsic+json": {
              "type": "string"
            },
            "text/plain": [
              "'quería'"
            ]
          },
          "metadata": {
            "tags": []
          },
          "execution_count": 37
        }
      ]
    },
    {
      "cell_type": "markdown",
      "metadata": {
        "id": "5K42r-av1Afn"
      },
      "source": [
        "**¡OJO!.** En `Python`, siempre que usemos la función `:`, el índice que se encuentra a la derecha nunca es incluido, tal y como hemos visto en los ejemplos anteriores.\n",
        "\n",
        "Si precedemos por `-` al índice de la izquierda de `:` y no ponemos ninguno a su derecha, lo que hacemos es obtener los últimos elementos."
      ]
    },
    {
      "cell_type": "code",
      "metadata": {
        "colab": {
          "base_uri": "https://localhost:8080/",
          "height": 36
        },
        "id": "_Hj-ndmFTJA7",
        "outputId": "8d8e388c-a403-49f2-f63b-9afc29d57216"
      },
      "source": [
        "sub[-8:]"
      ],
      "execution_count": null,
      "outputs": [
        {
          "output_type": "execute_result",
          "data": {
            "application/vnd.google.colaboratory.intrinsic+json": {
              "type": "string"
            },
            "text/plain": [
              "'estudiar'"
            ]
          },
          "metadata": {
            "tags": []
          },
          "execution_count": 38
        }
      ]
    },
    {
      "cell_type": "markdown",
      "metadata": {
        "id": "f6j9wom51fMl"
      },
      "source": [
        "Si al contrario, precedemos por `-` al índice de la derecha, sin poner ningún índice a la izquierda de `:`, obtendremos todos los elementos salvo el número de elementos indicados por el índice (recordemos que si precedíamos por `-`, los índices empezaban desde el final)."
      ]
    },
    {
      "cell_type": "code",
      "metadata": {
        "colab": {
          "base_uri": "https://localhost:8080/",
          "height": 36
        },
        "id": "5jcdC9r1Tqpz",
        "outputId": "5afaef17-9ed1-4c17-96a6-a538680900d3"
      },
      "source": [
        "sub[:-9]"
      ],
      "execution_count": null,
      "outputs": [
        {
          "output_type": "execute_result",
          "data": {
            "application/vnd.google.colaboratory.intrinsic+json": {
              "type": "string"
            },
            "text/plain": [
              "'María quería'"
            ]
          },
          "metadata": {
            "tags": []
          },
          "execution_count": 41
        }
      ]
    },
    {
      "cell_type": "markdown",
      "metadata": {
        "id": "TR-ZkhGsUnk-"
      },
      "source": [
        "#### Operaciones con Strings\n",
        "\n",
        "- **SUMA O CONCATENACIÓN.** Es una operación que une dos o más strings en uno solo. Se usa el operador `+`. El número de espacios se conserva. Así que hay que dejar un espacio al final del primer string o al principio del segundo para que no queden 'pegados'.\n",
        "- **MULTIPLICACIÓN O REPETICIÓN.** Es una operación que repite una variable tantas veces como le indiquemos. Se usa el operador `*`.\n"
      ]
    },
    {
      "cell_type": "code",
      "metadata": {
        "colab": {
          "base_uri": "https://localhost:8080/"
        },
        "id": "vO6tSeaSV1xv",
        "outputId": "b787318b-c31c-4117-b547-dce654bbb560"
      },
      "source": [
        "s3 = \"Hola\"\n",
        "s4 = \"Mundo\"\n",
        "print(s3 + s4)\n",
        "# Concatenación sin tener en cuenta los espacios."
      ],
      "execution_count": null,
      "outputs": [
        {
          "output_type": "stream",
          "text": [
            "HolaMundo\n"
          ],
          "name": "stdout"
        }
      ]
    },
    {
      "cell_type": "code",
      "metadata": {
        "colab": {
          "base_uri": "https://localhost:8080/"
        },
        "id": "M6KHg8PjWNBv",
        "outputId": "a456c68d-9161-45c8-d075-3bf12a13a2b5"
      },
      "source": [
        "s5 = \"Soy \" # Espacio al final\n",
        "s6 = \"un estudiante\" # Sin espacios\n",
        "s7 = \" de Python.\" # Espacio al principio\n",
        "print(s5 + s6 + s7)\n",
        "# Concatenación teniendo en cuenta los espacios."
      ],
      "execution_count": null,
      "outputs": [
        {
          "output_type": "stream",
          "text": [
            "Soy un estudiante de Python.\n"
          ],
          "name": "stdout"
        }
      ]
    },
    {
      "cell_type": "code",
      "metadata": {
        "colab": {
          "base_uri": "https://localhost:8080/"
        },
        "id": "6R5edPjGWvQK",
        "outputId": "7475b6a6-db32-417b-fb21-658ed500ec9f"
      },
      "source": [
        "s8 = \"¿Soy muy pesado?\"\n",
        "print(s8 * 3)\n",
        "# Repetición sin tener en cuenta los espacios."
      ],
      "execution_count": null,
      "outputs": [
        {
          "output_type": "stream",
          "text": [
            "¿Soy muy pesado?¿Soy muy pesado?¿Soy muy pesado?\n"
          ],
          "name": "stdout"
        }
      ]
    },
    {
      "cell_type": "code",
      "metadata": {
        "colab": {
          "base_uri": "https://localhost:8080/"
        },
        "id": "R9E9BcdWXDGK",
        "outputId": "700ca8d0-2c91-4cbb-da4a-da62de60718f"
      },
      "source": [
        "s9 = \"¡La verdad es que sí! \"\n",
        "print(s9 * 3)\n",
        "# Repetición teniendo en cuenta los espacios."
      ],
      "execution_count": null,
      "outputs": [
        {
          "output_type": "stream",
          "text": [
            "¡La verdad es que sí! ¡La verdad es que sí! ¡La verdad es que sí! \n"
          ],
          "name": "stdout"
        }
      ]
    },
    {
      "cell_type": "markdown",
      "metadata": {
        "id": "u7sP_Cdi2dZk"
      },
      "source": [
        "#### Métodos para trabajar con strings\n",
        "\n",
        "El método `.lower()` nos transforma el string que indiquemos a minúsculas."
      ]
    },
    {
      "cell_type": "code",
      "metadata": {
        "colab": {
          "base_uri": "https://localhost:8080/",
          "height": 36
        },
        "id": "dTe1u8DcT_vv",
        "outputId": "6c787b33-f6d0-4442-e421-0eccee35e4b1"
      },
      "source": [
        "string1 = \"Me gustaría ir a Tailandia\"\n",
        "string1.lower()"
      ],
      "execution_count": null,
      "outputs": [
        {
          "output_type": "execute_result",
          "data": {
            "application/vnd.google.colaboratory.intrinsic+json": {
              "type": "string"
            },
            "text/plain": [
              "'me gustaría ir a tailandia'"
            ]
          },
          "metadata": {
            "tags": []
          },
          "execution_count": 42
        }
      ]
    },
    {
      "cell_type": "markdown",
      "metadata": {
        "id": "DF6Wk4CKUXJe"
      },
      "source": [
        "El método `.upper()`, por el contrario, lo transforma a mayúsculas."
      ]
    },
    {
      "cell_type": "code",
      "metadata": {
        "colab": {
          "base_uri": "https://localhost:8080/",
          "height": 36
        },
        "id": "knuFush5UgPt",
        "outputId": "c346a0f9-ce92-4770-e2a9-c60cc5b38296"
      },
      "source": [
        "string1.upper()"
      ],
      "execution_count": null,
      "outputs": [
        {
          "output_type": "execute_result",
          "data": {
            "application/vnd.google.colaboratory.intrinsic+json": {
              "type": "string"
            },
            "text/plain": [
              "'ME GUSTARÍA IR A TAILANDIA'"
            ]
          },
          "metadata": {
            "tags": []
          },
          "execution_count": 43
        }
      ]
    },
    {
      "cell_type": "markdown",
      "metadata": {
        "id": "lvt0PMTiUlCN"
      },
      "source": [
        "El método `.count()` cuenta cuántas veces aparece un substring dentro del string al cual aplicamos el método."
      ]
    },
    {
      "cell_type": "code",
      "metadata": {
        "colab": {
          "base_uri": "https://localhost:8080/"
        },
        "id": "feOcj_-qU6Gt",
        "outputId": "7005c51d-d0cc-467f-a6b2-389f567cc95d"
      },
      "source": [
        "string1.count(\"a\")"
      ],
      "execution_count": null,
      "outputs": [
        {
          "output_type": "execute_result",
          "data": {
            "text/plain": [
              "6"
            ]
          },
          "metadata": {
            "tags": []
          },
          "execution_count": 44
        }
      ]
    },
    {
      "cell_type": "code",
      "metadata": {
        "colab": {
          "base_uri": "https://localhost:8080/"
        },
        "id": "ZWGAWo-9VAhq",
        "outputId": "7e986aa2-6bb8-40c1-f67b-04ebc9e31001"
      },
      "source": [
        "string1.count(\"lan\")"
      ],
      "execution_count": null,
      "outputs": [
        {
          "output_type": "execute_result",
          "data": {
            "text/plain": [
              "1"
            ]
          },
          "metadata": {
            "tags": []
          },
          "execution_count": 48
        }
      ]
    },
    {
      "cell_type": "markdown",
      "metadata": {
        "id": "GOChCyabVWdn"
      },
      "source": [
        "El método `.capitalize()` convierte a mayúsculas el primer caracter de un string."
      ]
    },
    {
      "cell_type": "code",
      "metadata": {
        "colab": {
          "base_uri": "https://localhost:8080/",
          "height": 36
        },
        "id": "XkcnsrOoVj9d",
        "outputId": "0ee07194-a913-4aa4-e3ca-35a3eaca112e"
      },
      "source": [
        "string1.capitalize()"
      ],
      "execution_count": null,
      "outputs": [
        {
          "output_type": "execute_result",
          "data": {
            "application/vnd.google.colaboratory.intrinsic+json": {
              "type": "string"
            },
            "text/plain": [
              "'Me gustaría ir a tailandia'"
            ]
          },
          "metadata": {
            "tags": []
          },
          "execution_count": 49
        }
      ]
    },
    {
      "cell_type": "markdown",
      "metadata": {
        "id": "rh6QMjKiV1bj"
      },
      "source": [
        "El método `.title()` convierte a mayúscula el primer caracter de cada palabra de un string."
      ]
    },
    {
      "cell_type": "code",
      "metadata": {
        "colab": {
          "base_uri": "https://localhost:8080/",
          "height": 36
        },
        "id": "oRVCdSVeWS2z",
        "outputId": "f38cd188-779c-43a8-f9c3-3ce65da88be8"
      },
      "source": [
        "string1.title()"
      ],
      "execution_count": null,
      "outputs": [
        {
          "output_type": "execute_result",
          "data": {
            "application/vnd.google.colaboratory.intrinsic+json": {
              "type": "string"
            },
            "text/plain": [
              "'Me Gustaría Ir A Tailandia'"
            ]
          },
          "metadata": {
            "tags": []
          },
          "execution_count": 50
        }
      ]
    },
    {
      "cell_type": "markdown",
      "metadata": {
        "id": "hifBez31W_8h"
      },
      "source": [
        "El método `.swapcase()` convierte a mayúsculas las minúsculas y viceversa."
      ]
    },
    {
      "cell_type": "code",
      "metadata": {
        "colab": {
          "base_uri": "https://localhost:8080/",
          "height": 36
        },
        "id": "Tdzf7acNXMCx",
        "outputId": "20c1f973-6fe1-495f-dcd2-163dadfc0da1"
      },
      "source": [
        "string1.swapcase()"
      ],
      "execution_count": null,
      "outputs": [
        {
          "output_type": "execute_result",
          "data": {
            "application/vnd.google.colaboratory.intrinsic+json": {
              "type": "string"
            },
            "text/plain": [
              "'mE GUSTARÍA IR A tAILANDIA'"
            ]
          },
          "metadata": {
            "tags": []
          },
          "execution_count": 51
        }
      ]
    },
    {
      "cell_type": "markdown",
      "metadata": {
        "id": "ZJWA224KXS41"
      },
      "source": [
        "El método `.replace()` reemplaza el caracter (o caracteres) que le indiquemos por el string que queramos."
      ]
    },
    {
      "cell_type": "code",
      "metadata": {
        "colab": {
          "base_uri": "https://localhost:8080/",
          "height": 36
        },
        "id": "SCHLqxyQXeq1",
        "outputId": "384722f5-db26-4ef7-f4f2-5f921cf8cd61"
      },
      "source": [
        "string1.replace(\"Tailandia\", \"Camboya\")"
      ],
      "execution_count": null,
      "outputs": [
        {
          "output_type": "execute_result",
          "data": {
            "application/vnd.google.colaboratory.intrinsic+json": {
              "type": "string"
            },
            "text/plain": [
              "'Me gustaría ir a Camboya'"
            ]
          },
          "metadata": {
            "tags": []
          },
          "execution_count": 52
        }
      ]
    },
    {
      "cell_type": "markdown",
      "metadata": {
        "id": "dFU8xtSXXvB0"
      },
      "source": [
        "El método `.split()` rompe (corta) el string en el caracter (o caracteres) que le indiquemos y lo elimina."
      ]
    },
    {
      "cell_type": "code",
      "metadata": {
        "colab": {
          "base_uri": "https://localhost:8080/"
        },
        "id": "jpFhvnyZX7En",
        "outputId": "5539683d-a7ce-464f-eac1-934e86626097"
      },
      "source": [
        "string1.split(\" \") # Cortamos todos los espacios."
      ],
      "execution_count": null,
      "outputs": [
        {
          "output_type": "execute_result",
          "data": {
            "text/plain": [
              "['Me', 'gustaría', 'ir', 'a', 'Tailandia']"
            ]
          },
          "metadata": {
            "tags": []
          },
          "execution_count": 53
        }
      ]
    },
    {
      "cell_type": "markdown",
      "metadata": {
        "id": "xejvBb-gYOL6"
      },
      "source": [
        "El método `.strip()` elimina los espacios sobrantes al principio y al final del string si los hubiera.\n",
        "\n",
        "El método `.rstrip()` elimina los espacios sobrantes al final del string si los hubiera.\n",
        "\n",
        "El método `.lstrip()` elimina los espacios sobrantes al principio del string si los hubiera."
      ]
    },
    {
      "cell_type": "markdown",
      "metadata": {
        "id": "ejRKkUF9YsgE"
      },
      "source": [
        "El método `.find()` busca el caracter que indiquemos y nos devuelve la primera posición en la que aparece.\n",
        "\n",
        "Además, este método tiene otros dos parámetros opcionales: `start` y `end`, que sirven para indicar donde queremos que empiece la búsqueda y donde queremos que acabe."
      ]
    },
    {
      "cell_type": "code",
      "metadata": {
        "colab": {
          "base_uri": "https://localhost:8080/"
        },
        "id": "dLlcfevZY6Tj",
        "outputId": "df9993c5-7a46-4633-e702-6ca64ecf6acf"
      },
      "source": [
        "string1.find(\"a\")"
      ],
      "execution_count": null,
      "outputs": [
        {
          "output_type": "execute_result",
          "data": {
            "text/plain": [
              "7"
            ]
          },
          "metadata": {
            "tags": []
          },
          "execution_count": 54
        }
      ]
    },
    {
      "cell_type": "code",
      "metadata": {
        "colab": {
          "base_uri": "https://localhost:8080/"
        },
        "id": "4MRDTAq2ZGl-",
        "outputId": "70213cce-f705-4860-ff53-a1ed28701b86"
      },
      "source": [
        "string1.find(\"lan\")"
      ],
      "execution_count": null,
      "outputs": [
        {
          "output_type": "execute_result",
          "data": {
            "text/plain": [
              "20"
            ]
          },
          "metadata": {
            "tags": []
          },
          "execution_count": 55
        }
      ]
    },
    {
      "cell_type": "code",
      "metadata": {
        "colab": {
          "base_uri": "https://localhost:8080/"
        },
        "id": "VgZ-wR7vZrqM",
        "outputId": "1e4940eb-22fa-4e4d-ed43-9a18c1ca32d0"
      },
      "source": [
        "string1.find(\"a\", 11) # Le indicamos que empiece a buscar a partir del índice 11. Por tanto, los caracteres anteriores los ignora."
      ],
      "execution_count": null,
      "outputs": [
        {
          "output_type": "execute_result",
          "data": {
            "text/plain": [
              "15"
            ]
          },
          "metadata": {
            "tags": []
          },
          "execution_count": 56
        }
      ]
    },
    {
      "cell_type": "code",
      "metadata": {
        "colab": {
          "base_uri": "https://localhost:8080/"
        },
        "id": "NjH_xSAOaCfW",
        "outputId": "0b2afbcf-8c33-48b6-8de9-d43d50b67f62"
      },
      "source": [
        "string1.find(\"a\", 9, 11) # Le indicamos que empiece a buscar entre los índices 9 y 11. Lo demás lo ignora."
      ],
      "execution_count": null,
      "outputs": [
        {
          "output_type": "execute_result",
          "data": {
            "text/plain": [
              "10"
            ]
          },
          "metadata": {
            "tags": []
          },
          "execution_count": 59
        }
      ]
    },
    {
      "cell_type": "markdown",
      "metadata": {
        "id": "PVPJJXTaamD3"
      },
      "source": [
        "También existe un método que hace lo mismo que `.find()`. Este nuevo método se llama `.index()`. La diferencia principal es que el método `.index()` si no encuentra el caracter que le indicamos, nos devolverá un error; y el método `.find()` nos devolverá el índice *-1*.\n",
        "\n",
        "Además, existe el método `.rindex()` que busca el caracter que le indiquemos  y devuelve el último índice en el que fue encontrado."
      ]
    },
    {
      "cell_type": "code",
      "metadata": {
        "colab": {
          "base_uri": "https://localhost:8080/"
        },
        "id": "q_7rG3qSbjc3",
        "outputId": "32d3191e-82d0-4c74-9e65-9e279fe6cbc6"
      },
      "source": [
        "string1.rindex(\"a\")"
      ],
      "execution_count": null,
      "outputs": [
        {
          "output_type": "execute_result",
          "data": {
            "text/plain": [
              "25"
            ]
          },
          "metadata": {
            "tags": []
          },
          "execution_count": 60
        }
      ]
    },
    {
      "cell_type": "markdown",
      "metadata": {
        "id": "tSzJzX-Ibq9d"
      },
      "source": [
        "La función `len()` nos devuelve el número de caracteres del string.\n",
        "\n",
        "**¡OJO!** Los espacios en blanco también son caracteres, por lo tanto son incluídos en el conteo."
      ]
    },
    {
      "cell_type": "code",
      "metadata": {
        "colab": {
          "base_uri": "https://localhost:8080/"
        },
        "id": "rJJrJobicNLk",
        "outputId": "bc2eab2d-5e86-4ebc-ed37-807fbbf394b8"
      },
      "source": [
        "len(string1)"
      ],
      "execution_count": null,
      "outputs": [
        {
          "output_type": "execute_result",
          "data": {
            "text/plain": [
              "26"
            ]
          },
          "metadata": {
            "tags": []
          },
          "execution_count": 61
        }
      ]
    },
    {
      "cell_type": "markdown",
      "metadata": {
        "id": "N1q2_Ka1cXmg"
      },
      "source": [
        "La función `input()` sirve para que el usuario introduzca un string por consola."
      ]
    },
    {
      "cell_type": "markdown",
      "metadata": {
        "id": "Iei7S99cdNLa"
      },
      "source": [
        "Existen muchos más métodos que se pueden usar en los string, para verlos podemos usar `help(str)`."
      ]
    },
    {
      "cell_type": "markdown",
      "metadata": {
        "id": "kt0YfKEBXfPp"
      },
      "source": [
        "### Variables numéricas"
      ]
    },
    {
      "cell_type": "markdown",
      "metadata": {
        "id": "NJ6N347iXnuu"
      },
      "source": [
        "#### Tipos de números\n",
        "- `int`, integer o enteros: Número entero (no decimal).\n",
        "- `float` o flotante: Número decimal (con coma flotante).\n",
        "\n",
        "**Nota.** Para saber el tipo de variable (clase) que tenemos (str, int, float...) podemos usar la función `type()` Poniendo el nombre de la variable dentro de los paréntesis."
      ]
    },
    {
      "cell_type": "code",
      "metadata": {
        "colab": {
          "base_uri": "https://localhost:8080/"
        },
        "id": "ZnJ6afwTYzA-",
        "outputId": "dc75f3e9-b690-486c-e6ea-28a00a4b26f0"
      },
      "source": [
        "x = 1\n",
        "y = 2.7\n",
        "print(x)\n",
        "print(y)\n",
        "print(type(x))\n",
        "print(type(y))"
      ],
      "execution_count": null,
      "outputs": [
        {
          "output_type": "stream",
          "text": [
            "1\n",
            "2.7\n",
            "<class 'int'>\n",
            "<class 'float'>\n"
          ],
          "name": "stdout"
        }
      ]
    },
    {
      "cell_type": "markdown",
      "metadata": {
        "id": "m1trN--lS4GF"
      },
      "source": [
        "**Atención.** En `Python`, para referirnos a números de tipo `float` con todo 0's en la parte decimal como `3.0`, basta que indiquemos `3.`. Es decir, `Python` entiende que los números `3.0` y `3.` son el mismo, incluyendo que son del mismo tipo: `float`."
      ]
    },
    {
      "cell_type": "markdown",
      "metadata": {
        "id": "ElLWlwxBTRe0"
      },
      "source": [
        "Podemos indicar el tipo de número que deseamos utilizar con las funciones `int()` y `float()`."
      ]
    },
    {
      "cell_type": "code",
      "metadata": {
        "colab": {
          "base_uri": "https://localhost:8080/"
        },
        "id": "1cryP4cpIqRP",
        "outputId": "f0e5b780-9c7f-4e4f-c69f-709b5708ee1b"
      },
      "source": [
        "type(int(7.0))"
      ],
      "execution_count": null,
      "outputs": [
        {
          "output_type": "execute_result",
          "data": {
            "text/plain": [
              "int"
            ]
          },
          "metadata": {
            "tags": []
          },
          "execution_count": 6
        }
      ]
    },
    {
      "cell_type": "code",
      "metadata": {
        "colab": {
          "base_uri": "https://localhost:8080/"
        },
        "id": "YpiHAetTIv2Z",
        "outputId": "504851b2-5a4f-4811-df48-a6fb53c91889"
      },
      "source": [
        "type(float(3))"
      ],
      "execution_count": null,
      "outputs": [
        {
          "output_type": "execute_result",
          "data": {
            "text/plain": [
              "float"
            ]
          },
          "metadata": {
            "tags": []
          },
          "execution_count": 7
        }
      ]
    },
    {
      "cell_type": "markdown",
      "metadata": {
        "id": "ZnzC3eaWTod8"
      },
      "source": [
        "**¡OJO!** Es sencillo pasar de enteros a números en coma flotante, ya que siempre es posible, pero no siempre podemos pasar de números en coma flotante a números enteros, pues se pierde la parte decimal."
      ]
    },
    {
      "cell_type": "markdown",
      "metadata": {
        "id": "qLB8cZygc0H0"
      },
      "source": [
        "#### Operando con una variable numérica\n",
        "\n",
        "Una vez hemos guardado un valor numérico en una variable, podemos operar con él:"
      ]
    },
    {
      "cell_type": "code",
      "metadata": {
        "colab": {
          "base_uri": "https://localhost:8080/"
        },
        "id": "gSJrD9RVGKsx",
        "outputId": "95bd87b0-4318-4ba7-9fa2-87635e089482"
      },
      "source": [
        "x = 2\n",
        "x + 1 # Suma 1 a la variable guardada."
      ],
      "execution_count": null,
      "outputs": [
        {
          "output_type": "execute_result",
          "data": {
            "text/plain": [
              "3"
            ]
          },
          "metadata": {
            "tags": []
          },
          "execution_count": 2
        }
      ]
    },
    {
      "cell_type": "code",
      "metadata": {
        "colab": {
          "base_uri": "https://localhost:8080/"
        },
        "id": "Av5eSiMrGYig",
        "outputId": "e78cc83d-7ad7-4f47-a89a-2f5ee399a0ae"
      },
      "source": [
        "y = x + 1 # Guardamos el resultado en una nueva variable\n",
        "y"
      ],
      "execution_count": null,
      "outputs": [
        {
          "output_type": "execute_result",
          "data": {
            "text/plain": [
              "3"
            ]
          },
          "metadata": {
            "tags": []
          },
          "execution_count": 3
        }
      ]
    },
    {
      "cell_type": "code",
      "metadata": {
        "colab": {
          "base_uri": "https://localhost:8080/"
        },
        "id": "9uyBWhTkGjej",
        "outputId": "728f1386-2e50-4ef9-a1ce-45c4c09fca61"
      },
      "source": [
        "x = x + 1 # Sobreescribimos la variable asignándole un nuevo valor.\n",
        "x"
      ],
      "execution_count": null,
      "outputs": [
        {
          "output_type": "execute_result",
          "data": {
            "text/plain": [
              "3"
            ]
          },
          "metadata": {
            "tags": []
          },
          "execution_count": 4
        }
      ]
    },
    {
      "cell_type": "code",
      "metadata": {
        "colab": {
          "base_uri": "https://localhost:8080/"
        },
        "id": "DeOflsCYGym3",
        "outputId": "c3e41aba-211d-470c-ca59-295e9ae56b39"
      },
      "source": [
        "# Para sobreescribir una variable numérica sumándole a ésta una cantidad se puede hacer del siguiente modo:\n",
        "x = 6\n",
        "print(x)\n",
        "x += 4\n",
        "print(x)"
      ],
      "execution_count": null,
      "outputs": [
        {
          "output_type": "stream",
          "text": [
            "6\n",
            "10\n"
          ],
          "name": "stdout"
        }
      ]
    },
    {
      "cell_type": "markdown",
      "metadata": {
        "id": "w8o5P0f3dl_Z"
      },
      "source": [
        "**Importante.** Al igual que existe `+=`, también tenemos `-=`, `*=`, `/=`, `//=`, `%=` y `**=`, que son el equivalente a `+=` con el resto de operaciones aritméticas existentes en `Python` y que se verán más adelante."
      ]
    },
    {
      "cell_type": "markdown",
      "metadata": {
        "id": "_qguNv9wJOEI"
      },
      "source": [
        "#### Operaciones aritméticas"
      ]
    },
    {
      "cell_type": "markdown",
      "metadata": {
        "id": "6HYWiK_hqQ2k"
      },
      "source": [
        "#### Suma y resta\n",
        "\n",
        "Para sumar dos números, utilizamos el operador `+`\n",
        "Para restar dos números, utilizamos el operador `-`"
      ]
    },
    {
      "cell_type": "code",
      "metadata": {
        "colab": {
          "base_uri": "https://localhost:8080/"
        },
        "id": "0iyY6M2jJVWS",
        "outputId": "0ccd4049-41d6-4ef7-e42d-8dda6a79d143"
      },
      "source": [
        "2.0 + 1"
      ],
      "execution_count": null,
      "outputs": [
        {
          "output_type": "execute_result",
          "data": {
            "text/plain": [
              "3.0"
            ]
          },
          "metadata": {
            "tags": []
          },
          "execution_count": 8
        }
      ]
    },
    {
      "cell_type": "code",
      "metadata": {
        "colab": {
          "base_uri": "https://localhost:8080/"
        },
        "id": "6DgQ6h8gJZVB",
        "outputId": "8820b517-d4c1-4348-8f04-499d33aa87a4"
      },
      "source": [
        "2 + 9"
      ],
      "execution_count": null,
      "outputs": [
        {
          "output_type": "execute_result",
          "data": {
            "text/plain": [
              "11"
            ]
          },
          "metadata": {
            "tags": []
          },
          "execution_count": 9
        }
      ]
    },
    {
      "cell_type": "code",
      "metadata": {
        "colab": {
          "base_uri": "https://localhost:8080/"
        },
        "id": "GeCNyaMzJfOT",
        "outputId": "066ab20d-1dd5-4fcc-bde5-2f0bbc86880a"
      },
      "source": [
        "10 - 3"
      ],
      "execution_count": null,
      "outputs": [
        {
          "output_type": "execute_result",
          "data": {
            "text/plain": [
              "7"
            ]
          },
          "metadata": {
            "tags": []
          },
          "execution_count": 10
        }
      ]
    },
    {
      "cell_type": "code",
      "metadata": {
        "colab": {
          "base_uri": "https://localhost:8080/"
        },
        "id": "e7KnrPXOJiHA",
        "outputId": "849378cf-27dd-4ab5-a94c-f493f2727b4c"
      },
      "source": [
        "3 - 10.0"
      ],
      "execution_count": null,
      "outputs": [
        {
          "output_type": "execute_result",
          "data": {
            "text/plain": [
              "-7.0"
            ]
          },
          "metadata": {
            "tags": []
          },
          "execution_count": 11
        }
      ]
    },
    {
      "cell_type": "markdown",
      "metadata": {
        "id": "X_F3oJh4UJXf"
      },
      "source": [
        "**Atención.** Fíjate que al combinar un número entero (int) y un número en coma flotante (float), el resutado es un número float. Esto ocurre para todas las operaciones aritméticas en `Python`.\n",
        "\n"
      ]
    },
    {
      "cell_type": "markdown",
      "metadata": {
        "id": "RGb47kNzUidM"
      },
      "source": [
        "#### Producto\n",
        "\n",
        "Para multiplicar dos números, utilizamos el operador `*`"
      ]
    },
    {
      "cell_type": "code",
      "metadata": {
        "colab": {
          "base_uri": "https://localhost:8080/"
        },
        "id": "Qg_xeEUxKNtX",
        "outputId": "a28f3eef-3dd7-464c-8b31-5b76fafaedd4"
      },
      "source": [
        "9 * 9"
      ],
      "execution_count": null,
      "outputs": [
        {
          "output_type": "execute_result",
          "data": {
            "text/plain": [
              "81"
            ]
          },
          "metadata": {
            "tags": []
          },
          "execution_count": 12
        }
      ]
    },
    {
      "cell_type": "code",
      "metadata": {
        "colab": {
          "base_uri": "https://localhost:8080/"
        },
        "id": "5vxxOK5VKRQe",
        "outputId": "db4927e5-7c66-4c99-afa6-3d97dd66adc8"
      },
      "source": [
        "9.0 * 9"
      ],
      "execution_count": null,
      "outputs": [
        {
          "output_type": "execute_result",
          "data": {
            "text/plain": [
              "81.0"
            ]
          },
          "metadata": {
            "tags": []
          },
          "execution_count": 15
        }
      ]
    },
    {
      "cell_type": "markdown",
      "metadata": {
        "id": "9nXOuvCGUt2W"
      },
      "source": [
        "#### División\n",
        "\n",
        "Para dividir dos números, utilizamos el operador `/`"
      ]
    },
    {
      "cell_type": "code",
      "metadata": {
        "colab": {
          "base_uri": "https://localhost:8080/"
        },
        "id": "nBvvnPbIKmbc",
        "outputId": "1ba8eee0-6dc2-4585-89ea-241d780ac1c9"
      },
      "source": [
        "6 / 2"
      ],
      "execution_count": null,
      "outputs": [
        {
          "output_type": "execute_result",
          "data": {
            "text/plain": [
              "3.0"
            ]
          },
          "metadata": {
            "tags": []
          },
          "execution_count": 16
        }
      ]
    },
    {
      "cell_type": "code",
      "metadata": {
        "colab": {
          "base_uri": "https://localhost:8080/"
        },
        "id": "p2iAKbpkKpPz",
        "outputId": "e1bf6377-13a7-4728-e769-8b4a5832d868"
      },
      "source": [
        "6.0 / 2"
      ],
      "execution_count": null,
      "outputs": [
        {
          "output_type": "execute_result",
          "data": {
            "text/plain": [
              "3.0"
            ]
          },
          "metadata": {
            "tags": []
          },
          "execution_count": 17
        }
      ]
    },
    {
      "cell_type": "markdown",
      "metadata": {
        "id": "q4M_PC4JU8TV"
      },
      "source": [
        "**¡Cuidado!** Hay que tener en cuenta el tipo de número (int o float) cuando vayamos a dividir en `Python`, porque en algunas versiones, si dividimos dos números enteros, se lleva a cabo la división entera automáticamente.\n",
        "\n"
      ]
    },
    {
      "cell_type": "markdown",
      "metadata": {
        "id": "zeXGfu_aB1kg"
      },
      "source": [
        "#### División entera, Euclídea o floor division\n",
        "\n",
        "Dados dos números naturales $a$ y $b$, con $b \\ne 0$, la división Euclídea de $a$ entre $b$ asocia un cociente $q$ y un resto $r$, ambos números naturales, que satisfacen: \n",
        "\n",
        "- $a = b \\cdot q + r$\n",
        "- $r < b$\n",
        "\n",
        "---\n",
        "Para obtener el cociente de la división entera utilizamos el operador `//`"
      ]
    },
    {
      "cell_type": "code",
      "metadata": {
        "colab": {
          "base_uri": "https://localhost:8080/"
        },
        "id": "IxelVw-lLNp0",
        "outputId": "434dff35-38e6-405f-8d91-879a92afd4fa"
      },
      "source": [
        "11.0 // 4"
      ],
      "execution_count": null,
      "outputs": [
        {
          "output_type": "execute_result",
          "data": {
            "text/plain": [
              "2.0"
            ]
          },
          "metadata": {
            "tags": []
          },
          "execution_count": 24
        }
      ]
    },
    {
      "cell_type": "code",
      "metadata": {
        "colab": {
          "base_uri": "https://localhost:8080/"
        },
        "id": "o3dfbc7hLZm7",
        "outputId": "16c8e4a3-fd5d-43ec-8756-04496a984350"
      },
      "source": [
        "11 // 4"
      ],
      "execution_count": null,
      "outputs": [
        {
          "output_type": "execute_result",
          "data": {
            "text/plain": [
              "2"
            ]
          },
          "metadata": {
            "tags": []
          },
          "execution_count": 20
        }
      ]
    },
    {
      "cell_type": "markdown",
      "metadata": {
        "id": "VKOLoGr9WmFv"
      },
      "source": [
        "Para obtener el resto de la división entera, utilizamos la función `%`"
      ]
    },
    {
      "cell_type": "code",
      "metadata": {
        "colab": {
          "base_uri": "https://localhost:8080/"
        },
        "id": "JDr8Fc-JLcHY",
        "outputId": "5657373e-5d83-429b-c944-2492b8f63369"
      },
      "source": [
        "11.0 % 4"
      ],
      "execution_count": null,
      "outputs": [
        {
          "output_type": "execute_result",
          "data": {
            "text/plain": [
              "3.0"
            ]
          },
          "metadata": {
            "tags": []
          },
          "execution_count": 23
        }
      ]
    },
    {
      "cell_type": "code",
      "metadata": {
        "colab": {
          "base_uri": "https://localhost:8080/"
        },
        "id": "PtdpYsE2LgcN",
        "outputId": "93ad942a-1eb9-4d5c-aadc-d13c77dbf3ce"
      },
      "source": [
        "11 % 4"
      ],
      "execution_count": null,
      "outputs": [
        {
          "output_type": "execute_result",
          "data": {
            "text/plain": [
              "3"
            ]
          },
          "metadata": {
            "tags": []
          },
          "execution_count": 22
        }
      ]
    },
    {
      "cell_type": "markdown",
      "metadata": {
        "id": "OV-lRxhtWses"
      },
      "source": [
        "#### Potencia\n",
        "\n",
        "Para calcular la potencia $n$-ésima de un número, usamos el operador `**`\n",
        "También se puede usar la función `pow()`. Dentro del paréntesis deberemos introducir dos argumentos: Primero la base y, separado con una coma, el exponente."
      ]
    },
    {
      "cell_type": "code",
      "metadata": {
        "colab": {
          "base_uri": "https://localhost:8080/"
        },
        "id": "nsvPYNqoL5Zr",
        "outputId": "48913ed2-6ad5-4d1e-b780-945f5510eb91"
      },
      "source": [
        "5 ** 3"
      ],
      "execution_count": null,
      "outputs": [
        {
          "output_type": "execute_result",
          "data": {
            "text/plain": [
              "125"
            ]
          },
          "metadata": {
            "tags": []
          },
          "execution_count": 25
        }
      ]
    },
    {
      "cell_type": "code",
      "metadata": {
        "colab": {
          "base_uri": "https://localhost:8080/"
        },
        "id": "DX7vD0_HL8yd",
        "outputId": "6b35845a-1f18-446a-ca42-3e8e602e1b12"
      },
      "source": [
        "5 ** 3.0"
      ],
      "execution_count": null,
      "outputs": [
        {
          "output_type": "execute_result",
          "data": {
            "text/plain": [
              "125.0"
            ]
          },
          "metadata": {
            "tags": []
          },
          "execution_count": 26
        }
      ]
    },
    {
      "cell_type": "code",
      "metadata": {
        "colab": {
          "base_uri": "https://localhost:8080/"
        },
        "id": "wRj9dKz8L_yF",
        "outputId": "edfc512c-3e37-4572-be10-cc403243cdce"
      },
      "source": [
        "5.0 ** 3"
      ],
      "execution_count": null,
      "outputs": [
        {
          "output_type": "execute_result",
          "data": {
            "text/plain": [
              "125.0"
            ]
          },
          "metadata": {
            "tags": []
          },
          "execution_count": 27
        }
      ]
    },
    {
      "cell_type": "code",
      "metadata": {
        "colab": {
          "base_uri": "https://localhost:8080/"
        },
        "id": "V3sUmLwSMOUZ",
        "outputId": "271b5073-cffa-4bcc-94c6-40e039672ccb"
      },
      "source": [
        "pow(5, 3)"
      ],
      "execution_count": null,
      "outputs": [
        {
          "output_type": "execute_result",
          "data": {
            "text/plain": [
              "125"
            ]
          },
          "metadata": {
            "tags": []
          },
          "execution_count": 28
        }
      ]
    },
    {
      "cell_type": "code",
      "metadata": {
        "colab": {
          "base_uri": "https://localhost:8080/"
        },
        "id": "TgoRAZpAMcOx",
        "outputId": "02d67aab-9671-4f67-fadc-59b2bdf5eab7"
      },
      "source": [
        "pow(5.0, 3)"
      ],
      "execution_count": null,
      "outputs": [
        {
          "output_type": "execute_result",
          "data": {
            "text/plain": [
              "125.0"
            ]
          },
          "metadata": {
            "tags": []
          },
          "execution_count": 29
        }
      ]
    },
    {
      "cell_type": "markdown",
      "metadata": {
        "id": "CJJ_bjj5XRX1"
      },
      "source": [
        "#### Orden de las operaciones aritméticas\n",
        "\n",
        "El orden en que se llevan a cabo las operaciones aritméticas en `Python` es el siguiente:\n",
        "\n",
        "- Primero se calcula lo que se halla entre paréntesis.\n",
        "- A continuación, las potencias.\n",
        "- Después, productos y divisiones. En caso de haber varias, el orden que se sigue es de izquierda a derecha.\n",
        "- Finalmente, sumas y restas. En caso de haber varias, el orden que se sigue es de izquierda a derecha."
      ]
    },
    {
      "cell_type": "markdown",
      "metadata": {
        "id": "ALpWUP2KXncK"
      },
      "source": [
        "**Consejo.** El uso de los paréntesis puede cambiar completamente el resultado. No conviene abusar de ellos, aunque es mejor que sobren, ya que ayudan a entender el orden en que se van a llevar a cabo las operaciones."
      ]
    },
    {
      "cell_type": "markdown",
      "metadata": {
        "id": "s47zwXMk0BDU"
      },
      "source": [
        "### Variables booleanas\n",
        "\n"
      ]
    },
    {
      "cell_type": "markdown",
      "metadata": {
        "id": "1g57qvzgDhuy"
      },
      "source": [
        "#### Booleanos\n",
        "\n",
        "**Dato booleano.** Es un tipo de dato que solamente puede tomar 2 valores: `True` (verdadero) o `False` (falso).\n",
        "\n",
        "**Variable lógica.** Variable que almacena datos booleanos."
      ]
    },
    {
      "cell_type": "code",
      "metadata": {
        "id": "gye-i_dlz33O",
        "colab": {
          "base_uri": "https://localhost:8080/"
        },
        "outputId": "fdd31d78-01dc-477a-8afd-00704f3ef404"
      },
      "source": [
        "is_adult = True\n",
        "type(is_adult)"
      ],
      "execution_count": null,
      "outputs": [
        {
          "output_type": "execute_result",
          "data": {
            "text/plain": [
              "bool"
            ]
          },
          "metadata": {
            "tags": []
          },
          "execution_count": 1
        }
      ]
    },
    {
      "cell_type": "markdown",
      "metadata": {
        "id": "vZMLp1YN4_4-"
      },
      "source": [
        "**Atención.** Observa que tanto `True` como `False` únicamente tienen la primera letra mayúscula. Además, a diferencia de otros lenguajes de programación, como por ejemplo `R`, `Python` solamente admite los booleanos escritos de esta forma: `True` o `False`.\n",
        "\n"
      ]
    },
    {
      "cell_type": "markdown",
      "metadata": {
        "id": "Bp-NMBwGOT3-"
      },
      "source": [
        "## Tablas de verdad"
      ]
    },
    {
      "cell_type": "markdown",
      "metadata": {
        "id": "SVFyPtpzDkyV"
      },
      "source": [
        "### Tablas de verdad. Definición\n",
        "\n",
        "Dadas dos variables lógicas, $A$ y $B$, , podemos definir los operadores básicos mediante tablas de verdad, donde el valor verdadero se representa con la letra $V$ o bien con un $1$, mientras que el valor falso se representa mediante la letra $F$ o bien con un $0$.\n",
        "\n",
        "La tabla de verdad para la variable $A$ sería\n",
        "\n",
        "| $A$ |\n",
        "| :---: |\n",
        "| $V$ |\n",
        "| $F$ |\n",
        "\n",
        "La tabla de verdad para la variable $B$ sería\n",
        "\n",
        "| $B$ |\n",
        "| :---: |\n",
        "| $V$ |\n",
        "| $F$ |\n",
        "\n"
      ]
    },
    {
      "cell_type": "markdown",
      "metadata": {
        "id": "TpzYQoYYDnON"
      },
      "source": [
        "#### Negación\n",
        "\n",
        "El operador negación aplicado a una variable se representa con $\\neg$ y devuelve el valor contrario.\n",
        "\n",
        "| $A$ | $\\neg A$ |\n",
        "| :---: | :---: |\n",
        "| $V$ | $F$ |\n",
        "| $F$ | $V$ |\n",
        "\n"
      ]
    },
    {
      "cell_type": "markdown",
      "metadata": {
        "id": "gDTb9pLDDo5R"
      },
      "source": [
        "#### Conjunción (y)\n",
        "\n",
        "La conjunción entre dos variables se representa con $\\wedge$ y devuelve verdadero únicamente cuando ambas variables valen verdadero.\n",
        "\n",
        "| $A$ | $B$ | $A\\wedge B$ |\n",
        "| :---: | :---: | :---: |\n",
        "| $V$ | $V$ | $V$ |\n",
        "| $V$ | $F$ | $F$ |\n",
        "| $F$ | $V$ | $F$ |\n",
        "| $F$ | $F$ | $F$ |\n",
        "\n"
      ]
    },
    {
      "cell_type": "markdown",
      "metadata": {
        "id": "AS4LzZGcDqc5"
      },
      "source": [
        "#### Disyunción (o)\n",
        "\n",
        "La disyunción entre dos variables se representa con $\\vee$ y devuelve verdadero cuando almenos una de las variables lógicas vale verdadero.\n",
        "\n",
        "| $A$ | $B$ | $A\\vee B$ |\n",
        "| :---: | :---: | :---: |\n",
        "| $V$ | $V$ | $V$ |\n",
        "| $V$ | $F$ | $V$ |\n",
        "| $F$ | $V$ | $V$ |\n",
        "| $F$ | $F$ | $F$ |\n",
        "\n"
      ]
    }
  ]
}
